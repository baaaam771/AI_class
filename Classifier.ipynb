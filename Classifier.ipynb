{
  "nbformat": 4,
  "nbformat_minor": 0,
  "metadata": {
    "colab": {
      "name": "Classifier.ipynb",
      "provenance": [],
      "collapsed_sections": [],
      "mount_file_id": "1frc82_TL0JpMqrh4G4xpcjEqaXGGOjDe",
      "authorship_tag": "ABX9TyNHcI5BPSweWaMZjdUpl38x",
      "include_colab_link": true
    },
    "kernelspec": {
      "name": "python3",
      "display_name": "Python 3"
    },
    "language_info": {
      "name": "python"
    }
  },
  "cells": [
    {
      "cell_type": "markdown",
      "metadata": {
        "id": "view-in-github",
        "colab_type": "text"
      },
      "source": [
        "<a href=\"https://colab.research.google.com/github/baaaam771/AI_class/blob/main/Classifier.ipynb\" target=\"_parent\"><img src=\"https://colab.research.google.com/assets/colab-badge.svg\" alt=\"Open In Colab\"/></a>"
      ]
    },
    {
      "cell_type": "code",
      "metadata": {
        "id": "4Iqiw-jqB2W2"
      },
      "source": [
        "from tensorflow.python.keras.models import load_model\n",
        "import pandas as pd\n",
        "import numpy as np\n",
        "\n",
        "# data = pd.read_csv('/content/drive/MyDrive/walking_data/test_data.csv')\n",
        "# model = load_model('/content/drive/MyDrive/walking_data/walking_model.h5')\n",
        "\n",
        "def classifier(data):\n",
        "  data = data.iloc[0 : 128, 0 : 6]\n",
        "  test_data = np.expand_dims(data,2)\n",
        "  test_data = np.expand_dims(test_data,0)\n",
        "\n",
        "  score = model.predict(test_data)\n",
        "  if score > 0.5:\n",
        "      print(\"비정상\")\n",
        "\n",
        "  else:\n",
        "      print(\" 정상 \")\n"
      ],
      "execution_count": 8,
      "outputs": []
    },
    {
      "cell_type": "code",
      "metadata": {
        "colab": {
          "base_uri": "https://localhost:8080/"
        },
        "id": "hJiOrN21D_Ar",
        "outputId": "c3739138-f09d-4fba-c3be-4c87ab7294da"
      },
      "source": [
        "file = pd.read_csv('/content/drive/MyDrive/walking_data/test_data.csv')\n",
        "model = load_model('/content/drive/MyDrive/walking_data/walking_model.h5')\n",
        "classifier(file)"
      ],
      "execution_count": 9,
      "outputs": [
        {
          "output_type": "stream",
          "text": [
            "비정상\n"
          ],
          "name": "stdout"
        }
      ]
    },
    {
      "cell_type": "code",
      "metadata": {
        "id": "OBl7UG6_EeEO"
      },
      "source": [
        ""
      ],
      "execution_count": null,
      "outputs": []
    },
    {
      "cell_type": "code",
      "metadata": {
        "id": "sw3nXm8qctiY"
      },
      "source": [
        ""
      ],
      "execution_count": null,
      "outputs": []
    }
  ]
}