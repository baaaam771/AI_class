{
  "nbformat": 4,
  "nbformat_minor": 0,
  "metadata": {
    "colab": {
      "name": "car-mpg.ipynb",
      "provenance": []
    },
    "kernelspec": {
      "name": "python3",
      "display_name": "Python 3"
    }
  },
  "cells": [
    {
      "cell_type": "code",
      "metadata": {
        "id": "ErnP_R9-OYCK"
      },
      "source": [
        "import matplotlib.pyplot as plt\n",
        "import pandas as pd\n",
        "import tensorflow as tf\n",
        "from tensorflow.keras import layers, models"
      ],
      "execution_count": 1,
      "outputs": []
    },
    {
      "cell_type": "code",
      "metadata": {
        "id": "wGqFBDXTOtM1"
      },
      "source": [
        "dataset_path = tf.keras.utils.get_file(\"/content/auto-mpg.data\", \"http://archive.ics.uci.edu/ml/machine-learning-databases/auto-mpg/auto-mpg.data\") "
      ],
      "execution_count": 2,
      "outputs": []
    },
    {
      "cell_type": "code",
      "metadata": {
        "id": "TRlANux6Ox94"
      },
      "source": [
        "column_name = ['MPG','Cylinders', 'Displacement', 'Horsepower', 'Weight', 'Acceleration', 'Model Year', 'Origin']\n",
        "raw_dataset = pd.read_csv(dataset_path, names=column_name, na_values='?', comment=\n",
        "                        '\\t', sep = ' ', skipinitialspace=True)"
      ],
      "execution_count": 3,
      "outputs": []
    },
    {
      "cell_type": "code",
      "metadata": {
        "id": "Io-rXpIJPYfn",
        "outputId": "006d4ba5-1477-4f1a-a0bb-72f65a40bec9",
        "colab": {
          "base_uri": "https://localhost:8080/",
          "height": 197
        }
      },
      "source": [
        "raw_dataset.head()"
      ],
      "execution_count": 4,
      "outputs": [
        {
          "output_type": "execute_result",
          "data": {
            "text/html": [
              "<div>\n",
              "<style scoped>\n",
              "    .dataframe tbody tr th:only-of-type {\n",
              "        vertical-align: middle;\n",
              "    }\n",
              "\n",
              "    .dataframe tbody tr th {\n",
              "        vertical-align: top;\n",
              "    }\n",
              "\n",
              "    .dataframe thead th {\n",
              "        text-align: right;\n",
              "    }\n",
              "</style>\n",
              "<table border=\"1\" class=\"dataframe\">\n",
              "  <thead>\n",
              "    <tr style=\"text-align: right;\">\n",
              "      <th></th>\n",
              "      <th>MPG</th>\n",
              "      <th>Cylinders</th>\n",
              "      <th>Displacement</th>\n",
              "      <th>Horsepower</th>\n",
              "      <th>Weight</th>\n",
              "      <th>Acceleration</th>\n",
              "      <th>Model Year</th>\n",
              "      <th>Origin</th>\n",
              "    </tr>\n",
              "  </thead>\n",
              "  <tbody>\n",
              "    <tr>\n",
              "      <th>0</th>\n",
              "      <td>18.0</td>\n",
              "      <td>8</td>\n",
              "      <td>307.0</td>\n",
              "      <td>130.0</td>\n",
              "      <td>3504.0</td>\n",
              "      <td>12.0</td>\n",
              "      <td>70</td>\n",
              "      <td>1</td>\n",
              "    </tr>\n",
              "    <tr>\n",
              "      <th>1</th>\n",
              "      <td>15.0</td>\n",
              "      <td>8</td>\n",
              "      <td>350.0</td>\n",
              "      <td>165.0</td>\n",
              "      <td>3693.0</td>\n",
              "      <td>11.5</td>\n",
              "      <td>70</td>\n",
              "      <td>1</td>\n",
              "    </tr>\n",
              "    <tr>\n",
              "      <th>2</th>\n",
              "      <td>18.0</td>\n",
              "      <td>8</td>\n",
              "      <td>318.0</td>\n",
              "      <td>150.0</td>\n",
              "      <td>3436.0</td>\n",
              "      <td>11.0</td>\n",
              "      <td>70</td>\n",
              "      <td>1</td>\n",
              "    </tr>\n",
              "    <tr>\n",
              "      <th>3</th>\n",
              "      <td>16.0</td>\n",
              "      <td>8</td>\n",
              "      <td>304.0</td>\n",
              "      <td>150.0</td>\n",
              "      <td>3433.0</td>\n",
              "      <td>12.0</td>\n",
              "      <td>70</td>\n",
              "      <td>1</td>\n",
              "    </tr>\n",
              "    <tr>\n",
              "      <th>4</th>\n",
              "      <td>17.0</td>\n",
              "      <td>8</td>\n",
              "      <td>302.0</td>\n",
              "      <td>140.0</td>\n",
              "      <td>3449.0</td>\n",
              "      <td>10.5</td>\n",
              "      <td>70</td>\n",
              "      <td>1</td>\n",
              "    </tr>\n",
              "  </tbody>\n",
              "</table>\n",
              "</div>"
            ],
            "text/plain": [
              "    MPG  Cylinders  Displacement  ...  Acceleration  Model Year  Origin\n",
              "0  18.0          8         307.0  ...          12.0          70       1\n",
              "1  15.0          8         350.0  ...          11.5          70       1\n",
              "2  18.0          8         318.0  ...          11.0          70       1\n",
              "3  16.0          8         304.0  ...          12.0          70       1\n",
              "4  17.0          8         302.0  ...          10.5          70       1\n",
              "\n",
              "[5 rows x 8 columns]"
            ]
          },
          "metadata": {
            "tags": []
          },
          "execution_count": 4
        }
      ]
    },
    {
      "cell_type": "code",
      "metadata": {
        "id": "MqQoxXAKPgST",
        "outputId": "0019d012-1377-4f96-ef3a-68e3b75ab5e5",
        "colab": {
          "base_uri": "https://localhost:8080/"
        }
      },
      "source": [
        "raw_dataset.isna().sum()"
      ],
      "execution_count": 5,
      "outputs": [
        {
          "output_type": "execute_result",
          "data": {
            "text/plain": [
              "MPG             0\n",
              "Cylinders       0\n",
              "Displacement    0\n",
              "Horsepower      6\n",
              "Weight          0\n",
              "Acceleration    0\n",
              "Model Year      0\n",
              "Origin          0\n",
              "dtype: int64"
            ]
          },
          "metadata": {
            "tags": []
          },
          "execution_count": 5
        }
      ]
    },
    {
      "cell_type": "code",
      "metadata": {
        "id": "ALm1_zDGPs0r"
      },
      "source": [
        "raw_dataset = raw_dataset.dropna()"
      ],
      "execution_count": 6,
      "outputs": []
    },
    {
      "cell_type": "code",
      "metadata": {
        "id": "04GgSaMkPxlV",
        "outputId": "2e0b8cd8-a9a9-4f45-ecc7-0ceef4790d8a",
        "colab": {
          "base_uri": "https://localhost:8080/"
        }
      },
      "source": [
        "raw_dataset.isna().sum()"
      ],
      "execution_count": 7,
      "outputs": [
        {
          "output_type": "execute_result",
          "data": {
            "text/plain": [
              "MPG             0\n",
              "Cylinders       0\n",
              "Displacement    0\n",
              "Horsepower      0\n",
              "Weight          0\n",
              "Acceleration    0\n",
              "Model Year      0\n",
              "Origin          0\n",
              "dtype: int64"
            ]
          },
          "metadata": {
            "tags": []
          },
          "execution_count": 7
        }
      ]
    },
    {
      "cell_type": "code",
      "metadata": {
        "id": "emkb1HkPPzAk"
      },
      "source": [
        "dataset = raw_dataset.copy()"
      ],
      "execution_count": 8,
      "outputs": []
    },
    {
      "cell_type": "code",
      "metadata": {
        "id": "ioG0DKw9P7V0"
      },
      "source": [
        "# train, test 데이터로 분리 sample\n",
        "\n",
        "train_data = dataset.sample(frac=0.8)\n",
        "test_data = dataset.drop(train_data.index)"
      ],
      "execution_count": 9,
      "outputs": []
    },
    {
      "cell_type": "code",
      "metadata": {
        "id": "IS4ynfnBQz46"
      },
      "source": [
        "train_stats = train_data.describe()"
      ],
      "execution_count": 10,
      "outputs": []
    },
    {
      "cell_type": "code",
      "metadata": {
        "id": "QW7biWDURAGQ",
        "outputId": "3a495ccf-d46e-43d9-a176-0df856e5244e",
        "colab": {
          "base_uri": "https://localhost:8080/"
        }
      },
      "source": [
        "train_stats.pop('MPG')"
      ],
      "execution_count": 11,
      "outputs": [
        {
          "output_type": "execute_result",
          "data": {
            "text/plain": [
              "count    314.000000\n",
              "mean      23.647134\n",
              "std        7.921637\n",
              "min       10.000000\n",
              "25%       17.500000\n",
              "50%       23.000000\n",
              "75%       29.000000\n",
              "max       46.600000\n",
              "Name: MPG, dtype: float64"
            ]
          },
          "metadata": {
            "tags": []
          },
          "execution_count": 11
        }
      ]
    },
    {
      "cell_type": "code",
      "metadata": {
        "id": "Hq5MfVJGRGQU"
      },
      "source": [
        "train_stats = train_stats.transpose()"
      ],
      "execution_count": 12,
      "outputs": []
    },
    {
      "cell_type": "code",
      "metadata": {
        "id": "yV-QJ-jqROek",
        "outputId": "324c73cf-883a-4f36-d69b-1710f95427b8",
        "colab": {
          "base_uri": "https://localhost:8080/",
          "height": 257
        }
      },
      "source": [
        "train_stats"
      ],
      "execution_count": 13,
      "outputs": [
        {
          "output_type": "execute_result",
          "data": {
            "text/html": [
              "<div>\n",
              "<style scoped>\n",
              "    .dataframe tbody tr th:only-of-type {\n",
              "        vertical-align: middle;\n",
              "    }\n",
              "\n",
              "    .dataframe tbody tr th {\n",
              "        vertical-align: top;\n",
              "    }\n",
              "\n",
              "    .dataframe thead th {\n",
              "        text-align: right;\n",
              "    }\n",
              "</style>\n",
              "<table border=\"1\" class=\"dataframe\">\n",
              "  <thead>\n",
              "    <tr style=\"text-align: right;\">\n",
              "      <th></th>\n",
              "      <th>count</th>\n",
              "      <th>mean</th>\n",
              "      <th>std</th>\n",
              "      <th>min</th>\n",
              "      <th>25%</th>\n",
              "      <th>50%</th>\n",
              "      <th>75%</th>\n",
              "      <th>max</th>\n",
              "    </tr>\n",
              "  </thead>\n",
              "  <tbody>\n",
              "    <tr>\n",
              "      <th>Cylinders</th>\n",
              "      <td>314.0</td>\n",
              "      <td>5.439490</td>\n",
              "      <td>1.728681</td>\n",
              "      <td>3.0</td>\n",
              "      <td>4.00</td>\n",
              "      <td>4.0</td>\n",
              "      <td>8.000</td>\n",
              "      <td>8.0</td>\n",
              "    </tr>\n",
              "    <tr>\n",
              "      <th>Displacement</th>\n",
              "      <td>314.0</td>\n",
              "      <td>192.066879</td>\n",
              "      <td>106.027388</td>\n",
              "      <td>68.0</td>\n",
              "      <td>98.00</td>\n",
              "      <td>140.5</td>\n",
              "      <td>293.250</td>\n",
              "      <td>455.0</td>\n",
              "    </tr>\n",
              "    <tr>\n",
              "      <th>Horsepower</th>\n",
              "      <td>314.0</td>\n",
              "      <td>103.945860</td>\n",
              "      <td>38.737425</td>\n",
              "      <td>46.0</td>\n",
              "      <td>75.00</td>\n",
              "      <td>92.0</td>\n",
              "      <td>129.000</td>\n",
              "      <td>230.0</td>\n",
              "    </tr>\n",
              "    <tr>\n",
              "      <th>Weight</th>\n",
              "      <td>314.0</td>\n",
              "      <td>2958.324841</td>\n",
              "      <td>857.099837</td>\n",
              "      <td>1613.0</td>\n",
              "      <td>2219.25</td>\n",
              "      <td>2750.0</td>\n",
              "      <td>3596.250</td>\n",
              "      <td>5140.0</td>\n",
              "    </tr>\n",
              "    <tr>\n",
              "      <th>Acceleration</th>\n",
              "      <td>314.0</td>\n",
              "      <td>15.505096</td>\n",
              "      <td>2.781116</td>\n",
              "      <td>8.0</td>\n",
              "      <td>13.50</td>\n",
              "      <td>15.5</td>\n",
              "      <td>17.075</td>\n",
              "      <td>24.8</td>\n",
              "    </tr>\n",
              "    <tr>\n",
              "      <th>Model Year</th>\n",
              "      <td>314.0</td>\n",
              "      <td>76.047771</td>\n",
              "      <td>3.601687</td>\n",
              "      <td>70.0</td>\n",
              "      <td>73.00</td>\n",
              "      <td>76.0</td>\n",
              "      <td>79.000</td>\n",
              "      <td>82.0</td>\n",
              "    </tr>\n",
              "    <tr>\n",
              "      <th>Origin</th>\n",
              "      <td>314.0</td>\n",
              "      <td>1.589172</td>\n",
              "      <td>0.807321</td>\n",
              "      <td>1.0</td>\n",
              "      <td>1.00</td>\n",
              "      <td>1.0</td>\n",
              "      <td>2.000</td>\n",
              "      <td>3.0</td>\n",
              "    </tr>\n",
              "  </tbody>\n",
              "</table>\n",
              "</div>"
            ],
            "text/plain": [
              "              count         mean         std  ...     50%       75%     max\n",
              "Cylinders     314.0     5.439490    1.728681  ...     4.0     8.000     8.0\n",
              "Displacement  314.0   192.066879  106.027388  ...   140.5   293.250   455.0\n",
              "Horsepower    314.0   103.945860   38.737425  ...    92.0   129.000   230.0\n",
              "Weight        314.0  2958.324841  857.099837  ...  2750.0  3596.250  5140.0\n",
              "Acceleration  314.0    15.505096    2.781116  ...    15.5    17.075    24.8\n",
              "Model Year    314.0    76.047771    3.601687  ...    76.0    79.000    82.0\n",
              "Origin        314.0     1.589172    0.807321  ...     1.0     2.000     3.0\n",
              "\n",
              "[7 rows x 8 columns]"
            ]
          },
          "metadata": {
            "tags": []
          },
          "execution_count": 13
        }
      ]
    },
    {
      "cell_type": "code",
      "metadata": {
        "id": "9VoYvT0ERRB1"
      },
      "source": [
        "def norm(x):\n",
        "  return (x - train_stats['mean']) / train_stats['std'] "
      ],
      "execution_count": 14,
      "outputs": []
    },
    {
      "cell_type": "code",
      "metadata": {
        "id": "JKlv7afLRdxc"
      },
      "source": [
        "train_label = train_data.pop('MPG')\n",
        "test_label = test_data.pop('MPG')\n",
        "\n",
        "train_data = norm(train_data)\n",
        "test_data = norm(test_data)\n",
        "\n"
      ],
      "execution_count": 15,
      "outputs": []
    },
    {
      "cell_type": "code",
      "metadata": {
        "id": "GBvECPwMRovi"
      },
      "source": [
        "# 모델 Dense\n",
        "\n",
        "model = models.Sequential([\n",
        "  layers.Dense(64, activation='relu', input_dim=7),\n",
        "  layers.Dense(32, activation='relu'),\n",
        "  layers.Dense(1)\n",
        "])"
      ],
      "execution_count": 16,
      "outputs": []
    },
    {
      "cell_type": "code",
      "metadata": {
        "id": "IDuhE40hSkBq"
      },
      "source": [
        "model.compile(optimizer='adam', loss='mse', metrics=['mae'])"
      ],
      "execution_count": 17,
      "outputs": []
    },
    {
      "cell_type": "code",
      "metadata": {
        "id": "H9wOsgHmSvRh",
        "outputId": "bd574a71-d2f0-40cd-91ea-f529927ad1bb",
        "colab": {
          "base_uri": "https://localhost:8080/"
        }
      },
      "source": [
        "history = model.fit(x=train_data, y=train_label, batch_size=16, epochs=100, validation_split=0.2)"
      ],
      "execution_count": 18,
      "outputs": [
        {
          "output_type": "stream",
          "text": [
            "Epoch 1/100\n",
            "16/16 [==============================] - 0s 12ms/step - loss: 607.8367 - mae: 23.2986 - val_loss: 565.8989 - val_mae: 22.2025\n",
            "Epoch 2/100\n",
            "16/16 [==============================] - 0s 2ms/step - loss: 565.3746 - mae: 22.3505 - val_loss: 515.8206 - val_mae: 20.9940\n",
            "Epoch 3/100\n",
            "16/16 [==============================] - 0s 2ms/step - loss: 507.5249 - mae: 21.0230 - val_loss: 444.4590 - val_mae: 19.2222\n",
            "Epoch 4/100\n",
            "16/16 [==============================] - 0s 2ms/step - loss: 425.9554 - mae: 19.0355 - val_loss: 348.8680 - val_mae: 16.6342\n",
            "Epoch 5/100\n",
            "16/16 [==============================] - 0s 3ms/step - loss: 318.3593 - mae: 16.1648 - val_loss: 233.3106 - val_mae: 13.1645\n",
            "Epoch 6/100\n",
            "16/16 [==============================] - 0s 3ms/step - loss: 198.5716 - mae: 12.5095 - val_loss: 124.3724 - val_mae: 9.7438\n",
            "Epoch 7/100\n",
            "16/16 [==============================] - 0s 3ms/step - loss: 101.3465 - mae: 8.5795 - val_loss: 58.0185 - val_mae: 6.4291\n",
            "Epoch 8/100\n",
            "16/16 [==============================] - 0s 2ms/step - loss: 53.4473 - mae: 6.0156 - val_loss: 39.8736 - val_mae: 5.2743\n",
            "Epoch 9/100\n",
            "16/16 [==============================] - 0s 2ms/step - loss: 40.2329 - mae: 5.2763 - val_loss: 34.1960 - val_mae: 4.8368\n",
            "Epoch 10/100\n",
            "16/16 [==============================] - 0s 3ms/step - loss: 33.9207 - mae: 4.8100 - val_loss: 27.6489 - val_mae: 4.2338\n",
            "Epoch 11/100\n",
            "16/16 [==============================] - 0s 3ms/step - loss: 28.0845 - mae: 4.3140 - val_loss: 23.2646 - val_mae: 3.7842\n",
            "Epoch 12/100\n",
            "16/16 [==============================] - 0s 2ms/step - loss: 23.8715 - mae: 3.9500 - val_loss: 20.3499 - val_mae: 3.4889\n",
            "Epoch 13/100\n",
            "16/16 [==============================] - 0s 3ms/step - loss: 20.8747 - mae: 3.6693 - val_loss: 17.6834 - val_mae: 3.2132\n",
            "Epoch 14/100\n",
            "16/16 [==============================] - 0s 4ms/step - loss: 18.5869 - mae: 3.4314 - val_loss: 15.5599 - val_mae: 2.9403\n",
            "Epoch 15/100\n",
            "16/16 [==============================] - 0s 3ms/step - loss: 16.8894 - mae: 3.2379 - val_loss: 14.3935 - val_mae: 2.8451\n",
            "Epoch 16/100\n",
            "16/16 [==============================] - 0s 2ms/step - loss: 15.4368 - mae: 3.0844 - val_loss: 13.4981 - val_mae: 2.7546\n",
            "Epoch 17/100\n",
            "16/16 [==============================] - 0s 2ms/step - loss: 14.5194 - mae: 2.9631 - val_loss: 12.4364 - val_mae: 2.6298\n",
            "Epoch 18/100\n",
            "16/16 [==============================] - 0s 2ms/step - loss: 13.7856 - mae: 2.8569 - val_loss: 12.1666 - val_mae: 2.6371\n",
            "Epoch 19/100\n",
            "16/16 [==============================] - 0s 2ms/step - loss: 13.1140 - mae: 2.7568 - val_loss: 11.5836 - val_mae: 2.5477\n",
            "Epoch 20/100\n",
            "16/16 [==============================] - 0s 2ms/step - loss: 12.6368 - mae: 2.6980 - val_loss: 11.4219 - val_mae: 2.5592\n",
            "Epoch 21/100\n",
            "16/16 [==============================] - 0s 3ms/step - loss: 12.2463 - mae: 2.6294 - val_loss: 11.0680 - val_mae: 2.5151\n",
            "Epoch 22/100\n",
            "16/16 [==============================] - 0s 2ms/step - loss: 11.8950 - mae: 2.5727 - val_loss: 10.6445 - val_mae: 2.4444\n",
            "Epoch 23/100\n",
            "16/16 [==============================] - 0s 2ms/step - loss: 11.6185 - mae: 2.5230 - val_loss: 10.4407 - val_mae: 2.4145\n",
            "Epoch 24/100\n",
            "16/16 [==============================] - 0s 2ms/step - loss: 11.2657 - mae: 2.4755 - val_loss: 10.5460 - val_mae: 2.4615\n",
            "Epoch 25/100\n",
            "16/16 [==============================] - 0s 2ms/step - loss: 11.0420 - mae: 2.4465 - val_loss: 10.1549 - val_mae: 2.3793\n",
            "Epoch 26/100\n",
            "16/16 [==============================] - 0s 3ms/step - loss: 10.9290 - mae: 2.4289 - val_loss: 9.9410 - val_mae: 2.3306\n",
            "Epoch 27/100\n",
            "16/16 [==============================] - 0s 2ms/step - loss: 10.6584 - mae: 2.3787 - val_loss: 9.9892 - val_mae: 2.3625\n",
            "Epoch 28/100\n",
            "16/16 [==============================] - 0s 2ms/step - loss: 10.3905 - mae: 2.3472 - val_loss: 9.6967 - val_mae: 2.3067\n",
            "Epoch 29/100\n",
            "16/16 [==============================] - 0s 2ms/step - loss: 10.1997 - mae: 2.3153 - val_loss: 9.5445 - val_mae: 2.2793\n",
            "Epoch 30/100\n",
            "16/16 [==============================] - 0s 2ms/step - loss: 10.0687 - mae: 2.2971 - val_loss: 9.4537 - val_mae: 2.2664\n",
            "Epoch 31/100\n",
            "16/16 [==============================] - 0s 2ms/step - loss: 9.8849 - mae: 2.2758 - val_loss: 9.4472 - val_mae: 2.2825\n",
            "Epoch 32/100\n",
            "16/16 [==============================] - 0s 2ms/step - loss: 9.7759 - mae: 2.2723 - val_loss: 9.3547 - val_mae: 2.2661\n",
            "Epoch 33/100\n",
            "16/16 [==============================] - 0s 2ms/step - loss: 9.6267 - mae: 2.2559 - val_loss: 9.3538 - val_mae: 2.2833\n",
            "Epoch 34/100\n",
            "16/16 [==============================] - 0s 3ms/step - loss: 9.4464 - mae: 2.2267 - val_loss: 9.0631 - val_mae: 2.2204\n",
            "Epoch 35/100\n",
            "16/16 [==============================] - 0s 2ms/step - loss: 9.4426 - mae: 2.2280 - val_loss: 9.1400 - val_mae: 2.2542\n",
            "Epoch 36/100\n",
            "16/16 [==============================] - 0s 3ms/step - loss: 9.0838 - mae: 2.1732 - val_loss: 8.9194 - val_mae: 2.2068\n",
            "Epoch 37/100\n",
            "16/16 [==============================] - 0s 3ms/step - loss: 9.0924 - mae: 2.1716 - val_loss: 8.8498 - val_mae: 2.2013\n",
            "Epoch 38/100\n",
            "16/16 [==============================] - 0s 3ms/step - loss: 8.9622 - mae: 2.1554 - val_loss: 8.9220 - val_mae: 2.2341\n",
            "Epoch 39/100\n",
            "16/16 [==============================] - 0s 3ms/step - loss: 8.8748 - mae: 2.1694 - val_loss: 8.9204 - val_mae: 2.2419\n",
            "Epoch 40/100\n",
            "16/16 [==============================] - 0s 3ms/step - loss: 8.7796 - mae: 2.1588 - val_loss: 8.6545 - val_mae: 2.1775\n",
            "Epoch 41/100\n",
            "16/16 [==============================] - 0s 2ms/step - loss: 8.6023 - mae: 2.1174 - val_loss: 8.7578 - val_mae: 2.2225\n",
            "Epoch 42/100\n",
            "16/16 [==============================] - 0s 3ms/step - loss: 8.5360 - mae: 2.1107 - val_loss: 8.6492 - val_mae: 2.2004\n",
            "Epoch 43/100\n",
            "16/16 [==============================] - 0s 3ms/step - loss: 8.5059 - mae: 2.1031 - val_loss: 8.5927 - val_mae: 2.1852\n",
            "Epoch 44/100\n",
            "16/16 [==============================] - 0s 3ms/step - loss: 8.3066 - mae: 2.0811 - val_loss: 8.5903 - val_mae: 2.1937\n",
            "Epoch 45/100\n",
            "16/16 [==============================] - 0s 2ms/step - loss: 8.3011 - mae: 2.0844 - val_loss: 8.5475 - val_mae: 2.1863\n",
            "Epoch 46/100\n",
            "16/16 [==============================] - 0s 9ms/step - loss: 8.2083 - mae: 2.0757 - val_loss: 8.4342 - val_mae: 2.1713\n",
            "Epoch 47/100\n",
            "16/16 [==============================] - 0s 3ms/step - loss: 8.0900 - mae: 2.0538 - val_loss: 8.3039 - val_mae: 2.1432\n",
            "Epoch 48/100\n",
            "16/16 [==============================] - 0s 3ms/step - loss: 7.9925 - mae: 2.0401 - val_loss: 8.3885 - val_mae: 2.1663\n",
            "Epoch 49/100\n",
            "16/16 [==============================] - 0s 3ms/step - loss: 8.1833 - mae: 2.0711 - val_loss: 8.3456 - val_mae: 2.1586\n",
            "Epoch 50/100\n",
            "16/16 [==============================] - 0s 3ms/step - loss: 8.0633 - mae: 2.0385 - val_loss: 8.1774 - val_mae: 2.1282\n",
            "Epoch 51/100\n",
            "16/16 [==============================] - 0s 3ms/step - loss: 7.8928 - mae: 2.0191 - val_loss: 8.4086 - val_mae: 2.1750\n",
            "Epoch 52/100\n",
            "16/16 [==============================] - 0s 3ms/step - loss: 7.7614 - mae: 2.0059 - val_loss: 8.1383 - val_mae: 2.1234\n",
            "Epoch 53/100\n",
            "16/16 [==============================] - 0s 3ms/step - loss: 7.7090 - mae: 2.0179 - val_loss: 8.1227 - val_mae: 2.1193\n",
            "Epoch 54/100\n",
            "16/16 [==============================] - 0s 2ms/step - loss: 7.6335 - mae: 1.9915 - val_loss: 8.1187 - val_mae: 2.1183\n",
            "Epoch 55/100\n",
            "16/16 [==============================] - 0s 3ms/step - loss: 7.6946 - mae: 2.0128 - val_loss: 8.0067 - val_mae: 2.1003\n",
            "Epoch 56/100\n",
            "16/16 [==============================] - 0s 3ms/step - loss: 7.5618 - mae: 1.9882 - val_loss: 8.0601 - val_mae: 2.1114\n",
            "Epoch 57/100\n",
            "16/16 [==============================] - 0s 3ms/step - loss: 7.5249 - mae: 1.9786 - val_loss: 7.9504 - val_mae: 2.0944\n",
            "Epoch 58/100\n",
            "16/16 [==============================] - 0s 3ms/step - loss: 7.4620 - mae: 1.9728 - val_loss: 8.0511 - val_mae: 2.1051\n",
            "Epoch 59/100\n",
            "16/16 [==============================] - 0s 2ms/step - loss: 7.5008 - mae: 1.9924 - val_loss: 7.9335 - val_mae: 2.0882\n",
            "Epoch 60/100\n",
            "16/16 [==============================] - 0s 2ms/step - loss: 7.4379 - mae: 1.9609 - val_loss: 7.8573 - val_mae: 2.0722\n",
            "Epoch 61/100\n",
            "16/16 [==============================] - 0s 3ms/step - loss: 7.4303 - mae: 1.9642 - val_loss: 8.0318 - val_mae: 2.1006\n",
            "Epoch 62/100\n",
            "16/16 [==============================] - 0s 3ms/step - loss: 7.3021 - mae: 1.9584 - val_loss: 7.8093 - val_mae: 2.0541\n",
            "Epoch 63/100\n",
            "16/16 [==============================] - 0s 2ms/step - loss: 7.2929 - mae: 1.9401 - val_loss: 7.7822 - val_mae: 2.0490\n",
            "Epoch 64/100\n",
            "16/16 [==============================] - 0s 2ms/step - loss: 7.2489 - mae: 1.9516 - val_loss: 7.8889 - val_mae: 2.0783\n",
            "Epoch 65/100\n",
            "16/16 [==============================] - 0s 2ms/step - loss: 7.4202 - mae: 1.9948 - val_loss: 7.7389 - val_mae: 2.0458\n",
            "Epoch 66/100\n",
            "16/16 [==============================] - 0s 2ms/step - loss: 7.1376 - mae: 1.9207 - val_loss: 7.6585 - val_mae: 2.0165\n",
            "Epoch 67/100\n",
            "16/16 [==============================] - 0s 2ms/step - loss: 7.1523 - mae: 1.9244 - val_loss: 7.7878 - val_mae: 2.0597\n",
            "Epoch 68/100\n",
            "16/16 [==============================] - 0s 2ms/step - loss: 7.0839 - mae: 1.9235 - val_loss: 7.8085 - val_mae: 2.0554\n",
            "Epoch 69/100\n",
            "16/16 [==============================] - 0s 3ms/step - loss: 7.1129 - mae: 1.9386 - val_loss: 7.6891 - val_mae: 2.0349\n",
            "Epoch 70/100\n",
            "16/16 [==============================] - 0s 3ms/step - loss: 7.0146 - mae: 1.9109 - val_loss: 7.6130 - val_mae: 2.0222\n",
            "Epoch 71/100\n",
            "16/16 [==============================] - 0s 3ms/step - loss: 7.0131 - mae: 1.9111 - val_loss: 7.7446 - val_mae: 2.0470\n",
            "Epoch 72/100\n",
            "16/16 [==============================] - 0s 3ms/step - loss: 6.9837 - mae: 1.9198 - val_loss: 7.7230 - val_mae: 2.0461\n",
            "Epoch 73/100\n",
            "16/16 [==============================] - 0s 3ms/step - loss: 6.9462 - mae: 1.8909 - val_loss: 7.6022 - val_mae: 2.0165\n",
            "Epoch 74/100\n",
            "16/16 [==============================] - 0s 3ms/step - loss: 6.9821 - mae: 1.9288 - val_loss: 7.7152 - val_mae: 2.0296\n",
            "Epoch 75/100\n",
            "16/16 [==============================] - 0s 2ms/step - loss: 6.9143 - mae: 1.8956 - val_loss: 7.6464 - val_mae: 2.0326\n",
            "Epoch 76/100\n",
            "16/16 [==============================] - 0s 3ms/step - loss: 6.8975 - mae: 1.8939 - val_loss: 7.6477 - val_mae: 2.0359\n",
            "Epoch 77/100\n",
            "16/16 [==============================] - 0s 3ms/step - loss: 7.1121 - mae: 1.9619 - val_loss: 7.7562 - val_mae: 2.0495\n",
            "Epoch 78/100\n",
            "16/16 [==============================] - 0s 3ms/step - loss: 7.1640 - mae: 1.9132 - val_loss: 7.5535 - val_mae: 2.0064\n",
            "Epoch 79/100\n",
            "16/16 [==============================] - 0s 3ms/step - loss: 6.9373 - mae: 1.9267 - val_loss: 7.9414 - val_mae: 2.0819\n",
            "Epoch 80/100\n",
            "16/16 [==============================] - 0s 2ms/step - loss: 6.8491 - mae: 1.8989 - val_loss: 7.5135 - val_mae: 1.9930\n",
            "Epoch 81/100\n",
            "16/16 [==============================] - 0s 3ms/step - loss: 6.8026 - mae: 1.8897 - val_loss: 7.6316 - val_mae: 2.0013\n",
            "Epoch 82/100\n",
            "16/16 [==============================] - 0s 3ms/step - loss: 6.7850 - mae: 1.8985 - val_loss: 7.6304 - val_mae: 2.0290\n",
            "Epoch 83/100\n",
            "16/16 [==============================] - 0s 2ms/step - loss: 6.7952 - mae: 1.8959 - val_loss: 7.7189 - val_mae: 2.0557\n",
            "Epoch 84/100\n",
            "16/16 [==============================] - 0s 3ms/step - loss: 6.7557 - mae: 1.8724 - val_loss: 7.4830 - val_mae: 2.0132\n",
            "Epoch 85/100\n",
            "16/16 [==============================] - 0s 2ms/step - loss: 6.7999 - mae: 1.8899 - val_loss: 7.7546 - val_mae: 2.0482\n",
            "Epoch 86/100\n",
            "16/16 [==============================] - 0s 3ms/step - loss: 6.7028 - mae: 1.8803 - val_loss: 7.5194 - val_mae: 1.9975\n",
            "Epoch 87/100\n",
            "16/16 [==============================] - 0s 2ms/step - loss: 6.8954 - mae: 1.8775 - val_loss: 7.4764 - val_mae: 2.0004\n",
            "Epoch 88/100\n",
            "16/16 [==============================] - 0s 2ms/step - loss: 6.8986 - mae: 1.9407 - val_loss: 7.6505 - val_mae: 2.0074\n",
            "Epoch 89/100\n",
            "16/16 [==============================] - 0s 2ms/step - loss: 6.8322 - mae: 1.8506 - val_loss: 7.4183 - val_mae: 1.9737\n",
            "Epoch 90/100\n",
            "16/16 [==============================] - 0s 3ms/step - loss: 6.7422 - mae: 1.8933 - val_loss: 7.7557 - val_mae: 2.0493\n",
            "Epoch 91/100\n",
            "16/16 [==============================] - 0s 3ms/step - loss: 6.7868 - mae: 1.8717 - val_loss: 7.5046 - val_mae: 2.0176\n",
            "Epoch 92/100\n",
            "16/16 [==============================] - 0s 3ms/step - loss: 6.6268 - mae: 1.8586 - val_loss: 7.6542 - val_mae: 2.0238\n",
            "Epoch 93/100\n",
            "16/16 [==============================] - 0s 3ms/step - loss: 6.6093 - mae: 1.8606 - val_loss: 7.4947 - val_mae: 1.9941\n",
            "Epoch 94/100\n",
            "16/16 [==============================] - 0s 2ms/step - loss: 6.5673 - mae: 1.8518 - val_loss: 7.5593 - val_mae: 2.0077\n",
            "Epoch 95/100\n",
            "16/16 [==============================] - 0s 3ms/step - loss: 6.6141 - mae: 1.8608 - val_loss: 7.5529 - val_mae: 2.0151\n",
            "Epoch 96/100\n",
            "16/16 [==============================] - 0s 3ms/step - loss: 6.5637 - mae: 1.8532 - val_loss: 7.6118 - val_mae: 2.0294\n",
            "Epoch 97/100\n",
            "16/16 [==============================] - 0s 2ms/step - loss: 6.5733 - mae: 1.8772 - val_loss: 7.6370 - val_mae: 2.0219\n",
            "Epoch 98/100\n",
            "16/16 [==============================] - 0s 2ms/step - loss: 6.6484 - mae: 1.8312 - val_loss: 7.4237 - val_mae: 1.9835\n",
            "Epoch 99/100\n",
            "16/16 [==============================] - 0s 2ms/step - loss: 6.5052 - mae: 1.8588 - val_loss: 7.6092 - val_mae: 2.0119\n",
            "Epoch 100/100\n",
            "16/16 [==============================] - 0s 3ms/step - loss: 6.6325 - mae: 1.8790 - val_loss: 7.4642 - val_mae: 1.9822\n"
          ],
          "name": "stdout"
        }
      ]
    },
    {
      "cell_type": "code",
      "metadata": {
        "id": "i1xSpm1LS4F5"
      },
      "source": [
        ""
      ],
      "execution_count": 18,
      "outputs": []
    }
  ]
}