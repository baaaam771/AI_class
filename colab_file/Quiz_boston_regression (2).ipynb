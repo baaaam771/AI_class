{
  "nbformat": 4,
  "nbformat_minor": 0,
  "metadata": {
    "colab": {
      "name": "Quiz. boston_regression.ipynb",
      "provenance": []
    },
    "kernelspec": {
      "name": "python3",
      "display_name": "Python 3"
    }
  },
  "cells": [
    {
      "cell_type": "code",
      "metadata": {
        "id": "38uwjkO1mpvw"
      },
      "source": [
        "from tensorflow.keras.datasets import boston_housing"
      ],
      "execution_count": 2,
      "outputs": []
    },
    {
      "cell_type": "code",
      "metadata": {
        "id": "bMR4pWs-mzsA",
        "outputId": "8c943424-4b4c-42a7-aa3e-3a57ebc9e8b5",
        "colab": {
          "base_uri": "https://localhost:8080/"
        }
      },
      "source": [
        "# load_data 로 train과 test 데이터 로드\n",
        "(train_data, train_label), (test_data, test_label) = boston_housing.load_data()"
      ],
      "execution_count": 3,
      "outputs": [
        {
          "output_type": "stream",
          "text": [
            "Downloading data from https://storage.googleapis.com/tensorflow/tf-keras-datasets/boston_housing.npz\n",
            "57344/57026 [==============================] - 0s 0us/step\n"
          ],
          "name": "stdout"
        }
      ]
    },
    {
      "cell_type": "code",
      "metadata": {
        "id": "hn4bPEMYm8Xt",
        "outputId": "c1377c1f-f32e-4d1a-8727-5176ba2c58b4",
        "colab": {
          "base_uri": "https://localhost:8080/"
        }
      },
      "source": [
        "train_data[0]"
      ],
      "execution_count": 4,
      "outputs": [
        {
          "output_type": "execute_result",
          "data": {
            "text/plain": [
              "array([  1.23247,   0.     ,   8.14   ,   0.     ,   0.538  ,   6.142  ,\n",
              "        91.7    ,   3.9769 ,   4.     , 307.     ,  21.     , 396.9    ,\n",
              "        18.72   ])"
            ]
          },
          "metadata": {
            "tags": []
          },
          "execution_count": 4
        }
      ]
    },
    {
      "cell_type": "code",
      "metadata": {
        "id": "bus5gBFVoJ1E",
        "outputId": "e9d4a77f-5892-4875-e60d-5723d47642ab",
        "colab": {
          "base_uri": "https://localhost:8080/"
        }
      },
      "source": [
        "train_data.shape"
      ],
      "execution_count": 5,
      "outputs": [
        {
          "output_type": "execute_result",
          "data": {
            "text/plain": [
              "(404, 13)"
            ]
          },
          "metadata": {
            "tags": []
          },
          "execution_count": 5
        }
      ]
    },
    {
      "cell_type": "code",
      "metadata": {
        "id": "V2xHf7hcwPfd"
      },
      "source": [
        "mean = train_data.mean(axis=0)\n",
        "train_data -= mean\n",
        "std = train_data.std(axis=0)\n",
        "train_data /= std\n",
        "\n",
        "test_data -= mean\n",
        "test_data /= std"
      ],
      "execution_count": 8,
      "outputs": []
    },
    {
      "cell_type": "code",
      "metadata": {
        "id": "eSSUQO2inBwb"
      },
      "source": [
        "# 데이터 전처리 끝"
      ],
      "execution_count": null,
      "outputs": []
    },
    {
      "cell_type": "code",
      "metadata": {
        "id": "Jhmzxcr6nbys"
      },
      "source": [
        "from tensorflow.keras import models, layers"
      ],
      "execution_count": 10,
      "outputs": []
    },
    {
      "cell_type": "code",
      "metadata": {
        "id": "8hjMogxWn96p"
      },
      "source": [
        "# 모델 구성\n",
        "# dense 64 relu - input_shape =  (train_data.shape[1] ???? , )  \n",
        "# desne 64 relu \n",
        "# dense ?? \n",
        "model = models.Sequential([\n",
        "  layers.Dense(64, activation='relu', input_shape=(train_data.shape[1], )),\n",
        "  layers.Dense(64, activation='relu'),\n",
        "  layers.Dense(1)\n",
        "])"
      ],
      "execution_count": 11,
      "outputs": []
    },
    {
      "cell_type": "code",
      "metadata": {
        "id": "8wiB1Y-soaqV",
        "outputId": "4be26823-38a4-4463-d0f0-d09a79967936",
        "colab": {
          "base_uri": "https://localhost:8080/"
        }
      },
      "source": [
        "model.summary()"
      ],
      "execution_count": 12,
      "outputs": [
        {
          "output_type": "stream",
          "text": [
            "Model: \"sequential\"\n",
            "_________________________________________________________________\n",
            "Layer (type)                 Output Shape              Param #   \n",
            "=================================================================\n",
            "dense (Dense)                (None, 64)                896       \n",
            "_________________________________________________________________\n",
            "dense_1 (Dense)              (None, 64)                4160      \n",
            "_________________________________________________________________\n",
            "dense_2 (Dense)              (None, 1)                 65        \n",
            "=================================================================\n",
            "Total params: 5,121\n",
            "Trainable params: 5,121\n",
            "Non-trainable params: 0\n",
            "_________________________________________________________________\n"
          ],
          "name": "stdout"
        }
      ]
    },
    {
      "cell_type": "code",
      "metadata": {
        "id": "oNj5P86GocEL"
      },
      "source": [
        "# model compile optimizer = rmsprop, loss = mse, metics = mae \n",
        "model.compile(optimizer='rmsprop', loss='mse', metrics=['mae'])"
      ],
      "execution_count": 13,
      "outputs": []
    },
    {
      "cell_type": "code",
      "metadata": {
        "id": "i_qGEfpJov65",
        "outputId": "acde1903-ab56-412d-a0aa-507bc7e5a72b",
        "colab": {
          "base_uri": "https://localhost:8080/"
        }
      },
      "source": [
        "# 학습을 진행시키고 그 학습 히스토리를 저장하는 코드\n",
        "history = model.fit(x=train_data, y=train_label, epochs=100, batch_size=128, validation_split=0.2)"
      ],
      "execution_count": 14,
      "outputs": [
        {
          "output_type": "stream",
          "text": [
            "Epoch 1/100\n",
            "3/3 [==============================] - 0s 48ms/step - loss: 540.1313 - mae: 21.4174 - val_loss: 588.8714 - val_mae: 22.5286\n",
            "Epoch 2/100\n",
            "3/3 [==============================] - 0s 7ms/step - loss: 511.2278 - mae: 20.7198 - val_loss: 563.9995 - val_mae: 21.9655\n",
            "Epoch 3/100\n",
            "3/3 [==============================] - 0s 8ms/step - loss: 487.6859 - mae: 20.1313 - val_loss: 540.3476 - val_mae: 21.4163\n",
            "Epoch 4/100\n",
            "3/3 [==============================] - 0s 7ms/step - loss: 464.9778 - mae: 19.5508 - val_loss: 516.1754 - val_mae: 20.8412\n",
            "Epoch 5/100\n",
            "3/3 [==============================] - 0s 7ms/step - loss: 441.7303 - mae: 18.9536 - val_loss: 491.7121 - val_mae: 20.2384\n",
            "Epoch 6/100\n",
            "3/3 [==============================] - 0s 7ms/step - loss: 418.1101 - mae: 18.3217 - val_loss: 465.8517 - val_mae: 19.5896\n",
            "Epoch 7/100\n",
            "3/3 [==============================] - 0s 7ms/step - loss: 393.3481 - mae: 17.6462 - val_loss: 439.4393 - val_mae: 18.9341\n",
            "Epoch 8/100\n",
            "3/3 [==============================] - 0s 7ms/step - loss: 368.1882 - mae: 16.9625 - val_loss: 412.4295 - val_mae: 18.2367\n",
            "Epoch 9/100\n",
            "3/3 [==============================] - 0s 7ms/step - loss: 342.8691 - mae: 16.2496 - val_loss: 385.2133 - val_mae: 17.5055\n",
            "Epoch 10/100\n",
            "3/3 [==============================] - 0s 8ms/step - loss: 317.4273 - mae: 15.5432 - val_loss: 357.5365 - val_mae: 16.7356\n",
            "Epoch 11/100\n",
            "3/3 [==============================] - 0s 7ms/step - loss: 292.2987 - mae: 14.7967 - val_loss: 331.4216 - val_mae: 15.9807\n",
            "Epoch 12/100\n",
            "3/3 [==============================] - 0s 7ms/step - loss: 268.5058 - mae: 14.1009 - val_loss: 305.2319 - val_mae: 15.2082\n",
            "Epoch 13/100\n",
            "3/3 [==============================] - 0s 7ms/step - loss: 244.7740 - mae: 13.3405 - val_loss: 279.3118 - val_mae: 14.3963\n",
            "Epoch 14/100\n",
            "3/3 [==============================] - 0s 7ms/step - loss: 221.7093 - mae: 12.5873 - val_loss: 253.6059 - val_mae: 13.5604\n",
            "Epoch 15/100\n",
            "3/3 [==============================] - 0s 9ms/step - loss: 199.5492 - mae: 11.8003 - val_loss: 229.8494 - val_mae: 12.7625\n",
            "Epoch 16/100\n",
            "3/3 [==============================] - 0s 8ms/step - loss: 179.2005 - mae: 11.0469 - val_loss: 207.0174 - val_mae: 11.9470\n",
            "Epoch 17/100\n",
            "3/3 [==============================] - 0s 8ms/step - loss: 160.0603 - mae: 10.3395 - val_loss: 185.3776 - val_mae: 11.1537\n",
            "Epoch 18/100\n",
            "3/3 [==============================] - 0s 8ms/step - loss: 142.2838 - mae: 9.6903 - val_loss: 164.9916 - val_mae: 10.3578\n",
            "Epoch 19/100\n",
            "3/3 [==============================] - 0s 8ms/step - loss: 125.9733 - mae: 9.0483 - val_loss: 145.9929 - val_mae: 9.6245\n",
            "Epoch 20/100\n",
            "3/3 [==============================] - 0s 8ms/step - loss: 111.7546 - mae: 8.4788 - val_loss: 131.0019 - val_mae: 9.0199\n",
            "Epoch 21/100\n",
            "3/3 [==============================] - 0s 7ms/step - loss: 100.2840 - mae: 7.9897 - val_loss: 117.0156 - val_mae: 8.4240\n",
            "Epoch 22/100\n",
            "3/3 [==============================] - 0s 7ms/step - loss: 89.9162 - mae: 7.5578 - val_loss: 103.9139 - val_mae: 7.9078\n",
            "Epoch 23/100\n",
            "3/3 [==============================] - 0s 7ms/step - loss: 80.5062 - mae: 7.1428 - val_loss: 93.0983 - val_mae: 7.4551\n",
            "Epoch 24/100\n",
            "3/3 [==============================] - 0s 7ms/step - loss: 72.7015 - mae: 6.7693 - val_loss: 83.8776 - val_mae: 7.0528\n",
            "Epoch 25/100\n",
            "3/3 [==============================] - 0s 7ms/step - loss: 65.8557 - mae: 6.4108 - val_loss: 75.2384 - val_mae: 6.6509\n",
            "Epoch 26/100\n",
            "3/3 [==============================] - 0s 10ms/step - loss: 59.5688 - mae: 6.0715 - val_loss: 67.2223 - val_mae: 6.2732\n",
            "Epoch 27/100\n",
            "3/3 [==============================] - 0s 7ms/step - loss: 53.9797 - mae: 5.7534 - val_loss: 60.8043 - val_mae: 5.9522\n",
            "Epoch 28/100\n",
            "3/3 [==============================] - 0s 8ms/step - loss: 49.3473 - mae: 5.4432 - val_loss: 54.2170 - val_mae: 5.6147\n",
            "Epoch 29/100\n",
            "3/3 [==============================] - 0s 7ms/step - loss: 44.7757 - mae: 5.1491 - val_loss: 48.7458 - val_mae: 5.3232\n",
            "Epoch 30/100\n",
            "3/3 [==============================] - 0s 7ms/step - loss: 40.7905 - mae: 4.8582 - val_loss: 44.3719 - val_mae: 5.0419\n",
            "Epoch 31/100\n",
            "3/3 [==============================] - 0s 7ms/step - loss: 37.2637 - mae: 4.5845 - val_loss: 40.3575 - val_mae: 4.7708\n",
            "Epoch 32/100\n",
            "3/3 [==============================] - 0s 7ms/step - loss: 34.3112 - mae: 4.3453 - val_loss: 36.9463 - val_mae: 4.5271\n",
            "Epoch 33/100\n",
            "3/3 [==============================] - 0s 7ms/step - loss: 31.8268 - mae: 4.1457 - val_loss: 33.7840 - val_mae: 4.3150\n",
            "Epoch 34/100\n",
            "3/3 [==============================] - 0s 8ms/step - loss: 29.3926 - mae: 3.9190 - val_loss: 31.2207 - val_mae: 4.1378\n",
            "Epoch 35/100\n",
            "3/3 [==============================] - 0s 8ms/step - loss: 27.5161 - mae: 3.7509 - val_loss: 28.6133 - val_mae: 3.9743\n",
            "Epoch 36/100\n",
            "3/3 [==============================] - 0s 7ms/step - loss: 25.5488 - mae: 3.5628 - val_loss: 26.1670 - val_mae: 3.8189\n",
            "Epoch 37/100\n",
            "3/3 [==============================] - 0s 7ms/step - loss: 23.9791 - mae: 3.4530 - val_loss: 24.3357 - val_mae: 3.7150\n",
            "Epoch 38/100\n",
            "3/3 [==============================] - 0s 7ms/step - loss: 22.6381 - mae: 3.3023 - val_loss: 22.6838 - val_mae: 3.5820\n",
            "Epoch 39/100\n",
            "3/3 [==============================] - 0s 7ms/step - loss: 21.7934 - mae: 3.2331 - val_loss: 21.2907 - val_mae: 3.5165\n",
            "Epoch 40/100\n",
            "3/3 [==============================] - 0s 7ms/step - loss: 20.5671 - mae: 3.1434 - val_loss: 20.6219 - val_mae: 3.3937\n",
            "Epoch 41/100\n",
            "3/3 [==============================] - 0s 7ms/step - loss: 19.8042 - mae: 3.0504 - val_loss: 19.5335 - val_mae: 3.4143\n",
            "Epoch 42/100\n",
            "3/3 [==============================] - 0s 7ms/step - loss: 19.1794 - mae: 3.0197 - val_loss: 18.8433 - val_mae: 3.2692\n",
            "Epoch 43/100\n",
            "3/3 [==============================] - 0s 8ms/step - loss: 18.5968 - mae: 2.9790 - val_loss: 18.1729 - val_mae: 3.2500\n",
            "Epoch 44/100\n",
            "3/3 [==============================] - 0s 8ms/step - loss: 17.9705 - mae: 2.8748 - val_loss: 17.8058 - val_mae: 3.3065\n",
            "Epoch 45/100\n",
            "3/3 [==============================] - 0s 9ms/step - loss: 17.3303 - mae: 2.8876 - val_loss: 17.1836 - val_mae: 3.1400\n",
            "Epoch 46/100\n",
            "3/3 [==============================] - 0s 9ms/step - loss: 16.9697 - mae: 2.7877 - val_loss: 16.4566 - val_mae: 3.1711\n",
            "Epoch 47/100\n",
            "3/3 [==============================] - 0s 10ms/step - loss: 16.5086 - mae: 2.8235 - val_loss: 16.1197 - val_mae: 3.1303\n",
            "Epoch 48/100\n",
            "3/3 [==============================] - 0s 8ms/step - loss: 15.9635 - mae: 2.7432 - val_loss: 15.7160 - val_mae: 3.0551\n",
            "Epoch 49/100\n",
            "3/3 [==============================] - 0s 8ms/step - loss: 15.6905 - mae: 2.6965 - val_loss: 15.8773 - val_mae: 3.1370\n",
            "Epoch 50/100\n",
            "3/3 [==============================] - 0s 8ms/step - loss: 15.3542 - mae: 2.7271 - val_loss: 14.9946 - val_mae: 3.0173\n",
            "Epoch 51/100\n",
            "3/3 [==============================] - 0s 7ms/step - loss: 14.7259 - mae: 2.6407 - val_loss: 14.7594 - val_mae: 2.9866\n",
            "Epoch 52/100\n",
            "3/3 [==============================] - 0s 7ms/step - loss: 14.4344 - mae: 2.5814 - val_loss: 14.5215 - val_mae: 2.9706\n",
            "Epoch 53/100\n",
            "3/3 [==============================] - 0s 7ms/step - loss: 14.1459 - mae: 2.5594 - val_loss: 14.5682 - val_mae: 3.0019\n",
            "Epoch 54/100\n",
            "3/3 [==============================] - 0s 7ms/step - loss: 13.9356 - mae: 2.5907 - val_loss: 14.2753 - val_mae: 2.8895\n",
            "Epoch 55/100\n",
            "3/3 [==============================] - 0s 7ms/step - loss: 13.7409 - mae: 2.5287 - val_loss: 13.9854 - val_mae: 2.9304\n",
            "Epoch 56/100\n",
            "3/3 [==============================] - 0s 8ms/step - loss: 13.5126 - mae: 2.5050 - val_loss: 13.9159 - val_mae: 2.8730\n",
            "Epoch 57/100\n",
            "3/3 [==============================] - 0s 7ms/step - loss: 13.2247 - mae: 2.4603 - val_loss: 13.6795 - val_mae: 2.8738\n",
            "Epoch 58/100\n",
            "3/3 [==============================] - 0s 7ms/step - loss: 12.9665 - mae: 2.4233 - val_loss: 13.5300 - val_mae: 2.8946\n",
            "Epoch 59/100\n",
            "3/3 [==============================] - 0s 8ms/step - loss: 12.5578 - mae: 2.4246 - val_loss: 13.2617 - val_mae: 2.8103\n",
            "Epoch 60/100\n",
            "3/3 [==============================] - 0s 9ms/step - loss: 12.3824 - mae: 2.4295 - val_loss: 13.9300 - val_mae: 2.9416\n",
            "Epoch 61/100\n",
            "3/3 [==============================] - 0s 7ms/step - loss: 12.5046 - mae: 2.4653 - val_loss: 13.2371 - val_mae: 2.8589\n",
            "Epoch 62/100\n",
            "3/3 [==============================] - 0s 9ms/step - loss: 12.0144 - mae: 2.3860 - val_loss: 13.2352 - val_mae: 2.7756\n",
            "Epoch 63/100\n",
            "3/3 [==============================] - 0s 8ms/step - loss: 11.8718 - mae: 2.4004 - val_loss: 13.0869 - val_mae: 2.8003\n",
            "Epoch 64/100\n",
            "3/3 [==============================] - 0s 10ms/step - loss: 11.8932 - mae: 2.3851 - val_loss: 13.1481 - val_mae: 2.7839\n",
            "Epoch 65/100\n",
            "3/3 [==============================] - 0s 9ms/step - loss: 11.5841 - mae: 2.4052 - val_loss: 12.8610 - val_mae: 2.7458\n",
            "Epoch 66/100\n",
            "3/3 [==============================] - 0s 6ms/step - loss: 11.2854 - mae: 2.3922 - val_loss: 12.7525 - val_mae: 2.7822\n",
            "Epoch 67/100\n",
            "3/3 [==============================] - 0s 8ms/step - loss: 11.2340 - mae: 2.3389 - val_loss: 13.0893 - val_mae: 2.8236\n",
            "Epoch 68/100\n",
            "3/3 [==============================] - 0s 7ms/step - loss: 11.2517 - mae: 2.2925 - val_loss: 12.8991 - val_mae: 2.7587\n",
            "Epoch 69/100\n",
            "3/3 [==============================] - 0s 7ms/step - loss: 11.0113 - mae: 2.3677 - val_loss: 12.5287 - val_mae: 2.7177\n",
            "Epoch 70/100\n",
            "3/3 [==============================] - 0s 7ms/step - loss: 10.7997 - mae: 2.2963 - val_loss: 12.4177 - val_mae: 2.6921\n",
            "Epoch 71/100\n",
            "3/3 [==============================] - 0s 7ms/step - loss: 10.7802 - mae: 2.2866 - val_loss: 12.5859 - val_mae: 2.6770\n",
            "Epoch 72/100\n",
            "3/3 [==============================] - 0s 6ms/step - loss: 10.5963 - mae: 2.3100 - val_loss: 12.4973 - val_mae: 2.7269\n",
            "Epoch 73/100\n",
            "3/3 [==============================] - 0s 6ms/step - loss: 10.5197 - mae: 2.2520 - val_loss: 12.6852 - val_mae: 2.6864\n",
            "Epoch 74/100\n",
            "3/3 [==============================] - 0s 6ms/step - loss: 10.5225 - mae: 2.3147 - val_loss: 12.3120 - val_mae: 2.7006\n",
            "Epoch 75/100\n",
            "3/3 [==============================] - 0s 9ms/step - loss: 10.2764 - mae: 2.2145 - val_loss: 12.5828 - val_mae: 2.7097\n",
            "Epoch 76/100\n",
            "3/3 [==============================] - 0s 8ms/step - loss: 10.0974 - mae: 2.2472 - val_loss: 12.4044 - val_mae: 2.6512\n",
            "Epoch 77/100\n",
            "3/3 [==============================] - 0s 8ms/step - loss: 10.2730 - mae: 2.2606 - val_loss: 12.3528 - val_mae: 2.6624\n",
            "Epoch 78/100\n",
            "3/3 [==============================] - 0s 7ms/step - loss: 9.9106 - mae: 2.2124 - val_loss: 12.5259 - val_mae: 2.7055\n",
            "Epoch 79/100\n",
            "3/3 [==============================] - 0s 8ms/step - loss: 9.9119 - mae: 2.2178 - val_loss: 12.3274 - val_mae: 2.6347\n",
            "Epoch 80/100\n",
            "3/3 [==============================] - 0s 7ms/step - loss: 10.0360 - mae: 2.2349 - val_loss: 12.4647 - val_mae: 2.6286\n",
            "Epoch 81/100\n",
            "3/3 [==============================] - 0s 8ms/step - loss: 9.8072 - mae: 2.2140 - val_loss: 12.2083 - val_mae: 2.6409\n",
            "Epoch 82/100\n",
            "3/3 [==============================] - 0s 7ms/step - loss: 9.6068 - mae: 2.1640 - val_loss: 12.8585 - val_mae: 2.6969\n",
            "Epoch 83/100\n",
            "3/3 [==============================] - 0s 6ms/step - loss: 9.5933 - mae: 2.1949 - val_loss: 12.6707 - val_mae: 2.6351\n",
            "Epoch 84/100\n",
            "3/3 [==============================] - 0s 7ms/step - loss: 10.0682 - mae: 2.2388 - val_loss: 12.6239 - val_mae: 2.6398\n",
            "Epoch 85/100\n",
            "3/3 [==============================] - 0s 8ms/step - loss: 9.6929 - mae: 2.1976 - val_loss: 12.5815 - val_mae: 2.6388\n",
            "Epoch 86/100\n",
            "3/3 [==============================] - 0s 8ms/step - loss: 9.4488 - mae: 2.1709 - val_loss: 12.4843 - val_mae: 2.6367\n",
            "Epoch 87/100\n",
            "3/3 [==============================] - 0s 8ms/step - loss: 9.4161 - mae: 2.1385 - val_loss: 12.3271 - val_mae: 2.6419\n",
            "Epoch 88/100\n",
            "3/3 [==============================] - 0s 8ms/step - loss: 9.2963 - mae: 2.1123 - val_loss: 13.1300 - val_mae: 2.6394\n",
            "Epoch 89/100\n",
            "3/3 [==============================] - 0s 7ms/step - loss: 9.2502 - mae: 2.1707 - val_loss: 12.7649 - val_mae: 2.6323\n",
            "Epoch 90/100\n",
            "3/3 [==============================] - 0s 8ms/step - loss: 9.2332 - mae: 2.1567 - val_loss: 12.5394 - val_mae: 2.6401\n",
            "Epoch 91/100\n",
            "3/3 [==============================] - 0s 7ms/step - loss: 9.0623 - mae: 2.1166 - val_loss: 12.7269 - val_mae: 2.6169\n",
            "Epoch 92/100\n",
            "3/3 [==============================] - 0s 8ms/step - loss: 8.9661 - mae: 2.1196 - val_loss: 12.3868 - val_mae: 2.6320\n",
            "Epoch 93/100\n",
            "3/3 [==============================] - 0s 7ms/step - loss: 8.9350 - mae: 2.0772 - val_loss: 12.8801 - val_mae: 2.6541\n",
            "Epoch 94/100\n",
            "3/3 [==============================] - 0s 10ms/step - loss: 8.9888 - mae: 2.1042 - val_loss: 13.1264 - val_mae: 2.5990\n",
            "Epoch 95/100\n",
            "3/3 [==============================] - 0s 9ms/step - loss: 8.9285 - mae: 2.1203 - val_loss: 12.5295 - val_mae: 2.6295\n",
            "Epoch 96/100\n",
            "3/3 [==============================] - 0s 9ms/step - loss: 8.8246 - mae: 2.0890 - val_loss: 12.8364 - val_mae: 2.6254\n",
            "Epoch 97/100\n",
            "3/3 [==============================] - 0s 8ms/step - loss: 9.1393 - mae: 2.1394 - val_loss: 12.4606 - val_mae: 2.6241\n",
            "Epoch 98/100\n",
            "3/3 [==============================] - 0s 10ms/step - loss: 8.7590 - mae: 2.0503 - val_loss: 12.7922 - val_mae: 2.6553\n",
            "Epoch 99/100\n",
            "3/3 [==============================] - 0s 7ms/step - loss: 8.7058 - mae: 2.0488 - val_loss: 12.9562 - val_mae: 2.5976\n",
            "Epoch 100/100\n",
            "3/3 [==============================] - 0s 7ms/step - loss: 8.7506 - mae: 2.0972 - val_loss: 12.5641 - val_mae: 2.5847\n"
          ],
          "name": "stdout"
        }
      ]
    },
    {
      "cell_type": "code",
      "metadata": {
        "id": "O_b8zBD-rRnr",
        "outputId": "94611445-48a3-4703-c695-1cd4fd1a844c",
        "colab": {
          "base_uri": "https://localhost:8080/"
        }
      },
      "source": [
        "history.history.keys()"
      ],
      "execution_count": 15,
      "outputs": [
        {
          "output_type": "execute_result",
          "data": {
            "text/plain": [
              "dict_keys(['loss', 'mae', 'val_loss', 'val_mae'])"
            ]
          },
          "metadata": {
            "tags": []
          },
          "execution_count": 15
        }
      ]
    },
    {
      "cell_type": "code",
      "metadata": {
        "id": "LDSJbdUqpUxI"
      },
      "source": [
        "# train성능 지표, validatoin 성능 지표 구성\n",
        "# history 객체에서 mae, loss 추출\n",
        "\n",
        "mae = history.history['mae']\n",
        "loss = history.history['loss']\n",
        "\n",
        "val_mae = history.history['val_mae']\n",
        "val_loss = history.history['val_loss']\n"
      ],
      "execution_count": 16,
      "outputs": []
    },
    {
      "cell_type": "code",
      "metadata": {
        "id": "LQJI6p3Rp2AI"
      },
      "source": [
        "# 그래프를 그리기 위한 epoch 범위  range()\n",
        "epoch = range(len(mae))"
      ],
      "execution_count": 17,
      "outputs": []
    },
    {
      "cell_type": "code",
      "metadata": {
        "id": "d11vjM9up6SE"
      },
      "source": [
        "import matplotlib.pyplot as plt"
      ],
      "execution_count": 18,
      "outputs": []
    },
    {
      "cell_type": "code",
      "metadata": {
        "id": "jo9yJSC5p-uP",
        "outputId": "7b4e3a2c-a2fb-40d1-bb7f-1b92868f3f28",
        "colab": {
          "base_uri": "https://localhost:8080/",
          "height": 281
        }
      },
      "source": [
        "# train & validation mae 그래프 표시 train - bo, valid - r\n",
        "plt.plot(epoch, mae, 'bo', label='train mae')\n",
        "plt.plot(epoch, val_mae, 'r', label='valid mae')"
      ],
      "execution_count": 20,
      "outputs": [
        {
          "output_type": "execute_result",
          "data": {
            "text/plain": [
              "[<matplotlib.lines.Line2D at 0x7f6dadc9dcc0>]"
            ]
          },
          "metadata": {
            "tags": []
          },
          "execution_count": 20
        },
        {
          "output_type": "display_data",
          "data": {
            "image/png": "[encoded data removed]",
            "text/plain": [
              "<Figure size 432x288 with 1 Axes>"
            ]
          },
          "metadata": {
            "tags": [],
            "needs_background": "light"
          }
        }
      ]
    },
    {
      "cell_type": "code",
      "metadata": {
        "id": "-hd4E01lqCk6",
        "outputId": "61cdafe7-e57f-4111-c198-8eabb9f313aa",
        "colab": {
          "base_uri": "https://localhost:8080/",
          "height": 281
        }
      },
      "source": [
        "# train & validation loss 그래프 표시 train - bo, valid - r\n",
        "plt.plot(epoch, loss, 'bo', label='train loss')\n",
        "plt.plot(epoch, val_loss, 'r', label='valid loss')"
      ],
      "execution_count": 21,
      "outputs": [
        {
          "output_type": "execute_result",
          "data": {
            "text/plain": [
              "[<matplotlib.lines.Line2D at 0x7f6daefe84a8>]"
            ]
          },
          "metadata": {
            "tags": []
          },
          "execution_count": 21
        },
        {
          "output_type": "display_data",
          "data": {
            "image/png": "[encoded data removed]",
            "text/plain": [
              "<Figure size 432x288 with 1 Axes>"
            ]
          },
          "metadata": {
            "tags": [],
            "needs_background": "light"
          }
        }
      ]
    },
    {
      "cell_type": "code",
      "metadata": {
        "id": "rvMDy66HrsK_",
        "outputId": "8c679957-5034-4260-cddc-3132225dd75e",
        "colab": {
          "base_uri": "https://localhost:8080/"
        }
      },
      "source": [
        "# model 평가\n",
        "model.evaluate(test_data, test_label)"
      ],
      "execution_count": 22,
      "outputs": [
        {
          "output_type": "stream",
          "text": [
            "4/4 [==============================] - 0s 2ms/step - loss: 24.5178 - mae: 3.1361\n"
          ],
          "name": "stdout"
        },
        {
          "output_type": "execute_result",
          "data": {
            "text/plain": [
              "[24.517847061157227, 3.136141300201416]"
            ]
          },
          "metadata": {
            "tags": []
          },
          "execution_count": 22
        }
      ]
    },
    {
      "cell_type": "code",
      "metadata": {
        "id": "4GbXrGPjsVVN",
        "outputId": "46bbadea-b901-44da-c8ac-312ec077c45f",
        "colab": {
          "base_uri": "https://localhost:8080/"
        }
      },
      "source": [
        "sum(train_label[:50]) / 50"
      ],
      "execution_count": 26,
      "outputs": [
        {
          "output_type": "execute_result",
          "data": {
            "text/plain": [
              "21.215999999999998"
            ]
          },
          "metadata": {
            "tags": []
          },
          "execution_count": 26
        }
      ]
    },
    {
      "cell_type": "code",
      "metadata": {
        "id": "iAbQ9dsT0lnT"
      },
      "source": [
        ""
      ],
      "execution_count": null,
      "outputs": []
    }
  ]
}