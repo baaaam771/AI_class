{
  "nbformat": 4,
  "nbformat_minor": 0,
  "metadata": {
    "colab": {
      "name": "fashion-mnist.ipynb",
      "provenance": []
    },
    "kernelspec": {
      "name": "python3",
      "display_name": "Python 3"
    },
    "accelerator": "GPU"
  },
  "cells": [
    {
      "cell_type": "code",
      "metadata": {
        "id": "oC7UBe9qojui"
      },
      "source": [
        "# 1. 데이터 준비\n",
        "\n",
        "from tensorflow.keras.datasets import fashion_mnist\n",
        "import matplotlib.pyplot as plt"
      ],
      "execution_count": 1,
      "outputs": []
    },
    {
      "cell_type": "code",
      "metadata": {
        "id": "X3zrwWTro9hF",
        "outputId": "06e3a03b-aa60-4bf2-96f0-b9a1bbc3405f",
        "colab": {
          "base_uri": "https://localhost:8080/"
        }
      },
      "source": [
        "# 데이터 로드 \n",
        "(train_data, train_label), (test_data, test_label) = fashion_mnist.load_data()"
      ],
      "execution_count": 2,
      "outputs": [
        {
          "output_type": "stream",
          "text": [
            "Downloading data from https://storage.googleapis.com/tensorflow/tf-keras-datasets/train-labels-idx1-ubyte.gz\n",
            "32768/29515 [=================================] - 0s 0us/step\n",
            "Downloading data from https://storage.googleapis.com/tensorflow/tf-keras-datasets/train-images-idx3-ubyte.gz\n",
            "26427392/26421880 [==============================] - 0s 0us/step\n",
            "Downloading data from https://storage.googleapis.com/tensorflow/tf-keras-datasets/t10k-labels-idx1-ubyte.gz\n",
            "8192/5148 [===============================================] - 0s 0us/step\n",
            "Downloading data from https://storage.googleapis.com/tensorflow/tf-keras-datasets/t10k-images-idx3-ubyte.gz\n",
            "4423680/4422102 [==============================] - 0s 0us/step\n"
          ],
          "name": "stdout"
        }
      ]
    },
    {
      "cell_type": "code",
      "metadata": {
        "id": "aKmuSwL1pl7j",
        "outputId": "f3c3943a-58a1-4b02-c646-eafdb40f412f",
        "colab": {
          "base_uri": "https://localhost:8080/"
        }
      },
      "source": [
        "# 데이터 shpae 확인\n",
        "train_data.shape, train_label.shape"
      ],
      "execution_count": 3,
      "outputs": [
        {
          "output_type": "execute_result",
          "data": {
            "text/plain": [
              "((60000, 28, 28), (60000,))"
            ]
          },
          "metadata": {
            "tags": []
          },
          "execution_count": 3
        }
      ]
    },
    {
      "cell_type": "code",
      "metadata": {
        "id": "r6YzUN9rq-fu",
        "outputId": "5b6a9da2-3a5c-4504-e33a-a0f21944b9a5",
        "colab": {
          "base_uri": "https://localhost:8080/",
          "height": 281
        }
      },
      "source": [
        "plt.imshow(train_data[0])"
      ],
      "execution_count": 4,
      "outputs": [
        {
          "output_type": "execute_result",
          "data": {
            "text/plain": [
              "<matplotlib.image.AxesImage at 0x7f323a155e80>"
            ]
          },
          "metadata": {
            "tags": []
          },
          "execution_count": 4
        },
        {
          "output_type": "display_data",
          "data": {
            "image/png": "[encoded data removed]",
            "text/plain": [
              "<Figure size 432x288 with 1 Axes>"
            ]
          },
          "metadata": {
            "tags": [],
            "needs_background": "light"
          }
        }
      ]
    },
    {
      "cell_type": "code",
      "metadata": {
        "id": "3peSZHZJrEWn",
        "outputId": "1ed1aceb-2906-40d9-9241-20cfa387e68c",
        "colab": {
          "base_uri": "https://localhost:8080/"
        }
      },
      "source": [
        "train_label[0]"
      ],
      "execution_count": 5,
      "outputs": [
        {
          "output_type": "execute_result",
          "data": {
            "text/plain": [
              "9"
            ]
          },
          "metadata": {
            "tags": []
          },
          "execution_count": 5
        }
      ]
    },
    {
      "cell_type": "code",
      "metadata": {
        "id": "BFMmwgTfrI9c"
      },
      "source": [
        "class_names = ['T-shirt/top', 'Trouser', 'Pullover', 'Dress', 'Coat',\n",
        "               'Sandal', 'Shirt', 'Sneaker', 'Bag', 'Ankle boot']"
      ],
      "execution_count": 6,
      "outputs": []
    },
    {
      "cell_type": "code",
      "metadata": {
        "id": "fCEJgcK_r_67"
      },
      "source": [
        "# DNN 입력값에 reshape\n",
        "train_data = train_data.reshape((60000, 28 * 28))\n",
        "test_data = test_data.reshape((10000, 28 * 28))"
      ],
      "execution_count": 49,
      "outputs": []
    },
    {
      "cell_type": "code",
      "metadata": {
        "id": "9FnwXqFhsHQ0",
        "outputId": "ff16e3ec-5854-42f0-b72e-fcba66cafee0",
        "colab": {
          "base_uri": "https://localhost:8080/"
        }
      },
      "source": [
        "train_data.shape, test_data.shape"
      ],
      "execution_count": 9,
      "outputs": [
        {
          "output_type": "execute_result",
          "data": {
            "text/plain": [
              "((60000, 784), (10000, 784))"
            ]
          },
          "metadata": {
            "tags": []
          },
          "execution_count": 9
        }
      ]
    },
    {
      "cell_type": "code",
      "metadata": {
        "id": "GO2e4VtYsMNV"
      },
      "source": [
        "from tensorflow.keras import models, layers"
      ],
      "execution_count": 10,
      "outputs": []
    },
    {
      "cell_type": "code",
      "metadata": {
        "id": "HEtbne0Ns-BK"
      },
      "source": [
        "# 모델 설계\n",
        "\n",
        "# model = model.Sequential()\n",
        "# model.add \n",
        "# ...\n",
        "model = models.Sequential([ \n",
        "  layers.Dense(units=512, activation='relu', input_shape=(28 * 28, )),\n",
        "  layers.Dense(units=10, activation='softmax')\n",
        "])"
      ],
      "execution_count": 12,
      "outputs": []
    },
    {
      "cell_type": "code",
      "metadata": {
        "id": "4JYnUhGatVQ8",
        "outputId": "b5a331eb-d69b-48ed-eb0c-7c08a57ab0d1",
        "colab": {
          "base_uri": "https://localhost:8080/"
        }
      },
      "source": [
        "# 모델 구성\n",
        "model.summary()"
      ],
      "execution_count": 13,
      "outputs": [
        {
          "output_type": "stream",
          "text": [
            "Model: \"sequential\"\n",
            "_________________________________________________________________\n",
            "Layer (type)                 Output Shape              Param #   \n",
            "=================================================================\n",
            "dense (Dense)                (None, 512)               401920    \n",
            "_________________________________________________________________\n",
            "dense_1 (Dense)              (None, 10)                5130      \n",
            "=================================================================\n",
            "Total params: 407,050\n",
            "Trainable params: 407,050\n",
            "Non-trainable params: 0\n",
            "_________________________________________________________________\n"
          ],
          "name": "stdout"
        }
      ]
    },
    {
      "cell_type": "code",
      "metadata": {
        "id": "PjgFOX_Iug_3"
      },
      "source": [
        "# 모델 학습 설정\n",
        "model.compile(optimizer='rmsprop', \n",
        "              loss='sparse_categorical_crossentropy',\n",
        "              metrics=['accuracy'])"
      ],
      "execution_count": 14,
      "outputs": []
    },
    {
      "cell_type": "code",
      "metadata": {
        "id": "NTxotw_HxdOF",
        "outputId": "2d02f5a9-9607-4ac9-9604-9acab4a2c26b",
        "colab": {
          "base_uri": "https://localhost:8080/"
        }
      },
      "source": [
        "# 학습 후 결과 값 저장\n",
        "history = model.fit(x=train_data,\n",
        "          y=train_label,\n",
        "          epochs=30,\n",
        "          batch_size=128,\n",
        "          validation_split=0.2\n",
        ")"
      ],
      "execution_count": 15,
      "outputs": [
        {
          "output_type": "stream",
          "text": [
            "Epoch 1/30\n",
            "375/375 [==============================] - 1s 3ms/step - loss: 17.8974 - accuracy: 0.7139 - val_loss: 1.3712 - val_accuracy: 0.7375\n",
            "Epoch 2/30\n",
            "375/375 [==============================] - 1s 3ms/step - loss: 0.8001 - accuracy: 0.7957 - val_loss: 0.6179 - val_accuracy: 0.8295\n",
            "Epoch 3/30\n",
            "375/375 [==============================] - 1s 3ms/step - loss: 0.6659 - accuracy: 0.8180 - val_loss: 0.6186 - val_accuracy: 0.8279\n",
            "Epoch 4/30\n",
            "375/375 [==============================] - 1s 3ms/step - loss: 0.5941 - accuracy: 0.8313 - val_loss: 0.5420 - val_accuracy: 0.8428\n",
            "Epoch 5/30\n",
            "375/375 [==============================] - 1s 3ms/step - loss: 0.5986 - accuracy: 0.8408 - val_loss: 0.7198 - val_accuracy: 0.8282\n",
            "Epoch 6/30\n",
            "375/375 [==============================] - 1s 3ms/step - loss: 0.5723 - accuracy: 0.8465 - val_loss: 0.6045 - val_accuracy: 0.8428\n",
            "Epoch 7/30\n",
            "375/375 [==============================] - 1s 3ms/step - loss: 0.5290 - accuracy: 0.8530 - val_loss: 0.6362 - val_accuracy: 0.8497\n",
            "Epoch 8/30\n",
            "375/375 [==============================] - 1s 3ms/step - loss: 0.5018 - accuracy: 0.8573 - val_loss: 0.5587 - val_accuracy: 0.8565\n",
            "Epoch 9/30\n",
            "375/375 [==============================] - 1s 3ms/step - loss: 0.4914 - accuracy: 0.8606 - val_loss: 0.6729 - val_accuracy: 0.8454\n",
            "Epoch 10/30\n",
            "375/375 [==============================] - 1s 3ms/step - loss: 0.4878 - accuracy: 0.8632 - val_loss: 0.6203 - val_accuracy: 0.8564\n",
            "Epoch 11/30\n",
            "375/375 [==============================] - 1s 3ms/step - loss: 0.4805 - accuracy: 0.8651 - val_loss: 0.6077 - val_accuracy: 0.8518\n",
            "Epoch 12/30\n",
            "375/375 [==============================] - 1s 3ms/step - loss: 0.4953 - accuracy: 0.8647 - val_loss: 0.8425 - val_accuracy: 0.8364\n",
            "Epoch 13/30\n",
            "375/375 [==============================] - 1s 3ms/step - loss: 0.4820 - accuracy: 0.8674 - val_loss: 0.7715 - val_accuracy: 0.8544\n",
            "Epoch 14/30\n",
            "375/375 [==============================] - 1s 3ms/step - loss: 0.4787 - accuracy: 0.8701 - val_loss: 2.0074 - val_accuracy: 0.8053\n",
            "Epoch 15/30\n",
            "375/375 [==============================] - 1s 3ms/step - loss: 0.4701 - accuracy: 0.8729 - val_loss: 0.6777 - val_accuracy: 0.8593\n",
            "Epoch 16/30\n",
            "375/375 [==============================] - 1s 3ms/step - loss: 0.4678 - accuracy: 0.8721 - val_loss: 0.9396 - val_accuracy: 0.8448\n",
            "Epoch 17/30\n",
            "375/375 [==============================] - 1s 3ms/step - loss: 0.4631 - accuracy: 0.8764 - val_loss: 0.7583 - val_accuracy: 0.8478\n",
            "Epoch 18/30\n",
            "375/375 [==============================] - 1s 3ms/step - loss: 0.4508 - accuracy: 0.8766 - val_loss: 0.6875 - val_accuracy: 0.8612\n",
            "Epoch 19/30\n",
            "375/375 [==============================] - 1s 3ms/step - loss: 0.4513 - accuracy: 0.8781 - val_loss: 0.7651 - val_accuracy: 0.8559\n",
            "Epoch 20/30\n",
            "375/375 [==============================] - 1s 3ms/step - loss: 0.4713 - accuracy: 0.8785 - val_loss: 1.0488 - val_accuracy: 0.8327\n",
            "Epoch 21/30\n",
            "375/375 [==============================] - 1s 3ms/step - loss: 0.4436 - accuracy: 0.8801 - val_loss: 0.7902 - val_accuracy: 0.8555\n",
            "Epoch 22/30\n",
            "375/375 [==============================] - 1s 3ms/step - loss: 0.4413 - accuracy: 0.8801 - val_loss: 0.8910 - val_accuracy: 0.8541\n",
            "Epoch 23/30\n",
            "375/375 [==============================] - 1s 3ms/step - loss: 0.4399 - accuracy: 0.8797 - val_loss: 0.9355 - val_accuracy: 0.8481\n",
            "Epoch 24/30\n",
            "375/375 [==============================] - 1s 3ms/step - loss: 0.4436 - accuracy: 0.8813 - val_loss: 0.8710 - val_accuracy: 0.8597\n",
            "Epoch 25/30\n",
            "375/375 [==============================] - 1s 3ms/step - loss: 0.4276 - accuracy: 0.8842 - val_loss: 0.8648 - val_accuracy: 0.8484\n",
            "Epoch 26/30\n",
            "375/375 [==============================] - 1s 3ms/step - loss: 0.4159 - accuracy: 0.8837 - val_loss: 1.1193 - val_accuracy: 0.8387\n",
            "Epoch 27/30\n",
            "375/375 [==============================] - 1s 3ms/step - loss: 0.4504 - accuracy: 0.8827 - val_loss: 0.8475 - val_accuracy: 0.8596\n",
            "Epoch 28/30\n",
            "375/375 [==============================] - 1s 3ms/step - loss: 0.4330 - accuracy: 0.8845 - val_loss: 0.8697 - val_accuracy: 0.8647\n",
            "Epoch 29/30\n",
            "375/375 [==============================] - 1s 3ms/step - loss: 0.4108 - accuracy: 0.8861 - val_loss: 0.9242 - val_accuracy: 0.8620\n",
            "Epoch 30/30\n",
            "375/375 [==============================] - 1s 3ms/step - loss: 0.4325 - accuracy: 0.8862 - val_loss: 1.0055 - val_accuracy: 0.8597\n"
          ],
          "name": "stdout"
        }
      ]
    },
    {
      "cell_type": "code",
      "metadata": {
        "id": "2QGgup2IzMl9"
      },
      "source": [
        "# 성능 지표 추출\n",
        "accuracy = history.history['accuracy']\n",
        "val_acc = history.history['val_accuracy']\n",
        "\n",
        "loss = history.history['loss']\n",
        "val_loss = history.history['val_loss']"
      ],
      "execution_count": 18,
      "outputs": []
    },
    {
      "cell_type": "code",
      "metadata": {
        "id": "e3yPz2P1zg40"
      },
      "source": [
        "# 차트 x축\n",
        "epochs = range(1, len(loss) + 1)"
      ],
      "execution_count": 21,
      "outputs": []
    },
    {
      "cell_type": "code",
      "metadata": {
        "id": "_uHi--XpznEd",
        "outputId": "e0158146-30cf-40d2-cc44-2d1c31f1190b",
        "colab": {
          "base_uri": "https://localhost:8080/",
          "height": 297
        }
      },
      "source": [
        "# loss 를 epochs에 따른 시각화\n",
        "plt.plot(epochs, loss, 'bo', label='traing loss')\n",
        "plt.plot(epcohs, val_loss, 'r', label='validation loss')\n",
        "plt.title('training and validation loss')\n",
        "plt.legend()"
      ],
      "execution_count": 22,
      "outputs": [
        {
          "output_type": "execute_result",
          "data": {
            "text/plain": [
              "<matplotlib.legend.Legend at 0x7f31dc3a75c0>"
            ]
          },
          "metadata": {
            "tags": []
          },
          "execution_count": 22
        },
        {
          "output_type": "display_data",
          "data": {
            "image/png": "[encoded data removed]",
            "text/plain": [
              "<Figure size 432x288 with 1 Axes>"
            ]
          },
          "metadata": {
            "tags": [],
            "needs_background": "light"
          }
        }
      ]
    },
    {
      "cell_type": "code",
      "metadata": {
        "id": "MBJDL4pTz5S7",
        "outputId": "ae51e54f-528b-4545-c8e7-d5f6c17167e3",
        "colab": {
          "base_uri": "https://localhost:8080/",
          "height": 297
        }
      },
      "source": [
        "# accuracy 시각화\n",
        "plt.plot(epochs, accuracy, 'bo', label='traing acc')\n",
        "plt.plot(epcohs, val_acc, 'r', label='validation acc')\n",
        "plt.title('training and validation acc')\n",
        "plt.legend()"
      ],
      "execution_count": 23,
      "outputs": [
        {
          "output_type": "execute_result",
          "data": {
            "text/plain": [
              "<matplotlib.legend.Legend at 0x7f31dc384c18>"
            ]
          },
          "metadata": {
            "tags": []
          },
          "execution_count": 23
        },
        {
          "output_type": "display_data",
          "data": {
            "image/png": "[encoded data removed]",
            "text/plain": [
              "<Figure size 432x288 with 1 Axes>"
            ]
          },
          "metadata": {
            "tags": [],
            "needs_background": "light"
          }
        }
      ]
    },
    {
      "cell_type": "code",
      "metadata": {
        "id": "Fd3v4T720Tfe",
        "outputId": "8c524e47-53df-45e6-92ee-812706f36be2",
        "colab": {
          "base_uri": "https://localhost:8080/"
        }
      },
      "source": [
        "# 모델 성능 평가\n",
        "model.evaluate(x=test_data, y=test_label)"
      ],
      "execution_count": 25,
      "outputs": [
        {
          "output_type": "stream",
          "text": [
            "313/313 [==============================] - 1s 2ms/step - loss: 1.0979 - accuracy: 0.8529\n"
          ],
          "name": "stdout"
        },
        {
          "output_type": "execute_result",
          "data": {
            "text/plain": [
              "[1.0979456901550293, 0.8529000282287598]"
            ]
          },
          "metadata": {
            "tags": []
          },
          "execution_count": 25
        }
      ]
    },
    {
      "cell_type": "code",
      "metadata": {
        "id": "Y6x_AmZM00Lm",
        "outputId": "66aa0296-4867-4c31-f599-f696eba0f149",
        "colab": {
          "base_uri": "https://localhost:8080/",
          "height": 281
        }
      },
      "source": [
        "plt.imshow(test_data[10].reshape(28, 28))"
      ],
      "execution_count": 27,
      "outputs": [
        {
          "output_type": "execute_result",
          "data": {
            "text/plain": [
              "<matplotlib.image.AxesImage at 0x7f31dc21e390>"
            ]
          },
          "metadata": {
            "tags": []
          },
          "execution_count": 27
        },
        {
          "output_type": "display_data",
          "data": {
            "image/png": "[encoded data removed]",
            "text/plain": [
              "<Figure size 432x288 with 1 Axes>"
            ]
          },
          "metadata": {
            "tags": [],
            "needs_background": "light"
          }
        }
      ]
    },
    {
      "cell_type": "code",
      "metadata": {
        "id": "Inf8kxXl1Ce4",
        "outputId": "6621041b-c16e-4f86-cacb-ca543cb0b062",
        "colab": {
          "base_uri": "https://localhost:8080/"
        }
      },
      "source": [
        "print(class_names[test_label[10]])"
      ],
      "execution_count": 29,
      "outputs": [
        {
          "output_type": "stream",
          "text": [
            "Coat\n"
          ],
          "name": "stdout"
        }
      ]
    },
    {
      "cell_type": "code",
      "metadata": {
        "id": "hC80jt7i1Rtg"
      },
      "source": [
        "# 학습된 모델에 10번째 데이터를 넣었을 때, 나오는 값을 확인\n",
        "result = model.predict(test_data[10].reshape((1, 784)))"
      ],
      "execution_count": 43,
      "outputs": []
    },
    {
      "cell_type": "code",
      "metadata": {
        "id": "BCcCF69w1cY9",
        "outputId": "852d22d4-ad3d-4807-f85d-adb6b2b2a6b7",
        "colab": {
          "base_uri": "https://localhost:8080/"
        }
      },
      "source": [
        "result"
      ],
      "execution_count": 44,
      "outputs": [
        {
          "output_type": "execute_result",
          "data": {
            "text/plain": [
              "array([[9.9648046e-04, 6.3043340e-06, 2.0133595e-01, 1.2883035e-02,\n",
              "        6.6492027e-01, 0.0000000e+00, 1.1821797e-01, 0.0000000e+00,\n",
              "        1.6400458e-03, 0.0000000e+00]], dtype=float32)"
            ]
          },
          "metadata": {
            "tags": []
          },
          "execution_count": 44
        }
      ]
    },
    {
      "cell_type": "code",
      "metadata": {
        "id": "wiH7lNw21iEC"
      },
      "source": [
        "import numpy as np\n",
        "\n",
        "# 결과값 확인\n",
        "result = np.argmax(result[0])"
      ],
      "execution_count": 46,
      "outputs": []
    },
    {
      "cell_type": "code",
      "metadata": {
        "id": "bUyVgL8f2Bbz",
        "outputId": "475e2a8e-eb64-4215-9eb9-2f486b3c9199",
        "colab": {
          "base_uri": "https://localhost:8080/"
        }
      },
      "source": [
        "result"
      ],
      "execution_count": 47,
      "outputs": [
        {
          "output_type": "execute_result",
          "data": {
            "text/plain": [
              "4"
            ]
          },
          "metadata": {
            "tags": []
          },
          "execution_count": 47
        }
      ]
    },
    {
      "cell_type": "code",
      "metadata": {
        "id": "65J5Rg2A3HjO",
        "outputId": "e868c26a-b509-42ff-8199-34c04eaa2593",
        "colab": {
          "base_uri": "https://localhost:8080/",
          "height": 35
        }
      },
      "source": [
        "class_names[result]"
      ],
      "execution_count": 48,
      "outputs": [
        {
          "output_type": "execute_result",
          "data": {
            "application/vnd.google.colaboratory.intrinsic+json": {
              "type": "string"
            },
            "text/plain": [
              "'Coat'"
            ]
          },
          "metadata": {
            "tags": []
          },
          "execution_count": 48
        }
      ]
    },
    {
      "cell_type": "code",
      "metadata": {
        "id": "LTXdByMA3KFX"
      },
      "source": [
        ""
      ],
      "execution_count": null,
      "outputs": []
    }
  ]
}