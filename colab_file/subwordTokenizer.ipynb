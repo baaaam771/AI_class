{
  "nbformat": 4,
  "nbformat_minor": 0,
  "metadata": {
    "colab": {
      "name": "subwordTokenizer.ipynb",
      "provenance": []
    },
    "kernelspec": {
      "name": "python3",
      "display_name": "Python 3"
    }
  },
  "cells": [
    {
      "cell_type": "code",
      "metadata": {
        "id": "8TDxLISm5Tco"
      },
      "source": [
        "import tensorflow_datasets as tfds\n",
        "import urllib.request\n",
        "import pandas as pd"
      ],
      "execution_count": 1,
      "outputs": []
    },
    {
      "cell_type": "code",
      "metadata": {
        "colab": {
          "base_uri": "https://localhost:8080/"
        },
        "id": "ob3x24v75hSy",
        "outputId": "cb1408a2-9ca8-4f01-f800-a1f3c773c234"
      },
      "source": [
        "urllib.request.urlretrieve(\"https://raw.githubusercontent.com/LawrenceDuan/IMDb-Review-Analysis/master/IMDb_Reviews.csv\", filename=\"IMDb_Reviews.csv\")"
      ],
      "execution_count": 2,
      "outputs": [
        {
          "output_type": "execute_result",
          "data": {
            "text/plain": [
              "('IMDb_Reviews.csv', <http.client.HTTPMessage at 0x7fe5f6afb0f0>)"
            ]
          },
          "metadata": {
            "tags": []
          },
          "execution_count": 2
        }
      ]
    },
    {
      "cell_type": "code",
      "metadata": {
        "id": "COI0NgwX5wvJ"
      },
      "source": [
        "train_df = pd.read_csv('IMDb_Reviews.csv')"
      ],
      "execution_count": 3,
      "outputs": []
    },
    {
      "cell_type": "code",
      "metadata": {
        "colab": {
          "base_uri": "https://localhost:8080/",
          "height": 204
        },
        "id": "yvvITY8I57Ye",
        "outputId": "23a883a0-f29f-459e-a0e7-805967960e49"
      },
      "source": [
        "train_df.head()"
      ],
      "execution_count": 4,
      "outputs": [
        {
          "output_type": "execute_result",
          "data": {
            "text/html": [
              "<div>\n",
              "<style scoped>\n",
              "    .dataframe tbody tr th:only-of-type {\n",
              "        vertical-align: middle;\n",
              "    }\n",
              "\n",
              "    .dataframe tbody tr th {\n",
              "        vertical-align: top;\n",
              "    }\n",
              "\n",
              "    .dataframe thead th {\n",
              "        text-align: right;\n",
              "    }\n",
              "</style>\n",
              "<table border=\"1\" class=\"dataframe\">\n",
              "  <thead>\n",
              "    <tr style=\"text-align: right;\">\n",
              "      <th></th>\n",
              "      <th>review</th>\n",
              "      <th>sentiment</th>\n",
              "    </tr>\n",
              "  </thead>\n",
              "  <tbody>\n",
              "    <tr>\n",
              "      <th>0</th>\n",
              "      <td>My family and I normally do not watch local mo...</td>\n",
              "      <td>1</td>\n",
              "    </tr>\n",
              "    <tr>\n",
              "      <th>1</th>\n",
              "      <td>Believe it or not, this was at one time the wo...</td>\n",
              "      <td>0</td>\n",
              "    </tr>\n",
              "    <tr>\n",
              "      <th>2</th>\n",
              "      <td>After some internet surfing, I found the \"Home...</td>\n",
              "      <td>0</td>\n",
              "    </tr>\n",
              "    <tr>\n",
              "      <th>3</th>\n",
              "      <td>One of the most unheralded great works of anim...</td>\n",
              "      <td>1</td>\n",
              "    </tr>\n",
              "    <tr>\n",
              "      <th>4</th>\n",
              "      <td>It was the Sixties, and anyone with long hair ...</td>\n",
              "      <td>0</td>\n",
              "    </tr>\n",
              "  </tbody>\n",
              "</table>\n",
              "</div>"
            ],
            "text/plain": [
              "                                              review  sentiment\n",
              "0  My family and I normally do not watch local mo...          1\n",
              "1  Believe it or not, this was at one time the wo...          0\n",
              "2  After some internet surfing, I found the \"Home...          0\n",
              "3  One of the most unheralded great works of anim...          1\n",
              "4  It was the Sixties, and anyone with long hair ...          0"
            ]
          },
          "metadata": {
            "tags": []
          },
          "execution_count": 4
        }
      ]
    },
    {
      "cell_type": "code",
      "metadata": {
        "id": "C3T5Rm706CvD"
      },
      "source": [
        "tokenizer = tfds.deprecated.text.SubwordTextEncoder.build_from_corpus(train_df['review'], target_vocab_size=3000)"
      ],
      "execution_count": 6,
      "outputs": []
    },
    {
      "cell_type": "code",
      "metadata": {
        "colab": {
          "base_uri": "https://localhost:8080/"
        },
        "id": "V7RKfWow6bOa",
        "outputId": "4e10a477-bb68-4a53-8e40-ed0dd7764712"
      },
      "source": [
        "print(tokenizer.subwords[:100])"
      ],
      "execution_count": 11,
      "outputs": [
        {
          "output_type": "stream",
          "text": [
            "['the_', ', ', '. ', 's_', 'a_', 'and_', 'of_', 'to_', 'is_', 'br', 'in_', 'I_', 'that_', 'this_', 'it_', 't_', ' /><', ' />', 'was_', 'ing_', 'The_', 'd_', 'as_', 'with_', 'ed_', 'for_', 'y_', 'on_', '.<', 'e_', 'but_', 'movie_', ' (', 'are_', 'ly_', 'it', 'have_', 'his_', 'be_', 'film_', 'not_', 'an_', ' \"', 'you_', 'at_', 'one_', 'by_', 'he_', 'or_', 'who_', 'from_', '\" ', 'like_', 'all_', 'they_', 'so_', ') ', 'just_', 'has_', 'about_', 'her_', 'n_', 'out_', 'This_', 'ing', 'r_', 'some_', 'film', 'movie', 'es_', 'very_', 'more_', 'er_', 've_', 'on', 'm_', 'It_', 'what_', 'would_', 'ed', 'up_', 'when_', 'if_', 'good_', 'my_', 'which_', 'their_', 'only_', 'can_', '? ', 'even_', 'really_', 'had_', 'l_', 'no_', '! ', 'see_', 'were_', 'er', 'al_']\n"
          ],
          "name": "stdout"
        }
      ]
    },
    {
      "cell_type": "code",
      "metadata": {
        "id": "xAXUueKQ6qBk"
      },
      "source": [
        "sample = \"My family and I normally do not watch local movies for the simple reason that they are poorly made\""
      ],
      "execution_count": 13,
      "outputs": []
    },
    {
      "cell_type": "code",
      "metadata": {
        "colab": {
          "base_uri": "https://localhost:8080/"
        },
        "id": "k_vqFffX7AZP",
        "outputId": "06b166f2-a3cb-485f-e328-045ae4d082d4"
      },
      "source": [
        "tokenized = tokenizer.encode(sample)\n",
        "# 정수 인코딩\n",
        "tokenized"
      ],
      "execution_count": 14,
      "outputs": [
        {
          "output_type": "execute_result",
          "data": {
            "text/plain": [
              "[819,\n",
              " 886,\n",
              " 6,\n",
              " 12,\n",
              " 818,\n",
              " 503,\n",
              " 35,\n",
              " 129,\n",
              " 41,\n",
              " 203,\n",
              " 2185,\n",
              " 2756,\n",
              " 223,\n",
              " 26,\n",
              " 1,\n",
              " 2057,\n",
              " 2756,\n",
              " 1066,\n",
              " 13,\n",
              " 55,\n",
              " 34,\n",
              " 2032,\n",
              " 35,\n",
              " 1717]"
            ]
          },
          "metadata": {
            "tags": []
          },
          "execution_count": 14
        }
      ]
    },
    {
      "cell_type": "code",
      "metadata": {
        "colab": {
          "base_uri": "https://localhost:8080/",
          "height": 52
        },
        "id": "SNTAS27D7GC0",
        "outputId": "5e366c37-7249-4024-da85-75a1ebab1435"
      },
      "source": [
        "# 문자 디코딩\n",
        "original = tokenizer.decode(tokenized)\n",
        "original"
      ],
      "execution_count": 15,
      "outputs": [
        {
          "output_type": "execute_result",
          "data": {
            "application/vnd.google.colaboratory.intrinsic+json": {
              "type": "string"
            },
            "text/plain": [
              "'My family and I normally do not watch local movies for the simple reason that they are poorly made'"
            ]
          },
          "metadata": {
            "tags": []
          },
          "execution_count": 15
        }
      ]
    },
    {
      "cell_type": "code",
      "metadata": {
        "colab": {
          "base_uri": "https://localhost:8080/"
        },
        "id": "9pL2Rs8Y7PHn",
        "outputId": "476090b8-f127-410a-f477-6247ee79f29c"
      },
      "source": [
        "for ts in tokenized:\n",
        "  print('{} ----> {}'.format(ts, tokenizer.decode([ts])))"
      ],
      "execution_count": 16,
      "outputs": [
        {
          "output_type": "stream",
          "text": [
            "819 ----> My \n",
            "886 ----> family \n",
            "6 ----> and \n",
            "12 ----> I \n",
            "818 ----> nor\n",
            "503 ----> mal\n",
            "35 ----> ly \n",
            "129 ----> do \n",
            "41 ----> not \n",
            "203 ----> watch \n",
            "2185 ----> local\n",
            "2756 ---->  \n",
            "223 ----> movies \n",
            "26 ----> for \n",
            "1 ----> the \n",
            "2057 ----> simple\n",
            "2756 ---->  \n",
            "1066 ----> reason \n",
            "13 ----> that \n",
            "55 ----> they \n",
            "34 ----> are \n",
            "2032 ----> poor\n",
            "35 ----> ly \n",
            "1717 ----> made\n"
          ],
          "name": "stdout"
        }
      ]
    },
    {
      "cell_type": "code",
      "metadata": {
        "id": "RAVrnk2V7ySZ"
      },
      "source": [
        "sample2 = \"My family and I normally do not watch local movies for the simple reasonxyz that they are poorly made\""
      ],
      "execution_count": 17,
      "outputs": []
    },
    {
      "cell_type": "code",
      "metadata": {
        "colab": {
          "base_uri": "https://localhost:8080/"
        },
        "id": "1Vrk8HpJ8AQp",
        "outputId": "5f1bc36a-d2eb-4694-845e-b8d03a74f622"
      },
      "source": [
        "tokenized = tokenizer.encode(sample2)\n",
        "tokenized"
      ],
      "execution_count": 18,
      "outputs": [
        {
          "output_type": "execute_result",
          "data": {
            "text/plain": [
              "[819,\n",
              " 886,\n",
              " 6,\n",
              " 12,\n",
              " 818,\n",
              " 503,\n",
              " 35,\n",
              " 129,\n",
              " 41,\n",
              " 203,\n",
              " 2185,\n",
              " 2756,\n",
              " 223,\n",
              " 26,\n",
              " 1,\n",
              " 2057,\n",
              " 2756,\n",
              " 1348,\n",
              " 2844,\n",
              " 2845,\n",
              " 2037,\n",
              " 13,\n",
              " 55,\n",
              " 34,\n",
              " 2032,\n",
              " 35,\n",
              " 1717]"
            ]
          },
          "metadata": {
            "tags": []
          },
          "execution_count": 18
        }
      ]
    },
    {
      "cell_type": "code",
      "metadata": {
        "colab": {
          "base_uri": "https://localhost:8080/",
          "height": 52
        },
        "id": "EM1CMn-b8GCv",
        "outputId": "f59d4784-d247-40a8-c0df-c0711023a786"
      },
      "source": [
        "original = tokenizer.decode(tokenized)\n",
        "original"
      ],
      "execution_count": 19,
      "outputs": [
        {
          "output_type": "execute_result",
          "data": {
            "application/vnd.google.colaboratory.intrinsic+json": {
              "type": "string"
            },
            "text/plain": [
              "'My family and I normally do not watch local movies for the simple reasonxyz that they are poorly made'"
            ]
          },
          "metadata": {
            "tags": []
          },
          "execution_count": 19
        }
      ]
    },
    {
      "cell_type": "code",
      "metadata": {
        "colab": {
          "base_uri": "https://localhost:8080/"
        },
        "id": "cGQ40Jly8NUA",
        "outputId": "49a65437-d4df-4a13-de5a-56c19e6eda3f"
      },
      "source": [
        "urllib.request.urlretrieve(\"https://raw.githubusercontent.com/e9t/nsmc/master/ratings_train.txt\", filename=\"ratings_train.txt\")"
      ],
      "execution_count": 20,
      "outputs": [
        {
          "output_type": "execute_result",
          "data": {
            "text/plain": [
              "('ratings_train.txt', <http.client.HTTPMessage at 0x7fe5edfbc780>)"
            ]
          },
          "metadata": {
            "tags": []
          },
          "execution_count": 20
        }
      ]
    },
    {
      "cell_type": "code",
      "metadata": {
        "id": "8fywEH9C8eta"
      },
      "source": [
        "train_data = pd.read_table('ratings_train.txt')"
      ],
      "execution_count": 21,
      "outputs": []
    },
    {
      "cell_type": "code",
      "metadata": {
        "colab": {
          "base_uri": "https://localhost:8080/",
          "height": 204
        },
        "id": "b_c5PIOj836E",
        "outputId": "108fa2eb-894c-47d6-f1e3-df8322db1152"
      },
      "source": [
        "train_data.head()"
      ],
      "execution_count": 22,
      "outputs": [
        {
          "output_type": "execute_result",
          "data": {
            "text/html": [
              "<div>\n",
              "<style scoped>\n",
              "    .dataframe tbody tr th:only-of-type {\n",
              "        vertical-align: middle;\n",
              "    }\n",
              "\n",
              "    .dataframe tbody tr th {\n",
              "        vertical-align: top;\n",
              "    }\n",
              "\n",
              "    .dataframe thead th {\n",
              "        text-align: right;\n",
              "    }\n",
              "</style>\n",
              "<table border=\"1\" class=\"dataframe\">\n",
              "  <thead>\n",
              "    <tr style=\"text-align: right;\">\n",
              "      <th></th>\n",
              "      <th>id</th>\n",
              "      <th>document</th>\n",
              "      <th>label</th>\n",
              "    </tr>\n",
              "  </thead>\n",
              "  <tbody>\n",
              "    <tr>\n",
              "      <th>0</th>\n",
              "      <td>9976970</td>\n",
              "      <td>아 더빙.. 진짜 짜증나네요 목소리</td>\n",
              "      <td>0</td>\n",
              "    </tr>\n",
              "    <tr>\n",
              "      <th>1</th>\n",
              "      <td>3819312</td>\n",
              "      <td>흠...포스터보고 초딩영화줄....오버연기조차 가볍지 않구나</td>\n",
              "      <td>1</td>\n",
              "    </tr>\n",
              "    <tr>\n",
              "      <th>2</th>\n",
              "      <td>10265843</td>\n",
              "      <td>너무재밓었다그래서보는것을추천한다</td>\n",
              "      <td>0</td>\n",
              "    </tr>\n",
              "    <tr>\n",
              "      <th>3</th>\n",
              "      <td>9045019</td>\n",
              "      <td>교도소 이야기구먼 ..솔직히 재미는 없다..평점 조정</td>\n",
              "      <td>0</td>\n",
              "    </tr>\n",
              "    <tr>\n",
              "      <th>4</th>\n",
              "      <td>6483659</td>\n",
              "      <td>사이몬페그의 익살스런 연기가 돋보였던 영화!스파이더맨에서 늙어보이기만 했던 커스틴 ...</td>\n",
              "      <td>1</td>\n",
              "    </tr>\n",
              "  </tbody>\n",
              "</table>\n",
              "</div>"
            ],
            "text/plain": [
              "         id                                           document  label\n",
              "0   9976970                                아 더빙.. 진짜 짜증나네요 목소리      0\n",
              "1   3819312                  흠...포스터보고 초딩영화줄....오버연기조차 가볍지 않구나      1\n",
              "2  10265843                                  너무재밓었다그래서보는것을추천한다      0\n",
              "3   9045019                      교도소 이야기구먼 ..솔직히 재미는 없다..평점 조정      0\n",
              "4   6483659  사이몬페그의 익살스런 연기가 돋보였던 영화!스파이더맨에서 늙어보이기만 했던 커스틴 ...      1"
            ]
          },
          "metadata": {
            "tags": []
          },
          "execution_count": 22
        }
      ]
    },
    {
      "cell_type": "code",
      "metadata": {
        "colab": {
          "base_uri": "https://localhost:8080/"
        },
        "id": "pPSB8tK685NT",
        "outputId": "6ce533f1-c9b0-4022-ceaf-955c4a20b847"
      },
      "source": [
        "train_data.isnull().sum()"
      ],
      "execution_count": 23,
      "outputs": [
        {
          "output_type": "execute_result",
          "data": {
            "text/plain": [
              "id          0\n",
              "document    5\n",
              "label       0\n",
              "dtype: int64"
            ]
          },
          "metadata": {
            "tags": []
          },
          "execution_count": 23
        }
      ]
    },
    {
      "cell_type": "code",
      "metadata": {
        "id": "8NFdCbrz9DSL"
      },
      "source": [
        "train_data = train_data.dropna(how = 'any')"
      ],
      "execution_count": 24,
      "outputs": []
    },
    {
      "cell_type": "code",
      "metadata": {
        "colab": {
          "base_uri": "https://localhost:8080/"
        },
        "id": "DU7QhZCR9IKV",
        "outputId": "37927e59-911d-4e95-e168-d2c81f0cf5fb"
      },
      "source": [
        "train_data.isnull().sum()"
      ],
      "execution_count": 25,
      "outputs": [
        {
          "output_type": "execute_result",
          "data": {
            "text/plain": [
              "id          0\n",
              "document    0\n",
              "label       0\n",
              "dtype: int64"
            ]
          },
          "metadata": {
            "tags": []
          },
          "execution_count": 25
        }
      ]
    },
    {
      "cell_type": "code",
      "metadata": {
        "id": "_1Nd78ei9LSp"
      },
      "source": [
        "tokenizer = tfds.deprecated.text.SubwordTextEncoder.build_from_corpus(train_data['document'], target_vocab_size=3000)"
      ],
      "execution_count": 26,
      "outputs": []
    },
    {
      "cell_type": "code",
      "metadata": {
        "colab": {
          "base_uri": "https://localhost:8080/"
        },
        "id": "6ZO6bYmh9qZ5",
        "outputId": "219e2dd3-b169-4fdd-e2c3-1f6ae53f49f3"
      },
      "source": [
        "print(tokenizer.subwords[:100])"
      ],
      "execution_count": 27,
      "outputs": [
        {
          "output_type": "stream",
          "text": [
            "['. ', '이_', '의_', '영화', '다', '을_', '..', '도_', '는_', '...', '이', '은_', '에_', '고_', '가_', '한_', ', ', '고', '지', '를_', '가', '아', '.. ', '어', '게_', '나', '기', '너무_', '정말_', '리', '영화_', '로_', '다_', '스', '도', '요', '지_', '시', '만_', '자', '... ', '진짜_', '한', '서_', '과_', '대', '안', '으로_', '로', '정', '하', '보', '오', '사', '마', '라', '인', '일', '네', '그', '면_', '해', '? ', '음', '에', '하고_', '주', '전', '네요', '와_', '드', '서', '에서_', '수', '만', '우', '부', '니', '성', '미', '는', '비', '무', '나_', '의', '내', '게', '조', '수_', '개', '....', '상', '하는_', '장', '구', '습니다', '거', '은', '보고_', '함']\n"
          ],
          "name": "stdout"
        }
      ]
    },
    {
      "cell_type": "code",
      "metadata": {
        "id": "eQZvMlJ292bz"
      },
      "source": [
        "sample = train_data['document'][21]"
      ],
      "execution_count": 28,
      "outputs": []
    },
    {
      "cell_type": "code",
      "metadata": {
        "colab": {
          "base_uri": "https://localhost:8080/",
          "height": 35
        },
        "id": "JebYsCkx-UGR",
        "outputId": "afd55541-b0a8-41f7-c06d-8111be5f9c28"
      },
      "source": [
        "sample"
      ],
      "execution_count": 31,
      "outputs": [
        {
          "output_type": "execute_result",
          "data": {
            "application/vnd.google.colaboratory.intrinsic+json": {
              "type": "string"
            },
            "text/plain": [
              "'보면서 웃지 않는 건 불가능하다'"
            ]
          },
          "metadata": {
            "tags": []
          },
          "execution_count": 31
        }
      ]
    },
    {
      "cell_type": "code",
      "metadata": {
        "colab": {
          "base_uri": "https://localhost:8080/"
        },
        "id": "sJX_hlO8-Gz2",
        "outputId": "e035ea29-50be-440d-a51d-e304c62493ca"
      },
      "source": [
        "tokenized = tokenizer.encode(sample)\n",
        "tokenized"
      ],
      "execution_count": 29,
      "outputs": [
        {
          "output_type": "execute_result",
          "data": {
            "text/plain": [
              "[889, 299, 37, 923, 254, 2344, 807, 117]"
            ]
          },
          "metadata": {
            "tags": []
          },
          "execution_count": 29
        }
      ]
    },
    {
      "cell_type": "code",
      "metadata": {
        "colab": {
          "base_uri": "https://localhost:8080/",
          "height": 35
        },
        "id": "hu4GWtLA-Mfo",
        "outputId": "cc7c974a-bb4a-4c9e-90e8-7db42ebfd4f8"
      },
      "source": [
        "original = tokenizer.decode(tokenized)\n",
        "original"
      ],
      "execution_count": 30,
      "outputs": [
        {
          "output_type": "execute_result",
          "data": {
            "application/vnd.google.colaboratory.intrinsic+json": {
              "type": "string"
            },
            "text/plain": [
              "'보면서 웃지 않는 건 불가능하다'"
            ]
          },
          "metadata": {
            "tags": []
          },
          "execution_count": 30
        }
      ]
    },
    {
      "cell_type": "code",
      "metadata": {
        "id": "LrBnM7jR-Qsi"
      },
      "source": [
        "sample2 = '보면서 웃지 않는 건 불가능하다 ㅋㅋㅋ'"
      ],
      "execution_count": 32,
      "outputs": []
    },
    {
      "cell_type": "code",
      "metadata": {
        "colab": {
          "base_uri": "https://localhost:8080/"
        },
        "id": "kr7T1VTD-6iy",
        "outputId": "06b5ddc3-f56c-4659-8716-486230730406"
      },
      "source": [
        "tokenized = tokenizer.encode(sample2)\n",
        "tokenized"
      ],
      "execution_count": 33,
      "outputs": [
        {
          "output_type": "execute_result",
          "data": {
            "text/plain": [
              "[889, 299, 37, 923, 254, 2344, 807, 1151, 289]"
            ]
          },
          "metadata": {
            "tags": []
          },
          "execution_count": 33
        }
      ]
    },
    {
      "cell_type": "code",
      "metadata": {
        "id": "URP2yDHn-_wT"
      },
      "source": [
        "original = tokenizer.decode(tokenized)"
      ],
      "execution_count": 34,
      "outputs": []
    },
    {
      "cell_type": "code",
      "metadata": {
        "colab": {
          "base_uri": "https://localhost:8080/"
        },
        "id": "3HpKErA1_EJy",
        "outputId": "c3115034-d6d5-4dd9-a57f-7cb804d3bb39"
      },
      "source": [
        "for ts in tokenized:\n",
        "  print('{} ----> {}'.format(ts, tokenizer.decode([ts])))"
      ],
      "execution_count": 35,
      "outputs": [
        {
          "output_type": "stream",
          "text": [
            "889 ----> 보면서 \n",
            "299 ----> 웃\n",
            "37 ----> 지 \n",
            "923 ----> 않는 \n",
            "254 ----> 건 \n",
            "2344 ----> 불가\n",
            "807 ----> 능\n",
            "1151 ----> 하다 \n",
            "289 ----> ㅋㅋㅋ\n"
          ],
          "name": "stdout"
        }
      ]
    },
    {
      "cell_type": "code",
      "metadata": {
        "colab": {
          "base_uri": "https://localhost:8080/"
        },
        "id": "yvY4gOno_J5X",
        "outputId": "d0509fb2-dd3b-43cd-b3c4-a991ce616d40"
      },
      "source": [
        "!pip install sentencepiece"
      ],
      "execution_count": 36,
      "outputs": [
        {
          "output_type": "stream",
          "text": [
            "Collecting sentencepiece\n",
            "\u001b[?25l  Downloading https://files.pythonhosted.org/packages/e5/2d/6d4ca4bef9a67070fa1cac508606328329152b1df10bdf31fb6e4e727894/sentencepiece-0.1.94-cp36-cp36m-manylinux2014_x86_64.whl (1.1MB)\n",
            "\u001b[K     |████████████████████████████████| 1.1MB 5.8MB/s \n",
            "\u001b[?25hInstalling collected packages: sentencepiece\n",
            "Successfully installed sentencepiece-0.1.94\n"
          ],
          "name": "stdout"
        }
      ]
    },
    {
      "cell_type": "code",
      "metadata": {
        "id": "81AbXdZH_aN2"
      },
      "source": [
        "import sentencepiece as spm"
      ],
      "execution_count": 37,
      "outputs": []
    },
    {
      "cell_type": "code",
      "metadata": {
        "id": "1CKO3Tei_pg5"
      },
      "source": [
        "with open('imdb_review.txt', 'w', encoding='utf-8') as f:\n",
        "  f.write('\\n'.join(train_df['review']))"
      ],
      "execution_count": 39,
      "outputs": []
    },
    {
      "cell_type": "code",
      "metadata": {
        "id": "lYdFV6Pb_7_W"
      },
      "source": [
        "spm.SentencePieceTrainer.Train(\n",
        "    '--input=imdb_review.txt --model_prefix=imdb --vocab_size=5000 --model_type=bpe --max_sentence_length=1000'\n",
        ")"
      ],
      "execution_count": 42,
      "outputs": []
    },
    {
      "cell_type": "code",
      "metadata": {
        "id": "KkjaZyInAmX0"
      },
      "source": [
        "import csv\n",
        "vocab_list = pd.read_csv('imdb.vocab', sep=\"\\t\", header=None, quoting=csv.QUOTE_NONE)"
      ],
      "execution_count": 44,
      "outputs": []
    },
    {
      "cell_type": "code",
      "metadata": {
        "colab": {
          "base_uri": "https://localhost:8080/",
          "height": 359
        },
        "id": "6Fsj5A-YBGWg",
        "outputId": "d5dd8148-c85a-4de3-9bf4-3804d00a3afc"
      },
      "source": [
        "vocab_list.sample(10)"
      ],
      "execution_count": 45,
      "outputs": [
        {
          "output_type": "execute_result",
          "data": {
            "text/html": [
              "<div>\n",
              "<style scoped>\n",
              "    .dataframe tbody tr th:only-of-type {\n",
              "        vertical-align: middle;\n",
              "    }\n",
              "\n",
              "    .dataframe tbody tr th {\n",
              "        vertical-align: top;\n",
              "    }\n",
              "\n",
              "    .dataframe thead th {\n",
              "        text-align: right;\n",
              "    }\n",
              "</style>\n",
              "<table border=\"1\" class=\"dataframe\">\n",
              "  <thead>\n",
              "    <tr style=\"text-align: right;\">\n",
              "      <th></th>\n",
              "      <th>0</th>\n",
              "      <th>1</th>\n",
              "    </tr>\n",
              "  </thead>\n",
              "  <tbody>\n",
              "    <tr>\n",
              "      <th>1788</th>\n",
              "      <td>gs</td>\n",
              "      <td>-1785</td>\n",
              "    </tr>\n",
              "    <tr>\n",
              "      <th>4228</th>\n",
              "      <td>▁professional</td>\n",
              "      <td>-4225</td>\n",
              "    </tr>\n",
              "    <tr>\n",
              "      <th>4473</th>\n",
              "      <td>ensional</td>\n",
              "      <td>-4470</td>\n",
              "    </tr>\n",
              "    <tr>\n",
              "      <th>1704</th>\n",
              "      <td>▁eyes</td>\n",
              "      <td>-1701</td>\n",
              "    </tr>\n",
              "    <tr>\n",
              "      <th>2022</th>\n",
              "      <td>▁Film</td>\n",
              "      <td>-2019</td>\n",
              "    </tr>\n",
              "    <tr>\n",
              "      <th>2607</th>\n",
              "      <td>▁screenplay</td>\n",
              "      <td>-2604</td>\n",
              "    </tr>\n",
              "    <tr>\n",
              "      <th>1162</th>\n",
              "      <td>▁piece</td>\n",
              "      <td>-1159</td>\n",
              "    </tr>\n",
              "    <tr>\n",
              "      <th>3465</th>\n",
              "      <td>▁island</td>\n",
              "      <td>-3462</td>\n",
              "    </tr>\n",
              "    <tr>\n",
              "      <th>1654</th>\n",
              "      <td>▁effort</td>\n",
              "      <td>-1651</td>\n",
              "    </tr>\n",
              "    <tr>\n",
              "      <th>3269</th>\n",
              "      <td>▁symp</td>\n",
              "      <td>-3266</td>\n",
              "    </tr>\n",
              "  </tbody>\n",
              "</table>\n",
              "</div>"
            ],
            "text/plain": [
              "                  0     1\n",
              "1788             gs -1785\n",
              "4228  ▁professional -4225\n",
              "4473       ensional -4470\n",
              "1704          ▁eyes -1701\n",
              "2022          ▁Film -2019\n",
              "2607    ▁screenplay -2604\n",
              "1162         ▁piece -1159\n",
              "3465        ▁island -3462\n",
              "1654        ▁effort -1651\n",
              "3269          ▁symp -3266"
            ]
          },
          "metadata": {
            "tags": []
          },
          "execution_count": 45
        }
      ]
    },
    {
      "cell_type": "code",
      "metadata": {
        "colab": {
          "base_uri": "https://localhost:8080/"
        },
        "id": "jCnMCpyfBObW",
        "outputId": "451ef7c3-55d6-4631-e363-7bbeac1503f7"
      },
      "source": [
        "sp = spm.SentencePieceProcessor()\n",
        "vocab_file = 'imdb.model'\n",
        "sp.load(vocab_file)"
      ],
      "execution_count": 46,
      "outputs": [
        {
          "output_type": "execute_result",
          "data": {
            "text/plain": [
              "True"
            ]
          },
          "metadata": {
            "tags": []
          },
          "execution_count": 46
        }
      ]
    },
    {
      "cell_type": "code",
      "metadata": {
        "id": "sAiLf14DBcW1"
      },
      "source": [
        "lines = [\n",
        "  \"I didn't at all think of it this way.\",\n",
        "  \"I have waited a long time for someone to film\"\n",
        "]"
      ],
      "execution_count": 47,
      "outputs": []
    },
    {
      "cell_type": "code",
      "metadata": {
        "colab": {
          "base_uri": "https://localhost:8080/"
        },
        "id": "bY9NSDL4BrPm",
        "outputId": "1fd75c88-09f5-45f3-8025-6be1f7f0fc3d"
      },
      "source": [
        "for l in lines:\n",
        "  print(l)\n",
        "  print(sp.encode_as_pieces(l))\n",
        "  print(sp.encode_as_ids(l))\n",
        "  print()"
      ],
      "execution_count": 48,
      "outputs": [
        {
          "output_type": "stream",
          "text": [
            "I didn't at all think of it this way.\n",
            "['▁I', '▁didn', \"'\", 't', '▁at', '▁all', '▁think', '▁of', '▁it', '▁this', '▁way', '.']\n",
            "[30, 547, 4951, 4927, 146, 159, 310, 34, 45, 62, 410, 4946]\n",
            "\n",
            "I have waited a long time for someone to film\n",
            "['▁I', '▁have', '▁wa', 'ited', '▁a', '▁long', '▁time', '▁for', '▁someone', '▁to', '▁film']\n",
            "[30, 124, 1129, 1213, 4, 671, 252, 94, 1013, 32, 89]\n",
            "\n"
          ],
          "name": "stdout"
        }
      ]
    },
    {
      "cell_type": "code",
      "metadata": {
        "colab": {
          "base_uri": "https://localhost:8080/"
        },
        "id": "x3VIVMKCB2Vo",
        "outputId": "fba396ee-40ea-4673-9445-89b4b227db3a"
      },
      "source": [
        "sp.GetPieceSize()"
      ],
      "execution_count": 49,
      "outputs": [
        {
          "output_type": "execute_result",
          "data": {
            "text/plain": [
              "5000"
            ]
          },
          "metadata": {
            "tags": []
          },
          "execution_count": 49
        }
      ]
    },
    {
      "cell_type": "code",
      "metadata": {
        "colab": {
          "base_uri": "https://localhost:8080/",
          "height": 35
        },
        "id": "nyph9ycdEZ6U",
        "outputId": "68e76e4b-bc17-4ee1-896d-931aeb00afa2"
      },
      "source": [
        "sp.IdToPiece(430)"
      ],
      "execution_count": 50,
      "outputs": [
        {
          "output_type": "execute_result",
          "data": {
            "application/vnd.google.colaboratory.intrinsic+json": {
              "type": "string"
            },
            "text/plain": [
              "'▁off'"
            ]
          },
          "metadata": {
            "tags": []
          },
          "execution_count": 50
        }
      ]
    },
    {
      "cell_type": "code",
      "metadata": {
        "colab": {
          "base_uri": "https://localhost:8080/"
        },
        "id": "6DnRuiTiEgqR",
        "outputId": "dae27f87-3cf0-4026-8963-4f4135d168af"
      },
      "source": [
        "sp.PieceToId('_character')"
      ],
      "execution_count": 53,
      "outputs": [
        {
          "output_type": "execute_result",
          "data": {
            "text/plain": [
              "0"
            ]
          },
          "metadata": {
            "tags": []
          },
          "execution_count": 53
        }
      ]
    },
    {
      "cell_type": "code",
      "metadata": {
        "colab": {
          "base_uri": "https://localhost:8080/"
        },
        "id": "rfalVSKNEmzl",
        "outputId": "51dded11-4ad0-4934-e643-0af443615173"
      },
      "source": [
        "sample = 'I have waited a long time for someone to film'\n",
        "\n",
        "sp.encode(sample, out_type=str)"
      ],
      "execution_count": 54,
      "outputs": [
        {
          "output_type": "execute_result",
          "data": {
            "text/plain": [
              "['▁I',\n",
              " '▁have',\n",
              " '▁wa',\n",
              " 'ited',\n",
              " '▁a',\n",
              " '▁long',\n",
              " '▁time',\n",
              " '▁for',\n",
              " '▁someone',\n",
              " '▁to',\n",
              " '▁film']"
            ]
          },
          "metadata": {
            "tags": []
          },
          "execution_count": 54
        }
      ]
    },
    {
      "cell_type": "code",
      "metadata": {
        "colab": {
          "base_uri": "https://localhost:8080/"
        },
        "id": "AyxdTypFFLc1",
        "outputId": "008c6565-566d-4b6c-8410-62648e599cb5"
      },
      "source": [
        "sp.encode(sample, out_type=int)"
      ],
      "execution_count": 55,
      "outputs": [
        {
          "output_type": "execute_result",
          "data": {
            "text/plain": [
              "[30, 124, 1129, 1213, 4, 671, 252, 94, 1013, 32, 89]"
            ]
          },
          "metadata": {
            "tags": []
          },
          "execution_count": 55
        }
      ]
    },
    {
      "cell_type": "code",
      "metadata": {
        "id": "Lp5DxBt0FOhJ"
      },
      "source": [
        "with open('naver_review.txt', 'w', encoding='utf8') as f:\n",
        "  f.write('\\n'.join(train_data['document']))"
      ],
      "execution_count": 56,
      "outputs": []
    },
    {
      "cell_type": "code",
      "metadata": {
        "id": "DKwlkQqrFn8z"
      },
      "source": [
        "spm.SentencePieceTrainer.Train(\n",
        "    '--input=naver_review.txt --model_prefix=naver --vocab_size=5000 --model_type=bpe max_sentence_length=9999'\n",
        ")"
      ],
      "execution_count": 59,
      "outputs": []
    },
    {
      "cell_type": "code",
      "metadata": {
        "id": "JeoIIbbuF7DB"
      },
      "source": [
        "vocab_list = pd.read_csv('naver.vocab', sep='\\t', header=None, quoting=csv.QUOTE_NONE)"
      ],
      "execution_count": 60,
      "outputs": []
    },
    {
      "cell_type": "code",
      "metadata": {
        "colab": {
          "base_uri": "https://localhost:8080/",
          "height": 359
        },
        "id": "uziDJc--GbhQ",
        "outputId": "3fdb8b6d-9dda-4670-8e83-5afbcaf8b261"
      },
      "source": [
        "vocab_list[:10]"
      ],
      "execution_count": 61,
      "outputs": [
        {
          "output_type": "execute_result",
          "data": {
            "text/html": [
              "<div>\n",
              "<style scoped>\n",
              "    .dataframe tbody tr th:only-of-type {\n",
              "        vertical-align: middle;\n",
              "    }\n",
              "\n",
              "    .dataframe tbody tr th {\n",
              "        vertical-align: top;\n",
              "    }\n",
              "\n",
              "    .dataframe thead th {\n",
              "        text-align: right;\n",
              "    }\n",
              "</style>\n",
              "<table border=\"1\" class=\"dataframe\">\n",
              "  <thead>\n",
              "    <tr style=\"text-align: right;\">\n",
              "      <th></th>\n",
              "      <th>0</th>\n",
              "      <th>1</th>\n",
              "    </tr>\n",
              "  </thead>\n",
              "  <tbody>\n",
              "    <tr>\n",
              "      <th>0</th>\n",
              "      <td>&lt;unk&gt;</td>\n",
              "      <td>0</td>\n",
              "    </tr>\n",
              "    <tr>\n",
              "      <th>1</th>\n",
              "      <td>&lt;s&gt;</td>\n",
              "      <td>0</td>\n",
              "    </tr>\n",
              "    <tr>\n",
              "      <th>2</th>\n",
              "      <td>&lt;/s&gt;</td>\n",
              "      <td>0</td>\n",
              "    </tr>\n",
              "    <tr>\n",
              "      <th>3</th>\n",
              "      <td>..</td>\n",
              "      <td>0</td>\n",
              "    </tr>\n",
              "    <tr>\n",
              "      <th>4</th>\n",
              "      <td>영화</td>\n",
              "      <td>-1</td>\n",
              "    </tr>\n",
              "    <tr>\n",
              "      <th>5</th>\n",
              "      <td>▁영화</td>\n",
              "      <td>-2</td>\n",
              "    </tr>\n",
              "    <tr>\n",
              "      <th>6</th>\n",
              "      <td>▁이</td>\n",
              "      <td>-3</td>\n",
              "    </tr>\n",
              "    <tr>\n",
              "      <th>7</th>\n",
              "      <td>▁아</td>\n",
              "      <td>-4</td>\n",
              "    </tr>\n",
              "    <tr>\n",
              "      <th>8</th>\n",
              "      <td>...</td>\n",
              "      <td>-5</td>\n",
              "    </tr>\n",
              "    <tr>\n",
              "      <th>9</th>\n",
              "      <td>▁그</td>\n",
              "      <td>-6</td>\n",
              "    </tr>\n",
              "  </tbody>\n",
              "</table>\n",
              "</div>"
            ],
            "text/plain": [
              "       0  1\n",
              "0  <unk>  0\n",
              "1    <s>  0\n",
              "2   </s>  0\n",
              "3     ..  0\n",
              "4     영화 -1\n",
              "5    ▁영화 -2\n",
              "6     ▁이 -3\n",
              "7     ▁아 -4\n",
              "8    ... -5\n",
              "9     ▁그 -6"
            ]
          },
          "metadata": {
            "tags": []
          },
          "execution_count": 61
        }
      ]
    },
    {
      "cell_type": "code",
      "metadata": {
        "colab": {
          "base_uri": "https://localhost:8080/"
        },
        "id": "rxZ5Ju6-GdRA",
        "outputId": "50721fa0-7718-41f7-efa4-288ab3b9fe64"
      },
      "source": [
        "sp = spm.SentencePieceProcessor()\n",
        "vocab_file = 'naver.model'\n",
        "sp.load(vocab_file)"
      ],
      "execution_count": 62,
      "outputs": [
        {
          "output_type": "execute_result",
          "data": {
            "text/plain": [
              "True"
            ]
          },
          "metadata": {
            "tags": []
          },
          "execution_count": 62
        }
      ]
    },
    {
      "cell_type": "code",
      "metadata": {
        "colab": {
          "base_uri": "https://localhost:8080/"
        },
        "id": "iPlQPVZxGpIm",
        "outputId": "0a70ba03-a535-4e3f-85b0-fc6c32b75157"
      },
      "source": [
        "lines = [\n",
        "         \"뭐 이딴 것도 영화냐.\",\n",
        "         \"진짜 최고의 영화입니다 ㅋㅋ\"\n",
        "]\n",
        "for l in lines:\n",
        "  print(l)\n",
        "  print(sp.encode_as_pieces(l))\n",
        "  print(sp.encode_as_ids(l))\n",
        "  print()"
      ],
      "execution_count": 64,
      "outputs": [
        {
          "output_type": "stream",
          "text": [
            "뭐 이딴 것도 영화냐.\n",
            "['▁뭐', '▁이딴', '▁것도', '▁영화냐', '.']\n",
            "[124, 965, 1280, 2727, 3289]\n",
            "\n",
            "진짜 최고의 영화입니다 ㅋㅋ\n",
            "['▁진짜', '▁최고의', '▁영화입니다', '▁ᄏᄏ']\n",
            "[54, 200, 816, 84]\n",
            "\n"
          ],
          "name": "stdout"
        }
      ]
    },
    {
      "cell_type": "code",
      "metadata": {
        "id": "A2UVBZVBG0Fi"
      },
      "source": [
        ""
      ],
      "execution_count": null,
      "outputs": []
    }
  ]
}