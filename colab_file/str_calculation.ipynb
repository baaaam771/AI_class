{
  "nbformat": 4,
  "nbformat_minor": 0,
  "metadata": {
    "colab": {
      "name": "str-calculation.ipynb",
      "provenance": []
    },
    "kernelspec": {
      "name": "python3",
      "display_name": "Python 3"
    }
  },
  "cells": [
    {
      "cell_type": "code",
      "metadata": {
        "id": "RMORbK7mvOu4"
      },
      "source": [
        "import tensorflow as tf\n",
        "import matplotlib.pyplot as plt\n",
        "import numpy as np\n",
        "import platform\n",
        "import random\n",
        "import math\n",
        "import datetime"
      ],
      "execution_count": 29,
      "outputs": []
    },
    {
      "cell_type": "code",
      "metadata": {
        "colab": {
          "base_uri": "https://localhost:8080/"
        },
        "id": "S_GChIdWwkvs",
        "outputId": "6d3a6f6b-1d12-4959-9c1c-2e9930c0dfe5"
      },
      "source": [
        "%load_ext tensorboard"
      ],
      "execution_count": 30,
      "outputs": [
        {
          "output_type": "stream",
          "text": [
            "The tensorboard extension is already loaded. To reload it, use:\n",
            "  %reload_ext tensorboard\n"
          ],
          "name": "stdout"
        }
      ]
    },
    {
      "cell_type": "code",
      "metadata": {
        "id": "Y6sjtT2Cwvth"
      },
      "source": [
        "# 1 + 4 = 5\n",
        "# 23 + 51 = 74"
      ],
      "execution_count": 31,
      "outputs": []
    },
    {
      "cell_type": "code",
      "metadata": {
        "id": "-VyXAP2RxBJG"
      },
      "source": [
        "dataset_size = 5000\n",
        "sequence_length = 2\n",
        "max_num = 100"
      ],
      "execution_count": 32,
      "outputs": []
    },
    {
      "cell_type": "code",
      "metadata": {
        "id": "W4Dd9dhHxFLv"
      },
      "source": [
        "# summation 생성 함수\n",
        "def generate_sums(dataset_size, sequence_length, max_num):\n",
        "  # 데이터셋\n",
        "  x, y = [], []\n",
        "\n",
        "  for i in range(dataset_size):\n",
        "    sequence = [random.randint(1, max_num) for _ in range(sequence_length)]\n",
        "    x.append(sequence)\n",
        "    y.append(sum(sequence))\n",
        "\n",
        "  return x, y"
      ],
      "execution_count": 33,
      "outputs": []
    },
    {
      "cell_type": "code",
      "metadata": {
        "id": "aE06f5PYxuSm"
      },
      "source": [
        "x_train, y_train = generate_sums(dataset_size=dataset_size,\n",
        "                                 sequence_length=sequence_length,\n",
        "                                 max_num=max_num)"
      ],
      "execution_count": 34,
      "outputs": []
    },
    {
      "cell_type": "code",
      "metadata": {
        "colab": {
          "base_uri": "https://localhost:8080/"
        },
        "id": "9ITmaMyuyE-u",
        "outputId": "46f8fb19-d8fa-4fa6-c831-6d219f675941"
      },
      "source": [
        "print('x_train : \\n', x_train[:5])\n",
        "print('y_train : \\n', y_train[:5])"
      ],
      "execution_count": 35,
      "outputs": [
        {
          "output_type": "stream",
          "text": [
            "x_train : \n",
            " [[22, 26], [88, 69], [4, 96], [74, 18], [75, 59]]\n",
            "y_train : \n",
            " [48, 157, 100, 92, 134]\n"
          ],
          "name": "stdout"
        }
      ]
    },
    {
      "cell_type": "code",
      "metadata": {
        "id": "IaNkonQ3yd81"
      },
      "source": [
        "# 실제 input -> 13+8, 85+91\n",
        "# x, y를 문자열로 변환\n",
        "# 공백과 + 를 추가해주고 패딩을 넣어서 같은 길이로 맞춤\n",
        "def dataset_to_strings(x, y, max_num):\n",
        "  x_str, y_str = [], []\n",
        "\n",
        "  sequence_length = len(x[0])\n",
        "\n",
        "  # 최대 x 길이 계산\n",
        "  num_of_pluses = sequence_length - 1\n",
        "  num_of_chars_per_digit = math.ceil(math.log10(max_num + 1))\n",
        "  max_x_length = sequence_length * num_of_chars_per_digit + num_of_pluses\n",
        "\n",
        "  # 최대 y 길이 계산\n",
        "  max_y_length = math.ceil(math.log10(sequence_length * (max_num + 1)))\n",
        "\n",
        "  # 문자열 길이를 맞추기 위해 공백 추가\n",
        "  for exp in x:\n",
        "    str_exp = '+'.join([str(digit) for digit in exp])\n",
        "    str_exp += ''.join([' ' for padding in range(max_x_length - len(str_exp))])\n",
        "    x_str.append(str_exp)\n",
        "\n",
        "  # 라벨 길이를 맞춤\n",
        "  for label in y:\n",
        "    str_exp = str(label)\n",
        "    str_exp += ''.join([' ' for padding in range(max_y_length - len(str_exp))])\n",
        "    y_str.append(str_exp)\n",
        "\n",
        "  return x_str, y_str"
      ],
      "execution_count": 36,
      "outputs": []
    },
    {
      "cell_type": "markdown",
      "metadata": {
        "id": "vny4OlxH19u0"
      },
      "source": [
        ""
      ]
    },
    {
      "cell_type": "code",
      "metadata": {
        "id": "Iht6XrGn04tz"
      },
      "source": [
        "x_train_str, y_train_str = dataset_to_strings(x_train, y_train, max_num)"
      ],
      "execution_count": 53,
      "outputs": []
    },
    {
      "cell_type": "code",
      "metadata": {
        "colab": {
          "base_uri": "https://localhost:8080/"
        },
        "id": "aCEayijK1Ycq",
        "outputId": "18249ce5-80b0-450b-8cc8-e66bdd781c51"
      },
      "source": [
        "print('x_train_str: \\n', np.array(x_train_str[:5]))\n",
        "print('y_train_str: \\n', np.array(y_train_str[:5]))"
      ],
      "execution_count": 54,
      "outputs": [
        {
          "output_type": "stream",
          "text": [
            "x_train_str: \n",
            " ['22+26  ' '88+69  ' '4+96   ' '74+18  ' '75+59  ']\n",
            "y_train_str: \n",
            " ['48 ' '157' '100' '92 ' '134']\n"
          ],
          "name": "stdout"
        }
      ]
    },
    {
      "cell_type": "code",
      "metadata": {
        "id": "mxv7oi5c1-NR"
      },
      "source": [
        "vocabulary = ['0', '1', '2', '3', '4', '5', '6', '7', '8', '9', '+', ' ']"
      ],
      "execution_count": 55,
      "outputs": []
    },
    {
      "cell_type": "code",
      "metadata": {
        "colab": {
          "base_uri": "https://localhost:8080/"
        },
        "id": "Q_nFSp781tsx",
        "outputId": "17e6de97-5cee-46ad-83e8-29caa5ce9498"
      },
      "source": [
        "char_to_idx = { char: idx for idx, char in enumerate(vocabulary) }\n",
        "char_to_idx"
      ],
      "execution_count": 56,
      "outputs": [
        {
          "output_type": "execute_result",
          "data": {
            "text/plain": [
              "{' ': 11,\n",
              " '+': 10,\n",
              " '0': 0,\n",
              " '1': 1,\n",
              " '2': 2,\n",
              " '3': 3,\n",
              " '4': 4,\n",
              " '5': 5,\n",
              " '6': 6,\n",
              " '7': 7,\n",
              " '8': 8,\n",
              " '9': 9}"
            ]
          },
          "metadata": {
            "tags": []
          },
          "execution_count": 56
        }
      ]
    },
    {
      "cell_type": "code",
      "metadata": {
        "id": "UkZkY-AR2Z4A"
      },
      "source": [
        "def dataset_to_indices(x, y, vocabulary):\n",
        "  x_encoded, y_encoded = [], []\n",
        "\n",
        "  # char_to_idx 이용하여 문자를 idx로 변환\n",
        "  for exp in x:\n",
        "    exp_encoded = [char_to_idx[char] for char in exp]\n",
        "    x_encoded.append(exp_encoded)\n",
        "\n",
        "  for label in y:\n",
        "    label_encoded = [char_to_idx[char] for char in label]\n",
        "    y_encoded.append(label_encoded)\n",
        "\n",
        "  return x_encoded, y_encoded"
      ],
      "execution_count": 57,
      "outputs": []
    },
    {
      "cell_type": "code",
      "metadata": {
        "id": "CxIrxM-w4JVA"
      },
      "source": [
        "x_train_encoded, y_train_encoded = dataset_to_indices(\n",
        "    x_train_str,\n",
        "    y_train_str,\n",
        "    vocabulary\n",
        ")"
      ],
      "execution_count": 58,
      "outputs": []
    },
    {
      "cell_type": "code",
      "metadata": {
        "colab": {
          "base_uri": "https://localhost:8080/"
        },
        "id": "ZOJG4-Gn4cUe",
        "outputId": "18bcc544-f6d0-4fcb-c6a8-62fa5752e1f6"
      },
      "source": [
        "print('x_train_encoded : \\n', np.array(x_train_encoded[:5]))\n",
        "print('y_train_encoded : \\n', np.array(y_train_encoded[:5]))"
      ],
      "execution_count": 59,
      "outputs": [
        {
          "output_type": "stream",
          "text": [
            "x_train_encoded : \n",
            " [[ 2  2 10  2  6 11 11]\n",
            " [ 8  8 10  6  9 11 11]\n",
            " [ 4 10  9  6 11 11 11]\n",
            " [ 7  4 10  1  8 11 11]\n",
            " [ 7  5 10  5  9 11 11]]\n",
            "y_train_encoded : \n",
            " [[ 4  8 11]\n",
            " [ 1  5  7]\n",
            " [ 1  0  0]\n",
            " [ 9  2 11]\n",
            " [ 1  3  4]]\n"
          ],
          "name": "stdout"
        }
      ]
    },
    {
      "cell_type": "code",
      "metadata": {
        "id": "9PtaUAEe4v0-"
      },
      "source": [
        "# one hot encoding\n",
        "def dataset_to_onehot(x, y, vocabulary):\n",
        "\n",
        "  x_encoded, y_encoded = [], []\n",
        "\n",
        "  for exp in x:\n",
        "    pattern = []\n",
        "    for idx in exp:\n",
        "      vector = [0 for _ in range(len(vocabulary))]\n",
        "      vector[idx] = 1\n",
        "      pattern.append(vector)\n",
        "    x_encoded.append(pattern)\n",
        "\n",
        "  for label in y:\n",
        "    pattern = []\n",
        "    for idx in label:\n",
        "      vector = [0 for _ in range(len(vocabulary))]\n",
        "      vector[idx] = 1\n",
        "      pattern.append(vector)\n",
        "\n",
        "    y_encoded.append(pattern)\n",
        "\n",
        "  return x_encoded, y_encoded"
      ],
      "execution_count": 60,
      "outputs": []
    },
    {
      "cell_type": "code",
      "metadata": {
        "id": "g8m9hl4o5bae"
      },
      "source": [
        "x_train_one_hot, y_train_one_hot = dataset_to_onehot(\n",
        "    x_train_encoded,\n",
        "    y_train_encoded,\n",
        "    vocabulary\n",
        ")"
      ],
      "execution_count": 61,
      "outputs": []
    },
    {
      "cell_type": "code",
      "metadata": {
        "colab": {
          "base_uri": "https://localhost:8080/"
        },
        "id": "gvjsket95uxF",
        "outputId": "ae77ae6f-40bc-4897-d78e-6f82385ef96d"
      },
      "source": [
        "print('x_train_one_hot: \\n', np.array(x_train_one_hot[:3]))\n",
        "print('y_train_one_hot: \\n', np.array(y_train_one_hot[:3]))"
      ],
      "execution_count": 62,
      "outputs": [
        {
          "output_type": "stream",
          "text": [
            "x_train_one_hot: \n",
            " [[[0 0 1 0 0 0 0 0 0 0 0 0]\n",
            "  [0 0 1 0 0 0 0 0 0 0 0 0]\n",
            "  [0 0 0 0 0 0 0 0 0 0 1 0]\n",
            "  [0 0 1 0 0 0 0 0 0 0 0 0]\n",
            "  [0 0 0 0 0 0 1 0 0 0 0 0]\n",
            "  [0 0 0 0 0 0 0 0 0 0 0 1]\n",
            "  [0 0 0 0 0 0 0 0 0 0 0 1]]\n",
            "\n",
            " [[0 0 0 0 0 0 0 0 1 0 0 0]\n",
            "  [0 0 0 0 0 0 0 0 1 0 0 0]\n",
            "  [0 0 0 0 0 0 0 0 0 0 1 0]\n",
            "  [0 0 0 0 0 0 1 0 0 0 0 0]\n",
            "  [0 0 0 0 0 0 0 0 0 1 0 0]\n",
            "  [0 0 0 0 0 0 0 0 0 0 0 1]\n",
            "  [0 0 0 0 0 0 0 0 0 0 0 1]]\n",
            "\n",
            " [[0 0 0 0 1 0 0 0 0 0 0 0]\n",
            "  [0 0 0 0 0 0 0 0 0 0 1 0]\n",
            "  [0 0 0 0 0 0 0 0 0 1 0 0]\n",
            "  [0 0 0 0 0 0 1 0 0 0 0 0]\n",
            "  [0 0 0 0 0 0 0 0 0 0 0 1]\n",
            "  [0 0 0 0 0 0 0 0 0 0 0 1]\n",
            "  [0 0 0 0 0 0 0 0 0 0 0 1]]]\n",
            "y_train_one_hot: \n",
            " [[[0 0 0 0 1 0 0 0 0 0 0 0]\n",
            "  [0 0 0 0 0 0 0 0 1 0 0 0]\n",
            "  [0 0 0 0 0 0 0 0 0 0 0 1]]\n",
            "\n",
            " [[0 1 0 0 0 0 0 0 0 0 0 0]\n",
            "  [0 0 0 0 0 1 0 0 0 0 0 0]\n",
            "  [0 0 0 0 0 0 0 1 0 0 0 0]]\n",
            "\n",
            " [[0 1 0 0 0 0 0 0 0 0 0 0]\n",
            "  [1 0 0 0 0 0 0 0 0 0 0 0]\n",
            "  [1 0 0 0 0 0 0 0 0 0 0 0]]]\n"
          ],
          "name": "stdout"
        }
      ]
    },
    {
      "cell_type": "code",
      "metadata": {
        "id": "fd3-_aM553-s"
      },
      "source": [
        "def generate_dataset(dataset_size, sequence_length, max_num, vocabulary):\n",
        "  x, y = generate_sums(dataset_size, sequence_length, max_num)\n",
        "\n",
        "  x, y = dataset_to_strings(x, y, max_num)\n",
        "\n",
        "  x, y = dataset_to_indices(x, y, vocabulary)\n",
        "\n",
        "  x, y = dataset_to_onehot(x, y, vocabulary)\n",
        "\n",
        "  return np.array(x), np.array(y) "
      ],
      "execution_count": 63,
      "outputs": []
    },
    {
      "cell_type": "code",
      "metadata": {
        "id": "EfajDboB6aqh"
      },
      "source": [
        "x, y = generate_dataset(\n",
        "    dataset_size,\n",
        "    sequence_length,\n",
        "    max_num,\n",
        "    vocabulary\n",
        ")"
      ],
      "execution_count": 64,
      "outputs": []
    },
    {
      "cell_type": "code",
      "metadata": {
        "colab": {
          "base_uri": "https://localhost:8080/"
        },
        "id": "cxCmrWWD6ju5",
        "outputId": "ea5fb80c-18c1-4a82-f1b9-93cd9c84de56"
      },
      "source": [
        "x.shape, y.shape"
      ],
      "execution_count": 65,
      "outputs": [
        {
          "output_type": "execute_result",
          "data": {
            "text/plain": [
              "((5000, 7, 12), (5000, 3, 12))"
            ]
          },
          "metadata": {
            "tags": []
          },
          "execution_count": 65
        }
      ]
    },
    {
      "cell_type": "code",
      "metadata": {
        "id": "v9StdkYI6lgZ"
      },
      "source": [
        "def decode(seq, vocabulary):\n",
        "  idx_to_char = { idx : char for idx, char in enumerate(vocabulary)}\n",
        "  strings = []\n",
        "\n",
        "  for char_vector in seq:\n",
        "    char = idx_to_char[np.argmax(char_vector)]\n",
        "    strings.append(char)\n",
        "\n",
        "  return ''.join(strings)"
      ],
      "execution_count": 66,
      "outputs": []
    },
    {
      "cell_type": "code",
      "metadata": {
        "colab": {
          "base_uri": "https://localhost:8080/",
          "height": 35
        },
        "id": "sssolA3B687x",
        "outputId": "f32bc244-bd1e-474f-e566-da67c729e8e7"
      },
      "source": [
        "decode(y[0], vocabulary)"
      ],
      "execution_count": 67,
      "outputs": [
        {
          "output_type": "execute_result",
          "data": {
            "application/vnd.google.colaboratory.intrinsic+json": {
              "type": "string"
            },
            "text/plain": [
              "'97 '"
            ]
          },
          "metadata": {
            "tags": []
          },
          "execution_count": 67
        }
      ]
    },
    {
      "cell_type": "code",
      "metadata": {
        "id": "hSFgjaZF7S_Y"
      },
      "source": [
        "EPOCHS_NUM = 200\n",
        "BATCH_SIZE = 128"
      ],
      "execution_count": 69,
      "outputs": []
    },
    {
      "cell_type": "code",
      "metadata": {
        "id": "8VfhMI-5-2XD"
      },
      "source": [
        "input_sequence_length = x.shape[1]\n",
        "output_sequence_length = y.shape[1]\n",
        "supported_symbols_num = x.shape[2]\n",
        "vocabulary_size = len(vocabulary)"
      ],
      "execution_count": 70,
      "outputs": []
    },
    {
      "cell_type": "code",
      "metadata": {
        "id": "DvV-xUcv-ogc"
      },
      "source": [
        "\n",
        "model = tf.keras.models.Sequential([\n",
        "  # encoder\n",
        "  tf.keras.layers.LSTM(units=128, \n",
        "                       input_shape=(input_sequence_length, vocabulary_size),\n",
        "                       recurrent_initializer=tf.keras.initializers.GlorotNormal()\n",
        "                       ),\n",
        "\n",
        "  # decoder\n",
        "  tf.keras.layers.RepeatVector(\n",
        "      n = output_sequence_length,\n",
        "  ),\n",
        "\n",
        "  tf.keras.layers.LSTM(units=128,\n",
        "                       return_sequences=True,\n",
        "                       recurrent_initializer = tf.keras.initializers.GlorotNormal()\n",
        "                       ),\n",
        "\n",
        "  tf.keras.layers.TimeDistributed(\n",
        "      layer=tf.keras.layers.Dense(units=vocabulary_size)\n",
        "  ),\n",
        "\n",
        "  tf.keras.layers.Activation(\n",
        "      activation='softmax'\n",
        "  )\n",
        "])"
      ],
      "execution_count": 74,
      "outputs": []
    },
    {
      "cell_type": "code",
      "metadata": {
        "colab": {
          "base_uri": "https://localhost:8080/"
        },
        "id": "lqSGOFAM_k8b",
        "outputId": "913341d5-4b55-4f7e-ea3e-1ea0857e2d9a"
      },
      "source": [
        "model.summary()"
      ],
      "execution_count": 75,
      "outputs": [
        {
          "output_type": "stream",
          "text": [
            "Model: \"sequential\"\n",
            "_________________________________________________________________\n",
            "Layer (type)                 Output Shape              Param #   \n",
            "=================================================================\n",
            "lstm_1 (LSTM)                (None, 128)               72192     \n",
            "_________________________________________________________________\n",
            "repeat_vector_1 (RepeatVecto (None, 3, 128)            0         \n",
            "_________________________________________________________________\n",
            "lstm_2 (LSTM)                (None, 3, 128)            131584    \n",
            "_________________________________________________________________\n",
            "time_distributed (TimeDistri (None, 3, 12)             1548      \n",
            "_________________________________________________________________\n",
            "activation (Activation)      (None, 3, 12)             0         \n",
            "=================================================================\n",
            "Total params: 205,324\n",
            "Trainable params: 205,324\n",
            "Non-trainable params: 0\n",
            "_________________________________________________________________\n"
          ],
          "name": "stdout"
        }
      ]
    },
    {
      "cell_type": "code",
      "metadata": {
        "colab": {
          "base_uri": "https://localhost:8080/",
          "height": 644
        },
        "id": "HKi66qwOAB5x",
        "outputId": "cf8f0a8b-88b0-409b-e310-17b58ed9f08b"
      },
      "source": [
        "tf.keras.utils.plot_model(\n",
        "    model,\n",
        "    show_shapes=True,\n",
        "    show_layer_names=True\n",
        ")"
      ],
      "execution_count": 77,
      "outputs": [
        {
          "output_type": "execute_result",
          "data": {
            "image/png": "[encoded data removed]",
            "text/plain": [
              "<IPython.core.display.Image object>"
            ]
          },
          "metadata": {
            "tags": []
          },
          "execution_count": 77
        }
      ]
    },
    {
      "cell_type": "code",
      "metadata": {
        "id": "wt6gxG-xAmHJ"
      },
      "source": [
        "model.compile(\n",
        "    optimizer='adam',\n",
        "    loss = 'categorical_crossentropy',\n",
        "    metrics = ['accuracy']\n",
        ")"
      ],
      "execution_count": 82,
      "outputs": []
    },
    {
      "cell_type": "code",
      "metadata": {
        "colab": {
          "base_uri": "https://localhost:8080/"
        },
        "id": "xl6W5HhlA1tw",
        "outputId": "074e2018-d74b-4157-bb90-689464d295ac"
      },
      "source": [
        "history = model.fit(\n",
        "    x=x, y=y,\n",
        "    epochs=EPOCHS_NUM, batch_size=BATCH_SIZE,\n",
        "    validation_split=0.1\n",
        ")"
      ],
      "execution_count": 83,
      "outputs": [
        {
          "output_type": "stream",
          "text": [
            "Epoch 1/200\n",
            "36/36 [==============================] - 2s 54ms/step - loss: 2.3182 - accuracy: 0.2256 - val_loss: 2.1462 - val_accuracy: 0.3653\n",
            "Epoch 2/200\n",
            "36/36 [==============================] - 1s 34ms/step - loss: 1.9714 - accuracy: 0.3786 - val_loss: 1.8726 - val_accuracy: 0.3767\n",
            "Epoch 3/200\n",
            "36/36 [==============================] - 1s 34ms/step - loss: 1.8121 - accuracy: 0.3859 - val_loss: 1.7774 - val_accuracy: 0.3807\n",
            "Epoch 4/200\n",
            "36/36 [==============================] - 1s 34ms/step - loss: 1.7530 - accuracy: 0.3890 - val_loss: 1.7297 - val_accuracy: 0.3847\n",
            "Epoch 5/200\n",
            "36/36 [==============================] - 1s 34ms/step - loss: 1.7190 - accuracy: 0.3923 - val_loss: 1.7046 - val_accuracy: 0.3833\n",
            "Epoch 6/200\n",
            "36/36 [==============================] - 1s 34ms/step - loss: 1.6914 - accuracy: 0.4039 - val_loss: 1.6848 - val_accuracy: 0.3993\n",
            "Epoch 7/200\n",
            "36/36 [==============================] - 1s 35ms/step - loss: 1.6635 - accuracy: 0.4077 - val_loss: 1.6687 - val_accuracy: 0.4087\n",
            "Epoch 8/200\n",
            "36/36 [==============================] - 1s 35ms/step - loss: 1.6443 - accuracy: 0.4147 - val_loss: 1.6356 - val_accuracy: 0.4133\n",
            "Epoch 9/200\n",
            "36/36 [==============================] - 1s 34ms/step - loss: 1.6182 - accuracy: 0.4185 - val_loss: 1.6063 - val_accuracy: 0.4187\n",
            "Epoch 10/200\n",
            "36/36 [==============================] - 1s 34ms/step - loss: 1.5831 - accuracy: 0.4262 - val_loss: 1.5918 - val_accuracy: 0.4220\n",
            "Epoch 11/200\n",
            "36/36 [==============================] - 1s 33ms/step - loss: 1.5846 - accuracy: 0.4299 - val_loss: 1.5728 - val_accuracy: 0.4213\n",
            "Epoch 12/200\n",
            "36/36 [==============================] - 1s 35ms/step - loss: 1.4985 - accuracy: 0.4470 - val_loss: 1.4986 - val_accuracy: 0.4440\n",
            "Epoch 13/200\n",
            "36/36 [==============================] - 1s 34ms/step - loss: 1.4323 - accuracy: 0.4626 - val_loss: 1.4942 - val_accuracy: 0.4353\n",
            "Epoch 14/200\n",
            "36/36 [==============================] - 1s 33ms/step - loss: 1.4216 - accuracy: 0.4674 - val_loss: 1.3726 - val_accuracy: 0.4827\n",
            "Epoch 15/200\n",
            "36/36 [==============================] - 1s 33ms/step - loss: 1.3512 - accuracy: 0.4967 - val_loss: 1.3752 - val_accuracy: 0.4773\n",
            "Epoch 16/200\n",
            "36/36 [==============================] - 1s 34ms/step - loss: 1.3123 - accuracy: 0.5073 - val_loss: 1.3752 - val_accuracy: 0.4680\n",
            "Epoch 17/200\n",
            "36/36 [==============================] - 1s 34ms/step - loss: 1.2671 - accuracy: 0.5323 - val_loss: 1.2989 - val_accuracy: 0.4913\n",
            "Epoch 18/200\n",
            "36/36 [==============================] - 1s 34ms/step - loss: 1.2340 - accuracy: 0.5494 - val_loss: 1.2655 - val_accuracy: 0.5367\n",
            "Epoch 19/200\n",
            "36/36 [==============================] - 1s 34ms/step - loss: 1.1952 - accuracy: 0.5665 - val_loss: 1.2092 - val_accuracy: 0.5453\n",
            "Epoch 20/200\n",
            "36/36 [==============================] - 1s 34ms/step - loss: 1.1710 - accuracy: 0.5760 - val_loss: 1.1629 - val_accuracy: 0.5813\n",
            "Epoch 21/200\n",
            "36/36 [==============================] - 1s 35ms/step - loss: 1.1483 - accuracy: 0.5918 - val_loss: 1.2807 - val_accuracy: 0.4980\n",
            "Epoch 22/200\n",
            "36/36 [==============================] - 1s 34ms/step - loss: 1.1516 - accuracy: 0.5759 - val_loss: 1.2604 - val_accuracy: 0.5100\n",
            "Epoch 23/200\n",
            "36/36 [==============================] - 1s 35ms/step - loss: 1.1619 - accuracy: 0.5650 - val_loss: 1.1376 - val_accuracy: 0.5780\n",
            "Epoch 24/200\n",
            "36/36 [==============================] - 1s 34ms/step - loss: 1.0882 - accuracy: 0.6138 - val_loss: 1.1228 - val_accuracy: 0.5707\n",
            "Epoch 25/200\n",
            "36/36 [==============================] - 1s 34ms/step - loss: 1.0870 - accuracy: 0.6091 - val_loss: 1.1233 - val_accuracy: 0.5753\n",
            "Epoch 26/200\n",
            "36/36 [==============================] - 1s 33ms/step - loss: 1.0986 - accuracy: 0.5974 - val_loss: 1.0932 - val_accuracy: 0.5867\n",
            "Epoch 27/200\n",
            "36/36 [==============================] - 1s 35ms/step - loss: 1.0507 - accuracy: 0.6260 - val_loss: 1.1625 - val_accuracy: 0.5327\n",
            "Epoch 28/200\n",
            "36/36 [==============================] - 1s 35ms/step - loss: 1.0659 - accuracy: 0.6097 - val_loss: 1.0595 - val_accuracy: 0.6193\n",
            "Epoch 29/200\n",
            "36/36 [==============================] - 1s 34ms/step - loss: 1.0163 - accuracy: 0.6416 - val_loss: 1.0454 - val_accuracy: 0.6253\n",
            "Epoch 30/200\n",
            "36/36 [==============================] - 1s 35ms/step - loss: 1.0118 - accuracy: 0.6370 - val_loss: 1.0512 - val_accuracy: 0.6187\n",
            "Epoch 31/200\n",
            "36/36 [==============================] - 1s 34ms/step - loss: 0.9939 - accuracy: 0.6453 - val_loss: 1.0432 - val_accuracy: 0.6180\n",
            "Epoch 32/200\n",
            "36/36 [==============================] - 1s 35ms/step - loss: 0.9730 - accuracy: 0.6564 - val_loss: 1.0047 - val_accuracy: 0.6360\n",
            "Epoch 33/200\n",
            "36/36 [==============================] - 1s 34ms/step - loss: 0.9640 - accuracy: 0.6558 - val_loss: 1.0020 - val_accuracy: 0.6360\n",
            "Epoch 34/200\n",
            "36/36 [==============================] - 1s 34ms/step - loss: 0.9517 - accuracy: 0.6637 - val_loss: 0.9798 - val_accuracy: 0.6487\n",
            "Epoch 35/200\n",
            "36/36 [==============================] - 1s 35ms/step - loss: 0.9396 - accuracy: 0.6633 - val_loss: 0.9848 - val_accuracy: 0.6600\n",
            "Epoch 36/200\n",
            "36/36 [==============================] - 1s 35ms/step - loss: 0.9638 - accuracy: 0.6464 - val_loss: 0.9946 - val_accuracy: 0.6227\n",
            "Epoch 37/200\n",
            "36/36 [==============================] - 1s 35ms/step - loss: 0.9561 - accuracy: 0.6485 - val_loss: 0.9581 - val_accuracy: 0.6547\n",
            "Epoch 38/200\n",
            "36/36 [==============================] - 1s 34ms/step - loss: 0.8940 - accuracy: 0.6841 - val_loss: 1.0573 - val_accuracy: 0.5800\n",
            "Epoch 39/200\n",
            "36/36 [==============================] - 1s 34ms/step - loss: 0.9376 - accuracy: 0.6516 - val_loss: 0.9109 - val_accuracy: 0.6613\n",
            "Epoch 40/200\n",
            "36/36 [==============================] - 1s 34ms/step - loss: 0.8577 - accuracy: 0.6981 - val_loss: 0.8911 - val_accuracy: 0.6800\n",
            "Epoch 41/200\n",
            "36/36 [==============================] - 1s 35ms/step - loss: 0.8462 - accuracy: 0.6965 - val_loss: 0.8929 - val_accuracy: 0.6607\n",
            "Epoch 42/200\n",
            "36/36 [==============================] - 1s 33ms/step - loss: 0.8261 - accuracy: 0.7020 - val_loss: 0.8805 - val_accuracy: 0.6820\n",
            "Epoch 43/200\n",
            "36/36 [==============================] - 1s 34ms/step - loss: 0.7987 - accuracy: 0.7150 - val_loss: 0.7925 - val_accuracy: 0.7087\n",
            "Epoch 44/200\n",
            "36/36 [==============================] - 1s 34ms/step - loss: 0.7558 - accuracy: 0.7360 - val_loss: 0.8748 - val_accuracy: 0.6840\n",
            "Epoch 45/200\n",
            "36/36 [==============================] - 1s 35ms/step - loss: 0.7290 - accuracy: 0.7421 - val_loss: 0.7543 - val_accuracy: 0.7353\n",
            "Epoch 46/200\n",
            "36/36 [==============================] - 1s 34ms/step - loss: 0.6904 - accuracy: 0.7583 - val_loss: 0.7270 - val_accuracy: 0.7480\n",
            "Epoch 47/200\n",
            "36/36 [==============================] - 1s 34ms/step - loss: 0.6654 - accuracy: 0.7722 - val_loss: 0.6726 - val_accuracy: 0.7627\n",
            "Epoch 48/200\n",
            "36/36 [==============================] - 1s 35ms/step - loss: 0.6394 - accuracy: 0.7779 - val_loss: 0.6445 - val_accuracy: 0.7653\n",
            "Epoch 49/200\n",
            "36/36 [==============================] - 1s 34ms/step - loss: 0.5853 - accuracy: 0.8047 - val_loss: 0.5988 - val_accuracy: 0.7847\n",
            "Epoch 50/200\n",
            "36/36 [==============================] - 1s 34ms/step - loss: 0.5463 - accuracy: 0.8244 - val_loss: 0.5519 - val_accuracy: 0.8133\n",
            "Epoch 51/200\n",
            "36/36 [==============================] - 1s 35ms/step - loss: 0.5202 - accuracy: 0.8298 - val_loss: 0.5318 - val_accuracy: 0.8287\n",
            "Epoch 52/200\n",
            "36/36 [==============================] - 1s 34ms/step - loss: 0.4821 - accuracy: 0.8524 - val_loss: 0.5134 - val_accuracy: 0.8367\n",
            "Epoch 53/200\n",
            "36/36 [==============================] - 1s 35ms/step - loss: 0.4618 - accuracy: 0.8614 - val_loss: 0.4822 - val_accuracy: 0.8513\n",
            "Epoch 54/200\n",
            "36/36 [==============================] - 1s 34ms/step - loss: 0.4206 - accuracy: 0.8873 - val_loss: 0.4724 - val_accuracy: 0.8393\n",
            "Epoch 55/200\n",
            "36/36 [==============================] - 1s 34ms/step - loss: 0.4025 - accuracy: 0.8934 - val_loss: 0.4214 - val_accuracy: 0.8793\n",
            "Epoch 56/200\n",
            "36/36 [==============================] - 1s 34ms/step - loss: 0.3750 - accuracy: 0.9095 - val_loss: 0.4062 - val_accuracy: 0.8707\n",
            "Epoch 57/200\n",
            "36/36 [==============================] - 1s 34ms/step - loss: 0.3560 - accuracy: 0.9116 - val_loss: 0.3842 - val_accuracy: 0.8987\n",
            "Epoch 58/200\n",
            "36/36 [==============================] - 1s 34ms/step - loss: 0.3360 - accuracy: 0.9256 - val_loss: 0.3500 - val_accuracy: 0.9167\n",
            "Epoch 59/200\n",
            "36/36 [==============================] - 1s 35ms/step - loss: 0.3098 - accuracy: 0.9401 - val_loss: 0.3446 - val_accuracy: 0.9033\n",
            "Epoch 60/200\n",
            "36/36 [==============================] - 1s 34ms/step - loss: 0.2954 - accuracy: 0.9437 - val_loss: 0.3108 - val_accuracy: 0.9320\n",
            "Epoch 61/200\n",
            "36/36 [==============================] - 1s 35ms/step - loss: 0.2786 - accuracy: 0.9489 - val_loss: 0.2923 - val_accuracy: 0.9413\n",
            "Epoch 62/200\n",
            "36/36 [==============================] - 1s 34ms/step - loss: 0.2565 - accuracy: 0.9593 - val_loss: 0.2897 - val_accuracy: 0.9340\n",
            "Epoch 63/200\n",
            "36/36 [==============================] - 1s 34ms/step - loss: 0.2567 - accuracy: 0.9555 - val_loss: 0.2911 - val_accuracy: 0.9200\n",
            "Epoch 64/200\n",
            "36/36 [==============================] - 1s 34ms/step - loss: 0.2416 - accuracy: 0.9564 - val_loss: 0.2484 - val_accuracy: 0.9560\n",
            "Epoch 65/200\n",
            "36/36 [==============================] - 1s 34ms/step - loss: 0.2282 - accuracy: 0.9614 - val_loss: 0.2376 - val_accuracy: 0.9580\n",
            "Epoch 66/200\n",
            "36/36 [==============================] - 1s 35ms/step - loss: 0.2101 - accuracy: 0.9717 - val_loss: 0.2357 - val_accuracy: 0.9567\n",
            "Epoch 67/200\n",
            "36/36 [==============================] - 1s 34ms/step - loss: 0.2303 - accuracy: 0.9559 - val_loss: 0.2369 - val_accuracy: 0.9527\n",
            "Epoch 68/200\n",
            "36/36 [==============================] - 1s 35ms/step - loss: 0.2100 - accuracy: 0.9649 - val_loss: 0.2196 - val_accuracy: 0.9633\n",
            "Epoch 69/200\n",
            "36/36 [==============================] - 1s 35ms/step - loss: 0.1792 - accuracy: 0.9773 - val_loss: 0.1981 - val_accuracy: 0.9647\n",
            "Epoch 70/200\n",
            "36/36 [==============================] - 1s 34ms/step - loss: 0.1630 - accuracy: 0.9819 - val_loss: 0.1867 - val_accuracy: 0.9680\n",
            "Epoch 71/200\n",
            "36/36 [==============================] - 1s 34ms/step - loss: 0.1528 - accuracy: 0.9841 - val_loss: 0.1805 - val_accuracy: 0.9640\n",
            "Epoch 72/200\n",
            "36/36 [==============================] - 1s 34ms/step - loss: 0.1442 - accuracy: 0.9860 - val_loss: 0.1639 - val_accuracy: 0.9787\n",
            "Epoch 73/200\n",
            "36/36 [==============================] - 1s 34ms/step - loss: 0.1358 - accuracy: 0.9868 - val_loss: 0.1677 - val_accuracy: 0.9693\n",
            "Epoch 74/200\n",
            "36/36 [==============================] - 1s 34ms/step - loss: 0.1388 - accuracy: 0.9842 - val_loss: 0.1729 - val_accuracy: 0.9653\n",
            "Epoch 75/200\n",
            "36/36 [==============================] - 1s 34ms/step - loss: 0.1292 - accuracy: 0.9861 - val_loss: 0.1434 - val_accuracy: 0.9780\n",
            "Epoch 76/200\n",
            "36/36 [==============================] - 1s 35ms/step - loss: 0.1181 - accuracy: 0.9884 - val_loss: 0.1360 - val_accuracy: 0.9787\n",
            "Epoch 77/200\n",
            "36/36 [==============================] - 1s 35ms/step - loss: 0.1151 - accuracy: 0.9881 - val_loss: 0.1490 - val_accuracy: 0.9720\n",
            "Epoch 78/200\n",
            "36/36 [==============================] - 1s 35ms/step - loss: 0.2881 - accuracy: 0.9035 - val_loss: 0.2436 - val_accuracy: 0.9213\n",
            "Epoch 79/200\n",
            "36/36 [==============================] - 1s 34ms/step - loss: 0.1981 - accuracy: 0.9441 - val_loss: 0.1570 - val_accuracy: 0.9660\n",
            "Epoch 80/200\n",
            "36/36 [==============================] - 1s 34ms/step - loss: 0.1099 - accuracy: 0.9883 - val_loss: 0.1204 - val_accuracy: 0.9787\n",
            "Epoch 81/200\n",
            "36/36 [==============================] - 1s 34ms/step - loss: 0.0921 - accuracy: 0.9939 - val_loss: 0.1108 - val_accuracy: 0.9840\n",
            "Epoch 82/200\n",
            "36/36 [==============================] - 1s 34ms/step - loss: 0.0863 - accuracy: 0.9931 - val_loss: 0.1053 - val_accuracy: 0.9833\n",
            "Epoch 83/200\n",
            "36/36 [==============================] - 1s 34ms/step - loss: 0.0827 - accuracy: 0.9939 - val_loss: 0.1047 - val_accuracy: 0.9833\n",
            "Epoch 84/200\n",
            "36/36 [==============================] - 1s 35ms/step - loss: 0.0786 - accuracy: 0.9944 - val_loss: 0.0965 - val_accuracy: 0.9860\n",
            "Epoch 85/200\n",
            "36/36 [==============================] - 1s 34ms/step - loss: 0.0738 - accuracy: 0.9956 - val_loss: 0.0903 - val_accuracy: 0.9893\n",
            "Epoch 86/200\n",
            "36/36 [==============================] - 1s 34ms/step - loss: 0.0698 - accuracy: 0.9958 - val_loss: 0.0868 - val_accuracy: 0.9900\n",
            "Epoch 87/200\n",
            "36/36 [==============================] - 1s 34ms/step - loss: 0.0658 - accuracy: 0.9964 - val_loss: 0.0887 - val_accuracy: 0.9900\n",
            "Epoch 88/200\n",
            "36/36 [==============================] - 1s 35ms/step - loss: 0.0652 - accuracy: 0.9956 - val_loss: 0.0821 - val_accuracy: 0.9920\n",
            "Epoch 89/200\n",
            "36/36 [==============================] - 1s 34ms/step - loss: 0.0616 - accuracy: 0.9968 - val_loss: 0.0823 - val_accuracy: 0.9873\n",
            "Epoch 90/200\n",
            "36/36 [==============================] - 1s 34ms/step - loss: 0.0588 - accuracy: 0.9968 - val_loss: 0.0760 - val_accuracy: 0.9920\n",
            "Epoch 91/200\n",
            "36/36 [==============================] - 1s 34ms/step - loss: 0.0560 - accuracy: 0.9970 - val_loss: 0.0747 - val_accuracy: 0.9887\n",
            "Epoch 92/200\n",
            "36/36 [==============================] - 1s 34ms/step - loss: 0.0535 - accuracy: 0.9971 - val_loss: 0.0728 - val_accuracy: 0.9907\n",
            "Epoch 93/200\n",
            "36/36 [==============================] - 1s 35ms/step - loss: 0.0520 - accuracy: 0.9972 - val_loss: 0.0720 - val_accuracy: 0.9900\n",
            "Epoch 94/200\n",
            "36/36 [==============================] - 1s 34ms/step - loss: 0.0500 - accuracy: 0.9973 - val_loss: 0.0660 - val_accuracy: 0.9907\n",
            "Epoch 95/200\n",
            "36/36 [==============================] - 1s 35ms/step - loss: 0.0573 - accuracy: 0.9933 - val_loss: 0.0772 - val_accuracy: 0.9867\n",
            "Epoch 96/200\n",
            "36/36 [==============================] - 1s 36ms/step - loss: 0.0582 - accuracy: 0.9936 - val_loss: 0.0618 - val_accuracy: 0.9907\n",
            "Epoch 97/200\n",
            "36/36 [==============================] - 1s 34ms/step - loss: 0.0457 - accuracy: 0.9972 - val_loss: 0.0643 - val_accuracy: 0.9900\n",
            "Epoch 98/200\n",
            "36/36 [==============================] - 1s 34ms/step - loss: 0.0439 - accuracy: 0.9975 - val_loss: 0.0605 - val_accuracy: 0.9907\n",
            "Epoch 99/200\n",
            "36/36 [==============================] - 1s 35ms/step - loss: 0.0406 - accuracy: 0.9979 - val_loss: 0.0551 - val_accuracy: 0.9913\n",
            "Epoch 100/200\n",
            "36/36 [==============================] - 1s 34ms/step - loss: 0.0381 - accuracy: 0.9988 - val_loss: 0.0569 - val_accuracy: 0.9907\n",
            "Epoch 101/200\n",
            "36/36 [==============================] - 1s 34ms/step - loss: 0.0362 - accuracy: 0.9984 - val_loss: 0.0584 - val_accuracy: 0.9900\n",
            "Epoch 102/200\n",
            "36/36 [==============================] - 1s 35ms/step - loss: 0.0353 - accuracy: 0.9984 - val_loss: 0.0484 - val_accuracy: 0.9927\n",
            "Epoch 103/200\n",
            "36/36 [==============================] - 1s 34ms/step - loss: 0.0324 - accuracy: 0.9990 - val_loss: 0.0494 - val_accuracy: 0.9927\n",
            "Epoch 104/200\n",
            "36/36 [==============================] - 1s 35ms/step - loss: 0.0317 - accuracy: 0.9985 - val_loss: 0.0461 - val_accuracy: 0.9927\n",
            "Epoch 105/200\n",
            "36/36 [==============================] - 1s 34ms/step - loss: 0.0313 - accuracy: 0.9981 - val_loss: 0.0478 - val_accuracy: 0.9907\n",
            "Epoch 106/200\n",
            "36/36 [==============================] - 1s 34ms/step - loss: 0.0348 - accuracy: 0.9967 - val_loss: 0.0632 - val_accuracy: 0.9833\n",
            "Epoch 107/200\n",
            "36/36 [==============================] - 1s 34ms/step - loss: 0.1494 - accuracy: 0.9559 - val_loss: 0.1410 - val_accuracy: 0.9580\n",
            "Epoch 108/200\n",
            "36/36 [==============================] - 1s 35ms/step - loss: 0.0748 - accuracy: 0.9814 - val_loss: 0.0997 - val_accuracy: 0.9700\n",
            "Epoch 109/200\n",
            "36/36 [==============================] - 1s 34ms/step - loss: 0.0657 - accuracy: 0.9853 - val_loss: 0.0715 - val_accuracy: 0.9840\n",
            "Epoch 110/200\n",
            "36/36 [==============================] - 1s 35ms/step - loss: 0.0378 - accuracy: 0.9962 - val_loss: 0.0549 - val_accuracy: 0.9860\n",
            "Epoch 111/200\n",
            "36/36 [==============================] - 1s 34ms/step - loss: 0.0312 - accuracy: 0.9973 - val_loss: 0.0453 - val_accuracy: 0.9920\n",
            "Epoch 112/200\n",
            "36/36 [==============================] - 1s 34ms/step - loss: 0.0262 - accuracy: 0.9987 - val_loss: 0.0400 - val_accuracy: 0.9933\n",
            "Epoch 113/200\n",
            "36/36 [==============================] - 1s 34ms/step - loss: 0.0224 - accuracy: 0.9993 - val_loss: 0.0394 - val_accuracy: 0.9920\n",
            "Epoch 114/200\n",
            "36/36 [==============================] - 1s 35ms/step - loss: 0.0222 - accuracy: 0.9993 - val_loss: 0.0384 - val_accuracy: 0.9920\n",
            "Epoch 115/200\n",
            "36/36 [==============================] - 1s 34ms/step - loss: 0.0213 - accuracy: 0.9991 - val_loss: 0.0358 - val_accuracy: 0.9947\n",
            "Epoch 116/200\n",
            "36/36 [==============================] - 1s 34ms/step - loss: 0.0198 - accuracy: 0.9993 - val_loss: 0.0339 - val_accuracy: 0.9953\n",
            "Epoch 117/200\n",
            "36/36 [==============================] - 1s 35ms/step - loss: 0.0192 - accuracy: 0.9994 - val_loss: 0.0363 - val_accuracy: 0.9933\n",
            "Epoch 118/200\n",
            "36/36 [==============================] - 1s 35ms/step - loss: 0.0187 - accuracy: 0.9994 - val_loss: 0.0331 - val_accuracy: 0.9947\n",
            "Epoch 119/200\n",
            "36/36 [==============================] - 1s 34ms/step - loss: 0.0187 - accuracy: 0.9992 - val_loss: 0.0347 - val_accuracy: 0.9940\n",
            "Epoch 120/200\n",
            "36/36 [==============================] - 1s 34ms/step - loss: 0.0177 - accuracy: 0.9994 - val_loss: 0.0341 - val_accuracy: 0.9933\n",
            "Epoch 121/200\n",
            "36/36 [==============================] - 1s 34ms/step - loss: 0.0227 - accuracy: 0.9978 - val_loss: 0.0371 - val_accuracy: 0.9933\n",
            "Epoch 122/200\n",
            "36/36 [==============================] - 1s 34ms/step - loss: 0.0183 - accuracy: 0.9992 - val_loss: 0.0345 - val_accuracy: 0.9933\n",
            "Epoch 123/200\n",
            "36/36 [==============================] - 1s 35ms/step - loss: 0.0160 - accuracy: 0.9995 - val_loss: 0.0329 - val_accuracy: 0.9933\n",
            "Epoch 124/200\n",
            "36/36 [==============================] - 1s 34ms/step - loss: 0.0155 - accuracy: 0.9994 - val_loss: 0.0312 - val_accuracy: 0.9927\n",
            "Epoch 125/200\n",
            "36/36 [==============================] - 1s 34ms/step - loss: 0.0145 - accuracy: 0.9996 - val_loss: 0.0300 - val_accuracy: 0.9933\n",
            "Epoch 126/200\n",
            "36/36 [==============================] - 1s 35ms/step - loss: 0.0139 - accuracy: 0.9996 - val_loss: 0.0322 - val_accuracy: 0.9933\n",
            "Epoch 127/200\n",
            "36/36 [==============================] - 1s 35ms/step - loss: 0.0137 - accuracy: 0.9996 - val_loss: 0.0293 - val_accuracy: 0.9960\n",
            "Epoch 128/200\n",
            "36/36 [==============================] - 1s 34ms/step - loss: 0.0131 - accuracy: 0.9996 - val_loss: 0.0289 - val_accuracy: 0.9940\n",
            "Epoch 129/200\n",
            "36/36 [==============================] - 1s 34ms/step - loss: 0.0130 - accuracy: 0.9996 - val_loss: 0.0304 - val_accuracy: 0.9940\n",
            "Epoch 130/200\n",
            "36/36 [==============================] - 1s 34ms/step - loss: 0.0130 - accuracy: 0.9996 - val_loss: 0.0299 - val_accuracy: 0.9953\n",
            "Epoch 131/200\n",
            "36/36 [==============================] - 1s 34ms/step - loss: 0.0128 - accuracy: 0.9996 - val_loss: 0.0270 - val_accuracy: 0.9953\n",
            "Epoch 132/200\n",
            "36/36 [==============================] - 1s 35ms/step - loss: 0.0117 - accuracy: 0.9998 - val_loss: 0.0280 - val_accuracy: 0.9947\n",
            "Epoch 133/200\n",
            "36/36 [==============================] - 1s 34ms/step - loss: 0.0116 - accuracy: 0.9996 - val_loss: 0.0272 - val_accuracy: 0.9940\n",
            "Epoch 134/200\n",
            "36/36 [==============================] - 1s 36ms/step - loss: 0.0114 - accuracy: 0.9997 - val_loss: 0.0263 - val_accuracy: 0.9953\n",
            "Epoch 135/200\n",
            "36/36 [==============================] - 1s 34ms/step - loss: 0.0110 - accuracy: 0.9996 - val_loss: 0.0274 - val_accuracy: 0.9947\n",
            "Epoch 136/200\n",
            "36/36 [==============================] - 1s 34ms/step - loss: 0.0103 - accuracy: 0.9997 - val_loss: 0.0263 - val_accuracy: 0.9947\n",
            "Epoch 137/200\n",
            "36/36 [==============================] - 1s 35ms/step - loss: 0.0102 - accuracy: 0.9997 - val_loss: 0.0262 - val_accuracy: 0.9933\n",
            "Epoch 138/200\n",
            "36/36 [==============================] - 1s 34ms/step - loss: 0.0099 - accuracy: 0.9998 - val_loss: 0.0267 - val_accuracy: 0.9960\n",
            "Epoch 139/200\n",
            "36/36 [==============================] - 1s 35ms/step - loss: 0.0094 - accuracy: 0.9999 - val_loss: 0.0234 - val_accuracy: 0.9967\n",
            "Epoch 140/200\n",
            "36/36 [==============================] - 1s 34ms/step - loss: 0.0092 - accuracy: 0.9999 - val_loss: 0.0252 - val_accuracy: 0.9960\n",
            "Epoch 141/200\n",
            "36/36 [==============================] - 1s 35ms/step - loss: 0.0091 - accuracy: 0.9999 - val_loss: 0.0248 - val_accuracy: 0.9960\n",
            "Epoch 142/200\n",
            "36/36 [==============================] - 1s 35ms/step - loss: 0.0087 - accuracy: 0.9999 - val_loss: 0.0246 - val_accuracy: 0.9947\n",
            "Epoch 143/200\n",
            "36/36 [==============================] - 1s 34ms/step - loss: 0.0084 - accuracy: 0.9998 - val_loss: 0.0260 - val_accuracy: 0.9940\n",
            "Epoch 144/200\n",
            "36/36 [==============================] - 1s 34ms/step - loss: 0.0083 - accuracy: 0.9999 - val_loss: 0.0230 - val_accuracy: 0.9953\n",
            "Epoch 145/200\n",
            "36/36 [==============================] - 1s 35ms/step - loss: 0.0078 - accuracy: 0.9999 - val_loss: 0.0245 - val_accuracy: 0.9947\n",
            "Epoch 146/200\n",
            "36/36 [==============================] - 1s 35ms/step - loss: 0.0095 - accuracy: 0.9994 - val_loss: 0.0270 - val_accuracy: 0.9947\n",
            "Epoch 147/200\n",
            "36/36 [==============================] - 1s 35ms/step - loss: 0.0082 - accuracy: 0.9999 - val_loss: 0.0225 - val_accuracy: 0.9947\n",
            "Epoch 148/200\n",
            "36/36 [==============================] - 1s 34ms/step - loss: 0.0074 - accuracy: 0.9999 - val_loss: 0.0228 - val_accuracy: 0.9967\n",
            "Epoch 149/200\n",
            "36/36 [==============================] - 1s 34ms/step - loss: 0.0071 - accuracy: 0.9999 - val_loss: 0.0238 - val_accuracy: 0.9953\n",
            "Epoch 150/200\n",
            "36/36 [==============================] - 1s 35ms/step - loss: 0.0072 - accuracy: 0.9999 - val_loss: 0.0207 - val_accuracy: 0.9967\n",
            "Epoch 151/200\n",
            "36/36 [==============================] - 1s 34ms/step - loss: 0.0067 - accuracy: 0.9999 - val_loss: 0.0243 - val_accuracy: 0.9960\n",
            "Epoch 152/200\n",
            "36/36 [==============================] - 1s 35ms/step - loss: 0.0066 - accuracy: 0.9999 - val_loss: 0.0214 - val_accuracy: 0.9967\n",
            "Epoch 153/200\n",
            "36/36 [==============================] - 1s 35ms/step - loss: 0.0064 - accuracy: 0.9999 - val_loss: 0.0229 - val_accuracy: 0.9960\n",
            "Epoch 154/200\n",
            "36/36 [==============================] - 1s 35ms/step - loss: 0.0062 - accuracy: 0.9998 - val_loss: 0.0201 - val_accuracy: 0.9960\n",
            "Epoch 155/200\n",
            "36/36 [==============================] - 1s 36ms/step - loss: 0.0060 - accuracy: 0.9999 - val_loss: 0.0216 - val_accuracy: 0.9960\n",
            "Epoch 156/200\n",
            "36/36 [==============================] - 1s 35ms/step - loss: 0.0058 - accuracy: 0.9999 - val_loss: 0.0193 - val_accuracy: 0.9967\n",
            "Epoch 157/200\n",
            "36/36 [==============================] - 1s 34ms/step - loss: 0.0057 - accuracy: 0.9999 - val_loss: 0.0202 - val_accuracy: 0.9960\n",
            "Epoch 158/200\n",
            "36/36 [==============================] - 1s 35ms/step - loss: 0.0057 - accuracy: 0.9999 - val_loss: 0.0214 - val_accuracy: 0.9953\n",
            "Epoch 159/200\n",
            "36/36 [==============================] - 1s 35ms/step - loss: 0.0076 - accuracy: 0.9993 - val_loss: 0.0332 - val_accuracy: 0.9913\n",
            "Epoch 160/200\n",
            "36/36 [==============================] - 1s 35ms/step - loss: 0.6502 - accuracy: 0.8189 - val_loss: 0.1958 - val_accuracy: 0.9313\n",
            "Epoch 161/200\n",
            "36/36 [==============================] - 1s 35ms/step - loss: 0.0831 - accuracy: 0.9778 - val_loss: 0.0722 - val_accuracy: 0.9813\n",
            "Epoch 162/200\n",
            "36/36 [==============================] - 1s 34ms/step - loss: 0.0232 - accuracy: 0.9978 - val_loss: 0.0338 - val_accuracy: 0.9940\n",
            "Epoch 163/200\n",
            "36/36 [==============================] - 1s 34ms/step - loss: 0.0135 - accuracy: 0.9997 - val_loss: 0.0291 - val_accuracy: 0.9967\n",
            "Epoch 164/200\n",
            "36/36 [==============================] - 1s 35ms/step - loss: 0.0102 - accuracy: 0.9999 - val_loss: 0.0246 - val_accuracy: 0.9967\n",
            "Epoch 165/200\n",
            "36/36 [==============================] - 1s 35ms/step - loss: 0.0091 - accuracy: 0.9999 - val_loss: 0.0242 - val_accuracy: 0.9973\n",
            "Epoch 166/200\n",
            "36/36 [==============================] - 1s 35ms/step - loss: 0.0081 - accuracy: 0.9999 - val_loss: 0.0242 - val_accuracy: 0.9973\n",
            "Epoch 167/200\n",
            "36/36 [==============================] - 1s 35ms/step - loss: 0.0076 - accuracy: 0.9999 - val_loss: 0.0226 - val_accuracy: 0.9973\n",
            "Epoch 168/200\n",
            "36/36 [==============================] - 1s 35ms/step - loss: 0.0071 - accuracy: 0.9999 - val_loss: 0.0220 - val_accuracy: 0.9967\n",
            "Epoch 169/200\n",
            "36/36 [==============================] - 1s 36ms/step - loss: 0.0068 - accuracy: 0.9999 - val_loss: 0.0217 - val_accuracy: 0.9967\n",
            "Epoch 170/200\n",
            "36/36 [==============================] - 1s 37ms/step - loss: 0.0066 - accuracy: 0.9999 - val_loss: 0.0220 - val_accuracy: 0.9967\n",
            "Epoch 171/200\n",
            "36/36 [==============================] - 1s 36ms/step - loss: 0.0063 - accuracy: 0.9999 - val_loss: 0.0209 - val_accuracy: 0.9973\n",
            "Epoch 172/200\n",
            "36/36 [==============================] - 1s 36ms/step - loss: 0.0061 - accuracy: 0.9999 - val_loss: 0.0218 - val_accuracy: 0.9973\n",
            "Epoch 173/200\n",
            "36/36 [==============================] - 1s 37ms/step - loss: 0.0058 - accuracy: 0.9999 - val_loss: 0.0203 - val_accuracy: 0.9967\n",
            "Epoch 174/200\n",
            "36/36 [==============================] - 1s 37ms/step - loss: 0.0056 - accuracy: 0.9999 - val_loss: 0.0210 - val_accuracy: 0.9973\n",
            "Epoch 175/200\n",
            "36/36 [==============================] - 1s 36ms/step - loss: 0.0054 - accuracy: 0.9999 - val_loss: 0.0201 - val_accuracy: 0.9973\n",
            "Epoch 176/200\n",
            "36/36 [==============================] - 1s 36ms/step - loss: 0.0053 - accuracy: 0.9999 - val_loss: 0.0202 - val_accuracy: 0.9973\n",
            "Epoch 177/200\n",
            "36/36 [==============================] - 1s 36ms/step - loss: 0.0051 - accuracy: 0.9999 - val_loss: 0.0192 - val_accuracy: 0.9967\n",
            "Epoch 178/200\n",
            "36/36 [==============================] - 1s 35ms/step - loss: 0.0050 - accuracy: 0.9999 - val_loss: 0.0195 - val_accuracy: 0.9973\n",
            "Epoch 179/200\n",
            "36/36 [==============================] - 1s 34ms/step - loss: 0.0048 - accuracy: 0.9999 - val_loss: 0.0190 - val_accuracy: 0.9973\n",
            "Epoch 180/200\n",
            "36/36 [==============================] - 1s 34ms/step - loss: 0.0047 - accuracy: 0.9999 - val_loss: 0.0196 - val_accuracy: 0.9973\n",
            "Epoch 181/200\n",
            "36/36 [==============================] - 1s 35ms/step - loss: 0.0046 - accuracy: 0.9999 - val_loss: 0.0187 - val_accuracy: 0.9973\n",
            "Epoch 182/200\n",
            "36/36 [==============================] - 1s 36ms/step - loss: 0.0047 - accuracy: 0.9999 - val_loss: 0.0194 - val_accuracy: 0.9973\n",
            "Epoch 183/200\n",
            "36/36 [==============================] - 1s 35ms/step - loss: 0.0043 - accuracy: 0.9999 - val_loss: 0.0187 - val_accuracy: 0.9973\n",
            "Epoch 184/200\n",
            "36/36 [==============================] - 1s 35ms/step - loss: 0.0043 - accuracy: 0.9999 - val_loss: 0.0183 - val_accuracy: 0.9973\n",
            "Epoch 185/200\n",
            "36/36 [==============================] - 1s 37ms/step - loss: 0.0041 - accuracy: 0.9999 - val_loss: 0.0180 - val_accuracy: 0.9973\n",
            "Epoch 186/200\n",
            "36/36 [==============================] - 1s 35ms/step - loss: 0.0040 - accuracy: 0.9999 - val_loss: 0.0177 - val_accuracy: 0.9973\n",
            "Epoch 187/200\n",
            "36/36 [==============================] - 1s 35ms/step - loss: 0.0039 - accuracy: 0.9999 - val_loss: 0.0181 - val_accuracy: 0.9973\n",
            "Epoch 188/200\n",
            "36/36 [==============================] - 1s 34ms/step - loss: 0.0038 - accuracy: 0.9999 - val_loss: 0.0184 - val_accuracy: 0.9973\n",
            "Epoch 189/200\n",
            "36/36 [==============================] - 1s 35ms/step - loss: 0.0037 - accuracy: 0.9999 - val_loss: 0.0185 - val_accuracy: 0.9973\n",
            "Epoch 190/200\n",
            "36/36 [==============================] - 1s 35ms/step - loss: 0.0037 - accuracy: 0.9999 - val_loss: 0.0178 - val_accuracy: 0.9973\n",
            "Epoch 191/200\n",
            "36/36 [==============================] - 1s 34ms/step - loss: 0.0036 - accuracy: 0.9999 - val_loss: 0.0180 - val_accuracy: 0.9973\n",
            "Epoch 192/200\n",
            "36/36 [==============================] - 1s 35ms/step - loss: 0.0035 - accuracy: 0.9999 - val_loss: 0.0176 - val_accuracy: 0.9973\n",
            "Epoch 193/200\n",
            "36/36 [==============================] - 1s 35ms/step - loss: 0.0034 - accuracy: 0.9999 - val_loss: 0.0172 - val_accuracy: 0.9973\n",
            "Epoch 194/200\n",
            "36/36 [==============================] - 1s 34ms/step - loss: 0.0034 - accuracy: 0.9998 - val_loss: 0.0179 - val_accuracy: 0.9973\n",
            "Epoch 195/200\n",
            "36/36 [==============================] - 1s 35ms/step - loss: 0.0032 - accuracy: 0.9999 - val_loss: 0.0174 - val_accuracy: 0.9973\n",
            "Epoch 196/200\n",
            "36/36 [==============================] - 1s 36ms/step - loss: 0.0032 - accuracy: 0.9999 - val_loss: 0.0182 - val_accuracy: 0.9973\n",
            "Epoch 197/200\n",
            "36/36 [==============================] - 1s 34ms/step - loss: 0.0031 - accuracy: 1.0000 - val_loss: 0.0178 - val_accuracy: 0.9973\n",
            "Epoch 198/200\n",
            "36/36 [==============================] - 1s 36ms/step - loss: 0.0031 - accuracy: 0.9999 - val_loss: 0.0175 - val_accuracy: 0.9973\n",
            "Epoch 199/200\n",
            "36/36 [==============================] - 1s 35ms/step - loss: 0.0031 - accuracy: 1.0000 - val_loss: 0.0176 - val_accuracy: 0.9960\n",
            "Epoch 200/200\n",
            "36/36 [==============================] - 1s 34ms/step - loss: 0.0030 - accuracy: 0.9999 - val_loss: 0.0169 - val_accuracy: 0.9973\n"
          ],
          "name": "stdout"
        }
      ]
    },
    {
      "cell_type": "code",
      "metadata": {
        "id": "aX84561YBQcn"
      },
      "source": [
        "def render_train_history(training_history):\n",
        "  loss = training_history.history['loss']\n",
        "  val_loss = training_history.history['val_loss']\n",
        "\n",
        "  acc = training_history.history['accuracy']\n",
        "  val_acc = training_history.history['val_accuracy']\n",
        "\n",
        "  plt.figure(figsize=(14, 4))\n",
        "\n",
        "  plt.subplot(1,2, 1)\n",
        "  plt.title('Loss')\n",
        "  plt.xlabel('Epoch')\n",
        "  plt.ylabel('Loss')\n",
        "  plt.plot(loss, label='Training set')\n",
        "  plt.plot(val_loss, label='Test set', linestyle='--')\n",
        "  plt.legend()\n",
        "  plt.grid(linestyle='--', linewidth=1, alpha=0.5)\n",
        "\n",
        "  plt.subplot(1, 2, 2)\n",
        "  plt.title('Accuracy')\n",
        "  plt.xlabel('Epoch')\n",
        "  plt.ylabel('Accuracy')\n",
        "  plt.plot(acc, label='Training set')\n",
        "  plt.plot(val_acc, label='Test set', linestyle='--')\n",
        "  plt.legend()\n",
        "  plt.grid(linestyle='--', linewidth=1, alpha=0.5)\n",
        "\n",
        "  plt.show()\n"
      ],
      "execution_count": 89,
      "outputs": []
    },
    {
      "cell_type": "code",
      "metadata": {
        "colab": {
          "base_uri": "https://localhost:8080/",
          "height": 228
        },
        "id": "XNQlZ6XcCprm",
        "outputId": "d6686fc0-639e-4a95-8c2e-152d45b457e7"
      },
      "source": [
        "render_train_history(history)"
      ],
      "execution_count": 90,
      "outputs": [
        {
          "output_type": "display_data",
          "data": {
            "image/png": "[encoded data removed]",
            "text/plain": [
              "<Figure size 1008x288 with 2 Axes>"
            ]
          },
          "metadata": {
            "tags": [],
            "needs_background": "light"
          }
        }
      ]
    },
    {
      "cell_type": "code",
      "metadata": {
        "id": "-dPdzX47C0B0"
      },
      "source": [
        "x_test, y_test = generate_dataset(dataset_size,\n",
        "                                  sequence_length,\n",
        "                                  max_num,\n",
        "                                  vocabulary)"
      ],
      "execution_count": 91,
      "outputs": []
    },
    {
      "cell_type": "code",
      "metadata": {
        "id": "ErvpjQ4CDHzT"
      },
      "source": [
        "predictions = model.predict(x_test)"
      ],
      "execution_count": 92,
      "outputs": []
    },
    {
      "cell_type": "code",
      "metadata": {
        "id": "YdxMgG4wDZqr"
      },
      "source": [
        "x_encoded = [decode(exp, vocabulary) for exp in x_test]\n",
        "y_expected = [decode(label, vocabulary) for label in y_test]\n",
        "y_predicted = [decode(prediction, vocabulary) for prediction in predictions]"
      ],
      "execution_count": 93,
      "outputs": []
    },
    {
      "cell_type": "code",
      "metadata": {
        "colab": {
          "base_uri": "https://localhost:8080/"
        },
        "id": "kgigR0kjDvjq",
        "outputId": "673c5819-b41f-4dc0-cba8-ce5fb9332cda"
      },
      "source": [
        "explore_num = 40\n",
        "for exp, label, pred in list(zip(x_encoded, y_expected, y_predicted))[:explore_num]:\n",
        "  chkmark = '정답' if label == pred else ''\n",
        "  print('{} = {} [predict: {}] {}'.format(exp, label, pred, chkmark))"
      ],
      "execution_count": 94,
      "outputs": [
        {
          "output_type": "stream",
          "text": [
            "18+86   = 104 [predict: 104] 정답\n",
            "87+80   = 167 [predict: 167] 정답\n",
            "28+85   = 113 [predict: 113] 정답\n",
            "75+95   = 170 [predict: 170] 정답\n",
            "60+92   = 152 [predict: 152] 정답\n",
            "27+84   = 111 [predict: 111] 정답\n",
            "99+32   = 131 [predict: 131] 정답\n",
            "91+65   = 156 [predict: 156] 정답\n",
            "22+62   = 84  [predict: 84 ] 정답\n",
            "83+87   = 170 [predict: 170] 정답\n",
            "27+10   = 37  [predict: 37 ] 정답\n",
            "59+35   = 94  [predict: 94 ] 정답\n",
            "83+65   = 148 [predict: 148] 정답\n",
            "31+67   = 98  [predict: 98 ] 정답\n",
            "70+92   = 162 [predict: 162] 정답\n",
            "93+6    = 99  [predict: 99 ] 정답\n",
            "95+3    = 98  [predict: 98 ] 정답\n",
            "8+24    = 32  [predict: 32 ] 정답\n",
            "32+13   = 45  [predict: 45 ] 정답\n",
            "61+96   = 157 [predict: 157] 정답\n",
            "73+71   = 144 [predict: 144] 정답\n",
            "51+8    = 59  [predict: 59 ] 정답\n",
            "21+71   = 92  [predict: 92 ] 정답\n",
            "93+59   = 152 [predict: 152] 정답\n",
            "8+28    = 36  [predict: 36 ] 정답\n",
            "88+68   = 156 [predict: 156] 정답\n",
            "48+24   = 72  [predict: 72 ] 정답\n",
            "55+17   = 72  [predict: 72 ] 정답\n",
            "76+73   = 149 [predict: 149] 정답\n",
            "19+97   = 116 [predict: 116] 정답\n",
            "41+99   = 140 [predict: 140] 정답\n",
            "52+33   = 85  [predict: 85 ] 정답\n",
            "1+84    = 85  [predict: 85 ] 정답\n",
            "7+64    = 71  [predict: 71 ] 정답\n",
            "12+9    = 21  [predict: 21 ] 정답\n",
            "88+91   = 179 [predict: 179] 정답\n",
            "14+16   = 30  [predict: 30 ] 정답\n",
            "66+17   = 83  [predict: 83 ] 정답\n",
            "30+64   = 94  [predict: 94 ] 정답\n",
            "15+39   = 54  [predict: 54 ] 정답\n"
          ],
          "name": "stdout"
        }
      ]
    },
    {
      "cell_type": "code",
      "metadata": {
        "id": "Hx8QYkafEFrB"
      },
      "source": [
        ""
      ],
      "execution_count": null,
      "outputs": []
    }
  ]
}