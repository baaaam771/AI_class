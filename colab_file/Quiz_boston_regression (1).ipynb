{
  "nbformat": 4,
  "nbformat_minor": 0,
  "metadata": {
    "colab": {
      "name": "Quiz. boston_regression.ipynb",
      "provenance": []
    },
    "kernelspec": {
      "name": "python3",
      "display_name": "Python 3"
    }
  },
  "cells": [
    {
      "cell_type": "code",
      "metadata": {
        "id": "38uwjkO1mpvw"
      },
      "source": [
        "from tensorflow.keras.datasets import boston_housing"
      ],
      "execution_count": null,
      "outputs": []
    },
    {
      "cell_type": "code",
      "metadata": {
        "id": "bMR4pWs-mzsA",
        "outputId": "e42466d0-af64-402e-9068-8fdfd4af9ea7",
        "colab": {
          "base_uri": "https://localhost:8080/",
          "height": 51
        }
      },
      "source": [
        "# load_data 로 train과 test 데이터 로드"
      ],
      "execution_count": null,
      "outputs": [
        {
          "output_type": "stream",
          "text": [
            "Downloading data from https://storage.googleapis.com/tensorflow/tf-keras-datasets/boston_housing.npz\n",
            "57344/57026 [==============================] - 0s 0us/step\n"
          ],
          "name": "stdout"
        }
      ]
    },
    {
      "cell_type": "code",
      "metadata": {
        "id": "hn4bPEMYm8Xt",
        "outputId": "cff6cd1b-c393-4f01-ea14-ea0757a6d484",
        "colab": {
          "base_uri": "https://localhost:8080/",
          "height": 238
        }
      },
      "source": [
        "train_data"
      ],
      "execution_count": null,
      "outputs": [
        {
          "output_type": "execute_result",
          "data": {
            "text/plain": [
              "array([[1.23247e+00, 0.00000e+00, 8.14000e+00, ..., 2.10000e+01,\n",
              "        3.96900e+02, 1.87200e+01],\n",
              "       [2.17700e-02, 8.25000e+01, 2.03000e+00, ..., 1.47000e+01,\n",
              "        3.95380e+02, 3.11000e+00],\n",
              "       [4.89822e+00, 0.00000e+00, 1.81000e+01, ..., 2.02000e+01,\n",
              "        3.75520e+02, 3.26000e+00],\n",
              "       ...,\n",
              "       [3.46600e-02, 3.50000e+01, 6.06000e+00, ..., 1.69000e+01,\n",
              "        3.62250e+02, 7.83000e+00],\n",
              "       [2.14918e+00, 0.00000e+00, 1.95800e+01, ..., 1.47000e+01,\n",
              "        2.61950e+02, 1.57900e+01],\n",
              "       [1.43900e-02, 6.00000e+01, 2.93000e+00, ..., 1.56000e+01,\n",
              "        3.76700e+02, 4.38000e+00]])"
            ]
          },
          "metadata": {
            "tags": []
          },
          "execution_count": 8
        }
      ]
    },
    {
      "cell_type": "code",
      "metadata": {
        "id": "bus5gBFVoJ1E",
        "outputId": "42f90ac5-efea-48dd-c8cc-1d52fc56cad2",
        "colab": {
          "base_uri": "https://localhost:8080/",
          "height": 34
        }
      },
      "source": [
        "train_data.shape"
      ],
      "execution_count": null,
      "outputs": [
        {
          "output_type": "execute_result",
          "data": {
            "text/plain": [
              "(404, 13)"
            ]
          },
          "metadata": {
            "tags": []
          },
          "execution_count": 9
        }
      ]
    },
    {
      "cell_type": "code",
      "metadata": {
        "id": "eSSUQO2inBwb"
      },
      "source": [
        "# 데이터 전처리 끝"
      ],
      "execution_count": null,
      "outputs": []
    },
    {
      "cell_type": "code",
      "metadata": {
        "id": "Jhmzxcr6nbys"
      },
      "source": [
        "from tensorflow.keras import models, layers"
      ],
      "execution_count": null,
      "outputs": []
    },
    {
      "cell_type": "code",
      "metadata": {
        "id": "8hjMogxWn96p"
      },
      "source": [
        "# 모델 구성\n",
        "# dense 64 relu - input_shape =  (train_data.shape[1] ???? , )  \n",
        "# desne 64 relu \n",
        "# dense ?? "
      ],
      "execution_count": null,
      "outputs": []
    },
    {
      "cell_type": "code",
      "metadata": {
        "id": "8wiB1Y-soaqV",
        "outputId": "ea6d3ef6-0a77-407a-80b3-4a9c49628f14",
        "colab": {
          "base_uri": "https://localhost:8080/",
          "height": 255
        }
      },
      "source": [
        "model.summary()"
      ],
      "execution_count": null,
      "outputs": [
        {
          "output_type": "stream",
          "text": [
            "Model: \"sequential\"\n",
            "_________________________________________________________________\n",
            "Layer (type)                 Output Shape              Param #   \n",
            "=================================================================\n",
            "dense (Dense)                (None, 64)                896       \n",
            "_________________________________________________________________\n",
            "dense_1 (Dense)              (None, 64)                4160      \n",
            "_________________________________________________________________\n",
            "dense_2 (Dense)              (None, 1)                 65        \n",
            "=================================================================\n",
            "Total params: 5,121\n",
            "Trainable params: 5,121\n",
            "Non-trainable params: 0\n",
            "_________________________________________________________________\n"
          ],
          "name": "stdout"
        }
      ]
    },
    {
      "cell_type": "code",
      "metadata": {
        "id": "oNj5P86GocEL"
      },
      "source": [
        "# model compile optimizer = rmsprop, loss = mse, metics = mae "
      ],
      "execution_count": null,
      "outputs": []
    },
    {
      "cell_type": "code",
      "metadata": {
        "id": "i_qGEfpJov65",
        "outputId": "b9a593b7-9308-4f59-a789-73afba167f50",
        "colab": {
          "base_uri": "https://localhost:8080/",
          "height": 1000
        }
      },
      "source": [
        "# 학습을 진행시키고 그 학습 히스토리를 저장하는 코드"
      ],
      "execution_count": null,
      "outputs": [
        {
          "output_type": "stream",
          "text": [
            "Epoch 1/100\n",
            "21/21 [==============================] - 0s 3ms/step - loss: 41.9161 - mae: 4.6946 - val_loss: 45.3583 - val_mae: 4.5302\n",
            "Epoch 2/100\n",
            "21/21 [==============================] - 0s 2ms/step - loss: 30.8955 - mae: 4.0258 - val_loss: 65.0241 - val_mae: 6.0779\n",
            "Epoch 3/100\n",
            "21/21 [==============================] - 0s 2ms/step - loss: 33.5219 - mae: 4.1762 - val_loss: 34.9235 - val_mae: 4.3976\n",
            "Epoch 4/100\n",
            "21/21 [==============================] - 0s 2ms/step - loss: 33.1579 - mae: 4.4489 - val_loss: 31.9239 - val_mae: 4.3620\n",
            "Epoch 5/100\n",
            "21/21 [==============================] - 0s 2ms/step - loss: 31.9871 - mae: 4.1872 - val_loss: 81.0110 - val_mae: 7.0433\n",
            "Epoch 6/100\n",
            "21/21 [==============================] - 0s 2ms/step - loss: 30.5752 - mae: 4.0486 - val_loss: 48.5939 - val_mae: 6.0546\n",
            "Epoch 7/100\n",
            "21/21 [==============================] - 0s 2ms/step - loss: 32.6029 - mae: 4.1258 - val_loss: 29.4989 - val_mae: 3.8247\n",
            "Epoch 8/100\n",
            "21/21 [==============================] - 0s 2ms/step - loss: 30.5964 - mae: 4.0267 - val_loss: 141.9140 - val_mae: 9.8303\n",
            "Epoch 9/100\n",
            "21/21 [==============================] - 0s 2ms/step - loss: 32.8120 - mae: 4.0998 - val_loss: 32.3325 - val_mae: 3.9563\n",
            "Epoch 10/100\n",
            "21/21 [==============================] - 0s 2ms/step - loss: 35.1097 - mae: 4.2932 - val_loss: 31.2764 - val_mae: 3.8221\n",
            "Epoch 11/100\n",
            "21/21 [==============================] - 0s 2ms/step - loss: 28.0834 - mae: 3.8791 - val_loss: 75.9324 - val_mae: 6.8932\n",
            "Epoch 12/100\n",
            "21/21 [==============================] - 0s 2ms/step - loss: 30.1739 - mae: 4.1285 - val_loss: 31.5617 - val_mae: 4.4978\n",
            "Epoch 13/100\n",
            "21/21 [==============================] - 0s 2ms/step - loss: 32.5584 - mae: 4.1740 - val_loss: 50.0190 - val_mae: 5.0182\n",
            "Epoch 14/100\n",
            "21/21 [==============================] - 0s 2ms/step - loss: 25.9315 - mae: 3.7132 - val_loss: 30.4338 - val_mae: 4.3819\n",
            "Epoch 15/100\n",
            "21/21 [==============================] - 0s 2ms/step - loss: 32.2865 - mae: 4.0856 - val_loss: 46.5505 - val_mae: 4.7660\n",
            "Epoch 16/100\n",
            "21/21 [==============================] - 0s 2ms/step - loss: 34.5420 - mae: 4.3758 - val_loss: 64.5975 - val_mae: 6.6585\n",
            "Epoch 17/100\n",
            "21/21 [==============================] - 0s 2ms/step - loss: 28.9742 - mae: 3.8196 - val_loss: 35.5745 - val_mae: 4.2991\n",
            "Epoch 18/100\n",
            "21/21 [==============================] - 0s 2ms/step - loss: 26.4561 - mae: 3.6856 - val_loss: 50.0263 - val_mae: 5.0519\n",
            "Epoch 19/100\n",
            "21/21 [==============================] - 0s 2ms/step - loss: 32.4418 - mae: 4.0374 - val_loss: 28.2287 - val_mae: 3.8296\n",
            "Epoch 20/100\n",
            "21/21 [==============================] - 0s 2ms/step - loss: 28.5301 - mae: 3.9563 - val_loss: 33.1526 - val_mae: 4.6478\n",
            "Epoch 21/100\n",
            "21/21 [==============================] - 0s 2ms/step - loss: 31.9848 - mae: 4.2791 - val_loss: 30.1622 - val_mae: 4.0432\n",
            "Epoch 22/100\n",
            "21/21 [==============================] - 0s 2ms/step - loss: 22.7331 - mae: 3.4620 - val_loss: 87.7653 - val_mae: 7.6500\n",
            "Epoch 23/100\n",
            "21/21 [==============================] - 0s 2ms/step - loss: 30.3208 - mae: 3.9972 - val_loss: 75.8574 - val_mae: 7.4051\n",
            "Epoch 24/100\n",
            "21/21 [==============================] - 0s 2ms/step - loss: 26.3943 - mae: 3.7420 - val_loss: 43.9011 - val_mae: 5.6742\n",
            "Epoch 25/100\n",
            "21/21 [==============================] - 0s 2ms/step - loss: 26.4059 - mae: 3.7326 - val_loss: 31.5499 - val_mae: 3.8762\n",
            "Epoch 26/100\n",
            "21/21 [==============================] - 0s 2ms/step - loss: 28.3077 - mae: 3.8462 - val_loss: 27.1761 - val_mae: 3.6330\n",
            "Epoch 27/100\n",
            "21/21 [==============================] - 0s 2ms/step - loss: 23.8078 - mae: 3.6714 - val_loss: 61.6114 - val_mae: 5.6805\n",
            "Epoch 28/100\n",
            "21/21 [==============================] - 0s 2ms/step - loss: 27.6294 - mae: 3.9147 - val_loss: 26.3002 - val_mae: 3.6496\n",
            "Epoch 29/100\n",
            "21/21 [==============================] - 0s 2ms/step - loss: 21.4410 - mae: 3.4569 - val_loss: 129.3824 - val_mae: 10.2203\n",
            "Epoch 30/100\n",
            "21/21 [==============================] - 0s 3ms/step - loss: 27.5789 - mae: 4.0020 - val_loss: 28.6114 - val_mae: 3.8875\n",
            "Epoch 31/100\n",
            "21/21 [==============================] - 0s 2ms/step - loss: 25.0650 - mae: 3.7772 - val_loss: 37.7181 - val_mae: 5.1391\n",
            "Epoch 32/100\n",
            "21/21 [==============================] - 0s 2ms/step - loss: 25.7356 - mae: 3.6176 - val_loss: 147.7978 - val_mae: 10.4490\n",
            "Epoch 33/100\n",
            "21/21 [==============================] - 0s 2ms/step - loss: 24.0417 - mae: 3.5465 - val_loss: 45.3763 - val_mae: 5.0889\n",
            "Epoch 34/100\n",
            "21/21 [==============================] - 0s 2ms/step - loss: 28.6930 - mae: 4.0411 - val_loss: 24.3381 - val_mae: 3.7300\n",
            "Epoch 35/100\n",
            "21/21 [==============================] - 0s 2ms/step - loss: 24.2231 - mae: 3.6493 - val_loss: 25.3263 - val_mae: 3.6101\n",
            "Epoch 36/100\n",
            "21/21 [==============================] - 0s 2ms/step - loss: 19.5284 - mae: 3.2967 - val_loss: 25.7113 - val_mae: 3.6612\n",
            "Epoch 37/100\n",
            "21/21 [==============================] - 0s 2ms/step - loss: 27.6513 - mae: 3.8067 - val_loss: 43.0527 - val_mae: 5.2197\n",
            "Epoch 38/100\n",
            "21/21 [==============================] - 0s 2ms/step - loss: 23.4469 - mae: 3.7136 - val_loss: 33.4199 - val_mae: 4.8728\n",
            "Epoch 39/100\n",
            "21/21 [==============================] - 0s 2ms/step - loss: 21.0843 - mae: 3.4215 - val_loss: 36.3678 - val_mae: 4.1357\n",
            "Epoch 40/100\n",
            "21/21 [==============================] - 0s 2ms/step - loss: 26.0246 - mae: 3.5241 - val_loss: 26.0568 - val_mae: 4.0237\n",
            "Epoch 41/100\n",
            "21/21 [==============================] - 0s 2ms/step - loss: 22.4535 - mae: 3.5367 - val_loss: 56.5211 - val_mae: 6.6272\n",
            "Epoch 42/100\n",
            "21/21 [==============================] - 0s 2ms/step - loss: 24.1299 - mae: 3.5722 - val_loss: 27.1213 - val_mae: 3.7146\n",
            "Epoch 43/100\n",
            "21/21 [==============================] - 0s 2ms/step - loss: 22.8182 - mae: 3.5449 - val_loss: 59.7039 - val_mae: 6.6525\n",
            "Epoch 44/100\n",
            "21/21 [==============================] - 0s 2ms/step - loss: 29.0829 - mae: 3.6877 - val_loss: 25.4592 - val_mae: 3.5140\n",
            "Epoch 45/100\n",
            "21/21 [==============================] - 0s 2ms/step - loss: 15.9244 - mae: 2.8912 - val_loss: 68.2810 - val_mae: 6.6138\n",
            "Epoch 46/100\n",
            "21/21 [==============================] - 0s 2ms/step - loss: 25.8214 - mae: 3.7295 - val_loss: 51.7284 - val_mae: 5.4919\n",
            "Epoch 47/100\n",
            "21/21 [==============================] - 0s 2ms/step - loss: 23.2355 - mae: 3.5783 - val_loss: 25.3297 - val_mae: 3.5045\n",
            "Epoch 48/100\n",
            "21/21 [==============================] - 0s 2ms/step - loss: 22.1690 - mae: 3.5442 - val_loss: 37.3762 - val_mae: 4.5911\n",
            "Epoch 49/100\n",
            "21/21 [==============================] - 0s 2ms/step - loss: 19.5070 - mae: 3.2367 - val_loss: 35.4701 - val_mae: 4.3329\n",
            "Epoch 50/100\n",
            "21/21 [==============================] - 0s 2ms/step - loss: 26.7091 - mae: 3.6607 - val_loss: 25.3622 - val_mae: 4.1454\n",
            "Epoch 51/100\n",
            "21/21 [==============================] - 0s 2ms/step - loss: 17.3565 - mae: 3.0174 - val_loss: 45.4111 - val_mae: 4.9527\n",
            "Epoch 52/100\n",
            "21/21 [==============================] - 0s 2ms/step - loss: 25.1351 - mae: 3.7391 - val_loss: 24.3014 - val_mae: 3.5248\n",
            "Epoch 53/100\n",
            "21/21 [==============================] - 0s 2ms/step - loss: 19.6995 - mae: 3.2651 - val_loss: 85.1768 - val_mae: 7.6169\n",
            "Epoch 54/100\n",
            "21/21 [==============================] - 0s 2ms/step - loss: 22.1615 - mae: 3.4603 - val_loss: 84.1589 - val_mae: 7.7513\n",
            "Epoch 55/100\n",
            "21/21 [==============================] - 0s 2ms/step - loss: 21.3241 - mae: 3.4276 - val_loss: 29.1809 - val_mae: 4.5594\n",
            "Epoch 56/100\n",
            "21/21 [==============================] - 0s 2ms/step - loss: 25.1170 - mae: 3.5700 - val_loss: 36.3879 - val_mae: 4.1679\n",
            "Epoch 57/100\n",
            "21/21 [==============================] - 0s 2ms/step - loss: 20.8448 - mae: 3.3426 - val_loss: 21.4467 - val_mae: 3.5721\n",
            "Epoch 58/100\n",
            "21/21 [==============================] - 0s 2ms/step - loss: 19.5605 - mae: 3.1746 - val_loss: 87.6330 - val_mae: 8.1978\n",
            "Epoch 59/100\n",
            "21/21 [==============================] - 0s 2ms/step - loss: 23.4633 - mae: 3.4767 - val_loss: 47.0474 - val_mae: 5.1703\n",
            "Epoch 60/100\n",
            "21/21 [==============================] - 0s 3ms/step - loss: 18.8030 - mae: 3.2330 - val_loss: 28.7711 - val_mae: 4.5005\n",
            "Epoch 61/100\n",
            "21/21 [==============================] - 0s 3ms/step - loss: 22.1096 - mae: 3.4353 - val_loss: 22.6707 - val_mae: 3.3274\n",
            "Epoch 62/100\n",
            "21/21 [==============================] - 0s 2ms/step - loss: 19.5889 - mae: 3.1980 - val_loss: 27.3739 - val_mae: 3.7141\n",
            "Epoch 63/100\n",
            "21/21 [==============================] - 0s 2ms/step - loss: 23.4947 - mae: 3.2621 - val_loss: 29.8192 - val_mae: 4.4067\n",
            "Epoch 64/100\n",
            "21/21 [==============================] - 0s 2ms/step - loss: 23.2422 - mae: 3.5615 - val_loss: 40.5160 - val_mae: 5.5158\n",
            "Epoch 65/100\n",
            "21/21 [==============================] - 0s 3ms/step - loss: 17.2954 - mae: 2.9642 - val_loss: 20.7713 - val_mae: 3.4255\n",
            "Epoch 66/100\n",
            "21/21 [==============================] - 0s 2ms/step - loss: 21.3763 - mae: 3.3697 - val_loss: 21.9594 - val_mae: 3.4796\n",
            "Epoch 67/100\n",
            "21/21 [==============================] - 0s 2ms/step - loss: 22.1454 - mae: 3.4768 - val_loss: 28.1926 - val_mae: 3.8474\n",
            "Epoch 68/100\n",
            "21/21 [==============================] - 0s 3ms/step - loss: 22.0230 - mae: 3.4172 - val_loss: 26.0023 - val_mae: 3.6698\n",
            "Epoch 69/100\n",
            "21/21 [==============================] - 0s 2ms/step - loss: 20.3939 - mae: 3.3143 - val_loss: 22.3973 - val_mae: 3.3920\n",
            "Epoch 70/100\n",
            "21/21 [==============================] - 0s 3ms/step - loss: 18.4024 - mae: 3.1445 - val_loss: 19.3680 - val_mae: 3.1844\n",
            "Epoch 71/100\n",
            "21/21 [==============================] - 0s 2ms/step - loss: 17.0233 - mae: 3.1620 - val_loss: 34.3161 - val_mae: 4.7423\n",
            "Epoch 72/100\n",
            "21/21 [==============================] - 0s 3ms/step - loss: 16.8533 - mae: 2.9879 - val_loss: 23.3074 - val_mae: 3.8693\n",
            "Epoch 73/100\n",
            "21/21 [==============================] - 0s 2ms/step - loss: 21.3276 - mae: 3.4957 - val_loss: 33.1264 - val_mae: 4.2868\n",
            "Epoch 74/100\n",
            "21/21 [==============================] - 0s 2ms/step - loss: 20.5998 - mae: 3.1216 - val_loss: 27.9328 - val_mae: 4.2128\n",
            "Epoch 75/100\n",
            "21/21 [==============================] - 0s 2ms/step - loss: 17.0859 - mae: 3.0054 - val_loss: 63.1253 - val_mae: 6.0137\n",
            "Epoch 76/100\n",
            "21/21 [==============================] - 0s 2ms/step - loss: 22.1572 - mae: 3.2333 - val_loss: 24.2393 - val_mae: 3.7642\n",
            "Epoch 77/100\n",
            "21/21 [==============================] - 0s 2ms/step - loss: 21.8376 - mae: 3.3513 - val_loss: 21.4263 - val_mae: 3.6973\n",
            "Epoch 78/100\n",
            "21/21 [==============================] - 0s 2ms/step - loss: 16.8008 - mae: 2.9485 - val_loss: 32.9884 - val_mae: 4.0516\n",
            "Epoch 79/100\n",
            "21/21 [==============================] - 0s 2ms/step - loss: 20.1854 - mae: 3.2103 - val_loss: 22.9608 - val_mae: 3.7583\n",
            "Epoch 80/100\n",
            "21/21 [==============================] - 0s 2ms/step - loss: 22.7595 - mae: 3.3672 - val_loss: 22.4408 - val_mae: 3.7677\n",
            "Epoch 81/100\n",
            "21/21 [==============================] - 0s 2ms/step - loss: 16.7340 - mae: 3.0618 - val_loss: 30.9243 - val_mae: 4.2227\n",
            "Epoch 82/100\n",
            "21/21 [==============================] - 0s 2ms/step - loss: 22.4056 - mae: 3.2993 - val_loss: 21.3767 - val_mae: 3.3365\n",
            "Epoch 83/100\n",
            "21/21 [==============================] - 0s 3ms/step - loss: 20.7126 - mae: 3.1169 - val_loss: 17.1005 - val_mae: 3.0348\n",
            "Epoch 84/100\n",
            "21/21 [==============================] - 0s 2ms/step - loss: 17.6012 - mae: 3.0043 - val_loss: 26.2001 - val_mae: 4.2245\n",
            "Epoch 85/100\n",
            "21/21 [==============================] - 0s 2ms/step - loss: 17.9673 - mae: 3.2453 - val_loss: 29.0287 - val_mae: 4.5059\n",
            "Epoch 86/100\n",
            "21/21 [==============================] - 0s 3ms/step - loss: 18.5289 - mae: 3.0653 - val_loss: 19.0821 - val_mae: 3.3556\n",
            "Epoch 87/100\n",
            "21/21 [==============================] - 0s 2ms/step - loss: 18.4801 - mae: 3.1103 - val_loss: 60.3243 - val_mae: 6.5557\n",
            "Epoch 88/100\n",
            "21/21 [==============================] - 0s 3ms/step - loss: 21.7382 - mae: 3.3606 - val_loss: 35.4639 - val_mae: 4.2239\n",
            "Epoch 89/100\n",
            "21/21 [==============================] - 0s 2ms/step - loss: 19.5457 - mae: 3.1265 - val_loss: 21.8130 - val_mae: 3.7432\n",
            "Epoch 90/100\n",
            "21/21 [==============================] - 0s 2ms/step - loss: 19.8585 - mae: 3.2146 - val_loss: 27.0809 - val_mae: 3.9254\n",
            "Epoch 91/100\n",
            "21/21 [==============================] - 0s 2ms/step - loss: 17.9864 - mae: 3.0281 - val_loss: 19.3301 - val_mae: 3.2576\n",
            "Epoch 92/100\n",
            "21/21 [==============================] - 0s 2ms/step - loss: 20.1903 - mae: 3.1067 - val_loss: 29.0090 - val_mae: 4.3583\n",
            "Epoch 93/100\n",
            "21/21 [==============================] - 0s 2ms/step - loss: 15.0096 - mae: 2.8179 - val_loss: 22.2681 - val_mae: 3.7851\n",
            "Epoch 94/100\n",
            "21/21 [==============================] - 0s 2ms/step - loss: 16.8137 - mae: 2.8521 - val_loss: 20.9582 - val_mae: 3.2277\n",
            "Epoch 95/100\n",
            "21/21 [==============================] - 0s 2ms/step - loss: 18.9766 - mae: 3.0575 - val_loss: 43.0841 - val_mae: 5.4498\n",
            "Epoch 96/100\n",
            "21/21 [==============================] - 0s 2ms/step - loss: 21.4189 - mae: 3.2920 - val_loss: 63.7229 - val_mae: 6.6511\n",
            "Epoch 97/100\n",
            "21/21 [==============================] - 0s 3ms/step - loss: 18.4646 - mae: 3.1145 - val_loss: 36.1954 - val_mae: 4.8167\n",
            "Epoch 98/100\n",
            "21/21 [==============================] - 0s 2ms/step - loss: 21.5333 - mae: 3.1852 - val_loss: 22.0257 - val_mae: 3.4554\n",
            "Epoch 99/100\n",
            "21/21 [==============================] - 0s 2ms/step - loss: 16.7862 - mae: 2.8288 - val_loss: 30.0759 - val_mae: 3.9508\n",
            "Epoch 100/100\n",
            "21/21 [==============================] - 0s 2ms/step - loss: 17.5153 - mae: 3.0732 - val_loss: 22.1375 - val_mae: 3.3578\n"
          ],
          "name": "stdout"
        }
      ]
    },
    {
      "cell_type": "code",
      "metadata": {
        "id": "O_b8zBD-rRnr",
        "outputId": "47f7002c-167e-4c92-fd51-6e5923e86d7b",
        "colab": {
          "base_uri": "https://localhost:8080/",
          "height": 34
        }
      },
      "source": [
        "history.history.keys()"
      ],
      "execution_count": null,
      "outputs": [
        {
          "output_type": "execute_result",
          "data": {
            "text/plain": [
              "dict_keys(['loss', 'mae', 'val_loss', 'val_mae'])"
            ]
          },
          "metadata": {
            "tags": []
          },
          "execution_count": 43
        }
      ]
    },
    {
      "cell_type": "code",
      "metadata": {
        "id": "LDSJbdUqpUxI"
      },
      "source": [
        "# train성능 지표, validatoin 성능 지표 구성\n",
        "# history 객체에서 mae, loss 추출"
      ],
      "execution_count": null,
      "outputs": []
    },
    {
      "cell_type": "code",
      "metadata": {
        "id": "LQJI6p3Rp2AI"
      },
      "source": [
        "# 그래프를 그리기 위한 epoch 범위  range()\n",
        "epoch = range(len(mae))"
      ],
      "execution_count": null,
      "outputs": []
    },
    {
      "cell_type": "code",
      "metadata": {
        "id": "d11vjM9up6SE"
      },
      "source": [
        "import matplotlib.pyplot as plt"
      ],
      "execution_count": null,
      "outputs": []
    },
    {
      "cell_type": "code",
      "metadata": {
        "id": "jo9yJSC5p-uP",
        "outputId": "bcbef8ee-01a0-42f3-f432-fa55adecc772",
        "colab": {
          "base_uri": "https://localhost:8080/",
          "height": 265
        }
      },
      "source": [
        "# train & validation mae 그래프 표시 train - bo, valid - r"
      ],
      "execution_count": null,
      "outputs": [
        {
          "output_type": "display_data",
          "data": {
            "image/png": "[encoded data removed]",
            "text/plain": [
              "<Figure size 432x288 with 1 Axes>"
            ]
          },
          "metadata": {
            "tags": [],
            "needs_background": "light"
          }
        }
      ]
    },
    {
      "cell_type": "code",
      "metadata": {
        "id": "-hd4E01lqCk6",
        "outputId": "b34df39e-a9e5-47af-bbcc-b6330938f576",
        "colab": {
          "base_uri": "https://localhost:8080/",
          "height": 265
        }
      },
      "source": [
        "# train & validation loss 그래프 표시 train - bo, valid - r"
      ],
      "execution_count": null,
      "outputs": [
        {
          "output_type": "display_data",
          "data": {
            "image/png": "[encoded data removed]",
            "text/plain": [
              "<Figure size 432x288 with 1 Axes>"
            ]
          },
          "metadata": {
            "tags": [],
            "needs_background": "light"
          }
        }
      ]
    },
    {
      "cell_type": "code",
      "metadata": {
        "id": "rvMDy66HrsK_",
        "outputId": "0262808d-3596-433a-e522-4db50bafeaaa",
        "colab": {
          "base_uri": "https://localhost:8080/",
          "height": 34
        }
      },
      "source": [
        "# model 평가"
      ],
      "execution_count": null,
      "outputs": [
        {
          "output_type": "stream",
          "text": [
            "4/4 [==============================] - 0s 2ms/step - loss: 32.1480 - mae: 3.7711\n"
          ],
          "name": "stdout"
        }
      ]
    },
    {
      "cell_type": "code",
      "metadata": {
        "id": "4GbXrGPjsVVN"
      },
      "source": [
        ""
      ],
      "execution_count": null,
      "outputs": []
    }
  ]
}