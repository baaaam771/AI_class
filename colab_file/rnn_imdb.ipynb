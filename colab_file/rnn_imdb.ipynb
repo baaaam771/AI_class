{
  "nbformat": 4,
  "nbformat_minor": 0,
  "metadata": {
    "colab": {
      "name": "rnn-imdb.ipynb",
      "provenance": []
    },
    "kernelspec": {
      "name": "python3",
      "display_name": "Python 3"
    },
    "accelerator": "GPU"
  },
  "cells": [
    {
      "cell_type": "code",
      "metadata": {
        "id": "gRdP6ERtL0RR"
      },
      "source": [
        "from keras.datasets import imdb\n",
        "import numpy as np"
      ],
      "execution_count": 13,
      "outputs": []
    },
    {
      "cell_type": "code",
      "metadata": {
        "id": "SHQKKuFeMAsW"
      },
      "source": [
        "(train_data, train_label), (test_data, test_label) = imdb.load_data(num_words=10000)"
      ],
      "execution_count": 14,
      "outputs": []
    },
    {
      "cell_type": "code",
      "metadata": {
        "id": "R7qnOjlWMPz6"
      },
      "source": [
        "# 단어들의 idx\n",
        "word_idx = imdb.get_word_index()"
      ],
      "execution_count": 15,
      "outputs": []
    },
    {
      "cell_type": "code",
      "metadata": {
        "id": "EVM2cBXbMiM1",
        "outputId": "b12b3f1e-965c-4b05-a196-12549ef28368",
        "colab": {
          "base_uri": "https://localhost:8080/"
        }
      },
      "source": [
        "word_idx['the']"
      ],
      "execution_count": 16,
      "outputs": [
        {
          "output_type": "execute_result",
          "data": {
            "text/plain": [
              "1"
            ]
          },
          "metadata": {
            "tags": []
          },
          "execution_count": 16
        }
      ]
    },
    {
      "cell_type": "code",
      "metadata": {
        "id": "8qbTWhMWMjS7"
      },
      "source": [
        "reverse_word_idx = dict([(v, k) for (k, v) in word_idx.items()])"
      ],
      "execution_count": 17,
      "outputs": []
    },
    {
      "cell_type": "code",
      "metadata": {
        "id": "Z_QXP5-9MygM",
        "outputId": "3f7b47ff-8a78-4b50-f149-2000f1ec855e",
        "colab": {
          "base_uri": "https://localhost:8080/",
          "height": 35
        }
      },
      "source": [
        "reverse_word_idx[1]"
      ],
      "execution_count": 18,
      "outputs": [
        {
          "output_type": "execute_result",
          "data": {
            "application/vnd.google.colaboratory.intrinsic+json": {
              "type": "string"
            },
            "text/plain": [
              "'the'"
            ]
          },
          "metadata": {
            "tags": []
          },
          "execution_count": 18
        }
      ]
    },
    {
      "cell_type": "code",
      "metadata": {
        "id": "C1mmMnvpNWu4"
      },
      "source": [
        "decode_review = ' '.join([reverse_word_idx.get(i - 3, \"?\") for i in train_data[0]])"
      ],
      "execution_count": 19,
      "outputs": []
    },
    {
      "cell_type": "code",
      "metadata": {
        "id": "lOVj8shTN6Jf",
        "outputId": "bcded685-34e0-4d5c-bad2-f7ed54f1d4fa",
        "colab": {
          "base_uri": "https://localhost:8080/",
          "height": 187
        }
      },
      "source": [
        "decode_review"
      ],
      "execution_count": 20,
      "outputs": [
        {
          "output_type": "execute_result",
          "data": {
            "application/vnd.google.colaboratory.intrinsic+json": {
              "type": "string"
            },
            "text/plain": [
              "\"? this film was just brilliant casting location scenery story direction everyone's really suited the part they played and you could just imagine being there robert ? is an amazing actor and now the same being director ? father came from the same scottish island as myself so i loved the fact there was a real connection with this film the witty remarks throughout the film were great it was just brilliant so much that i bought the film as soon as it was released for ? and would recommend it to everyone to watch and the fly fishing was amazing really cried at the end it was so sad and you know what they say if you cry at a film it must have been good and this definitely was also ? to the two little boy's that played the ? of norman and paul they were just brilliant children are often left out of the ? list i think because the stars that play them all grown up are such a big profile for the whole film but these children are amazing and should be praised for what they have done don't you think the whole story was so lovely because it was true and was someone's life after all that was shared with us all\""
            ]
          },
          "metadata": {
            "tags": []
          },
          "execution_count": 20
        }
      ]
    },
    {
      "cell_type": "code",
      "metadata": {
        "id": "LZC8b_otOC7r",
        "outputId": "634578ce-bb6a-4640-9a68-3ca01b7bbfa7",
        "colab": {
          "base_uri": "https://localhost:8080/"
        }
      },
      "source": [
        "train_label[0]"
      ],
      "execution_count": 21,
      "outputs": [
        {
          "output_type": "execute_result",
          "data": {
            "text/plain": [
              "1"
            ]
          },
          "metadata": {
            "tags": []
          },
          "execution_count": 21
        }
      ]
    },
    {
      "cell_type": "code",
      "metadata": {
        "id": "xaFMjJO-O5MB"
      },
      "source": [
        "from tensorflow.keras.preprocessing import sequence\n",
        "x_train = sequence.pad_sequences(train_data, maxlen=500)\n",
        "x_test = sequence.pad_sequences(test_data, maxlen=500)"
      ],
      "execution_count": 22,
      "outputs": []
    },
    {
      "cell_type": "code",
      "metadata": {
        "id": "FS_NIYSmO_EB",
        "outputId": "b183a4c0-24da-45ff-85a1-60edef463185",
        "colab": {
          "base_uri": "https://localhost:8080/"
        }
      },
      "source": [
        "x_train[0]"
      ],
      "execution_count": 23,
      "outputs": [
        {
          "output_type": "execute_result",
          "data": {
            "text/plain": [
              "array([   0,    0,    0,    0,    0,    0,    0,    0,    0,    0,    0,\n",
              "          0,    0,    0,    0,    0,    0,    0,    0,    0,    0,    0,\n",
              "          0,    0,    0,    0,    0,    0,    0,    0,    0,    0,    0,\n",
              "          0,    0,    0,    0,    0,    0,    0,    0,    0,    0,    0,\n",
              "          0,    0,    0,    0,    0,    0,    0,    0,    0,    0,    0,\n",
              "          0,    0,    0,    0,    0,    0,    0,    0,    0,    0,    0,\n",
              "          0,    0,    0,    0,    0,    0,    0,    0,    0,    0,    0,\n",
              "          0,    0,    0,    0,    0,    0,    0,    0,    0,    0,    0,\n",
              "          0,    0,    0,    0,    0,    0,    0,    0,    0,    0,    0,\n",
              "          0,    0,    0,    0,    0,    0,    0,    0,    0,    0,    0,\n",
              "          0,    0,    0,    0,    0,    0,    0,    0,    0,    0,    0,\n",
              "          0,    0,    0,    0,    0,    0,    0,    0,    0,    0,    0,\n",
              "          0,    0,    0,    0,    0,    0,    0,    0,    0,    0,    0,\n",
              "          0,    0,    0,    0,    0,    0,    0,    0,    0,    0,    0,\n",
              "          0,    0,    0,    0,    0,    0,    0,    0,    0,    0,    0,\n",
              "          0,    0,    0,    0,    0,    0,    0,    0,    0,    0,    0,\n",
              "          0,    0,    0,    0,    0,    0,    0,    0,    0,    0,    0,\n",
              "          0,    0,    0,    0,    0,    0,    0,    0,    0,    0,    0,\n",
              "          0,    0,    0,    0,    0,    0,    0,    0,    0,    0,    0,\n",
              "          0,    0,    0,    0,    0,    0,    0,    0,    0,    0,    0,\n",
              "          0,    0,    0,    0,    0,    0,    0,    0,    0,    0,    0,\n",
              "          0,    0,    0,    0,    0,    0,    0,    0,    0,    0,    0,\n",
              "          0,    0,    0,    0,    0,    0,    0,    0,    0,    0,    0,\n",
              "          0,    0,    0,    0,    0,    0,    0,    0,    0,    0,    0,\n",
              "          0,    0,    0,    0,    0,    0,    0,    0,    0,    0,    0,\n",
              "          0,    0,    0,    0,    0,    0,    0,    1,   14,   22,   16,\n",
              "         43,  530,  973, 1622, 1385,   65,  458, 4468,   66, 3941,    4,\n",
              "        173,   36,  256,    5,   25,  100,   43,  838,  112,   50,  670,\n",
              "          2,    9,   35,  480,  284,    5,  150,    4,  172,  112,  167,\n",
              "          2,  336,  385,   39,    4,  172, 4536, 1111,   17,  546,   38,\n",
              "         13,  447,    4,  192,   50,   16,    6,  147, 2025,   19,   14,\n",
              "         22,    4, 1920, 4613,  469,    4,   22,   71,   87,   12,   16,\n",
              "         43,  530,   38,   76,   15,   13, 1247,    4,   22,   17,  515,\n",
              "         17,   12,   16,  626,   18,    2,    5,   62,  386,   12,    8,\n",
              "        316,    8,  106,    5,    4, 2223, 5244,   16,  480,   66, 3785,\n",
              "         33,    4,  130,   12,   16,   38,  619,    5,   25,  124,   51,\n",
              "         36,  135,   48,   25, 1415,   33,    6,   22,   12,  215,   28,\n",
              "         77,   52,    5,   14,  407,   16,   82,    2,    8,    4,  107,\n",
              "        117, 5952,   15,  256,    4,    2,    7, 3766,    5,  723,   36,\n",
              "         71,   43,  530,  476,   26,  400,  317,   46,    7,    4,    2,\n",
              "       1029,   13,  104,   88,    4,  381,   15,  297,   98,   32, 2071,\n",
              "         56,   26,  141,    6,  194, 7486,   18,    4,  226,   22,   21,\n",
              "        134,  476,   26,  480,    5,  144,   30, 5535,   18,   51,   36,\n",
              "         28,  224,   92,   25,  104,    4,  226,   65,   16,   38, 1334,\n",
              "         88,   12,   16,  283,    5,   16, 4472,  113,  103,   32,   15,\n",
              "         16, 5345,   19,  178,   32], dtype=int32)"
            ]
          },
          "metadata": {
            "tags": []
          },
          "execution_count": 23
        }
      ]
    },
    {
      "cell_type": "code",
      "metadata": {
        "id": "72iIEUhFPHYo"
      },
      "source": [
        "y_train = np.asarray(train_label).astype('float32')\n",
        "y_test = np.asarray(test_label).astype('float32')"
      ],
      "execution_count": 24,
      "outputs": []
    },
    {
      "cell_type": "code",
      "metadata": {
        "id": "3ioBE-rbPUEi"
      },
      "source": [
        "# 모델 설계"
      ],
      "execution_count": 25,
      "outputs": []
    },
    {
      "cell_type": "code",
      "metadata": {
        "id": "PKWj4EK_Pad2"
      },
      "source": [
        "from keras import models, layers, regularizers"
      ],
      "execution_count": 26,
      "outputs": []
    },
    {
      "cell_type": "code",
      "metadata": {
        "id": "Ffwq0R-0Pn0e"
      },
      "source": [
        "model = models.Sequential([\n",
        "  layers.Embedding(input_dim=10000, output_dim=32),\n",
        "  layers.LSTM(32),\n",
        "  layers.Dropout(0.2),\n",
        "  layers.Dense(1, activation='sigmoid')\n",
        "])"
      ],
      "execution_count": 27,
      "outputs": []
    },
    {
      "cell_type": "code",
      "metadata": {
        "id": "zs0QzMOSQXa_",
        "outputId": "a8f10c63-4982-4533-b5f2-2cdca1f13a20",
        "colab": {
          "base_uri": "https://localhost:8080/"
        }
      },
      "source": [
        "model.summary()"
      ],
      "execution_count": 28,
      "outputs": [
        {
          "output_type": "stream",
          "text": [
            "Model: \"sequential\"\n",
            "_________________________________________________________________\n",
            "Layer (type)                 Output Shape              Param #   \n",
            "=================================================================\n",
            "embedding (Embedding)        (None, None, 32)          320000    \n",
            "_________________________________________________________________\n",
            "lstm (LSTM)                  (None, 32)                8320      \n",
            "_________________________________________________________________\n",
            "dropout (Dropout)            (None, 32)                0         \n",
            "_________________________________________________________________\n",
            "dense (Dense)                (None, 1)                 33        \n",
            "=================================================================\n",
            "Total params: 328,353\n",
            "Trainable params: 328,353\n",
            "Non-trainable params: 0\n",
            "_________________________________________________________________\n"
          ],
          "name": "stdout"
        }
      ]
    },
    {
      "cell_type": "code",
      "metadata": {
        "id": "hhGUWxTnQhFJ"
      },
      "source": [
        "model.compile(loss='binary_crossentropy', metrics=['accuracy'])"
      ],
      "execution_count": 29,
      "outputs": []
    },
    {
      "cell_type": "code",
      "metadata": {
        "id": "cm7wH4JtQqUt",
        "outputId": "47388614-9308-46f0-cd26-58c58f42f0d2",
        "colab": {
          "base_uri": "https://localhost:8080/"
        }
      },
      "source": [
        "history = model.fit(x_train, y_train, epochs=20, batch_size=128, validation_split=0.2)"
      ],
      "execution_count": 30,
      "outputs": [
        {
          "output_type": "stream",
          "text": [
            "Epoch 1/20\n",
            "157/157 [==============================] - 5s 30ms/step - loss: 0.5058 - accuracy: 0.7532 - val_loss: 0.3862 - val_accuracy: 0.8350\n",
            "Epoch 2/20\n",
            "157/157 [==============================] - 4s 28ms/step - loss: 0.2998 - accuracy: 0.8826 - val_loss: 0.3308 - val_accuracy: 0.8652\n",
            "Epoch 3/20\n",
            "157/157 [==============================] - 4s 28ms/step - loss: 0.2328 - accuracy: 0.9136 - val_loss: 0.6033 - val_accuracy: 0.8170\n",
            "Epoch 4/20\n",
            "157/157 [==============================] - 4s 28ms/step - loss: 0.2008 - accuracy: 0.9276 - val_loss: 0.3528 - val_accuracy: 0.8588\n",
            "Epoch 5/20\n",
            "157/157 [==============================] - 4s 28ms/step - loss: 0.1808 - accuracy: 0.9330 - val_loss: 0.3026 - val_accuracy: 0.8852\n",
            "Epoch 6/20\n",
            "157/157 [==============================] - 4s 28ms/step - loss: 0.1588 - accuracy: 0.9441 - val_loss: 0.6302 - val_accuracy: 0.8200\n",
            "Epoch 7/20\n",
            "157/157 [==============================] - 4s 28ms/step - loss: 0.1457 - accuracy: 0.9502 - val_loss: 0.3427 - val_accuracy: 0.8788\n",
            "Epoch 8/20\n",
            "157/157 [==============================] - 4s 26ms/step - loss: 0.1317 - accuracy: 0.9557 - val_loss: 0.3392 - val_accuracy: 0.8730\n",
            "Epoch 9/20\n",
            "157/157 [==============================] - 4s 28ms/step - loss: 0.1227 - accuracy: 0.9578 - val_loss: 0.3599 - val_accuracy: 0.8812\n",
            "Epoch 10/20\n",
            "157/157 [==============================] - 4s 27ms/step - loss: 0.1166 - accuracy: 0.9606 - val_loss: 0.6878 - val_accuracy: 0.7916\n",
            "Epoch 11/20\n",
            "157/157 [==============================] - 4s 27ms/step - loss: 0.1081 - accuracy: 0.9625 - val_loss: 0.7881 - val_accuracy: 0.7934\n",
            "Epoch 12/20\n",
            "157/157 [==============================] - 4s 27ms/step - loss: 0.0979 - accuracy: 0.9668 - val_loss: 0.4130 - val_accuracy: 0.8738\n",
            "Epoch 13/20\n",
            "157/157 [==============================] - 4s 27ms/step - loss: 0.0913 - accuracy: 0.9690 - val_loss: 0.4634 - val_accuracy: 0.8734\n",
            "Epoch 14/20\n",
            "157/157 [==============================] - 4s 28ms/step - loss: 0.0868 - accuracy: 0.9703 - val_loss: 0.4094 - val_accuracy: 0.8770\n",
            "Epoch 15/20\n",
            "157/157 [==============================] - 5s 29ms/step - loss: 0.0854 - accuracy: 0.9714 - val_loss: 0.4301 - val_accuracy: 0.8754\n",
            "Epoch 16/20\n",
            "157/157 [==============================] - 5s 29ms/step - loss: 0.0751 - accuracy: 0.9737 - val_loss: 0.4144 - val_accuracy: 0.8636\n",
            "Epoch 17/20\n",
            "157/157 [==============================] - 4s 27ms/step - loss: 0.0741 - accuracy: 0.9753 - val_loss: 0.7200 - val_accuracy: 0.8272\n",
            "Epoch 18/20\n",
            "157/157 [==============================] - 4s 27ms/step - loss: 0.0677 - accuracy: 0.9773 - val_loss: 0.4710 - val_accuracy: 0.8696\n",
            "Epoch 19/20\n",
            "157/157 [==============================] - 4s 27ms/step - loss: 0.0646 - accuracy: 0.9789 - val_loss: 0.5077 - val_accuracy: 0.8566\n",
            "Epoch 20/20\n",
            "157/157 [==============================] - 4s 27ms/step - loss: 0.0655 - accuracy: 0.9792 - val_loss: 0.8325 - val_accuracy: 0.8362\n"
          ],
          "name": "stdout"
        }
      ]
    },
    {
      "cell_type": "code",
      "metadata": {
        "id": "4MaXRGsOQyoE"
      },
      "source": [
        "# accuracy: 0.9291 - val_loss: 0.4126 - val_accuracy: 0.8570\n",
        "\n",
        "import matplotlib.pyplot as plt"
      ],
      "execution_count": 34,
      "outputs": []
    },
    {
      "cell_type": "code",
      "metadata": {
        "id": "tUmLkZkHSekP"
      },
      "source": [
        "loss = history.history['loss']\n",
        "val_loss = history.history['val_loss']\n",
        "\n",
        "acc = history.history['accuracy']\n",
        "val_acc = history.history['val_accuracy']"
      ],
      "execution_count": 35,
      "outputs": []
    },
    {
      "cell_type": "code",
      "metadata": {
        "id": "eMD64sLNSrX8"
      },
      "source": [
        "epochs = range(1, len(acc) + 1)"
      ],
      "execution_count": 36,
      "outputs": []
    },
    {
      "cell_type": "code",
      "metadata": {
        "id": "-WpUdNj1SuHa",
        "outputId": "63a25941-b24d-4f81-c93a-8e33fd73c39a",
        "colab": {
          "base_uri": "https://localhost:8080/",
          "height": 282
        }
      },
      "source": [
        "plt.plot(epochs, loss, 'b')\n",
        "plt.plot(epochs, val_loss, 'r')"
      ],
      "execution_count": 37,
      "outputs": [
        {
          "output_type": "execute_result",
          "data": {
            "text/plain": [
              "[<matplotlib.lines.Line2D at 0x7f1170e08e48>]"
            ]
          },
          "metadata": {
            "tags": []
          },
          "execution_count": 37
        },
        {
          "output_type": "display_data",
          "data": {
            "image/png": "[encoded data removed]",
            "text/plain": [
              "<Figure size 432x288 with 1 Axes>"
            ]
          },
          "metadata": {
            "tags": [],
            "needs_background": "light"
          }
        }
      ]
    },
    {
      "cell_type": "code",
      "metadata": {
        "id": "ji6csBtDSzZb",
        "outputId": "44439634-5222-460d-a80b-688df01a74a2",
        "colab": {
          "base_uri": "https://localhost:8080/",
          "height": 282
        }
      },
      "source": [
        "plt.plot(epochs, acc, 'b')\n",
        "plt.plot(epochs, val_acc, 'r')"
      ],
      "execution_count": 38,
      "outputs": [
        {
          "output_type": "execute_result",
          "data": {
            "text/plain": [
              "[<matplotlib.lines.Line2D at 0x7f116424add8>]"
            ]
          },
          "metadata": {
            "tags": []
          },
          "execution_count": 38
        },
        {
          "output_type": "display_data",
          "data": {
            "image/png": "[encoded data removed]",
            "text/plain": [
              "<Figure size 432x288 with 1 Axes>"
            ]
          },
          "metadata": {
            "tags": [],
            "needs_background": "light"
          }
        }
      ]
    },
    {
      "cell_type": "code",
      "metadata": {
        "id": "jc1hcip6S6nY",
        "outputId": "91fb54f2-817b-42c8-d530-fc11cf73f5ef",
        "colab": {
          "base_uri": "https://localhost:8080/"
        }
      },
      "source": [
        "model.evaluate(x_test, y_test)"
      ],
      "execution_count": 40,
      "outputs": [
        {
          "output_type": "stream",
          "text": [
            "782/782 [==============================] - 8s 10ms/step - loss: 0.8762 - accuracy: 0.8236\n"
          ],
          "name": "stdout"
        },
        {
          "output_type": "execute_result",
          "data": {
            "text/plain": [
              "[0.8761695027351379, 0.8235599994659424]"
            ]
          },
          "metadata": {
            "tags": []
          },
          "execution_count": 40
        }
      ]
    },
    {
      "cell_type": "code",
      "metadata": {
        "id": "dUy_voPqTTp2"
      },
      "source": [
        ""
      ],
      "execution_count": null,
      "outputs": []
    }
  ]
}