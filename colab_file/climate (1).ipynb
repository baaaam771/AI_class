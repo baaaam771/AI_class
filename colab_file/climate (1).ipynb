{
  "nbformat": 4,
  "nbformat_minor": 0,
  "metadata": {
    "colab": {
      "name": "climate.ipynb",
      "provenance": []
    },
    "kernelspec": {
      "name": "python3",
      "display_name": "Python 3"
    },
    "accelerator": "GPU"
  },
  "cells": [
    {
      "cell_type": "code",
      "metadata": {
        "id": "qy5on1v7XQL9"
      },
      "source": [
        "data_file_path = '/content/drive/My Drive/Colab Notebooks/datasets/jena_climate_2009_2016.csv'"
      ],
      "execution_count": 1,
      "outputs": []
    },
    {
      "cell_type": "code",
      "metadata": {
        "id": "781cMEkiXlBl"
      },
      "source": [
        "f = open(data_file_path)\n",
        "data = f.read()\n",
        "f.close()"
      ],
      "execution_count": 2,
      "outputs": []
    },
    {
      "cell_type": "code",
      "metadata": {
        "id": "HBYcMbTbXuXW"
      },
      "source": [
        "data_lines = data.split('\\n')"
      ],
      "execution_count": 3,
      "outputs": []
    },
    {
      "cell_type": "code",
      "metadata": {
        "id": "B_odJ1nQX4c9"
      },
      "source": [
        "header = data_lines[0].split(',')"
      ],
      "execution_count": 4,
      "outputs": []
    },
    {
      "cell_type": "code",
      "metadata": {
        "id": "jqaDQYqJX74N",
        "outputId": "b4d0aff3-36b8-4cf3-eece-f40b880af997",
        "colab": {
          "base_uri": "https://localhost:8080/"
        }
      },
      "source": [
        "header"
      ],
      "execution_count": 5,
      "outputs": [
        {
          "output_type": "execute_result",
          "data": {
            "text/plain": [
              "['\"Date Time\"',\n",
              " '\"p (mbar)\"',\n",
              " '\"T (degC)\"',\n",
              " '\"Tpot (K)\"',\n",
              " '\"Tdew (degC)\"',\n",
              " '\"rh (%)\"',\n",
              " '\"VPmax (mbar)\"',\n",
              " '\"VPact (mbar)\"',\n",
              " '\"VPdef (mbar)\"',\n",
              " '\"sh (g/kg)\"',\n",
              " '\"H2OC (mmol/mol)\"',\n",
              " '\"rho (g/m**3)\"',\n",
              " '\"wv (m/s)\"',\n",
              " '\"max. wv (m/s)\"',\n",
              " '\"wd (deg)\"']"
            ]
          },
          "metadata": {
            "tags": []
          },
          "execution_count": 5
        }
      ]
    },
    {
      "cell_type": "code",
      "metadata": {
        "id": "_qGekZH-X-Ok"
      },
      "source": [
        "data_lines = data_lines[1:]"
      ],
      "execution_count": 6,
      "outputs": []
    },
    {
      "cell_type": "code",
      "metadata": {
        "id": "c2NRKS30YGKl"
      },
      "source": [
        "import numpy as np"
      ],
      "execution_count": 7,
      "outputs": []
    },
    {
      "cell_type": "code",
      "metadata": {
        "id": "ZaFwqx_VYI_2"
      },
      "source": [
        "float_data = np.zeros((len(data_lines), len(header) - 1))\n",
        "for idx, line in enumerate(data_lines):\n",
        "  value = [float(x) for x in line.split(',')[1:]]\n",
        "  float_data[idx, :] = value"
      ],
      "execution_count": 8,
      "outputs": []
    },
    {
      "cell_type": "code",
      "metadata": {
        "id": "hC1bmQBPYgos",
        "outputId": "63153596-2cf6-4a7c-eb1a-1d0db2cd961e",
        "colab": {
          "base_uri": "https://localhost:8080/",
          "height": 285
        }
      },
      "source": [
        "import matplotlib.pyplot as plt\n",
        "\n",
        "temperature = float_data[:,1]\n",
        "plt.plot(range(len(temperature)), temperature)"
      ],
      "execution_count": 9,
      "outputs": [
        {
          "output_type": "execute_result",
          "data": {
            "text/plain": [
              "[<matplotlib.lines.Line2D at 0x7f51136a6f60>]"
            ]
          },
          "metadata": {
            "tags": []
          },
          "execution_count": 9
        },
        {
          "output_type": "display_data",
          "data": {
            "image/png": "[encoded data removed]",
            "text/plain": [
              "<Figure size 432x288 with 1 Axes>"
            ]
          },
          "metadata": {
            "tags": [],
            "needs_background": "light"
          }
        }
      ]
    },
    {
      "cell_type": "code",
      "metadata": {
        "id": "GgCZmJYMYzDV",
        "outputId": "e16df8d0-79b8-4c3c-c7f1-a369291c56d9",
        "colab": {
          "base_uri": "https://localhost:8080/",
          "height": 282
        }
      },
      "source": [
        "plt.plot(range(10 * 24 ), temperature[:10*24])"
      ],
      "execution_count": 10,
      "outputs": [
        {
          "output_type": "execute_result",
          "data": {
            "text/plain": [
              "[<matplotlib.lines.Line2D at 0x7f51131e14a8>]"
            ]
          },
          "metadata": {
            "tags": []
          },
          "execution_count": 10
        },
        {
          "output_type": "display_data",
          "data": {
            "image/png": "[encoded data removed]",
            "text/plain": [
              "<Figure size 432x288 with 1 Axes>"
            ]
          },
          "metadata": {
            "tags": [],
            "needs_background": "light"
          }
        }
      ]
    },
    {
      "cell_type": "code",
      "metadata": {
        "id": "s9Z9JyjaZSQ9",
        "outputId": "ebe5cd6d-9484-474d-d4aa-dd6c47b0a3ae",
        "colab": {
          "base_uri": "https://localhost:8080/"
        }
      },
      "source": [
        "mean = float_data[:200000].mean(axis=0)\n",
        "float_data -= mean\n",
        "std = float_data[:200000].std(axis=0)\n",
        "float_data /= std\n",
        "\n",
        "float_data"
      ],
      "execution_count": 11,
      "outputs": [
        {
          "output_type": "execute_result",
          "data": {
            "text/plain": [
              "array([[ 0.90014748, -1.93135845, -1.98211036, ..., -0.72950452,\n",
              "        -0.78067973, -0.27613603],\n",
              "       [ 0.9060434 , -1.97541381, -2.02567   , ..., -0.93124017,\n",
              "        -0.88794488, -0.46317443],\n",
              "       [ 0.90132666, -1.98671006, -2.03683914, ..., -1.27614304,\n",
              "        -1.26122763, -0.05330633],\n",
              "       ...,\n",
              "       [ 1.28927851, -1.38236094, -1.46721307, ..., -0.69696652,\n",
              "        -0.67341457,  0.45008097],\n",
              "       [ 1.28809932, -1.50323076, -1.58672285, ..., -0.43015486,\n",
              "        -0.60476487,  0.57246412],\n",
              "       [ 1.28927851, -1.56987861, -1.65150386, ..., -0.5993525 ,\n",
              "        -0.690577  ,  0.10024989]])"
            ]
          },
          "metadata": {
            "tags": []
          },
          "execution_count": 11
        }
      ]
    },
    {
      "cell_type": "code",
      "metadata": {
        "id": "VSP4PB2YaT_V",
        "outputId": "55cc21dd-6048-415e-d7f0-c543d73a4a05",
        "colab": {
          "base_uri": "https://localhost:8080/",
          "height": 282
        }
      },
      "source": [
        "Ulim = 202000\n",
        "Llim = 200000\n",
        "SamSize = Ulim - Llim\n",
        "\n",
        "plt.plot(range(SamSize), temperature[Llim:Ulim], 'r')"
      ],
      "execution_count": 12,
      "outputs": [
        {
          "output_type": "execute_result",
          "data": {
            "text/plain": [
              "[<matplotlib.lines.Line2D at 0x7f51131714e0>]"
            ]
          },
          "metadata": {
            "tags": []
          },
          "execution_count": 12
        },
        {
          "output_type": "display_data",
          "data": {
            "image/png": "[encoded data removed]",
            "text/plain": [
              "<Figure size 432x288 with 1 Axes>"
            ]
          },
          "metadata": {
            "tags": [],
            "needs_background": "light"
          }
        }
      ]
    },
    {
      "cell_type": "code",
      "metadata": {
        "id": "EzqU1QyTZsJw"
      },
      "source": [
        "def generator(data, lookback, delay, min_index, max_index, shuffle=False, batch_size=128, step=6):\n",
        "    if max_index is None:\n",
        "        max_index = len(data) - delay - 1\n",
        "    i = min_index + lookback\n",
        "    while 1:\n",
        "        if shuffle:\n",
        "            rows = np.random.randint(min_index + lookback, max_index, size=batch_size)\n",
        "        else:\n",
        "            if i + batch_size >= max_index:\n",
        "                i = min_index + lookback\n",
        "            rows = np.arange(i, min(i + batch_size, max_index))\n",
        "            i += len(rows)\n",
        "        samples = np.zeros((len(rows),lookback // step,data.shape[-1]))\n",
        "        targets = np.zeros((len(rows),))\n",
        "        for j, row in enumerate(rows):\n",
        "            indices = range(rows[j] - lookback, rows[j], step)\n",
        "            samples[j] = data[indices]\n",
        "            targets[j] = data[rows[j] + delay][1]\n",
        "        yield samples, targets"
      ],
      "execution_count": 13,
      "outputs": []
    },
    {
      "cell_type": "code",
      "metadata": {
        "id": "DQP_EWN1ajIa"
      },
      "source": [
        "train_gen = generator(float_data, 1440, 144, min_index=200001, max_index=300000, shuffle=True)"
      ],
      "execution_count": 14,
      "outputs": []
    },
    {
      "cell_type": "code",
      "metadata": {
        "id": "kCKQVjkJbFf7"
      },
      "source": [
        "validation_gen = generator(float_data, 1440, 144, min_index=200001, max_index=300000)"
      ],
      "execution_count": 15,
      "outputs": []
    },
    {
      "cell_type": "code",
      "metadata": {
        "id": "Fcx-BXTMbO_h"
      },
      "source": [
        "test_gen = generator(float_data, 1440, 144, min_index=300000, max_index=None)"
      ],
      "execution_count": 16,
      "outputs": []
    },
    {
      "cell_type": "code",
      "metadata": {
        "id": "17gjwsUybUn8"
      },
      "source": [
        "val_steps = (300000 - 200001 - 1440) // 128 \n",
        "test_steps = (len(float_data) - 300001 - 1440) // 128  "
      ],
      "execution_count": 17,
      "outputs": []
    },
    {
      "cell_type": "code",
      "metadata": {
        "id": "F2uPzCdAbll8",
        "outputId": "4792777f-3666-4114-99a0-c39a18430e5d",
        "colab": {
          "base_uri": "https://localhost:8080/"
        }
      },
      "source": [
        "val_steps, test_steps"
      ],
      "execution_count": 18,
      "outputs": [
        {
          "output_type": "execute_result",
          "data": {
            "text/plain": [
              "(769, 930)"
            ]
          },
          "metadata": {
            "tags": []
          },
          "execution_count": 18
        }
      ]
    },
    {
      "cell_type": "code",
      "metadata": {
        "id": "apDZ2rLvbqQY"
      },
      "source": [
        "from keras.models import Sequential\n",
        "from keras import layers"
      ],
      "execution_count": 19,
      "outputs": []
    },
    {
      "cell_type": "code",
      "metadata": {
        "id": "5lxbGkI8b4K-"
      },
      "source": [
        "model = Sequential([\n",
        "    layers.LSTM(32, input_shape=(None,float_data.shape[-1])),\n",
        "    layers.Dense(1)\n",
        "])"
      ],
      "execution_count": 20,
      "outputs": []
    },
    {
      "cell_type": "code",
      "metadata": {
        "id": "WU_P0GeycEa3"
      },
      "source": [
        "model.compile(loss='mse', metrics=['mae'])"
      ],
      "execution_count": 21,
      "outputs": []
    },
    {
      "cell_type": "code",
      "metadata": {
        "id": "amEOhu6UcPII",
        "outputId": "a86186db-8d9c-41f2-8169-c3fc139714ff",
        "colab": {
          "base_uri": "https://localhost:8080/"
        }
      },
      "source": [
        "model.fit_generator(train_gen, steps_per_epoch=500, epochs=20, validation_data=validation_gen, validation_steps=val_steps)\n"
      ],
      "execution_count": 23,
      "outputs": [
        {
          "output_type": "stream",
          "text": [
            "WARNING:tensorflow:From <ipython-input-23-e417a8bb7d2d>:1: Model.fit_generator (from tensorflow.python.keras.engine.training) is deprecated and will be removed in a future version.\n",
            "Instructions for updating:\n",
            "Please use Model.fit, which supports generators.\n",
            "Epoch 1/20\n",
            "500/500 [==============================] - 18s 36ms/step - loss: 0.1277 - mae: 0.2770 - val_loss: 0.1022 - val_mae: 0.2485\n",
            "Epoch 2/20\n",
            "500/500 [==============================] - 17s 35ms/step - loss: 0.0925 - mae: 0.2350 - val_loss: 0.0885 - val_mae: 0.2290\n",
            "Epoch 3/20\n",
            "500/500 [==============================] - 17s 34ms/step - loss: 0.0762 - mae: 0.2127 - val_loss: 0.0688 - val_mae: 0.2024\n",
            "Epoch 4/20\n",
            "500/500 [==============================] - 17s 34ms/step - loss: 0.0639 - mae: 0.1952 - val_loss: 0.0561 - val_mae: 0.1835\n",
            "Epoch 5/20\n",
            "500/500 [==============================] - 17s 33ms/step - loss: 0.0545 - mae: 0.1808 - val_loss: 0.0492 - val_mae: 0.1724\n",
            "Epoch 6/20\n",
            "500/500 [==============================] - 17s 33ms/step - loss: 0.0468 - mae: 0.1675 - val_loss: 0.0439 - val_mae: 0.1624\n",
            "Epoch 7/20\n",
            "500/500 [==============================] - 16s 33ms/step - loss: 0.0415 - mae: 0.1577 - val_loss: 0.0386 - val_mae: 0.1517\n",
            "Epoch 8/20\n",
            "500/500 [==============================] - 17s 33ms/step - loss: 0.0379 - mae: 0.1503 - val_loss: 0.0353 - val_mae: 0.1460\n",
            "Epoch 9/20\n",
            "500/500 [==============================] - 17s 33ms/step - loss: 0.0345 - mae: 0.1437 - val_loss: 0.0326 - val_mae: 0.1400\n",
            "Epoch 10/20\n",
            "500/500 [==============================] - 16s 33ms/step - loss: 0.0321 - mae: 0.1385 - val_loss: 0.0322 - val_mae: 0.1383\n",
            "Epoch 11/20\n",
            "500/500 [==============================] - 17s 33ms/step - loss: 0.0300 - mae: 0.1339 - val_loss: 0.0280 - val_mae: 0.1295\n",
            "Epoch 12/20\n",
            "500/500 [==============================] - 16s 33ms/step - loss: 0.0283 - mae: 0.1298 - val_loss: 0.0290 - val_mae: 0.1300\n",
            "Epoch 13/20\n",
            "500/500 [==============================] - 17s 35ms/step - loss: 0.0268 - mae: 0.1259 - val_loss: 0.0251 - val_mae: 0.1220\n",
            "Epoch 14/20\n",
            "500/500 [==============================] - 16s 33ms/step - loss: 0.0252 - mae: 0.1222 - val_loss: 0.0241 - val_mae: 0.1194\n",
            "Epoch 15/20\n",
            "500/500 [==============================] - 16s 33ms/step - loss: 0.0243 - mae: 0.1200 - val_loss: 0.0236 - val_mae: 0.1179\n",
            "Epoch 16/20\n",
            "500/500 [==============================] - 16s 33ms/step - loss: 0.0230 - mae: 0.1166 - val_loss: 0.0213 - val_mae: 0.1125\n",
            "Epoch 17/20\n",
            "500/500 [==============================] - 16s 33ms/step - loss: 0.0220 - mae: 0.1142 - val_loss: 0.0238 - val_mae: 0.1178\n",
            "Epoch 18/20\n",
            "500/500 [==============================] - 17s 33ms/step - loss: 0.0215 - mae: 0.1126 - val_loss: 0.0227 - val_mae: 0.1163\n",
            "Epoch 19/20\n",
            "500/500 [==============================] - 17s 33ms/step - loss: 0.0203 - mae: 0.1100 - val_loss: 0.0207 - val_mae: 0.1112\n",
            "Epoch 20/20\n",
            "500/500 [==============================] - 17s 33ms/step - loss: 0.0195 - mae: 0.1077 - val_loss: 0.0203 - val_mae: 0.1096\n"
          ],
          "name": "stdout"
        },
        {
          "output_type": "execute_result",
          "data": {
            "text/plain": [
              "<tensorflow.python.keras.callbacks.History at 0x7f50840275c0>"
            ]
          },
          "metadata": {
            "tags": []
          },
          "execution_count": 23
        }
      ]
    },
    {
      "cell_type": "code",
      "metadata": {
        "id": "I7MSb5decnjx"
      },
      "source": [
        ""
      ],
      "execution_count": null,
      "outputs": []
    }
  ]
}