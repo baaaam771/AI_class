{
  "nbformat": 4,
  "nbformat_minor": 0,
  "metadata": {
    "colab": {
      "name": "ner-lab",
      "provenance": []
    },
    "kernelspec": {
      "name": "python3",
      "display_name": "Python 3"
    },
    "accelerator": "GPU"
  },
  "cells": [
    {
      "cell_type": "code",
      "metadata": {
        "id": "Eb92sB2zwyUT",
        "outputId": "916bb653-3dba-49d7-e420-a6e6d6478973",
        "colab": {
          "base_uri": "https://localhost:8080/"
        }
      },
      "source": [
        "!wget \"https://drive.google.com/uc?export=download&id=1XmcZ9xrqgM_LTA1H2A3YRXrCuuiHBUmT\" -O \"train_data.txt\""
      ],
      "execution_count": null,
      "outputs": [
        {
          "output_type": "stream",
          "text": [
            "--2020-11-06 04:27:42--  https://drive.google.com/uc?export=download&id=1XmcZ9xrqgM_LTA1H2A3YRXrCuuiHBUmT\n",
            "Resolving drive.google.com (drive.google.com)... 108.177.125.101, 108.177.125.113, 108.177.125.138, ...\n",
            "Connecting to drive.google.com (drive.google.com)|108.177.125.101|:443... connected.\n",
            "HTTP request sent, awaiting response... 302 Moved Temporarily\n",
            "Location: https://doc-0c-94-docs.googleusercontent.com/docs/securesc/ha0ro937gcuc7l7deffksulhg5h7mbp1/56ti305j77rjp541hotcobjllhfslii4/1604636850000/13472183013488020071/*/1XmcZ9xrqgM_LTA1H2A3YRXrCuuiHBUmT?e=download [following]\n",
            "Warning: wildcards not supported in HTTP.\n",
            "--2020-11-06 04:27:43--  https://doc-0c-94-docs.googleusercontent.com/docs/securesc/ha0ro937gcuc7l7deffksulhg5h7mbp1/56ti305j77rjp541hotcobjllhfslii4/1604636850000/13472183013488020071/*/1XmcZ9xrqgM_LTA1H2A3YRXrCuuiHBUmT?e=download\n",
            "Resolving doc-0c-94-docs.googleusercontent.com (doc-0c-94-docs.googleusercontent.com)... 108.177.97.132, 2404:6800:4008:c00::84\n",
            "Connecting to doc-0c-94-docs.googleusercontent.com (doc-0c-94-docs.googleusercontent.com)|108.177.97.132|:443... connected.\n",
            "HTTP request sent, awaiting response... 200 OK\n",
            "Length: unspecified [application/octet-stream]\n",
            "Saving to: ‘train_data.txt’\n",
            "\n",
            "train_data.txt          [ <=>                ]  16.16M  --.-KB/s    in 0.1s    \n",
            "\n",
            "2020-11-06 04:27:43 (150 MB/s) - ‘train_data.txt’ saved [16945023]\n",
            "\n"
          ],
          "name": "stdout"
        }
      ]
    },
    {
      "cell_type": "code",
      "metadata": {
        "id": "p9FfWPZ5xFIR"
      },
      "source": [
        "import pandas as pd\n",
        "import numpy as np\n",
        "import matplotlib.pyplot as plt\n",
        "from tensorflow.keras.preprocessing.text import Tokenizer\n",
        "from tensorflow.keras.preprocessing.sequence import pad_sequences\n",
        "from sklearn.model_selection import train_test_split\n",
        "from tensorflow.keras.utils import to_categorical\n",
        "from collections import Counter \n",
        "import re"
      ],
      "execution_count": null,
      "outputs": []
    },
    {
      "cell_type": "code",
      "metadata": {
        "id": "Duc5D6WCx3VX"
      },
      "source": [
        "f = open('train_data.txt', 'r')\n",
        "\n",
        "vocab=Counter()\n",
        "sentences = []\n",
        "sentence = []\n",
        "# 파이썬의 set은 중복을 허용하지 않는다. 개체명 태깅의 경우의 수.\n",
        "# 즉, 종류를 알아내기 위함이다.  \n",
        "ner_set = set()\n",
        "\n",
        "for line in f:\n",
        "    if len(line)==0 or line.startswith('-DOCSTART') or line[0]==\"\\n\":\n",
        "        if len(sentence) > 0:\n",
        "            sentences.append(sentence)\n",
        "            sentence=[]\n",
        "        continue\n",
        "\n",
        "    # 공백을 기준으로 속성을 구분한다.\n",
        "    splits = line.split('\\t')\n",
        "    # 개체명 태깅 뒤에 붙어있는 줄바꿈 표시 \\n을 제거한다.\n",
        "    splits[-1] = re.sub(r'\\n', '', splits[-1])\n",
        "    word=splits[1]\n",
        "    # 단어마다 빈도 수가 몇 인지 기록한다.\n",
        "    vocab[word]=vocab[word]+1\n",
        "    # 단어와 개체명 태깅만 기록한다.\n",
        "    sentence.append([word, splits[-1]])\n",
        "    # set에다가 개체명 태깅을 집어 넣는다. 중복은 허용되지 않으므로\n",
        "    # 나중에 개체명 태깅이 어떤 종류가 있는지 확인할 수 있다.\n",
        "    ner_set.add(splits[-1])"
      ],
      "execution_count": null,
      "outputs": []
    },
    {
      "cell_type": "code",
      "metadata": {
        "id": "LiAsRrEVy9zr",
        "outputId": "df687de9-ab1d-4d96-a9fe-a93192ea7b33",
        "colab": {
          "base_uri": "https://localhost:8080/"
        }
      },
      "source": [
        "sentences[:3]"
      ],
      "execution_count": null,
      "outputs": [
        {
          "output_type": "execute_result",
          "data": {
            "text/plain": [
              "[[['비토리오', 'PER_B'],\n",
              "  ['양일', 'DAT_B'],\n",
              "  ['만에', '-'],\n",
              "  ['영사관', 'ORG_B'],\n",
              "  ['감호', 'CVL_B'],\n",
              "  ['용퇴,', '-'],\n",
              "  ['항룡', '-'],\n",
              "  ['압력설', '-'],\n",
              "  ['의심만', '-'],\n",
              "  ['가율', '-']],\n",
              " [['이', '-'],\n",
              "  ['음경동맥의', '-'],\n",
              "  ['직경이', '-'],\n",
              "  ['8', 'NUM_B'],\n",
              "  ['19mm입니다', 'NUM_B'],\n",
              "  ['.', '-']],\n",
              " [['9세이브로', 'NUM_B'],\n",
              "  ['구완', '-'],\n",
              "  ['30위인', 'NUM_B'],\n",
              "  ['LG', 'ORG_B'],\n",
              "  ['박찬형은', 'PER_B'],\n",
              "  ['평균자책점이', '-'],\n",
              "  ['16.45로', 'NUM_B'],\n",
              "  ['준수한', '-'],\n",
              "  ['편이지만', '-'],\n",
              "  ['22⅓이닝', 'NUM_B'],\n",
              "  ['동안', '-'],\n",
              "  ['피홈런이', '-'],\n",
              "  ['31개나', 'NUM_B'],\n",
              "  ['된다', '-'],\n",
              "  ['.', '-']]]"
            ]
          },
          "metadata": {
            "tags": []
          },
          "execution_count": 24
        }
      ]
    },
    {
      "cell_type": "code",
      "metadata": {
        "id": "Ydx5joIMzJYx",
        "outputId": "907cb32f-acb8-4c90-d8de-c7edb9e2c68c",
        "colab": {
          "base_uri": "https://localhost:8080/"
        }
      },
      "source": [
        "len(vocab)"
      ],
      "execution_count": null,
      "outputs": [
        {
          "output_type": "execute_result",
          "data": {
            "text/plain": [
              "331196"
            ]
          },
          "metadata": {
            "tags": []
          },
          "execution_count": 25
        }
      ]
    },
    {
      "cell_type": "code",
      "metadata": {
        "id": "0Cw9aKCS2LmM",
        "outputId": "695e1170-77d3-4e8d-febe-c5c6ee2d2a66",
        "colab": {
          "base_uri": "https://localhost:8080/"
        }
      },
      "source": [
        "ner_set"
      ],
      "execution_count": null,
      "outputs": [
        {
          "output_type": "execute_result",
          "data": {
            "text/plain": [
              "{'-',\n",
              " 'AFW_B',\n",
              " 'AFW_I',\n",
              " 'ANM_B',\n",
              " 'ANM_I',\n",
              " 'CVL_B',\n",
              " 'CVL_I',\n",
              " 'DAT_B',\n",
              " 'DAT_I',\n",
              " 'EVT_B',\n",
              " 'EVT_I',\n",
              " 'FLD_B',\n",
              " 'FLD_I',\n",
              " 'LOC_B',\n",
              " 'LOC_I',\n",
              " 'MAT_B',\n",
              " 'MAT_I',\n",
              " 'NUM_B',\n",
              " 'NUM_I',\n",
              " 'ORG_B',\n",
              " 'ORG_I',\n",
              " 'PER_B',\n",
              " 'PER_I',\n",
              " 'PLT_B',\n",
              " 'PLT_I',\n",
              " 'TIM_B',\n",
              " 'TIM_I',\n",
              " 'TRM_B',\n",
              " 'TRM_I'}"
            ]
          },
          "metadata": {
            "tags": []
          },
          "execution_count": 26
        }
      ]
    },
    {
      "cell_type": "code",
      "metadata": {
        "id": "CJBspGZE2lkp"
      },
      "source": [
        "vocab_sorted = sorted(vocab.items(), key=lambda x: x[1], reverse=True)"
      ],
      "execution_count": null,
      "outputs": []
    },
    {
      "cell_type": "code",
      "metadata": {
        "id": "eJJq95sr2xBB",
        "outputId": "60649200-fc1f-4a7b-ffb9-a8e3e2a9433b",
        "colab": {
          "base_uri": "https://localhost:8080/"
        }
      },
      "source": [
        "vocab_sorted[-1]"
      ],
      "execution_count": null,
      "outputs": [
        {
          "output_type": "execute_result",
          "data": {
            "text/plain": [
              "('레노버가', 1)"
            ]
          },
          "metadata": {
            "tags": []
          },
          "execution_count": 29
        }
      ]
    },
    {
      "cell_type": "code",
      "metadata": {
        "id": "ODdMUvR_20Ix"
      },
      "source": [
        "word_to_idx = { w: i + 2 for i, (w, n) in enumerate(vocab_sorted) }"
      ],
      "execution_count": null,
      "outputs": []
    },
    {
      "cell_type": "code",
      "metadata": {
        "id": "uKeoq9Fe3DqJ"
      },
      "source": [
        "word_to_idx['PAD'] = 0\n",
        "word_to_idx['OOV'] = 1"
      ],
      "execution_count": null,
      "outputs": []
    },
    {
      "cell_type": "code",
      "metadata": {
        "id": "emMKbZQO3OWZ",
        "outputId": "50c34ce2-a191-4953-bf28-6b5259d9acc8",
        "colab": {
          "base_uri": "https://localhost:8080/"
        }
      },
      "source": [
        "ner_to_idx = {}\n",
        "ner_to_idx['PAD'] = 0\n",
        "i = 1\n",
        "\n",
        "for ner in ner_set:\n",
        "  ner_to_idx[ner] = i\n",
        "  i += 1\n",
        "\n",
        "ner_to_idx"
      ],
      "execution_count": null,
      "outputs": [
        {
          "output_type": "execute_result",
          "data": {
            "text/plain": [
              "{'-': 21,\n",
              " 'AFW_B': 6,\n",
              " 'AFW_I': 1,\n",
              " 'ANM_B': 23,\n",
              " 'ANM_I': 10,\n",
              " 'CVL_B': 3,\n",
              " 'CVL_I': 7,\n",
              " 'DAT_B': 24,\n",
              " 'DAT_I': 12,\n",
              " 'EVT_B': 13,\n",
              " 'EVT_I': 19,\n",
              " 'FLD_B': 16,\n",
              " 'FLD_I': 18,\n",
              " 'LOC_B': 26,\n",
              " 'LOC_I': 8,\n",
              " 'MAT_B': 25,\n",
              " 'MAT_I': 14,\n",
              " 'NUM_B': 29,\n",
              " 'NUM_I': 2,\n",
              " 'ORG_B': 27,\n",
              " 'ORG_I': 15,\n",
              " 'PAD': 0,\n",
              " 'PER_B': 11,\n",
              " 'PER_I': 28,\n",
              " 'PLT_B': 22,\n",
              " 'PLT_I': 17,\n",
              " 'TIM_B': 4,\n",
              " 'TIM_I': 20,\n",
              " 'TRM_B': 5,\n",
              " 'TRM_I': 9}"
            ]
          },
          "metadata": {
            "tags": []
          },
          "execution_count": 33
        }
      ]
    },
    {
      "cell_type": "code",
      "metadata": {
        "id": "7fZDhsXt3nWZ"
      },
      "source": [
        "data_x = []\n",
        "\n",
        "for s in sentences:\n",
        "  temp_x = []\n",
        "\n",
        "  for w, label in s:\n",
        "    data = word_to_idx.get(w, 1)\n",
        "\n",
        "    if data:\n",
        "      temp_x.append(word_to_idx.get(w, 1))\n",
        "    else:\n",
        "      temp_x.append(word_to_idx['PAD'])\n",
        "\n",
        "  data_x.append(temp_x)"
      ],
      "execution_count": null,
      "outputs": []
    },
    {
      "cell_type": "code",
      "metadata": {
        "id": "9CbYmHK54RiJ",
        "outputId": "baf1f311-ee62-438b-9f2a-39d1c3f91df3",
        "colab": {
          "base_uri": "https://localhost:8080/"
        }
      },
      "source": [
        "index_to_word = {}\n",
        "\n",
        "for k,v in word_to_idx.items():\n",
        "  index_to_word[v] = k\n",
        "\n",
        "tmp = []\n",
        "\n",
        "for idx in data_x[0]:\n",
        "  tmp.append(index_to_word[idx])\n",
        "\n",
        "print(tmp)"
      ],
      "execution_count": null,
      "outputs": [
        {
          "output_type": "stream",
          "text": [
            "['비토리오', '양일', '만에', '영사관', '감호', '용퇴,', '항룡', '압력설', '의심만', '가율']\n"
          ],
          "name": "stdout"
        }
      ]
    },
    {
      "cell_type": "code",
      "metadata": {
        "id": "oLF86eY14YeJ"
      },
      "source": [
        "data_y = []\n",
        "\n",
        "for s in sentences:\n",
        "  tmp_y = []\n",
        "\n",
        "  for w, label in s:\n",
        "    tmp_y.append(ner_to_idx.get(label))\n",
        "\n",
        "  data_y.append(tmp_y)"
      ],
      "execution_count": null,
      "outputs": []
    },
    {
      "cell_type": "code",
      "metadata": {
        "id": "KaxVVWDM5JtC",
        "outputId": "eff04062-e78e-4f5d-c927-efbb93daed07",
        "colab": {
          "base_uri": "https://localhost:8080/",
          "height": 279
        }
      },
      "source": [
        "import matplotlib.pyplot as plt\n",
        "\n",
        "plt.hist([len(s) for s in data_x], bins=50)\n",
        "plt.xlabel('length of Data')\n",
        "plt.ylabel('number of Data')\n",
        "plt.show()"
      ],
      "execution_count": null,
      "outputs": [
        {
          "output_type": "display_data",
          "data": {
            "image/png": "[encoded data removed]",
            "text/plain": [
              "<Figure size 432x288 with 1 Axes>"
            ]
          },
          "metadata": {
            "tags": [],
            "needs_background": "light"
          }
        }
      ]
    },
    {
      "cell_type": "code",
      "metadata": {
        "id": "nTdUWbb55Orh",
        "outputId": "aef9d9d7-d597-4b1d-d606-8014c375e328",
        "colab": {
          "base_uri": "https://localhost:8080/"
        }
      },
      "source": [
        "print(max(len(l) for l in data_x)) # 전체 데이터에서 길이가 가장 긴 샘플의 길이 출력\n",
        "print(max(len(l) for l in data_y)) # 전체 데이터에서 길이가 가장 긴 샘플의 길이 출력"
      ],
      "execution_count": null,
      "outputs": [
        {
          "output_type": "stream",
          "text": [
            "175\n",
            "175\n"
          ],
          "name": "stdout"
        }
      ]
    },
    {
      "cell_type": "code",
      "metadata": {
        "id": "i2V5gFhe5ny6"
      },
      "source": [
        "from tensorflow.keras.preprocessing.sequence import pad_sequences"
      ],
      "execution_count": null,
      "outputs": []
    },
    {
      "cell_type": "code",
      "metadata": {
        "id": "gblX3X-G56E5"
      },
      "source": [
        "pad_x = pad_sequences(data_x, padding='post', maxlen=60)\n",
        "pad_y = pad_sequences(data_y, padding='post', maxlen=60)"
      ],
      "execution_count": null,
      "outputs": []
    },
    {
      "cell_type": "code",
      "metadata": {
        "id": "TlmETzlb6N0q"
      },
      "source": [
        "from sklearn.model_selection import train_test_split"
      ],
      "execution_count": null,
      "outputs": []
    },
    {
      "cell_type": "code",
      "metadata": {
        "id": "mfxttPnt6Vga"
      },
      "source": [
        "x_train, x_test, y_train, y_test = train_test_split(pad_x, pad_y, test_size=0.2)\n"
      ],
      "execution_count": null,
      "outputs": []
    },
    {
      "cell_type": "code",
      "metadata": {
        "id": "MxsunOtp6odq"
      },
      "source": [
        "from tensorflow.keras.models import Sequential\n",
        "from tensorflow.keras.layers import Dense, Embedding, LSTM, Bidirectional, TimeDistributed\n",
        "from tensorflow.keras.optimizers import Adam\n",
        "from tensorflow.keras.metrics import Precision, Recall, AUC"
      ],
      "execution_count": null,
      "outputs": []
    },
    {
      "cell_type": "code",
      "metadata": {
        "id": "IeTi3scb6tEA"
      },
      "source": [
        "n_words = len(word_to_idx)\n",
        "n_labels = len(ner_to_idx)"
      ],
      "execution_count": null,
      "outputs": []
    },
    {
      "cell_type": "code",
      "metadata": {
        "id": "lbDaIQCi67eK"
      },
      "source": [
        "model = Sequential()\n",
        "model.add(Embedding(input_dim=n_words, output_dim=16, input_length=60))\n",
        "model.add(Bidirectional(LSTM(32, return_sequences=True)))\n",
        "model.add(TimeDistributed(Dense(n_labels, activation='softmax')))"
      ],
      "execution_count": null,
      "outputs": []
    },
    {
      "cell_type": "code",
      "metadata": {
        "id": "h4UoDyuH7dFS"
      },
      "source": [
        "model.compile(loss='categorical_crossentropy', optimizer='adam', metrics=['accuracy', Precision(), Recall(), AUC()])"
      ],
      "execution_count": null,
      "outputs": []
    },
    {
      "cell_type": "code",
      "metadata": {
        "id": "C-v88KLM7-XR"
      },
      "source": [
        "from tensorflow.keras.utils import to_categorical\n",
        "\n",
        "y_train = to_categorical(y_train)\n",
        "y_test = to_categorical(y_test)"
      ],
      "execution_count": null,
      "outputs": []
    },
    {
      "cell_type": "code",
      "metadata": {
        "id": "EausZZ7A8EaR",
        "outputId": "070bd061-8a9f-436d-ddb3-cceb0adf91ce",
        "colab": {
          "base_uri": "https://localhost:8080/"
        }
      },
      "source": [
        "history = model.fit(x_train, y_train, epochs=40, batch_size=128, validation_split=0.2)"
      ],
      "execution_count": null,
      "outputs": [
        {
          "output_type": "stream",
          "text": [
            "Epoch 1/40\n",
            "450/450 [==============================] - 31s 70ms/step - loss: 0.5215 - accuracy: 0.9077 - precision: 0.9336 - recall: 0.8370 - auc: 0.9913 - val_loss: 0.2876 - val_accuracy: 0.9352 - val_precision: 0.9414 - val_recall: 0.9300 - val_auc: 0.9956\n",
            "Epoch 2/40\n",
            "450/450 [==============================] - 31s 68ms/step - loss: 0.2697 - accuracy: 0.9367 - precision: 0.9514 - recall: 0.9296 - auc: 0.9963 - val_loss: 0.2548 - val_accuracy: 0.9364 - val_precision: 0.9608 - val_recall: 0.9280 - val_auc: 0.9968\n",
            "Epoch 3/40\n",
            "450/450 [==============================] - 30s 68ms/step - loss: 0.2209 - accuracy: 0.9405 - precision: 0.9794 - recall: 0.9279 - auc: 0.9977 - val_loss: 0.2077 - val_accuracy: 0.9435 - val_precision: 0.9806 - val_recall: 0.9274 - val_auc: 0.9979\n",
            "Epoch 4/40\n",
            "450/450 [==============================] - 30s 68ms/step - loss: 0.1642 - accuracy: 0.9535 - precision: 0.9950 - recall: 0.9368 - auc: 0.9987 - val_loss: 0.1855 - val_accuracy: 0.9502 - val_precision: 0.9828 - val_recall: 0.9321 - val_auc: 0.9979\n",
            "Epoch 5/40\n",
            "450/450 [==============================] - 31s 69ms/step - loss: 0.1237 - accuracy: 0.9668 - precision: 0.9960 - recall: 0.9463 - auc: 0.9991 - val_loss: 0.1756 - val_accuracy: 0.9540 - val_precision: 0.9831 - val_recall: 0.9372 - val_auc: 0.9972\n",
            "Epoch 6/40\n",
            "450/450 [==============================] - 31s 68ms/step - loss: 0.0880 - accuracy: 0.9775 - precision: 0.9957 - recall: 0.9609 - auc: 0.9994 - val_loss: 0.1712 - val_accuracy: 0.9567 - val_precision: 0.9827 - val_recall: 0.9439 - val_auc: 0.9963\n",
            "Epoch 7/40\n",
            "450/450 [==============================] - 31s 68ms/step - loss: 0.0559 - accuracy: 0.9862 - precision: 0.9959 - recall: 0.9775 - auc: 0.9996 - val_loss: 0.1750 - val_accuracy: 0.9587 - val_precision: 0.9805 - val_recall: 0.9488 - val_auc: 0.9952\n",
            "Epoch 8/40\n",
            "450/450 [==============================] - 31s 69ms/step - loss: 0.0344 - accuracy: 0.9920 - precision: 0.9966 - recall: 0.9868 - auc: 0.9997 - val_loss: 0.1802 - val_accuracy: 0.9602 - val_precision: 0.9776 - val_recall: 0.9530 - val_auc: 0.9944\n",
            "Epoch 9/40\n",
            "450/450 [==============================] - 30s 67ms/step - loss: 0.0219 - accuracy: 0.9952 - precision: 0.9975 - recall: 0.9924 - auc: 0.9998 - val_loss: 0.1922 - val_accuracy: 0.9609 - val_precision: 0.9747 - val_recall: 0.9557 - val_auc: 0.9933\n",
            "Epoch 10/40\n",
            "450/450 [==============================] - 31s 68ms/step - loss: 0.0147 - accuracy: 0.9969 - precision: 0.9982 - recall: 0.9955 - auc: 0.9999 - val_loss: 0.2013 - val_accuracy: 0.9611 - val_precision: 0.9727 - val_recall: 0.9568 - val_auc: 0.9926\n",
            "Epoch 11/40\n",
            "450/450 [==============================] - 31s 68ms/step - loss: 0.0102 - accuracy: 0.9979 - precision: 0.9987 - recall: 0.9971 - auc: 0.9999 - val_loss: 0.2128 - val_accuracy: 0.9610 - val_precision: 0.9707 - val_recall: 0.9577 - val_auc: 0.9918\n",
            "Epoch 12/40\n",
            "450/450 [==============================] - 31s 68ms/step - loss: 0.0073 - accuracy: 0.9986 - precision: 0.9991 - recall: 0.9981 - auc: 0.9999 - val_loss: 0.2216 - val_accuracy: 0.9614 - val_precision: 0.9697 - val_recall: 0.9586 - val_auc: 0.9912\n",
            "Epoch 13/40\n",
            "450/450 [==============================] - 31s 68ms/step - loss: 0.0053 - accuracy: 0.9990 - precision: 0.9993 - recall: 0.9986 - auc: 1.0000 - val_loss: 0.2314 - val_accuracy: 0.9616 - val_precision: 0.9692 - val_recall: 0.9590 - val_auc: 0.9908\n",
            "Epoch 14/40\n",
            "450/450 [==============================] - 31s 69ms/step - loss: 0.0039 - accuracy: 0.9992 - precision: 0.9995 - recall: 0.9990 - auc: 1.0000 - val_loss: 0.2377 - val_accuracy: 0.9613 - val_precision: 0.9684 - val_recall: 0.9590 - val_auc: 0.9905\n",
            "Epoch 15/40\n",
            "450/450 [==============================] - 31s 68ms/step - loss: 0.0030 - accuracy: 0.9995 - precision: 0.9996 - recall: 0.9993 - auc: 1.0000 - val_loss: 0.2524 - val_accuracy: 0.9614 - val_precision: 0.9676 - val_recall: 0.9594 - val_auc: 0.9898\n",
            "Epoch 16/40\n",
            "450/450 [==============================] - 30s 68ms/step - loss: 0.0023 - accuracy: 0.9996 - precision: 0.9997 - recall: 0.9994 - auc: 1.0000 - val_loss: 0.2571 - val_accuracy: 0.9614 - val_precision: 0.9670 - val_recall: 0.9595 - val_auc: 0.9896\n",
            "Epoch 17/40\n",
            "450/450 [==============================] - 31s 68ms/step - loss: 0.0017 - accuracy: 0.9997 - precision: 0.9998 - recall: 0.9996 - auc: 1.0000 - val_loss: 0.2574 - val_accuracy: 0.9607 - val_precision: 0.9669 - val_recall: 0.9589 - val_auc: 0.9896\n",
            "Epoch 18/40\n",
            "450/450 [==============================] - 31s 68ms/step - loss: 0.0014 - accuracy: 0.9998 - precision: 0.9998 - recall: 0.9997 - auc: 1.0000 - val_loss: 0.2648 - val_accuracy: 0.9606 - val_precision: 0.9666 - val_recall: 0.9588 - val_auc: 0.9893\n",
            "Epoch 19/40\n",
            "450/450 [==============================] - 31s 68ms/step - loss: 0.0011 - accuracy: 0.9998 - precision: 0.9999 - recall: 0.9998 - auc: 1.0000 - val_loss: 0.2782 - val_accuracy: 0.9614 - val_precision: 0.9664 - val_recall: 0.9599 - val_auc: 0.9888\n",
            "Epoch 20/40\n",
            "450/450 [==============================] - 31s 69ms/step - loss: 8.4881e-04 - accuracy: 0.9998 - precision: 0.9999 - recall: 0.9998 - auc: 1.0000 - val_loss: 0.2876 - val_accuracy: 0.9610 - val_precision: 0.9651 - val_recall: 0.9597 - val_auc: 0.9884\n",
            "Epoch 21/40\n",
            "450/450 [==============================] - 31s 68ms/step - loss: 6.8805e-04 - accuracy: 0.9999 - precision: 0.9999 - recall: 0.9998 - auc: 1.0000 - val_loss: 0.2882 - val_accuracy: 0.9610 - val_precision: 0.9657 - val_recall: 0.9596 - val_auc: 0.9885\n",
            "Epoch 22/40\n",
            "450/450 [==============================] - 31s 68ms/step - loss: 5.6232e-04 - accuracy: 0.9999 - precision: 0.9999 - recall: 0.9999 - auc: 1.0000 - val_loss: 0.3022 - val_accuracy: 0.9616 - val_precision: 0.9652 - val_recall: 0.9606 - val_auc: 0.9879\n",
            "Epoch 23/40\n",
            "450/450 [==============================] - 31s 69ms/step - loss: 4.5710e-04 - accuracy: 0.9999 - precision: 0.9999 - recall: 0.9999 - auc: 1.0000 - val_loss: 0.3073 - val_accuracy: 0.9611 - val_precision: 0.9645 - val_recall: 0.9601 - val_auc: 0.9878\n",
            "Epoch 24/40\n",
            "450/450 [==============================] - 31s 68ms/step - loss: 3.7631e-04 - accuracy: 0.9999 - precision: 1.0000 - recall: 0.9999 - auc: 1.0000 - val_loss: 0.3057 - val_accuracy: 0.9613 - val_precision: 0.9651 - val_recall: 0.9602 - val_auc: 0.9879\n",
            "Epoch 25/40\n",
            "450/450 [==============================] - 31s 68ms/step - loss: 3.1676e-04 - accuracy: 0.9999 - precision: 1.0000 - recall: 0.9999 - auc: 1.0000 - val_loss: 0.3076 - val_accuracy: 0.9605 - val_precision: 0.9642 - val_recall: 0.9595 - val_auc: 0.9877\n",
            "Epoch 26/40\n",
            "450/450 [==============================] - 31s 69ms/step - loss: 2.7178e-04 - accuracy: 1.0000 - precision: 1.0000 - recall: 0.9999 - auc: 1.0000 - val_loss: 0.3260 - val_accuracy: 0.9620 - val_precision: 0.9651 - val_recall: 0.9611 - val_auc: 0.9872\n",
            "Epoch 27/40\n",
            "450/450 [==============================] - 31s 68ms/step - loss: 2.6145e-04 - accuracy: 1.0000 - precision: 1.0000 - recall: 0.9999 - auc: 1.0000 - val_loss: 0.3261 - val_accuracy: 0.9616 - val_precision: 0.9645 - val_recall: 0.9608 - val_auc: 0.9872\n",
            "Epoch 28/40\n",
            "450/450 [==============================] - 31s 69ms/step - loss: 2.5351e-04 - accuracy: 1.0000 - precision: 1.0000 - recall: 0.9999 - auc: 1.0000 - val_loss: 0.3237 - val_accuracy: 0.9611 - val_precision: 0.9643 - val_recall: 0.9603 - val_auc: 0.9872\n",
            "Epoch 29/40\n",
            "450/450 [==============================] - 31s 68ms/step - loss: 2.1794e-04 - accuracy: 1.0000 - precision: 1.0000 - recall: 1.0000 - auc: 1.0000 - val_loss: 0.3178 - val_accuracy: 0.9601 - val_precision: 0.9641 - val_recall: 0.9590 - val_auc: 0.9874\n",
            "Epoch 30/40\n",
            "450/450 [==============================] - 31s 69ms/step - loss: 1.9489e-04 - accuracy: 1.0000 - precision: 1.0000 - recall: 1.0000 - auc: 1.0000 - val_loss: 0.3278 - val_accuracy: 0.9613 - val_precision: 0.9644 - val_recall: 0.9605 - val_auc: 0.9872\n",
            "Epoch 31/40\n",
            "450/450 [==============================] - 31s 69ms/step - loss: 1.5343e-04 - accuracy: 1.0000 - precision: 1.0000 - recall: 1.0000 - auc: 1.0000 - val_loss: 0.3252 - val_accuracy: 0.9606 - val_precision: 0.9637 - val_recall: 0.9598 - val_auc: 0.9872\n",
            "Epoch 32/40\n",
            "450/450 [==============================] - 31s 69ms/step - loss: 1.1860e-04 - accuracy: 1.0000 - precision: 1.0000 - recall: 1.0000 - auc: 1.0000 - val_loss: 0.3387 - val_accuracy: 0.9615 - val_precision: 0.9642 - val_recall: 0.9608 - val_auc: 0.9868\n",
            "Epoch 33/40\n",
            "450/450 [==============================] - 31s 69ms/step - loss: 9.9765e-05 - accuracy: 1.0000 - precision: 1.0000 - recall: 1.0000 - auc: 1.0000 - val_loss: 0.3390 - val_accuracy: 0.9613 - val_precision: 0.9640 - val_recall: 0.9606 - val_auc: 0.9869\n",
            "Epoch 34/40\n",
            "450/450 [==============================] - 31s 69ms/step - loss: 7.8616e-05 - accuracy: 1.0000 - precision: 1.0000 - recall: 1.0000 - auc: 1.0000 - val_loss: 0.3416 - val_accuracy: 0.9611 - val_precision: 0.9636 - val_recall: 0.9605 - val_auc: 0.9867\n",
            "Epoch 35/40\n",
            "450/450 [==============================] - 31s 69ms/step - loss: 7.2418e-05 - accuracy: 1.0000 - precision: 1.0000 - recall: 1.0000 - auc: 1.0000 - val_loss: 0.3410 - val_accuracy: 0.9613 - val_precision: 0.9639 - val_recall: 0.9606 - val_auc: 0.9868\n",
            "Epoch 36/40\n",
            "450/450 [==============================] - 31s 69ms/step - loss: 8.1318e-05 - accuracy: 1.0000 - precision: 1.0000 - recall: 1.0000 - auc: 1.0000 - val_loss: 0.3419 - val_accuracy: 0.9600 - val_precision: 0.9632 - val_recall: 0.9592 - val_auc: 0.9868\n",
            "Epoch 37/40\n",
            "450/450 [==============================] - 31s 69ms/step - loss: 7.5898e-05 - accuracy: 1.0000 - precision: 1.0000 - recall: 1.0000 - auc: 1.0000 - val_loss: 0.3535 - val_accuracy: 0.9615 - val_precision: 0.9639 - val_recall: 0.9607 - val_auc: 0.9864\n",
            "Epoch 38/40\n",
            "450/450 [==============================] - 32s 70ms/step - loss: 8.2394e-05 - accuracy: 1.0000 - precision: 1.0000 - recall: 1.0000 - auc: 1.0000 - val_loss: 0.3499 - val_accuracy: 0.9608 - val_precision: 0.9630 - val_recall: 0.9602 - val_auc: 0.9866\n",
            "Epoch 39/40\n",
            "450/450 [==============================] - 31s 69ms/step - loss: 7.3289e-05 - accuracy: 1.0000 - precision: 1.0000 - recall: 1.0000 - auc: 1.0000 - val_loss: 0.3467 - val_accuracy: 0.9603 - val_precision: 0.9631 - val_recall: 0.9596 - val_auc: 0.9867\n",
            "Epoch 40/40\n",
            "450/450 [==============================] - 31s 69ms/step - loss: 5.4474e-05 - accuracy: 1.0000 - precision: 1.0000 - recall: 1.0000 - auc: 1.0000 - val_loss: 0.3544 - val_accuracy: 0.9614 - val_precision: 0.9637 - val_recall: 0.9608 - val_auc: 0.9864\n"
          ],
          "name": "stdout"
        }
      ]
    },
    {
      "cell_type": "code",
      "metadata": {
        "id": "qB96tnz98NT5",
        "outputId": "f7beb4f7-04a6-4964-dfc6-3ef41edea023",
        "colab": {
          "base_uri": "https://localhost:8080/"
        }
      },
      "source": [
        "model.evaluate(x_test, y_test)[1]"
      ],
      "execution_count": null,
      "outputs": [
        {
          "output_type": "stream",
          "text": [
            "563/563 [==============================] - 4s 8ms/step - loss: 0.3518 - accuracy: 0.9617 - precision: 0.9641 - recall: 0.9611 - auc: 0.9865\n"
          ],
          "name": "stdout"
        },
        {
          "output_type": "execute_result",
          "data": {
            "text/plain": [
              "0.9616842865943909"
            ]
          },
          "metadata": {
            "tags": []
          },
          "execution_count": 54
        }
      ]
    },
    {
      "cell_type": "code",
      "metadata": {
        "id": "SY1xQLHV8k-6",
        "outputId": "747cff33-94a9-4b5b-f163-9feaf0ae4a00",
        "colab": {
          "base_uri": "https://localhost:8080/",
          "height": 230
        }
      },
      "source": [
        "import numpy as np\n",
        "\n",
        "idx_to_word = {}\n",
        "for k,v in word_to_idx.items():\n",
        "  idx_to_word[v] = k\n",
        "\n",
        "idx_to_ner = {}\n",
        "for k,v in ner_to_idx.items():\n",
        "  idx_to_ner[v] = k\n",
        "\n",
        "y_predicted = model.predict(np.array([x_test[0]]))\n",
        "y_predicted = np.argmax(y_predicted, axis=-1)\n",
        "true = np.argmax(y_test[0], -1)\n",
        "\n",
        "print(\"{:15}|{:5}|{}\".format(\"단어\", \"실제값\", \"예측값\"))\n",
        "print(35 * \"-\")\n",
        "\n",
        "for w, t, pred in zip(x_test[10], true, y_predicted[10]):\n",
        "    if w != 0: # PAD값은 제외함.\n",
        "        print(\"{:17}: {:7} {}\".format(idx_to_word[w], idx_to_ner[t], idx_to_ner[pred]))\n"
      ],
      "execution_count": 1,
      "outputs": [
        {
          "output_type": "error",
          "ename": "NameError",
          "evalue": "ignored",
          "traceback": [
            "\u001b[0;31m---------------------------------------------------------------------------\u001b[0m",
            "\u001b[0;31mNameError\u001b[0m                                 Traceback (most recent call last)",
            "\u001b[0;32m<ipython-input-1-0d050bf2ae02>\u001b[0m in \u001b[0;36m<module>\u001b[0;34m()\u001b[0m\n\u001b[1;32m      2\u001b[0m \u001b[0;34m\u001b[0m\u001b[0m\n\u001b[1;32m      3\u001b[0m \u001b[0midx_to_word\u001b[0m \u001b[0;34m=\u001b[0m \u001b[0;34m{\u001b[0m\u001b[0;34m}\u001b[0m\u001b[0;34m\u001b[0m\u001b[0;34m\u001b[0m\u001b[0m\n\u001b[0;32m----> 4\u001b[0;31m \u001b[0;32mfor\u001b[0m \u001b[0mk\u001b[0m\u001b[0;34m,\u001b[0m\u001b[0mv\u001b[0m \u001b[0;32min\u001b[0m \u001b[0mword_to_idx\u001b[0m\u001b[0;34m.\u001b[0m\u001b[0mitems\u001b[0m\u001b[0;34m(\u001b[0m\u001b[0;34m)\u001b[0m\u001b[0;34m:\u001b[0m\u001b[0;34m\u001b[0m\u001b[0;34m\u001b[0m\u001b[0m\n\u001b[0m\u001b[1;32m      5\u001b[0m   \u001b[0midx_to_word\u001b[0m\u001b[0;34m[\u001b[0m\u001b[0mv\u001b[0m\u001b[0;34m]\u001b[0m \u001b[0;34m=\u001b[0m \u001b[0mk\u001b[0m\u001b[0;34m\u001b[0m\u001b[0;34m\u001b[0m\u001b[0m\n\u001b[1;32m      6\u001b[0m \u001b[0;34m\u001b[0m\u001b[0m\n",
            "\u001b[0;31mNameError\u001b[0m: name 'word_to_idx' is not defined"
          ]
        }
      ]
    },
    {
      "cell_type": "code",
      "metadata": {
        "id": "8feO4SXs_0iB"
      },
      "source": [
        ""
      ],
      "execution_count": null,
      "outputs": []
    }
  ]
}