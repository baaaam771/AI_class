{
  "nbformat": 4,
  "nbformat_minor": 0,
  "metadata": {
    "colab": {
      "name": "catanddog.ipynb",
      "provenance": []
    },
    "kernelspec": {
      "name": "python3",
      "display_name": "Python 3"
    },
    "accelerator": "GPU"
  },
  "cells": [
    {
      "cell_type": "code",
      "metadata": {
        "id": "jNhsfkmLTRvq"
      },
      "source": [
        "import os"
      ],
      "execution_count": 60,
      "outputs": []
    },
    {
      "cell_type": "code",
      "metadata": {
        "id": "_eHQq9XgTnUO"
      },
      "source": [
        "base_dir = '/content/drive/My Drive/Colab Notebooks/datasets/cats_and_dogs'"
      ],
      "execution_count": 61,
      "outputs": []
    },
    {
      "cell_type": "code",
      "metadata": {
        "id": "eop6wy1VToSX"
      },
      "source": [
        "train_dir = os.path.join(base_dir, 'train')\n",
        "validation_dir = os.path.join(base_dir, 'validation')\n",
        "test_dir = os.path.join(base_dir, 'test')"
      ],
      "execution_count": 62,
      "outputs": []
    },
    {
      "cell_type": "code",
      "metadata": {
        "id": "EfY3_qHQTzWh"
      },
      "source": [
        "from tensorflow.keras.preprocessing.image import ImageDataGenerator"
      ],
      "execution_count": 63,
      "outputs": []
    },
    {
      "cell_type": "code",
      "metadata": {
        "id": "ZJn2MrljUB8P"
      },
      "source": [
        "train_datagen = ImageDataGenerator(rescale = 1. / 255)\n",
        "test_datagen = ImageDataGenerator(rescale = 1. / 255)"
      ],
      "execution_count": 64,
      "outputs": []
    },
    {
      "cell_type": "code",
      "metadata": {
        "id": "5AWzWeA9UM99",
        "outputId": "68568d14-ef5c-402f-d634-abcdb9d86a45",
        "colab": {
          "base_uri": "https://localhost:8080/"
        }
      },
      "source": [
        "train_generator = train_datagen.flow_from_directory(\n",
        "    train_dir,\n",
        "    target_size = (150, 150),\n",
        "    batch_size=20,\n",
        "    class_mode='binary'\n",
        ")"
      ],
      "execution_count": 65,
      "outputs": [
        {
          "output_type": "stream",
          "text": [
            "Found 2010 images belonging to 2 classes.\n"
          ],
          "name": "stdout"
        }
      ]
    },
    {
      "cell_type": "code",
      "metadata": {
        "id": "v5FzyOADUnmg",
        "outputId": "a3b00b14-6949-41a4-cf89-9cbe33fa3faa",
        "colab": {
          "base_uri": "https://localhost:8080/"
        }
      },
      "source": [
        "validation_generator = test_datagen.flow_from_directory(\n",
        "    validation_dir,\n",
        "    target_size = (150, 150),\n",
        "    batch_size=20,\n",
        "    class_mode='binary'\n",
        ")"
      ],
      "execution_count": 66,
      "outputs": [
        {
          "output_type": "stream",
          "text": [
            "Found 1000 images belonging to 2 classes.\n"
          ],
          "name": "stdout"
        }
      ]
    },
    {
      "cell_type": "code",
      "metadata": {
        "id": "EawHqTcKUxL-"
      },
      "source": [
        "from tensorflow.keras import layers, models, optimizers"
      ],
      "execution_count": 67,
      "outputs": []
    },
    {
      "cell_type": "code",
      "metadata": {
        "id": "wgfz8tJWU7Wn"
      },
      "source": [
        "model = models.Sequential([\n",
        "  # feature extraction\n",
        "  layers.Conv2D(32, (3, 3), activation='relu', input_shape=(150, 150, 3)),\n",
        "  layers.MaxPool2D(2),\n",
        "\n",
        "  layers.Conv2D(64, (3, 3), activation='relu'),\n",
        "  layers.MaxPool2D(2),                  \n",
        "\n",
        "  layers.Conv2D(128, (3, 3), activation='relu'),\n",
        "  layers.MaxPool2D(2),                  \n",
        "\n",
        "  layers.Conv2D(128, (3, 3), activation='relu'),\n",
        "  layers.MaxPool2D(2),                  \n",
        "\n",
        "  layers.Flatten(),\n",
        "\n",
        "  layers.Dense(512, activation='relu'),\n",
        "  layers.Dense(1, activation='sigmoid')\n",
        "])"
      ],
      "execution_count": 68,
      "outputs": []
    },
    {
      "cell_type": "code",
      "metadata": {
        "id": "XdXlX3H6VkUg",
        "outputId": "4f096fa6-c43c-42e6-ff8d-d1aff8a9e746",
        "colab": {
          "base_uri": "https://localhost:8080/"
        }
      },
      "source": [
        "model.summary()"
      ],
      "execution_count": 69,
      "outputs": [
        {
          "output_type": "stream",
          "text": [
            "Model: \"sequential_4\"\n",
            "_________________________________________________________________\n",
            "Layer (type)                 Output Shape              Param #   \n",
            "=================================================================\n",
            "conv2d_16 (Conv2D)           (None, 148, 148, 32)      896       \n",
            "_________________________________________________________________\n",
            "max_pooling2d_16 (MaxPooling (None, 74, 74, 32)        0         \n",
            "_________________________________________________________________\n",
            "conv2d_17 (Conv2D)           (None, 72, 72, 64)        18496     \n",
            "_________________________________________________________________\n",
            "max_pooling2d_17 (MaxPooling (None, 36, 36, 64)        0         \n",
            "_________________________________________________________________\n",
            "conv2d_18 (Conv2D)           (None, 34, 34, 128)       73856     \n",
            "_________________________________________________________________\n",
            "max_pooling2d_18 (MaxPooling (None, 17, 17, 128)       0         \n",
            "_________________________________________________________________\n",
            "conv2d_19 (Conv2D)           (None, 15, 15, 128)       147584    \n",
            "_________________________________________________________________\n",
            "max_pooling2d_19 (MaxPooling (None, 7, 7, 128)         0         \n",
            "_________________________________________________________________\n",
            "flatten_4 (Flatten)          (None, 6272)              0         \n",
            "_________________________________________________________________\n",
            "dense_8 (Dense)              (None, 512)               3211776   \n",
            "_________________________________________________________________\n",
            "dense_9 (Dense)              (None, 1)                 513       \n",
            "=================================================================\n",
            "Total params: 3,453,121\n",
            "Trainable params: 3,453,121\n",
            "Non-trainable params: 0\n",
            "_________________________________________________________________\n"
          ],
          "name": "stdout"
        }
      ]
    },
    {
      "cell_type": "code",
      "metadata": {
        "id": "nH5GhvIYVnd7"
      },
      "source": [
        "model.compile(loss='binary_crossentropy', optimizer=optimizers.RMSprop(lr=1e-4), metrics=['accuracy'])"
      ],
      "execution_count": 70,
      "outputs": []
    },
    {
      "cell_type": "code",
      "metadata": {
        "id": "vUn9cC1sWG3D",
        "outputId": "cd2327e5-d56d-448c-9c3f-0986e400b11b",
        "colab": {
          "base_uri": "https://localhost:8080/"
        }
      },
      "source": [
        "history = model.fit_generator(\n",
        "    train_generator,\n",
        "    steps_per_epoch = 100,\n",
        "    epochs = 30,\n",
        "    validation_data = validation_generator,\n",
        "    validation_steps = 50\n",
        ")"
      ],
      "execution_count": 72,
      "outputs": [
        {
          "output_type": "stream",
          "text": [
            "Epoch 1/30\n",
            "100/100 [==============================] - 1176s 12s/step - loss: 0.6893 - accuracy: 0.5427 - val_loss: 0.6698 - val_accuracy: 0.6070\n",
            "Epoch 2/30\n",
            "100/100 [==============================] - 11s 106ms/step - loss: 0.6616 - accuracy: 0.6040 - val_loss: 0.6464 - val_accuracy: 0.6330\n",
            "Epoch 3/30\n",
            "100/100 [==============================] - 11s 106ms/step - loss: 0.6193 - accuracy: 0.6698 - val_loss: 0.6203 - val_accuracy: 0.6410\n",
            "Epoch 4/30\n",
            "100/100 [==============================] - 11s 107ms/step - loss: 0.5827 - accuracy: 0.6975 - val_loss: 0.5882 - val_accuracy: 0.6810\n",
            "Epoch 5/30\n",
            "100/100 [==============================] - 11s 106ms/step - loss: 0.5416 - accuracy: 0.7281 - val_loss: 0.5764 - val_accuracy: 0.6980\n",
            "Epoch 6/30\n",
            "100/100 [==============================] - 11s 106ms/step - loss: 0.5163 - accuracy: 0.7337 - val_loss: 0.5712 - val_accuracy: 0.7000\n",
            "Epoch 7/30\n",
            "100/100 [==============================] - 11s 106ms/step - loss: 0.4958 - accuracy: 0.7643 - val_loss: 0.5526 - val_accuracy: 0.7120\n",
            "Epoch 8/30\n",
            "100/100 [==============================] - 11s 106ms/step - loss: 0.4607 - accuracy: 0.7829 - val_loss: 0.5423 - val_accuracy: 0.7270\n",
            "Epoch 9/30\n",
            "100/100 [==============================] - 11s 105ms/step - loss: 0.4353 - accuracy: 0.7940 - val_loss: 0.5784 - val_accuracy: 0.6980\n",
            "Epoch 10/30\n",
            "100/100 [==============================] - 11s 107ms/step - loss: 0.4145 - accuracy: 0.8121 - val_loss: 0.5553 - val_accuracy: 0.7210\n",
            "Epoch 11/30\n",
            "100/100 [==============================] - 11s 107ms/step - loss: 0.3851 - accuracy: 0.8256 - val_loss: 0.5464 - val_accuracy: 0.7310\n",
            "Epoch 12/30\n",
            "100/100 [==============================] - 11s 106ms/step - loss: 0.3722 - accuracy: 0.8312 - val_loss: 0.5282 - val_accuracy: 0.7470\n",
            "Epoch 13/30\n",
            "100/100 [==============================] - 11s 108ms/step - loss: 0.3411 - accuracy: 0.8563 - val_loss: 0.5584 - val_accuracy: 0.7440\n",
            "Epoch 14/30\n",
            "100/100 [==============================] - 11s 112ms/step - loss: 0.3152 - accuracy: 0.8618 - val_loss: 0.5829 - val_accuracy: 0.7170\n",
            "Epoch 15/30\n",
            "100/100 [==============================] - 11s 106ms/step - loss: 0.2901 - accuracy: 0.8774 - val_loss: 0.5485 - val_accuracy: 0.7560\n",
            "Epoch 16/30\n",
            "100/100 [==============================] - 11s 106ms/step - loss: 0.2714 - accuracy: 0.8839 - val_loss: 0.5757 - val_accuracy: 0.7410\n",
            "Epoch 17/30\n",
            "100/100 [==============================] - 11s 106ms/step - loss: 0.2438 - accuracy: 0.9025 - val_loss: 0.5788 - val_accuracy: 0.7520\n",
            "Epoch 18/30\n",
            "100/100 [==============================] - 11s 106ms/step - loss: 0.2299 - accuracy: 0.9040 - val_loss: 0.6827 - val_accuracy: 0.7350\n",
            "Epoch 19/30\n",
            "100/100 [==============================] - 11s 105ms/step - loss: 0.2123 - accuracy: 0.9201 - val_loss: 0.6591 - val_accuracy: 0.7260\n",
            "Epoch 20/30\n",
            "100/100 [==============================] - 11s 105ms/step - loss: 0.1823 - accuracy: 0.9372 - val_loss: 0.6840 - val_accuracy: 0.7310\n",
            "Epoch 21/30\n",
            "100/100 [==============================] - 11s 105ms/step - loss: 0.1770 - accuracy: 0.9332 - val_loss: 0.6535 - val_accuracy: 0.7450\n",
            "Epoch 22/30\n",
            "100/100 [==============================] - 11s 106ms/step - loss: 0.1540 - accuracy: 0.9472 - val_loss: 0.6705 - val_accuracy: 0.7390\n",
            "Epoch 23/30\n",
            "100/100 [==============================] - 11s 105ms/step - loss: 0.1319 - accuracy: 0.9538 - val_loss: 0.7095 - val_accuracy: 0.7340\n",
            "Epoch 24/30\n",
            "100/100 [==============================] - 11s 106ms/step - loss: 0.1172 - accuracy: 0.9593 - val_loss: 0.6854 - val_accuracy: 0.7330\n",
            "Epoch 25/30\n",
            "100/100 [==============================] - 11s 106ms/step - loss: 0.1005 - accuracy: 0.9704 - val_loss: 0.8431 - val_accuracy: 0.7310\n",
            "Epoch 26/30\n",
            "100/100 [==============================] - 11s 106ms/step - loss: 0.0985 - accuracy: 0.9648 - val_loss: 0.7577 - val_accuracy: 0.7480\n",
            "Epoch 27/30\n",
            "100/100 [==============================] - 11s 106ms/step - loss: 0.0804 - accuracy: 0.9754 - val_loss: 0.8611 - val_accuracy: 0.7120\n",
            "Epoch 28/30\n",
            "100/100 [==============================] - 10s 105ms/step - loss: 0.0683 - accuracy: 0.9824 - val_loss: 0.8371 - val_accuracy: 0.7380\n",
            "Epoch 29/30\n",
            "100/100 [==============================] - 11s 105ms/step - loss: 0.0582 - accuracy: 0.9829 - val_loss: 0.8410 - val_accuracy: 0.7490\n",
            "Epoch 30/30\n",
            "100/100 [==============================] - 11s 105ms/step - loss: 0.0504 - accuracy: 0.9859 - val_loss: 0.9161 - val_accuracy: 0.7380\n"
          ],
          "name": "stdout"
        }
      ]
    },
    {
      "cell_type": "code",
      "metadata": {
        "id": "C50EfteHWXjw"
      },
      "source": [
        "acc = history.history['accuracy']\n",
        "val_acc = history.history['val_accuracy']\n",
        "\n",
        "loss = history.history['loss']\n",
        "val_loss = history.history['val_loss']\n",
        "\n",
        "epochs = range(len(acc))"
      ],
      "execution_count": 73,
      "outputs": []
    },
    {
      "cell_type": "code",
      "metadata": {
        "id": "fhH8bzG9XbnA"
      },
      "source": [
        "import matplotlib.pyplot as plt"
      ],
      "execution_count": 74,
      "outputs": []
    },
    {
      "cell_type": "code",
      "metadata": {
        "id": "qtyFzflyYHm3",
        "outputId": "a688bef8-41e7-43fa-999e-59c95840c89a",
        "colab": {
          "base_uri": "https://localhost:8080/",
          "height": 282
        }
      },
      "source": [
        "plt.plot(epochs, acc, 'r')\n",
        "plt.plot(epochs, val_acc, 'b')"
      ],
      "execution_count": 75,
      "outputs": [
        {
          "output_type": "execute_result",
          "data": {
            "text/plain": [
              "[<matplotlib.lines.Line2D at 0x7f70c705ff98>]"
            ]
          },
          "metadata": {
            "tags": []
          },
          "execution_count": 75
        },
        {
          "output_type": "display_data",
          "data": {
            "image/png": "[encoded data removed]",
            "text/plain": [
              "<Figure size 432x288 with 1 Axes>"
            ]
          },
          "metadata": {
            "tags": [],
            "needs_background": "light"
          }
        }
      ]
    },
    {
      "cell_type": "code",
      "metadata": {
        "id": "fLXlpps2YOqK",
        "outputId": "5129214b-9c1c-44a1-8bee-c4f428fcb133",
        "colab": {
          "base_uri": "https://localhost:8080/",
          "height": 281
        }
      },
      "source": [
        "plt.plot(epochs, loss, 'r')\n",
        "plt.plot(epochs, val_loss, 'b')"
      ],
      "execution_count": 76,
      "outputs": [
        {
          "output_type": "execute_result",
          "data": {
            "text/plain": [
              "[<matplotlib.lines.Line2D at 0x7f70c883ef60>]"
            ]
          },
          "metadata": {
            "tags": []
          },
          "execution_count": 76
        },
        {
          "output_type": "display_data",
          "data": {
            "image/png": "[encoded data removed]",
            "text/plain": [
              "<Figure size 432x288 with 1 Axes>"
            ]
          },
          "metadata": {
            "tags": [],
            "needs_background": "light"
          }
        }
      ]
    },
    {
      "cell_type": "code",
      "metadata": {
        "id": "h4LuVBBiYdfe"
      },
      "source": [
        ""
      ],
      "execution_count": 76,
      "outputs": []
    }
  ]
}