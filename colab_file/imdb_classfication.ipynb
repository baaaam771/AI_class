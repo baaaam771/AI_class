{
  "nbformat": 4,
  "nbformat_minor": 0,
  "metadata": {
    "colab": {
      "name": "imdb-classfication.ipynb",
      "provenance": []
    },
    "kernelspec": {
      "name": "python3",
      "display_name": "Python 3"
    }
  },
  "cells": [
    {
      "cell_type": "code",
      "metadata": {
        "id": "vXCSb2ud1HsB"
      },
      "source": [
        "from keras.datasets import imdb"
      ],
      "execution_count": 1,
      "outputs": []
    },
    {
      "cell_type": "code",
      "metadata": {
        "id": "nWT2-RF91Tb4"
      },
      "source": [
        "(train_data, train_label), (test_data, test_label) = imdb.load_data(num_words=10000)"
      ],
      "execution_count": 2,
      "outputs": []
    },
    {
      "cell_type": "code",
      "metadata": {
        "id": "tRAPYC9F1kmd"
      },
      "source": [
        "word_index = imdb.get_word_index()"
      ],
      "execution_count": 3,
      "outputs": []
    },
    {
      "cell_type": "code",
      "metadata": {
        "id": "KK_kTNs81njQ",
        "outputId": "7b21b5ec-5539-4f9e-e81b-332b9d91589b",
        "colab": {
          "base_uri": "https://localhost:8080/"
        }
      },
      "source": [
        "print(word_index['the'])"
      ],
      "execution_count": 4,
      "outputs": [
        {
          "output_type": "stream",
          "text": [
            "1\n"
          ],
          "name": "stdout"
        }
      ]
    },
    {
      "cell_type": "code",
      "metadata": {
        "id": "0rnqgVLK2LKV"
      },
      "source": [
        "reverse_word_index = dict([(v,k) for (k,v) in word_index.items()])"
      ],
      "execution_count": 5,
      "outputs": []
    },
    {
      "cell_type": "code",
      "metadata": {
        "id": "zpR1oxBG2dmx"
      },
      "source": [
        "decoeded_review = ' '.join([reverse_word_index.get(i - 3, '?') for i in train_data[0]])"
      ],
      "execution_count": 6,
      "outputs": []
    },
    {
      "cell_type": "code",
      "metadata": {
        "id": "xcGSWEYv2rua",
        "outputId": "ca299046-773d-4158-9a3a-10cf5e5f7981",
        "colab": {
          "base_uri": "https://localhost:8080/",
          "height": 135
        }
      },
      "source": [
        "decoeded_review"
      ],
      "execution_count": 7,
      "outputs": [
        {
          "output_type": "execute_result",
          "data": {
            "application/vnd.google.colaboratory.intrinsic+json": {
              "type": "string"
            },
            "text/plain": [
              "\"? this film was just brilliant casting location scenery story direction everyone's really suited the part they played and you could just imagine being there robert ? is an amazing actor and now the same being director ? father came from the same scottish island as myself so i loved the fact there was a real connection with this film the witty remarks throughout the film were great it was just brilliant so much that i bought the film as soon as it was released for ? and would recommend it to everyone to watch and the fly fishing was amazing really cried at the end it was so sad and you know what they say if you cry at a film it must have been good and this definitely was also ? to the two little boy's that played the ? of norman and paul they were just brilliant children are often left out of the ? list i think because the stars that play them all grown up are such a big profile for the whole film but these children are amazing and should be praised for what they have done don't you think the whole story was so lovely because it was true and was someone's life after all that was shared with us all\""
            ]
          },
          "metadata": {
            "tags": []
          },
          "execution_count": 7
        }
      ]
    },
    {
      "cell_type": "code",
      "metadata": {
        "id": "avsy84ev2wTZ"
      },
      "source": [
        "import numpy as np"
      ],
      "execution_count": 8,
      "outputs": []
    },
    {
      "cell_type": "code",
      "metadata": {
        "id": "JAXypDJm2_qV"
      },
      "source": [
        "def vectorize(seq, dim=10000):\n",
        "  results = np.zeros((len(seq), dim))\n",
        "  for i, sequence in enumerate(seq):\n",
        "    results[i, sequence] = 1. \n",
        "  return results"
      ],
      "execution_count": 9,
      "outputs": []
    },
    {
      "cell_type": "code",
      "metadata": {
        "id": "2QOg4Ofd3aVq"
      },
      "source": [
        "x_train = vectorize(train_data)\n",
        "x_test = vectorize(test_data)"
      ],
      "execution_count": 10,
      "outputs": []
    },
    {
      "cell_type": "code",
      "metadata": {
        "id": "nzrSEv0m3gaB",
        "outputId": "61cd7811-2039-450b-d7bd-00eba5c40bc2",
        "colab": {
          "base_uri": "https://localhost:8080/"
        }
      },
      "source": [
        "x_train[0]"
      ],
      "execution_count": 11,
      "outputs": [
        {
          "output_type": "execute_result",
          "data": {
            "text/plain": [
              "array([0., 1., 1., ..., 0., 0., 0.])"
            ]
          },
          "metadata": {
            "tags": []
          },
          "execution_count": 11
        }
      ]
    },
    {
      "cell_type": "code",
      "metadata": {
        "id": "t5SmJUZp3qVK"
      },
      "source": [
        "y_train = np.asarray(train_label).astype('float32')\n",
        "y_test = np.asarray(test_label).astype('float32')"
      ],
      "execution_count": 12,
      "outputs": []
    },
    {
      "cell_type": "code",
      "metadata": {
        "id": "ZtFKI8tF3-M1"
      },
      "source": [
        "from keras import models, layers\n",
        "from keras import regularizers"
      ],
      "execution_count": 13,
      "outputs": []
    },
    {
      "cell_type": "code",
      "metadata": {
        "id": "O0JIYk-T4IyS"
      },
      "source": [
        "model = models.Sequential([\n",
        "  layers.Dense(6, activation='relu',kernel_regularizer=regularizers.l2(0.001), input_shape=(10000,)),\n",
        "  layers.Dropout(0.5),\n",
        "  layers.Dense(6, activation='relu', kernel_regularizer=regularizers.l2(0.001)),\n",
        "  layers.Dropout(0.5),\n",
        "  layers.Dense(1, activation='sigmoid')                          \n",
        "])"
      ],
      "execution_count": 28,
      "outputs": []
    },
    {
      "cell_type": "code",
      "metadata": {
        "id": "f2EYnUgY4e0F"
      },
      "source": [
        "model.compile(optimizer='rmsprop',loss='binary_crossentropy', metrics=['accuracy'])"
      ],
      "execution_count": 29,
      "outputs": []
    },
    {
      "cell_type": "code",
      "metadata": {
        "id": "0TBbg2aU4o5r",
        "outputId": "e0a3d92c-7135-4dbd-ea45-022a1df38002",
        "colab": {
          "base_uri": "https://localhost:8080/"
        }
      },
      "source": [
        "history = model.fit(x_train, y_train, epochs=20, batch_size=512, validation_split=0.2)"
      ],
      "execution_count": 30,
      "outputs": [
        {
          "output_type": "stream",
          "text": [
            "Epoch 1/20\n",
            "40/40 [==============================] - 1s 20ms/step - loss: 0.6394 - accuracy: 0.6269 - val_loss: 0.5174 - val_accuracy: 0.8536\n",
            "Epoch 2/20\n",
            "40/40 [==============================] - 1s 16ms/step - loss: 0.5403 - accuracy: 0.7322 - val_loss: 0.4461 - val_accuracy: 0.8768\n",
            "Epoch 3/20\n",
            "40/40 [==============================] - 1s 16ms/step - loss: 0.4912 - accuracy: 0.7735 - val_loss: 0.4033 - val_accuracy: 0.8582\n",
            "Epoch 4/20\n",
            "40/40 [==============================] - 1s 16ms/step - loss: 0.4601 - accuracy: 0.8001 - val_loss: 0.3531 - val_accuracy: 0.8900\n",
            "Epoch 5/20\n",
            "40/40 [==============================] - 1s 16ms/step - loss: 0.4407 - accuracy: 0.8227 - val_loss: 0.3464 - val_accuracy: 0.8868\n",
            "Epoch 6/20\n",
            "40/40 [==============================] - 1s 16ms/step - loss: 0.4156 - accuracy: 0.8402 - val_loss: 0.3315 - val_accuracy: 0.8872\n",
            "Epoch 7/20\n",
            "40/40 [==============================] - 1s 16ms/step - loss: 0.4060 - accuracy: 0.8505 - val_loss: 0.3462 - val_accuracy: 0.8774\n",
            "Epoch 8/20\n",
            "40/40 [==============================] - 1s 16ms/step - loss: 0.3897 - accuracy: 0.8623 - val_loss: 0.3470 - val_accuracy: 0.8794\n",
            "Epoch 9/20\n",
            "40/40 [==============================] - 1s 16ms/step - loss: 0.3777 - accuracy: 0.8672 - val_loss: 0.3305 - val_accuracy: 0.8884\n",
            "Epoch 10/20\n",
            "40/40 [==============================] - 1s 16ms/step - loss: 0.3687 - accuracy: 0.8729 - val_loss: 0.3326 - val_accuracy: 0.8886\n",
            "Epoch 11/20\n",
            "40/40 [==============================] - 1s 16ms/step - loss: 0.3588 - accuracy: 0.8762 - val_loss: 0.3314 - val_accuracy: 0.8868\n",
            "Epoch 12/20\n",
            "40/40 [==============================] - 1s 16ms/step - loss: 0.3587 - accuracy: 0.8749 - val_loss: 0.3344 - val_accuracy: 0.8874\n",
            "Epoch 13/20\n",
            "40/40 [==============================] - 1s 16ms/step - loss: 0.3567 - accuracy: 0.8781 - val_loss: 0.3561 - val_accuracy: 0.8836\n",
            "Epoch 14/20\n",
            "40/40 [==============================] - 1s 16ms/step - loss: 0.3469 - accuracy: 0.8807 - val_loss: 0.3494 - val_accuracy: 0.8854\n",
            "Epoch 15/20\n",
            "40/40 [==============================] - 1s 16ms/step - loss: 0.3423 - accuracy: 0.8861 - val_loss: 0.3425 - val_accuracy: 0.8856\n",
            "Epoch 16/20\n",
            "40/40 [==============================] - 1s 16ms/step - loss: 0.3426 - accuracy: 0.8842 - val_loss: 0.3565 - val_accuracy: 0.8822\n",
            "Epoch 17/20\n",
            "40/40 [==============================] - 1s 16ms/step - loss: 0.3392 - accuracy: 0.8868 - val_loss: 0.3698 - val_accuracy: 0.8794\n",
            "Epoch 18/20\n",
            "40/40 [==============================] - 1s 16ms/step - loss: 0.3376 - accuracy: 0.8873 - val_loss: 0.3582 - val_accuracy: 0.8824\n",
            "Epoch 19/20\n",
            "40/40 [==============================] - 1s 16ms/step - loss: 0.3289 - accuracy: 0.8921 - val_loss: 0.3691 - val_accuracy: 0.8832\n",
            "Epoch 20/20\n",
            "40/40 [==============================] - 1s 16ms/step - loss: 0.3366 - accuracy: 0.8849 - val_loss: 0.3746 - val_accuracy: 0.8838\n"
          ],
          "name": "stdout"
        }
      ]
    },
    {
      "cell_type": "code",
      "metadata": {
        "id": "jfxyx65x44Dq"
      },
      "source": [
        "import matplotlib.pyplot as plt\n",
        "\n",
        "loss = history.history['loss']\n",
        "val_loss = history.history['val_loss']\n",
        "\n",
        "acc = history.history['accuracy']\n",
        "val_acc = history.history['val_accuracy']\n"
      ],
      "execution_count": 31,
      "outputs": []
    },
    {
      "cell_type": "code",
      "metadata": {
        "id": "BBr-MuCM5L7a"
      },
      "source": [
        "epochs = range(1, len(acc) + 1)"
      ],
      "execution_count": 32,
      "outputs": []
    },
    {
      "cell_type": "code",
      "metadata": {
        "id": "VXOKqSys5RRO",
        "outputId": "4b28d978-c33f-48e6-ed9e-9825b1b409c1",
        "colab": {
          "base_uri": "https://localhost:8080/",
          "height": 282
        }
      },
      "source": [
        "plt.plot(epochs, loss, 'bo')\n",
        "plt.plot(epochs, val_loss, 'r')"
      ],
      "execution_count": 33,
      "outputs": [
        {
          "output_type": "execute_result",
          "data": {
            "text/plain": [
              "[<matplotlib.lines.Line2D at 0x7efc1a499358>]"
            ]
          },
          "metadata": {
            "tags": []
          },
          "execution_count": 33
        },
        {
          "output_type": "display_data",
          "data": {
            "image/png": "[encoded data removed]",
            "text/plain": [
              "<Figure size 432x288 with 1 Axes>"
            ]
          },
          "metadata": {
            "tags": [],
            "needs_background": "light"
          }
        }
      ]
    },
    {
      "cell_type": "code",
      "metadata": {
        "id": "ePhcpF4L5YJ8",
        "outputId": "b174acd7-be52-4067-cc8c-3e231ef078e2",
        "colab": {
          "base_uri": "https://localhost:8080/",
          "height": 281
        }
      },
      "source": [
        "plt.plot(epochs, acc, 'bo')\n",
        "plt.plot(epochs, val_acc, 'r')"
      ],
      "execution_count": 34,
      "outputs": [
        {
          "output_type": "execute_result",
          "data": {
            "text/plain": [
              "[<matplotlib.lines.Line2D at 0x7efc198337b8>]"
            ]
          },
          "metadata": {
            "tags": []
          },
          "execution_count": 34
        },
        {
          "output_type": "display_data",
          "data": {
            "image/png": "[encoded data removed]",
            "text/plain": [
              "<Figure size 432x288 with 1 Axes>"
            ]
          },
          "metadata": {
            "tags": [],
            "needs_background": "light"
          }
        }
      ]
    },
    {
      "cell_type": "code",
      "metadata": {
        "id": "FLQJKqZ__4oX"
      },
      "source": [
        ""
      ],
      "execution_count": 34,
      "outputs": []
    }
  ]
}