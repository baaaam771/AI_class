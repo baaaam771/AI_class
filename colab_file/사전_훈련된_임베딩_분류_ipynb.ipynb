{
  "nbformat": 4,
  "nbformat_minor": 0,
  "metadata": {
    "colab": {
      "name": "사전 훈련된 임베딩_이진분류.ipynb의 사본",
      "provenance": [],
      "collapsed_sections": []
    },
    "kernelspec": {
      "name": "python3",
      "display_name": "Python 3"
    }
  },
  "cells": [
    {
      "cell_type": "code",
      "metadata": {
        "id": "L8OT1F_dSpqr"
      },
      "source": [
        "import os\n",
        "import pandas as pd\n",
        "import numpy as np\n",
        "import matplotlib.pyplot as plt\n",
        "%matplotlib inline\n",
        "\n",
        "from sklearn import preprocessing\n",
        "from tensorflow.keras.preprocessing.text import Tokenizer\n",
        "from tensorflow.keras.preprocessing.sequence import pad_sequences\n",
        "from tensorflow.keras.utils import to_categorical\n",
        "from sklearn.metrics import classification_report\n",
        "import urllib.request"
      ],
      "execution_count": 1,
      "outputs": []
    },
    {
      "cell_type": "code",
      "metadata": {
        "id": "FhKijv9jZrG3"
      },
      "source": [
        "import sys\n",
        "sys.setrecursionlimit(1000000)"
      ],
      "execution_count": 2,
      "outputs": []
    },
    {
      "cell_type": "code",
      "metadata": {
        "colab": {
          "base_uri": "https://localhost:8080/"
        },
        "id": "4wHGh6ndS5jo",
        "outputId": "a2128aba-6c50-417d-b137-2c47429013f9"
      },
      "source": [
        "urllib.request.urlretrieve(\"https://github.com/ajinkyaT/CNN_Intent_Classification/raw/master/data/train_text.npy\", filename=\"train_text.npy\")\n",
        "urllib.request.urlretrieve(\"https://github.com/ajinkyaT/CNN_Intent_Classification/raw/master/data/test_text.npy\", filename=\"test_text.npy\")\n",
        "urllib.request.urlretrieve(\"https://github.com/ajinkyaT/CNN_Intent_Classification/raw/master/data/train_label.npy\", filename=\"train_label.npy\")\n",
        "urllib.request.urlretrieve(\"https://github.com/ajinkyaT/CNN_Intent_Classification/raw/master/data/test_label.npy\", filename=\"test_label.npy\")"
      ],
      "execution_count": 3,
      "outputs": [
        {
          "output_type": "execute_result",
          "data": {
            "text/plain": [
              "('test_label.npy', <http.client.HTTPMessage at 0x7f2f656d3240>)"
            ]
          },
          "metadata": {
            "tags": []
          },
          "execution_count": 3
        }
      ]
    },
    {
      "cell_type": "code",
      "metadata": {
        "id": "JBsl1Z85Sve6"
      },
      "source": [
        "old = np.load\n",
        "np.load = lambda *a,**k: old(*a,allow_pickle=True,**k)"
      ],
      "execution_count": 4,
      "outputs": []
    },
    {
      "cell_type": "code",
      "metadata": {
        "id": "32HsJvgnSySR"
      },
      "source": [
        "intent_train = np.load(open('train_text.npy', 'rb')).tolist()"
      ],
      "execution_count": 5,
      "outputs": []
    },
    {
      "cell_type": "code",
      "metadata": {
        "id": "wm08Nw2caFjQ"
      },
      "source": [
        "label_train = np.load(open('train_label.npy', 'rb')).tolist()"
      ],
      "execution_count": 6,
      "outputs": []
    },
    {
      "cell_type": "code",
      "metadata": {
        "id": "x5VqL_dTaIDV"
      },
      "source": [
        "intent_test = np.load(open('test_text.npy', 'rb')).tolist()"
      ],
      "execution_count": 7,
      "outputs": []
    },
    {
      "cell_type": "code",
      "metadata": {
        "id": "kpdGqbWjaJ-J"
      },
      "source": [
        "label_test = np.load(open('test_label.npy', 'rb')).tolist()"
      ],
      "execution_count": 8,
      "outputs": []
    },
    {
      "cell_type": "code",
      "metadata": {
        "colab": {
          "base_uri": "https://localhost:8080/"
        },
        "id": "cLrEwUJOS0I-",
        "outputId": "d2dad666-cb7b-4bb2-a9ef-e3563e6cf770"
      },
      "source": [
        "print('훈련용 문장의 수 :', len(intent_train))\n",
        "print('훈련용 레이블의 수 :', len(label_train))\n",
        "print('테스트용 문장의 수 :', len(intent_test))\n",
        "print('테스트용 레이블의 수 :', len(label_test))"
      ],
      "execution_count": 9,
      "outputs": [
        {
          "output_type": "stream",
          "text": [
            "훈련용 문장의 수 : 11784\n",
            "훈련용 레이블의 수 : 11784\n",
            "테스트용 문장의 수 : 600\n",
            "테스트용 레이블의 수 : 600\n"
          ],
          "name": "stdout"
        }
      ]
    },
    {
      "cell_type": "code",
      "metadata": {
        "colab": {
          "base_uri": "https://localhost:8080/"
        },
        "id": "M1OC7IlRZ2B7",
        "outputId": "742c989a-e5b7-4270-ae7f-718a708497a1"
      },
      "source": [
        "print(intent_train[:5])\n",
        "print(label_train[:5])"
      ],
      "execution_count": 10,
      "outputs": [
        {
          "output_type": "stream",
          "text": [
            "['add another song to the cita rom ntica playlist', 'add clem burke in my playlist pre party r b jams', 'add live from aragon ballroom to trapeo', 'add unite and win to my night out', 'add track to my digster future hits']\n",
            "['AddToPlaylist', 'AddToPlaylist', 'AddToPlaylist', 'AddToPlaylist', 'AddToPlaylist']\n"
          ],
          "name": "stdout"
        }
      ]
    },
    {
      "cell_type": "code",
      "metadata": {
        "colab": {
          "base_uri": "https://localhost:8080/"
        },
        "id": "MCOlMidhZ2RF",
        "outputId": "475ba817-253f-4411-9653-2e3e1a5d2eea"
      },
      "source": [
        "print(intent_train[2000:2002])\n",
        "print(label_train[2000:2002])"
      ],
      "execution_count": 11,
      "outputs": [
        {
          "output_type": "stream",
          "text": [
            "['please book reservations for 3 people at a restaurant in alderwood manor', 'book a table in mt for 3 for now at a pub that serves south indian']\n",
            "['BookRestaurant', 'BookRestaurant']\n"
          ],
          "name": "stdout"
        }
      ]
    },
    {
      "cell_type": "code",
      "metadata": {
        "colab": {
          "base_uri": "https://localhost:8080/"
        },
        "id": "j92CISt4Z4mb",
        "outputId": "ce0e7ce0-90c0-4246-deed-e0eb62b8d9fc"
      },
      "source": [
        "print(intent_train[10000:10002])\n",
        "print(label_train[10000:10002])"
      ],
      "execution_count": 12,
      "outputs": [
        {
          "output_type": "stream",
          "text": [
            "['when is blood and ice cream trilogie playing at the nearest movie theatre \\\\?', 'show movie schedules']\n",
            "['SearchScreeningEvent', 'SearchScreeningEvent']\n"
          ],
          "name": "stdout"
        }
      ]
    },
    {
      "cell_type": "code",
      "metadata": {
        "colab": {
          "base_uri": "https://localhost:8080/",
          "height": 385
        },
        "id": "Dzs1TouTaK4y",
        "outputId": "482d411c-7e80-4e25-a200-cebd93896ad6"
      },
      "source": [
        "temp = pd.Series(label_train)\n",
        "temp.value_counts().plot(kind = 'bar')"
      ],
      "execution_count": 13,
      "outputs": [
        {
          "output_type": "execute_result",
          "data": {
            "text/plain": [
              "<matplotlib.axes._subplots.AxesSubplot at 0x7f2f34ae8278>"
            ]
          },
          "metadata": {
            "tags": []
          },
          "execution_count": 13
        },
        {
          "output_type": "display_data",
          "data": {
            "image/png": "[encoded data removed]",
            "text/plain": [
              "<Figure size 432x288 with 1 Axes>"
            ]
          },
          "metadata": {
            "tags": [],
            "needs_background": "light"
          }
        }
      ]
    },
    {
      "cell_type": "code",
      "metadata": {
        "colab": {
          "base_uri": "https://localhost:8080/"
        },
        "id": "UIFHHIcxaNBv",
        "outputId": "07a56c93-bc2d-46bb-d38a-1f9fb3b143b1"
      },
      "source": [
        "#LabelEncoder객체 생성\n",
        "idx_encode = preprocessing.LabelEncoder()\n",
        "#label encoder 훈련데이터에 fitting : 레이블 인코딩을 통해 레이블에 고유한 정수 지정\n",
        "idx_encode.fit(label_train)"
      ],
      "execution_count": 15,
      "outputs": [
        {
          "output_type": "execute_result",
          "data": {
            "text/plain": [
              "LabelEncoder()"
            ]
          },
          "metadata": {
            "tags": []
          },
          "execution_count": 15
        }
      ]
    },
    {
      "cell_type": "code",
      "metadata": {
        "colab": {
          "base_uri": "https://localhost:8080/"
        },
        "id": "lf4W7DWukl39",
        "outputId": "21084a5b-2fb1-4c38-80c4-18b2133d3fa0"
      },
      "source": [
        "label_train[:3]"
      ],
      "execution_count": 16,
      "outputs": [
        {
          "output_type": "execute_result",
          "data": {
            "text/plain": [
              "['AddToPlaylist', 'AddToPlaylist', 'AddToPlaylist']"
            ]
          },
          "metadata": {
            "tags": []
          },
          "execution_count": 16
        }
      ]
    },
    {
      "cell_type": "code",
      "metadata": {
        "id": "W2oCoOQNke-y"
      },
      "source": [
        "#레이블 인코딩 : 레이블을 고유한 정수로 변환 (transform사용)\n",
        "label_train = idx_encode.transform(label_train)\n",
        "label_test = idx_encode.transform(label_test)"
      ],
      "execution_count": 17,
      "outputs": []
    },
    {
      "cell_type": "code",
      "metadata": {
        "colab": {
          "base_uri": "https://localhost:8080/"
        },
        "id": "Jyufrl2tkopP",
        "outputId": "8e6e2f1d-d7c6-4efa-fc5b-299720ea13d9"
      },
      "source": [
        "label_train[:3]"
      ],
      "execution_count": 18,
      "outputs": [
        {
          "output_type": "execute_result",
          "data": {
            "text/plain": [
              "array([0, 0, 0])"
            ]
          },
          "metadata": {
            "tags": []
          },
          "execution_count": 18
        }
      ]
    },
    {
      "cell_type": "code",
      "metadata": {
        "colab": {
          "base_uri": "https://localhost:8080/"
        },
        "id": "vX7R8bmClIiQ",
        "outputId": "93c77b59-917c-437c-8ce7-380dd7adde10"
      },
      "source": [
        "idx_encode.classes_"
      ],
      "execution_count": 19,
      "outputs": [
        {
          "output_type": "execute_result",
          "data": {
            "text/plain": [
              "array(['AddToPlaylist', 'BookRestaurant', 'GetWeather', 'RateBook',\n",
              "       'SearchCreativeWork', 'SearchScreeningEvent'], dtype='<U20')"
            ]
          },
          "metadata": {
            "tags": []
          },
          "execution_count": 19
        }
      ]
    },
    {
      "cell_type": "code",
      "metadata": {
        "colab": {
          "base_uri": "https://localhost:8080/"
        },
        "id": "vQSANfuPk3_d",
        "outputId": "5e76c0f8-ceaa-4a8e-e3bc-1045c1cdfe20"
      },
      "source": [
        "idx_encode.transform(list(idx_encode.classes_))"
      ],
      "execution_count": 20,
      "outputs": [
        {
          "output_type": "execute_result",
          "data": {
            "text/plain": [
              "array([0, 1, 2, 3, 4, 5])"
            ]
          },
          "metadata": {
            "tags": []
          },
          "execution_count": 20
        }
      ]
    },
    {
      "cell_type": "code",
      "metadata": {
        "colab": {
          "base_uri": "https://localhost:8080/"
        },
        "id": "zMHsBe6zlLwL",
        "outputId": "2700ede7-1c26-4ed5-873f-66a3c372c68e"
      },
      "source": [
        "label_idx = dict(zip(list(idx_encode.classes_), idx_encode.transform(list(idx_encode.classes_))))\n",
        "print(label_idx)"
      ],
      "execution_count": 21,
      "outputs": [
        {
          "output_type": "stream",
          "text": [
            "{'AddToPlaylist': 0, 'BookRestaurant': 1, 'GetWeather': 2, 'RateBook': 3, 'SearchCreativeWork': 4, 'SearchScreeningEvent': 5}\n"
          ],
          "name": "stdout"
        }
      ]
    },
    {
      "cell_type": "code",
      "metadata": {
        "colab": {
          "base_uri": "https://localhost:8080/"
        },
        "id": "uPHpV0twaPHU",
        "outputId": "b2579b58-d145-41e4-8b51-426d47a855c7"
      },
      "source": [
        "print(intent_train[:5])\n",
        "print(label_train[:5])"
      ],
      "execution_count": 22,
      "outputs": [
        {
          "output_type": "stream",
          "text": [
            "['add another song to the cita rom ntica playlist', 'add clem burke in my playlist pre party r b jams', 'add live from aragon ballroom to trapeo', 'add unite and win to my night out', 'add track to my digster future hits']\n",
            "[0 0 0 0 0]\n"
          ],
          "name": "stdout"
        }
      ]
    },
    {
      "cell_type": "code",
      "metadata": {
        "colab": {
          "base_uri": "https://localhost:8080/"
        },
        "id": "4BIR234FaRbG",
        "outputId": "8063257c-3bd0-4c9a-d607-b47bded7d756"
      },
      "source": [
        "print(intent_test[:5])\n",
        "print(label_test[:5])"
      ],
      "execution_count": 23,
      "outputs": [
        {
          "output_type": "stream",
          "text": [
            "[\"i 'd like to have this track onto my classical relaxations playlist\", 'add the album to my flow espa ol playlist', 'add digging now to my young at heart playlist', 'add this song by too poetic to my piano ballads playlist', 'add this album to old school death metal']\n",
            "[0 0 0 0 0]\n"
          ],
          "name": "stdout"
        }
      ]
    },
    {
      "cell_type": "code",
      "metadata": {
        "colab": {
          "base_uri": "https://localhost:8080/"
        },
        "id": "cSlIeKlIaTPF",
        "outputId": "66d37ac3-13e4-4caf-d201-446b9123a924"
      },
      "source": [
        "#tokenize객체 생성\n",
        "tokenizer = Tokenizer()\n",
        "#훈련데이터에대해 토큰화 진행\n",
        "tokenizer.fit_on_texts(intent_train)\n",
        "#자연어 데이터를 정수 인코딩\n",
        "sequences =tokenizer.texts_to_sequences(intent_train)\n",
        "sequences[:5] # 상위 5개 샘플 출력"
      ],
      "execution_count": 25,
      "outputs": [
        {
          "output_type": "execute_result",
          "data": {
            "text/plain": [
              "[[11, 191, 61, 4, 1, 4013, 1141, 1572, 15],\n",
              " [11, 2624, 1573, 3, 14, 15, 939, 82, 256, 188, 548],\n",
              " [11, 187, 42, 2625, 4014, 4, 1968],\n",
              " [11, 2626, 22, 2627, 4, 14, 192, 27],\n",
              " [11, 92, 4, 14, 651, 520, 195]]"
            ]
          },
          "metadata": {
            "tags": []
          },
          "execution_count": 25
        }
      ]
    },
    {
      "cell_type": "code",
      "metadata": {
        "colab": {
          "base_uri": "https://localhost:8080/"
        },
        "id": "gKt5lv_GaVKX",
        "outputId": "bf9ccfc4-6cac-422d-af54-aef8875830e5"
      },
      "source": [
        "word_index = tokenizer.word_index\n",
        "word_index"
      ],
      "execution_count": 26,
      "outputs": [
        {
          "output_type": "execute_result",
          "data": {
            "text/plain": [
              "{'the': 1,\n",
              " 'a': 2,\n",
              " 'in': 3,\n",
              " 'to': 4,\n",
              " 'for': 5,\n",
              " 'of': 6,\n",
              " 'at': 7,\n",
              " 'i': 8,\n",
              " 'is': 9,\n",
              " 'book': 10,\n",
              " 'add': 11,\n",
              " 'what': 12,\n",
              " 'find': 13,\n",
              " 'my': 14,\n",
              " 'playlist': 15,\n",
              " 'this': 16,\n",
              " '6': 17,\n",
              " 'movie': 18,\n",
              " 'me': 19,\n",
              " 'rate': 20,\n",
              " 'weather': 21,\n",
              " 'and': 22,\n",
              " 'be': 23,\n",
              " 'show': 24,\n",
              " 'give': 25,\n",
              " 'restaurant': 26,\n",
              " 'out': 27,\n",
              " 'will': 28,\n",
              " 'it': 29,\n",
              " 'on': 30,\n",
              " 'current': 31,\n",
              " 'stars': 32,\n",
              " 'forecast': 33,\n",
              " 'points': 34,\n",
              " 'playing': 35,\n",
              " 'can': 36,\n",
              " 'table': 37,\n",
              " 'want': 38,\n",
              " 'like': 39,\n",
              " \"'s\": 40,\n",
              " 'movies': 41,\n",
              " 'from': 42,\n",
              " 'album': 43,\n",
              " 'now': 44,\n",
              " 'that': 45,\n",
              " 'need': 46,\n",
              " '1': 47,\n",
              " 'called': 48,\n",
              " 'one': 49,\n",
              " 'schedule': 50,\n",
              " 'are': 51,\n",
              " 'theatres': 52,\n",
              " 'with': 53,\n",
              " 'you': 54,\n",
              " 'please': 55,\n",
              " \"'d\": 56,\n",
              " '2': 57,\n",
              " 'house': 58,\n",
              " 'four': 59,\n",
              " 'time': 60,\n",
              " 'song': 61,\n",
              " 'reservation': 62,\n",
              " 'by': 63,\n",
              " '4': 64,\n",
              " '3': 65,\n",
              " 'where': 66,\n",
              " 'novel': 67,\n",
              " 'get': 68,\n",
              " 'rating': 69,\n",
              " 'put': 70,\n",
              " 'two': 71,\n",
              " 'three': 72,\n",
              " '5': 73,\n",
              " 'people': 74,\n",
              " 'animated': 75,\n",
              " 'five': 76,\n",
              " 'times': 77,\n",
              " 'schedules': 78,\n",
              " 'here': 79,\n",
              " 'films': 80,\n",
              " 'tune': 81,\n",
              " 'party': 82,\n",
              " 'saga': 83,\n",
              " 'tv': 84,\n",
              " 'cinema': 85,\n",
              " '0': 86,\n",
              " 'there': 87,\n",
              " 'am': 88,\n",
              " 'series': 89,\n",
              " 'serves': 90,\n",
              " 'essay': 91,\n",
              " 'track': 92,\n",
              " 'game': 93,\n",
              " 'see': 94,\n",
              " 'textbook': 95,\n",
              " 'area': 96,\n",
              " 'nearest': 97,\n",
              " 'list': 98,\n",
              " 'close': 99,\n",
              " 'zero': 100,\n",
              " 'when': 101,\n",
              " 'spot': 102,\n",
              " 'showing': 103,\n",
              " 'artist': 104,\n",
              " 'closest': 105,\n",
              " 'theatre': 106,\n",
              " 'tell': 107,\n",
              " 'rated': 108,\n",
              " 'new': 109,\n",
              " 'going': 110,\n",
              " 'would': 111,\n",
              " 'play': 112,\n",
              " 'an': 113,\n",
              " 'park': 114,\n",
              " 'best': 115,\n",
              " 'watch': 116,\n",
              " 'pm': 117,\n",
              " 'food': 118,\n",
              " 'bar': 119,\n",
              " 'around': 120,\n",
              " 'chronicle': 121,\n",
              " 'eat': 122,\n",
              " 'national': 123,\n",
              " 'how': 124,\n",
              " 'love': 125,\n",
              " 'place': 126,\n",
              " '8': 127,\n",
              " 'picture': 128,\n",
              " 'next': 129,\n",
              " 'brasserie': 130,\n",
              " 'looking': 131,\n",
              " 'nearby': 132,\n",
              " 'look': 133,\n",
              " 'state': 134,\n",
              " 'search': 135,\n",
              " 'photograph': 136,\n",
              " \"i'm\": 137,\n",
              " 'trailer': 138,\n",
              " 'onto': 139,\n",
              " 'city': 140,\n",
              " 'pub': 141,\n",
              " 'seven': 142,\n",
              " 'nine': 143,\n",
              " 'up': 144,\n",
              " 'within': 145,\n",
              " 'television': 146,\n",
              " 'top': 147,\n",
              " 'six': 148,\n",
              " 'soundtrack': 149,\n",
              " 'ten': 150,\n",
              " 'reservations': 151,\n",
              " 'neighborhood': 152,\n",
              " '10': 153,\n",
              " 'highly': 154,\n",
              " 'painting': 155,\n",
              " 'video': 156,\n",
              " 'go': 157,\n",
              " '7': 158,\n",
              " 'far': 159,\n",
              " 'hours': 160,\n",
              " 'hot': 161,\n",
              " 'same': 162,\n",
              " 'rock': 163,\n",
              " 'minute': 164,\n",
              " 'make': 165,\n",
              " 'which': 166,\n",
              " 'day': 167,\n",
              " 'metal': 168,\n",
              " 'eight': 169,\n",
              " '9': 170,\n",
              " 'reserve': 171,\n",
              " 'has': 172,\n",
              " 'years': 173,\n",
              " 'second': 174,\n",
              " 'neighbourhood': 175,\n",
              " 'north': 176,\n",
              " 'de': 177,\n",
              " 'minutes': 178,\n",
              " 'hour': 179,\n",
              " 'as': 180,\n",
              " \"o'clock\": 181,\n",
              " 'all': 182,\n",
              " 'south': 183,\n",
              " 'weeks': 184,\n",
              " 'm': 185,\n",
              " 'islands': 186,\n",
              " 'live': 187,\n",
              " 'b': 188,\n",
              " 'today': 189,\n",
              " 'gets': 190,\n",
              " 'another': 191,\n",
              " 'night': 192,\n",
              " 'work': 193,\n",
              " 'american': 194,\n",
              " 'hits': 195,\n",
              " 'indie': 196,\n",
              " 'man': 197,\n",
              " 'colder': 198,\n",
              " 'pop': 199,\n",
              " 'warm': 200,\n",
              " 'week': 201,\n",
              " 'corporation': 202,\n",
              " 'women': 203,\n",
              " 'titled': 204,\n",
              " 'not': 205,\n",
              " 'cold': 206,\n",
              " 'chilly': 207,\n",
              " 'only': 208,\n",
              " 'life': 209,\n",
              " 'country': 210,\n",
              " 'music': 211,\n",
              " 'days': 212,\n",
              " 'if': 213,\n",
              " 'star': 214,\n",
              " 'black': 215,\n",
              " 'twenty': 216,\n",
              " 'into': 217,\n",
              " 'freezing': 218,\n",
              " 'showtimes': 219,\n",
              " 'world': 220,\n",
              " 'last': 221,\n",
              " 'island': 222,\n",
              " 'deserves': 223,\n",
              " 'value': 224,\n",
              " 'have': 225,\n",
              " 'know': 226,\n",
              " 'seconds': 227,\n",
              " 'distance': 228,\n",
              " 'creativity': 229,\n",
              " 'soul': 230,\n",
              " 'dance': 231,\n",
              " 's': 232,\n",
              " 'hotter': 233,\n",
              " 'walking': 234,\n",
              " 'creative': 235,\n",
              " 'cinemas': 236,\n",
              " 'your': 237,\n",
              " 'near': 238,\n",
              " 'chillier': 239,\n",
              " 'should': 240,\n",
              " 'warmer': 241,\n",
              " 'cineplex': 242,\n",
              " 'year': 243,\n",
              " 'any': 244,\n",
              " 'entertainment': 245,\n",
              " 'la': 246,\n",
              " 'neighboring': 247,\n",
              " 'faraway': 248,\n",
              " 'lake': 249,\n",
              " 'saint': 250,\n",
              " 'theaters': 251,\n",
              " 'chill': 252,\n",
              " 'location': 253,\n",
              " '11': 254,\n",
              " 'wildlife': 255,\n",
              " 'r': 256,\n",
              " 'name': 257,\n",
              " 'named': 258,\n",
              " 'some': 259,\n",
              " 'popular': 260,\n",
              " 'tavern': 261,\n",
              " 'serving': 262,\n",
              " 'tea': 263,\n",
              " 'latin': 264,\n",
              " 'death': 265,\n",
              " 'east': 266,\n",
              " 'temperate': 267,\n",
              " 'great': 268,\n",
              " 'half': 269,\n",
              " 'west': 270,\n",
              " 'fire': 271,\n",
              " 'jazz': 272,\n",
              " 'st': 273,\n",
              " 'blues': 274,\n",
              " 'history': 275,\n",
              " '12': 276,\n",
              " 'right': 277,\n",
              " 'cafe': 278,\n",
              " 'position': 279,\n",
              " 'rain': 280,\n",
              " 'dinner': 281,\n",
              " 'good': 282,\n",
              " 'we': 283,\n",
              " 'group': 284,\n",
              " 'story': 285,\n",
              " 'court': 286,\n",
              " 'or': 287,\n",
              " 'workout': 288,\n",
              " 'distant': 289,\n",
              " 'room': 290,\n",
              " 'folk': 291,\n",
              " 'southern': 292,\n",
              " 'starting': 293,\n",
              " 'lo': 294,\n",
              " 'no': 295,\n",
              " 'storm': 296,\n",
              " 'take': 297,\n",
              " 'river': 298,\n",
              " 'classical': 299,\n",
              " 'red': 300,\n",
              " 'evening': 301,\n",
              " 'taverna': 302,\n",
              " 'pool': 303,\n",
              " 'months': 304,\n",
              " 'help': 305,\n",
              " 'check': 306,\n",
              " 'blizzard': 307,\n",
              " '50': 308,\n",
              " 'journal': 309,\n",
              " 'old': 310,\n",
              " 'white': 311,\n",
              " 'something': 312,\n",
              " 'about': 313,\n",
              " 'ii': 314,\n",
              " 'york': 315,\n",
              " 'road': 316,\n",
              " 'wild': 317,\n",
              " 'little': 318,\n",
              " 'fast': 319,\n",
              " 'cloudy': 320,\n",
              " 'somewhere': 321,\n",
              " 'acoustic': 322,\n",
              " 'added': 323,\n",
              " 'nature': 324,\n",
              " 'songs': 325,\n",
              " 'do': 326,\n",
              " 'month': 327,\n",
              " 'beach': 328,\n",
              " '21': 329,\n",
              " 'truck': 330,\n",
              " 'tomorrow': 331,\n",
              " 'windy': 332,\n",
              " 'does': 333,\n",
              " 'loews': 334,\n",
              " 'spring': 335,\n",
              " 'was': 336,\n",
              " 'jan': 337,\n",
              " 'midnight': 338,\n",
              " 'dakota': 339,\n",
              " \"'ll\": 340,\n",
              " 'think': 341,\n",
              " 'wind': 342,\n",
              " 'classics': 343,\n",
              " 'cloud': 344,\n",
              " 'punk': 345,\n",
              " 'french': 346,\n",
              " 'sun': 347,\n",
              " 'mountain': 348,\n",
              " 'war': 349,\n",
              " 'carolina': 350,\n",
              " 'parking': 351,\n",
              " 'feb': 352,\n",
              " 'cafeteria': 353,\n",
              " 'snowstorm': 354,\n",
              " 'espa': 355,\n",
              " 'feel': 356,\n",
              " 'power': 357,\n",
              " 'united': 358,\n",
              " 'first': 359,\n",
              " 'hotel': 360,\n",
              " 'who': 361,\n",
              " 'big': 362,\n",
              " 'snow': 363,\n",
              " 'dead': 364,\n",
              " 'heart': 365,\n",
              " '13': 366,\n",
              " 'local': 367,\n",
              " 'refuge': 368,\n",
              " 'hail': 369,\n",
              " 'amc': 370,\n",
              " 'street': 371,\n",
              " 'fresh': 372,\n",
              " 'classic': 373,\n",
              " 'baby': 374,\n",
              " 'magic': 375,\n",
              " 'spa': 376,\n",
              " 'earth': 377,\n",
              " '16': 378,\n",
              " 'home': 379,\n",
              " 'christmas': 380,\n",
              " '20': 381,\n",
              " 'bakery': 382,\n",
              " 'gastropub': 383,\n",
              " 'january': 384,\n",
              " 'diner': 385,\n",
              " 'san': 386,\n",
              " 'company': 387,\n",
              " 'supposed': 388,\n",
              " 'overcast': 389,\n",
              " 'giving': 390,\n",
              " 'down': 391,\n",
              " 'needs': 392,\n",
              " 'tracks': 393,\n",
              " 'green': 394,\n",
              " 'back': 395,\n",
              " 'reggae': 396,\n",
              " 'gaming': 397,\n",
              " 'let': 398,\n",
              " 'john': 399,\n",
              " 'summer': 400,\n",
              " 'el': 401,\n",
              " 'joint': 402,\n",
              " 'mexico': 403,\n",
              " 'eleven': 404,\n",
              " '22': 405,\n",
              " 'forest': 406,\n",
              " 'conditions': 407,\n",
              " 'fox': 408,\n",
              " 'd': 409,\n",
              " 'spotify': 410,\n",
              " 'mejor': 411,\n",
              " '2017': 412,\n",
              " 'blood': 413,\n",
              " 'hip': 414,\n",
              " 'hop': 415,\n",
              " 'step': 416,\n",
              " 'n': 417,\n",
              " 'pacific': 418,\n",
              " 'steakhouse': 419,\n",
              " 'seats': 420,\n",
              " 'seating': 421,\n",
              " 'august': 422,\n",
              " 'internet': 423,\n",
              " 'samoa': 424,\n",
              " 'october': 425,\n",
              " '15': 426,\n",
              " 'snowfall': 427,\n",
              " 'piano': 428,\n",
              " 'forever': 429,\n",
              " 'autumn': 430,\n",
              " 'include': 431,\n",
              " 'school': 432,\n",
              " 'guest': 433,\n",
              " 'just': 434,\n",
              " 'king': 435,\n",
              " 'she': 436,\n",
              " 'johnson': 437,\n",
              " 'person': 438,\n",
              " 'valley': 439,\n",
              " 'our': 440,\n",
              " 'indoor': 441,\n",
              " 'chicken': 442,\n",
              " 'snowy': 443,\n",
              " 'stormy': 444,\n",
              " 'read': 445,\n",
              " 'buy': 446,\n",
              " 'pull': 447,\n",
              " 'malco': 448,\n",
              " 'blue': 449,\n",
              " 'coffeehouse': 450,\n",
              " 'young': 451,\n",
              " 'under': 452,\n",
              " 'land': 453,\n",
              " 'being': 454,\n",
              " 'high': 455,\n",
              " 'other': 456,\n",
              " 'june': 457,\n",
              " 'creek': 458,\n",
              " 'march': 459,\n",
              " 'may': 460,\n",
              " 'sep': 461,\n",
              " 'cuisine': 462,\n",
              " 'georgia': 463,\n",
              " 'twelve': 464,\n",
              " 'meal': 465,\n",
              " 'point': 466,\n",
              " 'following': 467,\n",
              " 'girl': 468,\n",
              " 'amco': 469,\n",
              " 'ol': 470,\n",
              " 'kids': 471,\n",
              " 'martin': 472,\n",
              " 'disco': 473,\n",
              " 'trip': 474,\n",
              " 'funk': 475,\n",
              " 'ok': 476,\n",
              " 'al': 477,\n",
              " 'morning': 478,\n",
              " 'winter': 479,\n",
              " '17': 480,\n",
              " 'april': 481,\n",
              " 'wifi': 482,\n",
              " 'july': 483,\n",
              " 'outdoor': 484,\n",
              " '2034': 485,\n",
              " 'churrascaria': 486,\n",
              " 'oct': 487,\n",
              " 'fall': 488,\n",
              " 'sunny': 489,\n",
              " 'nationalpark': 490,\n",
              " 'humidity': 491,\n",
              " 'previous': 492,\n",
              " 'listen': 493,\n",
              " '2016': 494,\n",
              " 'queen': 495,\n",
              " 'us': 496,\n",
              " 'post': 497,\n",
              " 'nothing': 498,\n",
              " 'afternoon': 499,\n",
              " 'que': 500,\n",
              " 'y': 501,\n",
              " 'p': 502,\n",
              " 'town': 503,\n",
              " 'pizzeria': 504,\n",
              " 'bistro': 505,\n",
              " 'hundred': 506,\n",
              " 'december': 507,\n",
              " 'scheduled': 508,\n",
              " 'dec': 509,\n",
              " 'law': 510,\n",
              " 'states': 511,\n",
              " 'hills': 512,\n",
              " 'nov': 513,\n",
              " 'caribbean': 514,\n",
              " 'whats': 515,\n",
              " 'foggy': 516,\n",
              " 'fog': 517,\n",
              " 'depression': 518,\n",
              " 'start': 519,\n",
              " 'future': 520,\n",
              " 'vibes': 521,\n",
              " 'free': 522,\n",
              " 'los': 523,\n",
              " 'dickinson': 524,\n",
              " '90s': 525,\n",
              " 'sea': 526,\n",
              " 'lost': 527,\n",
              " 'wish': 528,\n",
              " 't': 529,\n",
              " 'kentucky': 530,\n",
              " 'september': 531,\n",
              " 'theater': 532,\n",
              " 'guinea': 533,\n",
              " 'av': 534,\n",
              " 'locate': 535,\n",
              " 'bay': 536,\n",
              " 'february': 537,\n",
              " 'jul': 538,\n",
              " '19': 539,\n",
              " 'long': 540,\n",
              " 'humid': 541,\n",
              " 'temps': 542,\n",
              " 'natural': 543,\n",
              " 'quality': 544,\n",
              " 'purchase': 545,\n",
              " 'odeon': 546,\n",
              " 'imax': 547,\n",
              " 'jams': 548,\n",
              " '100': 549,\n",
              " 'more': 550,\n",
              " 'but': 551,\n",
              " '00': 552,\n",
              " 'discography': 553,\n",
              " 'part': 554,\n",
              " 'e': 555,\n",
              " 'light': 556,\n",
              " 'fish': 557,\n",
              " 'woman': 558,\n",
              " 'much': 559,\n",
              " 'their': 560,\n",
              " 'noon': 561,\n",
              " 'smoking': 562,\n",
              " 'indian': 563,\n",
              " 'colorado': 564,\n",
              " 'northern': 565,\n",
              " 'oyster': 566,\n",
              " 'jersey': 567,\n",
              " 'hill': 568,\n",
              " '2024': 569,\n",
              " 'douglas': 570,\n",
              " 'cooper': 571,\n",
              " 'his': 572,\n",
              " 'cinemark': 573,\n",
              " 'marcus': 574,\n",
              " 'end': 575,\n",
              " 'club': 576,\n",
              " 'after': 577,\n",
              " 'lounge': 578,\n",
              " 'dark': 579,\n",
              " 'family': 580,\n",
              " 'mi': 581,\n",
              " 'coming': 582,\n",
              " 'oh': 583,\n",
              " 'apr': 584,\n",
              " 'wisconsin': 585,\n",
              " 'downtown': 586,\n",
              " 'mar': 587,\n",
              " 'fort': 588,\n",
              " 'ak': 589,\n",
              " 'delaware': 590,\n",
              " 'vermont': 591,\n",
              " 'november': 592,\n",
              " 'sky': 593,\n",
              " 'id': 594,\n",
              " 'rainy': 595,\n",
              " 'foundation': 596,\n",
              " 'goodrich': 597,\n",
              " 'megaplex': 598,\n",
              " 'amusements': 599,\n",
              " 'harkins': 600,\n",
              " 'rising': 601,\n",
              " 'guitar': 602,\n",
              " 'prince': 603,\n",
              " 'entitled': 604,\n",
              " 'virginia': 605,\n",
              " 'david': 606,\n",
              " 'beat': 607,\n",
              " 'title': 608,\n",
              " 'michael': 609,\n",
              " 'suena': 610,\n",
              " 'lady': 611,\n",
              " 'ultimate': 612,\n",
              " 'before': 613,\n",
              " 'through': 614,\n",
              " 'tonight': 615,\n",
              " 'mary': 616,\n",
              " 'novedades': 617,\n",
              " 'third': 618,\n",
              " 'walk': 619,\n",
              " 'come': 620,\n",
              " 'cool': 621,\n",
              " 'mills': 622,\n",
              " 'mystery': 623,\n",
              " 'stories': 624,\n",
              " 'tennessee': 625,\n",
              " 'secret': 626,\n",
              " 'pa': 627,\n",
              " 'moon': 628,\n",
              " 'texas': 629,\n",
              " 'century': 630,\n",
              " 'elevenses': 631,\n",
              " '2030': 632,\n",
              " 'brazilian': 633,\n",
              " 'il': 634,\n",
              " 'jun': 635,\n",
              " 'supper': 636,\n",
              " 'sunset': 637,\n",
              " 'ma': 638,\n",
              " 'ne': 639,\n",
              " 'center': 640,\n",
              " '23': 641,\n",
              " 'temperature': 642,\n",
              " 'escape': 643,\n",
              " 'general': 644,\n",
              " 'hear': 645,\n",
              " 'fine': 646,\n",
              " 'hollywood': 647,\n",
              " 'film': 648,\n",
              " 'kerasotes': 649,\n",
              " 'dipson': 650,\n",
              " 'digster': 651,\n",
              " 'tales': 652,\n",
              " 'sica': 653,\n",
              " 'para': 654,\n",
              " 'total': 655,\n",
              " 'rush': 656,\n",
              " 'laundry': 657,\n",
              " '70s': 658,\n",
              " 'sound': 659,\n",
              " 'glass': 660,\n",
              " 'k': 661,\n",
              " 'james': 662,\n",
              " 'mother': 663,\n",
              " 'chips': 664,\n",
              " 'news': 665,\n",
              " 'gold': 666,\n",
              " 'cobb': 667,\n",
              " 'air': 668,\n",
              " 'men': 669,\n",
              " 'perfect': 670,\n",
              " 'boy': 671,\n",
              " 'very': 672,\n",
              " 'devil': 673,\n",
              " 'tree': 674,\n",
              " 'than': 675,\n",
              " 'grand': 676,\n",
              " 'mr': 677,\n",
              " 'short': 678,\n",
              " 'spirit': 679,\n",
              " 'california': 680,\n",
              " 'republic': 681,\n",
              " 'lunch': 682,\n",
              " 'collection': 683,\n",
              " '2026': 684,\n",
              " 'members': 685,\n",
              " '18': 686,\n",
              " 'lets': 687,\n",
              " 'mt': 688,\n",
              " 'ms': 689,\n",
              " 'inn': 690,\n",
              " 'falls': 691,\n",
              " 'type': 692,\n",
              " 'nv': 693,\n",
              " 'springs': 694,\n",
              " '26': 695,\n",
              " 'indiana': 696,\n",
              " 'fm': 697,\n",
              " 'breakfast': 698,\n",
              " 'arkansas': 699,\n",
              " 'osteria': 700,\n",
              " 'alaska': 701,\n",
              " 'english': 702,\n",
              " 'micronesia': 703,\n",
              " 'seventh': 704,\n",
              " 'minnesota': 705,\n",
              " 'rhode': 706,\n",
              " 'iowa': 707,\n",
              " 'virgin': 708,\n",
              " 'palau': 709,\n",
              " 'washington': 710,\n",
              " 'nice': 711,\n",
              " 'battle': 712,\n",
              " 'heights': 713,\n",
              " '2020': 714,\n",
              " '02': 715,\n",
              " '07': 716,\n",
              " 'sanctuary': 717,\n",
              " 'view': 718,\n",
              " 'rainfall': 719,\n",
              " 'historic': 720,\n",
              " 'girls': 721,\n",
              " 'mann': 722,\n",
              " 'alamo': 723,\n",
              " 'drafthouse': 724,\n",
              " 'plitt': 725,\n",
              " 'spanish': 726,\n",
              " 'latino': 727,\n",
              " 'sleep': 728,\n",
              " 'thing': 729,\n",
              " 'sweet': 730,\n",
              " 'j': 731,\n",
              " 'instrumental': 732,\n",
              " 'away': 733,\n",
              " 'con': 734,\n",
              " 'season': 735,\n",
              " 'del': 736,\n",
              " 'fever': 737,\n",
              " 'die': 738,\n",
              " 'columbia': 739,\n",
              " 'castle': 740,\n",
              " 'heaven': 741,\n",
              " '30': 742,\n",
              " 'romance': 743,\n",
              " 'beyond': 744,\n",
              " 'ghost': 745,\n",
              " 'hell': 746,\n",
              " 'so': 747,\n",
              " 'happy': 748,\n",
              " 'they': 749,\n",
              " 'showcase': 750,\n",
              " 'space': 751,\n",
              " 'fear': 752,\n",
              " 'u': 753,\n",
              " 'warren': 754,\n",
              " 'connecticut': 755,\n",
              " 'midday': 756,\n",
              " 'thirteen': 757,\n",
              " 'sc': 758,\n",
              " 'mariana': 759,\n",
              " 'delicatessen': 760,\n",
              " 'anywhere': 761,\n",
              " 'son': 762,\n",
              " 'fifth': 763,\n",
              " 'gu': 764,\n",
              " 'bridge': 765,\n",
              " 'evil': 766,\n",
              " 'case': 767,\n",
              " 'legend': 768,\n",
              " 'way': 769,\n",
              " 'santikos': 770,\n",
              " 'showings': 771,\n",
              " 'paramount': 772,\n",
              " 'consolidated': 773,\n",
              " 'finds': 774,\n",
              " 'cl': 775,\n",
              " 'calm': 776,\n",
              " 'paul': 777,\n",
              " 'puerto': 778,\n",
              " 'rico': 779,\n",
              " 'bring': 780,\n",
              " 'harry': 781,\n",
              " 'bill': 782,\n",
              " 'glory': 783,\n",
              " 'vincent': 784,\n",
              " 'rhythm': 785,\n",
              " 'cheese': 786,\n",
              " 'hands': 787,\n",
              " 'focus': 788,\n",
              " 'stone': 789,\n",
              " 'lord': 790,\n",
              " 'o': 791,\n",
              " 'missouri': 792,\n",
              " 'child': 793,\n",
              " 'paris': 794,\n",
              " 'journey': 795,\n",
              " 'george': 796,\n",
              " 'mark': 797,\n",
              " 'mind': 798,\n",
              " 'tom': 799,\n",
              " 'volume': 800,\n",
              " 'mon': 801,\n",
              " 'wars': 802,\n",
              " 'peace': 803,\n",
              " 'lovers': 804,\n",
              " 'ny': 805,\n",
              " 'aug': 806,\n",
              " 'district': 807,\n",
              " 'borough': 808,\n",
              " '14': 809,\n",
              " '2035': 810,\n",
              " 'nh': 811,\n",
              " 'eighth': 812,\n",
              " 'during': 813,\n",
              " 'lakes': 814,\n",
              " 'wy': 815,\n",
              " 'sister': 816,\n",
              " 'md': 817,\n",
              " '25': 818,\n",
              " 'seat': 819,\n",
              " '06': 820,\n",
              " 'sixteen': 821,\n",
              " 'china': 822,\n",
              " 'ks': 823,\n",
              " 'federated': 824,\n",
              " 'union': 825,\n",
              " 'kind': 826,\n",
              " '2032': 827,\n",
              " 'call': 828,\n",
              " 'fourteen': 829,\n",
              " 'thirty': 830,\n",
              " 'louisiana': 831,\n",
              " 'ia': 832,\n",
              " '2022': 833,\n",
              " '27': 834,\n",
              " '2037': 835,\n",
              " '2033': 836,\n",
              " '09': 837,\n",
              " 'wife': 838,\n",
              " 'ut': 839,\n",
              " '2021': 840,\n",
              " '2025': 841,\n",
              " 'dawn': 842,\n",
              " 'worth': 843,\n",
              " 'greatest': 844,\n",
              " 'adventures': 845,\n",
              " 'return': 846,\n",
              " 'landmark': 847,\n",
              " 'arclight': 848,\n",
              " 'cleaning': 849,\n",
              " 'secrets': 850,\n",
              " 'children': 851,\n",
              " 'radio': 852,\n",
              " 'en': 853,\n",
              " 'todo': 854,\n",
              " 'lee': 855,\n",
              " 'hit': 856,\n",
              " 'smash': 857,\n",
              " 'groove': 858,\n",
              " '80s': 859,\n",
              " 'throwback': 860,\n",
              " 'deep': 861,\n",
              " 'caf': 862,\n",
              " 'global': 863,\n",
              " 'c': 864,\n",
              " 'frank': 865,\n",
              " 'don': 866,\n",
              " 'thursday': 867,\n",
              " 'clinton': 868,\n",
              " 'running': 869,\n",
              " 'iron': 870,\n",
              " 'favorite': 871,\n",
              " 'amor': 872,\n",
              " 'thomas': 873,\n",
              " 'tale': 874,\n",
              " 'african': 875,\n",
              " 'daily': 876,\n",
              " 'le': 877,\n",
              " 'sing': 878,\n",
              " 'central': 879,\n",
              " 'water': 880,\n",
              " 'newest': 881,\n",
              " 'kansas': 882,\n",
              " 'wave': 883,\n",
              " 'sons': 884,\n",
              " 'friday': 885,\n",
              " 'theory': 886,\n",
              " 'di': 887,\n",
              " 'van': 888,\n",
              " 'currently': 889,\n",
              " 'monday': 890,\n",
              " 'goes': 891,\n",
              " '04': 892,\n",
              " 'once': 893,\n",
              " 'darkness': 894,\n",
              " 'ice': 895,\n",
              " 'living': 896,\n",
              " 'coffee': 897,\n",
              " 'ga': 898,\n",
              " 'art': 899,\n",
              " 'price': 900,\n",
              " 'ri': 901,\n",
              " 'tn': 902,\n",
              " 'serbia': 903,\n",
              " 'brazil': 904,\n",
              " 'pw': 905,\n",
              " '2027': 906,\n",
              " 'montana': 907,\n",
              " 'bear': 908,\n",
              " '8th': 909,\n",
              " '2028': 910,\n",
              " 'arizona': 911,\n",
              " 'fourth': 912,\n",
              " 'sd': 913,\n",
              " 'dc': 914,\n",
              " '10th': 915,\n",
              " 'australia': 916,\n",
              " '2023': 917,\n",
              " 'mount': 918,\n",
              " '24': 919,\n",
              " 'fl': 920,\n",
              " 'seventeen': 921,\n",
              " 'thirteenth': 922,\n",
              " 'ar': 923,\n",
              " 'nebraska': 924,\n",
              " '2038': 925,\n",
              " 'ct': 926,\n",
              " 'bow': 927,\n",
              " 'forcast': 928,\n",
              " 'trail': 929,\n",
              " 'gave': 930,\n",
              " 'god': 931,\n",
              " 'sex': 932,\n",
              " 'sword': 933,\n",
              " 'fiction': 934,\n",
              " 'review': 935,\n",
              " 'kb': 936,\n",
              " 'regal': 937,\n",
              " 'tie': 938,\n",
              " 'pre': 939,\n",
              " 'fairy': 940,\n",
              " 'picks': 941,\n",
              " 'spain': 942,\n",
              " 'hearts': 943,\n",
              " 'alternative': 944,\n",
              " 'loving': 945,\n",
              " '40': 946,\n",
              " 'sxsw': 947,\n",
              " 'verano': 948,\n",
              " 'things': 949,\n",
              " 'brooklyn': 950,\n",
              " 'sicos': 951,\n",
              " 'emily': 952,\n",
              " 'ad': 953,\n",
              " 'epic': 954,\n",
              " 'electronic': 955,\n",
              " 'billy': 956,\n",
              " 'machine': 957,\n",
              " 'dirty': 958,\n",
              " '48': 959,\n",
              " 'keep': 960,\n",
              " 'animal': 961,\n",
              " 'releases': 962,\n",
              " 'las': 963,\n",
              " 'cream': 964,\n",
              " 'could': 965,\n",
              " 'hero': 966,\n",
              " 'dine': 967,\n",
              " 'friends': 968,\n",
              " 'car': 969,\n",
              " 'cake': 970,\n",
              " 'brother': 971,\n",
              " 'edition': 972,\n",
              " 'dragon': 973,\n",
              " 'johnny': 974,\n",
              " 'lazy': 975,\n",
              " 'paradise': 976,\n",
              " 'solid': 977,\n",
              " 'side': 978,\n",
              " 'america': 979,\n",
              " 'fiesta': 980,\n",
              " 'move': 981,\n",
              " 'hand': 982,\n",
              " 'her': 983,\n",
              " 'cry': 984,\n",
              " 'copy': 985,\n",
              " 'cross': 986,\n",
              " 'were': 987,\n",
              " 'line': 988,\n",
              " 'ocean': 989,\n",
              " 'drive': 990,\n",
              " 'dog': 991,\n",
              " 'fair': 992,\n",
              " 'tears': 993,\n",
              " 'dreams': 994,\n",
              " 'niger': 995,\n",
              " 'father': 996,\n",
              " '43': 997,\n",
              " 'junction': 998,\n",
              " 'alabama': 999,\n",
              " 'ca': 1000,\n",
              " ...}"
            ]
          },
          "metadata": {
            "tags": []
          },
          "execution_count": 26
        }
      ]
    },
    {
      "cell_type": "code",
      "metadata": {
        "colab": {
          "base_uri": "https://localhost:8080/"
        },
        "id": "_r9tYzfXlat-",
        "outputId": "29736a4f-edac-4721-a331-2950e4ea4efe"
      },
      "source": [
        "vocab_size = len(word_index) + 1\n",
        "print('단어 집합(Vocabulary)의 크기 :',vocab_size)"
      ],
      "execution_count": 27,
      "outputs": [
        {
          "output_type": "stream",
          "text": [
            "단어 집합(Vocabulary)의 크기 : 9870\n"
          ],
          "name": "stdout"
        }
      ]
    },
    {
      "cell_type": "code",
      "metadata": {
        "colab": {
          "base_uri": "https://localhost:8080/",
          "height": 313
        },
        "id": "4IXCkO3IaW2K",
        "outputId": "2c557bc3-b86e-4c76-8ffe-21801e730d31"
      },
      "source": [
        "print('문장의 최대 길이 :',max(len(l) for l in sequences))\n",
        "print('문장의 평균 길이 :',sum(map(len, sequences))/len(sequences))\n",
        "plt.hist([len(s) for s in sequences], bins=50)\n",
        "plt.xlabel('length of samples')\n",
        "plt.ylabel('number of samples')\n",
        "plt.show()"
      ],
      "execution_count": 28,
      "outputs": [
        {
          "output_type": "stream",
          "text": [
            "문장의 최대 길이 : 35\n",
            "문장의 평균 길이 : 9.364392396469789\n"
          ],
          "name": "stdout"
        },
        {
          "output_type": "display_data",
          "data": {
            "image/png": "[encoded data removed]",
            "text/plain": [
              "<Figure size 432x288 with 1 Axes>"
            ]
          },
          "metadata": {
            "tags": [],
            "needs_background": "light"
          }
        }
      ]
    },
    {
      "cell_type": "code",
      "metadata": {
        "colab": {
          "base_uri": "https://localhost:8080/"
        },
        "id": "NGYKTmWsaYT4",
        "outputId": "8ffae566-457d-4471-fd89-54309276a39f"
      },
      "source": [
        "max_len = 35\n",
        "#훈련데이터에대해 패딩 진행\n",
        "intent_train =pad_sequences(sequences, maxlen= max_len)\n",
        "#훈련 라벨에대해 원핫 인코딩 \n",
        "label_train = to_categorical(np.asarray(label_train))\n",
        "print('전체 데이터의 크기(shape):', intent_train.shape)\n",
        "print('레이블 데이터의 크기(shape):', label_train.shape)"
      ],
      "execution_count": 29,
      "outputs": [
        {
          "output_type": "stream",
          "text": [
            "전체 데이터의 크기(shape): (11784, 35)\n",
            "레이블 데이터의 크기(shape): (11784, 6)\n"
          ],
          "name": "stdout"
        }
      ]
    },
    {
      "cell_type": "code",
      "metadata": {
        "colab": {
          "base_uri": "https://localhost:8080/"
        },
        "id": "AEqdbOyiaaLJ",
        "outputId": "06e4e1a7-a54d-4e77-f343-2b2d6ba8a156"
      },
      "source": [
        "print(intent_train[0])\n",
        "print(label_train[0])"
      ],
      "execution_count": 30,
      "outputs": [
        {
          "output_type": "stream",
          "text": [
            "[   0    0    0    0    0    0    0    0    0    0    0    0    0    0\n",
            "    0    0    0    0    0    0    0    0    0    0    0    0   11  191\n",
            "   61    4    1 4013 1141 1572   15]\n",
            "[1. 0. 0. 0. 0. 0.]\n"
          ],
          "name": "stdout"
        }
      ]
    },
    {
      "cell_type": "code",
      "metadata": {
        "colab": {
          "base_uri": "https://localhost:8080/"
        },
        "id": "7kSfCnVIab0h",
        "outputId": "4ef2d70f-c938-4cfd-eae9-20ea576311e7"
      },
      "source": [
        "indices = np.arange(intent_train.shape[0])\n",
        "indices"
      ],
      "execution_count": 34,
      "outputs": [
        {
          "output_type": "execute_result",
          "data": {
            "text/plain": [
              "array([    0,     1,     2, ..., 11781, 11782, 11783])"
            ]
          },
          "metadata": {
            "tags": []
          },
          "execution_count": 34
        }
      ]
    },
    {
      "cell_type": "code",
      "metadata": {
        "id": "p2NXVqOrfLOd",
        "outputId": "c862af4a-40ff-454c-c3e4-17511b08db61",
        "colab": {
          "base_uri": "https://localhost:8080/"
        }
      },
      "source": [
        "np.random.shuffle(indices)\n",
        "print(indices)"
      ],
      "execution_count": 35,
      "outputs": [
        {
          "output_type": "stream",
          "text": [
            "[ 5849     1  8382 ... 11225  8542 11128]\n"
          ],
          "name": "stdout"
        }
      ]
    },
    {
      "cell_type": "code",
      "metadata": {
        "id": "Njw7nVWAadlJ"
      },
      "source": [
        "#데이터를 섞어줌\n",
        "intent_train = intent_train[indices]\n",
        "label_train = label_train[indices]"
      ],
      "execution_count": 37,
      "outputs": []
    },
    {
      "cell_type": "code",
      "metadata": {
        "id": "NCu0w50xfT4X",
        "outputId": "ff72384c-e88c-4f95-a31a-b31c735470b6",
        "colab": {
          "base_uri": "https://localhost:8080/"
        }
      },
      "source": [
        "label_train[:3]"
      ],
      "execution_count": 38,
      "outputs": [
        {
          "output_type": "execute_result",
          "data": {
            "text/plain": [
              "array([[0., 0., 0., 1., 0., 0.],\n",
              "       [0., 0., 1., 0., 0., 0.],\n",
              "       [0., 0., 0., 0., 1., 0.]], dtype=float32)"
            ]
          },
          "metadata": {
            "tags": []
          },
          "execution_count": 38
        }
      ]
    },
    {
      "cell_type": "code",
      "metadata": {
        "colab": {
          "base_uri": "https://localhost:8080/"
        },
        "id": "dVKXq9ehafvJ",
        "outputId": "5dc71898-bfec-41e9-a301-e14cd6e47def"
      },
      "source": [
        "n=0.1 * intent_train.shape[0]\n",
        "n_of_val = int(0.1 * intent_train.shape[0])\n",
        "print(n)\n",
        "print(n_of_val)"
      ],
      "execution_count": 40,
      "outputs": [
        {
          "output_type": "stream",
          "text": [
            "1178.4\n",
            "1178\n"
          ],
          "name": "stdout"
        }
      ]
    },
    {
      "cell_type": "code",
      "metadata": {
        "id": "4Fqm_F9SahbZ"
      },
      "source": [
        "#훈련 데이터를 검증데이터10%로 분리\n",
        "X_train = intent_train[:-n_of_val]\n",
        "y_train = label_train[:-n_of_val]\n",
        "X_val = intent_train[:-n_of_val]\n",
        "y_val = label_train[:-n_of_val]\n",
        "X_test = intent_test\n",
        "y_test = label_test"
      ],
      "execution_count": 39,
      "outputs": []
    },
    {
      "cell_type": "code",
      "metadata": {
        "colab": {
          "base_uri": "https://localhost:8080/"
        },
        "id": "h2Bbw9wLajIn",
        "outputId": "747e4cbb-0b61-4382-eeb9-e9da05b9b191"
      },
      "source": [
        "print('훈련 데이터의 크기(shape):', X_train.shape)\n",
        "print('검증 데이터의 크기(shape):', X_val.shape)\n",
        "print('훈련 데이터 레이블의 개수(shape):', y_train.shape)\n",
        "print('검증 데이터 레이블의 개수(shape):', y_val.shape)\n",
        "print('테스트 데이터의 개수 :', len(X_test))\n",
        "print('테스트 데이터 레이블의 개수 :', len(y_test))"
      ],
      "execution_count": 41,
      "outputs": [
        {
          "output_type": "stream",
          "text": [
            "훈련 데이터의 크기(shape): (10606, 35)\n",
            "검증 데이터의 크기(shape): (10606, 35)\n",
            "훈련 데이터 레이블의 개수(shape): (10606, 6)\n",
            "검증 데이터 레이블의 개수(shape): (10606, 6)\n",
            "테스트 데이터의 개수 : 600\n",
            "테스트 데이터 레이블의 개수 : 600\n"
          ],
          "name": "stdout"
        }
      ]
    },
    {
      "cell_type": "markdown",
      "metadata": {
        "id": "27CIPoa1ald9"
      },
      "source": [
        "## 사전 훈련된 워드 임베딩 사용"
      ]
    },
    {
      "cell_type": "code",
      "metadata": {
        "colab": {
          "base_uri": "https://localhost:8080/"
        },
        "id": "VQnXx0kdakzw",
        "outputId": "13f3d90a-0b3f-481f-be90-3296af7af379"
      },
      "source": [
        "!wget http://nlp.stanford.edu/data/glove.6B.zip\n",
        "!unzip glove*.zip"
      ],
      "execution_count": 42,
      "outputs": [
        {
          "output_type": "stream",
          "text": [
            "--2020-11-18 13:16:11--  http://nlp.stanford.edu/data/glove.6B.zip\n",
            "Resolving nlp.stanford.edu (nlp.stanford.edu)... 171.64.67.140\n",
            "Connecting to nlp.stanford.edu (nlp.stanford.edu)|171.64.67.140|:80... connected.\n",
            "HTTP request sent, awaiting response... 302 Found\n",
            "Location: https://nlp.stanford.edu/data/glove.6B.zip [following]\n",
            "--2020-11-18 13:16:11--  https://nlp.stanford.edu/data/glove.6B.zip\n",
            "Connecting to nlp.stanford.edu (nlp.stanford.edu)|171.64.67.140|:443... connected.\n",
            "HTTP request sent, awaiting response... 301 Moved Permanently\n",
            "Location: http://downloads.cs.stanford.edu/nlp/data/glove.6B.zip [following]\n",
            "--2020-11-18 13:16:12--  http://downloads.cs.stanford.edu/nlp/data/glove.6B.zip\n",
            "Resolving downloads.cs.stanford.edu (downloads.cs.stanford.edu)... 171.64.64.22\n",
            "Connecting to downloads.cs.stanford.edu (downloads.cs.stanford.edu)|171.64.64.22|:80... connected.\n",
            "HTTP request sent, awaiting response... 200 OK\n",
            "Length: 862182613 (822M) [application/zip]\n",
            "Saving to: ‘glove.6B.zip’\n",
            "\n",
            "glove.6B.zip        100%[===================>] 822.24M  2.00MB/s    in 6m 30s  \n",
            "\n",
            "2020-11-18 13:22:42 (2.11 MB/s) - ‘glove.6B.zip’ saved [862182613/862182613]\n",
            "\n",
            "Archive:  glove.6B.zip\n",
            "  inflating: glove.6B.50d.txt        \n",
            "  inflating: glove.6B.100d.txt       \n",
            "  inflating: glove.6B.200d.txt       \n",
            "  inflating: glove.6B.300d.txt       \n"
          ],
          "name": "stdout"
        }
      ]
    },
    {
      "cell_type": "code",
      "metadata": {
        "colab": {
          "base_uri": "https://localhost:8080/"
        },
        "id": "jEhN1wqiap8m",
        "outputId": "998ec4ee-cfb2-45ed-90fc-64b27eeee763"
      },
      "source": [
        "embedding_dict = dict()\n",
        "f = open(os.path.join('glove.6B.100d.txt'), encoding='utf-8')\n",
        "for line in f:\n",
        "  word_vector=line.split()\n",
        "  word =word_vector[0]\n",
        "  word_vector_arr =np.asarray(word_vector[1:], dtype='float32')\n",
        "  embedding_dict[word]=word_vector_arr\n",
        "#단어(word)와 임베딩 벡터가 분리된 임베딩 딕셔너리 생성\n",
        "f.close()\n",
        "\n",
        "print('%s개의 Embedding vector가 있습니다.' % len(embedding_dict))"
      ],
      "execution_count": 44,
      "outputs": [
        {
          "output_type": "stream",
          "text": [
            "400000개의 Embedding vector가 있습니다.\n"
          ],
          "name": "stdout"
        }
      ]
    },
    {
      "cell_type": "code",
      "metadata": {
        "colab": {
          "base_uri": "https://localhost:8080/"
        },
        "id": "qn46SFdMasNC",
        "outputId": "1148f734-5c1e-4816-8acf-117186ca3238"
      },
      "source": [
        "print(embedding_dict['nice'])\n",
        "print(len(embedding_dict['nice']))"
      ],
      "execution_count": 45,
      "outputs": [
        {
          "output_type": "stream",
          "text": [
            "[-0.18554    0.047152   0.34867   -0.23114   -0.26083    0.63108\n",
            "  0.55687    0.61622   -0.15437   -0.38381    0.12445   -0.26999\n",
            " -0.29196    0.1125     0.36035    0.70689   -0.33891   -0.2695\n",
            "  0.17481    0.97048    0.23014    0.63168   -0.24543   -0.7289\n",
            "  0.32517   -0.21118   -0.80354   -0.59863   -0.10182   -0.87826\n",
            " -0.80162    0.20999    0.64598   -0.38239    0.64512    0.73046\n",
            " -0.19881    0.35717    0.19135   -0.43686    0.75956   -0.66431\n",
            "  0.34509   -1.0383    -0.50491    0.19976   -0.041208   0.16952\n",
            "  0.17821   -0.84249    0.21992   -0.16474   -0.24669    0.34117\n",
            " -0.59713   -2.3434     0.31484    0.69668    0.53368   -0.62857\n",
            " -0.197      0.52241   -1.5903    -0.16475    0.62553   -0.094116\n",
            "  0.0070705  0.22617   -0.45698   -0.53268    0.11573   -0.19052\n",
            "  0.28086   -0.5591     0.35291    0.42552    0.47334   -0.41046\n",
            "  0.47275    0.22753   -0.097073  -0.11809   -0.25613   -0.10689\n",
            " -1.2788    -0.085504   0.20205    0.23338   -0.52939   -0.49492\n",
            "  0.15289   -0.31324    0.41248   -0.10425   -0.65246    0.48348\n",
            " -0.54844    0.095473  -0.1142     0.32743  ]\n",
            "100\n"
          ],
          "name": "stdout"
        }
      ]
    },
    {
      "cell_type": "code",
      "metadata": {
        "id": "2kygZsVEat1O"
      },
      "source": [
        "embedding_dim = 100\n",
        "#임베딩 벡터 차원, 단어의 개수에 맞는 0행렬 생성\n",
        "embedding_matrix = np.zeros((vocab_size, embedding_dim))"
      ],
      "execution_count": 46,
      "outputs": []
    },
    {
      "cell_type": "code",
      "metadata": {
        "colab": {
          "base_uri": "https://localhost:8080/"
        },
        "id": "wHBCLVGNawfb",
        "outputId": "f5b61f71-6838-4802-8f23-6710695bdca5"
      },
      "source": [
        "np.shape(embedding_matrix)"
      ],
      "execution_count": 47,
      "outputs": [
        {
          "output_type": "execute_result",
          "data": {
            "text/plain": [
              "(9870, 100)"
            ]
          },
          "metadata": {
            "tags": []
          },
          "execution_count": 47
        }
      ]
    },
    {
      "cell_type": "code",
      "metadata": {
        "id": "RHm4rVHFayCB"
      },
      "source": [
        "#임베딩 메트릭스 생성\n",
        "for word, i in word_index.items():\n",
        "    embedding_vector =embedding_dict.get(word)\n",
        "    if embedding_vector is not None:\n",
        "        embedding_matrix[i]=embedding_vector"
      ],
      "execution_count": 48,
      "outputs": []
    },
    {
      "cell_type": "markdown",
      "metadata": {
        "id": "uEs-kjcBa0Ca"
      },
      "source": [
        "## 1D CNN을 이용한 의도 분류"
      ]
    },
    {
      "cell_type": "code",
      "metadata": {
        "id": "u1UOANqnaziH"
      },
      "source": [
        "from tensorflow.keras.models import Model\n",
        "from tensorflow.keras.layers import Embedding, Dropout, Conv1D, GlobalMaxPooling1D, Dense, Input, Flatten, Concatenate"
      ],
      "execution_count": 49,
      "outputs": []
    },
    {
      "cell_type": "code",
      "metadata": {
        "id": "c2gtltQWa3pJ"
      },
      "source": [
        "filter_sizes = [2,3,5]\n",
        "num_filters = 512\n",
        "drop = 0.5"
      ],
      "execution_count": 50,
      "outputs": []
    },
    {
      "cell_type": "code",
      "metadata": {
        "colab": {
          "base_uri": "https://localhost:8080/"
        },
        "id": "1IfbOC6ka5NW",
        "outputId": "8d14972c-11e8-4eea-87ad-e188c17f9cd0"
      },
      "source": [
        "model_input = Input(shape = (max_len,))\n",
        "#임베딩 층 생성\n",
        "z= Embedding(vocab_size, embedding_dim, weights=[embedding_matrix], input_length=max_len, trainable=False)(model_input)\n",
        "\n",
        "conv_blocks = []\n",
        "\n",
        "for sz in filter_sizes:\n",
        "    conv = Conv1D(filters = num_filters,\n",
        "                         kernel_size = sz,\n",
        "                         padding = \"valid\",\n",
        "                         activation = \"relu\",\n",
        "                         strides = 1)(z)\n",
        "    conv = GlobalMaxPooling1D()(conv)\n",
        "    conv = Flatten()(conv)\n",
        "    conv_blocks.append(conv)\n",
        "\n",
        "z = Concatenate()(conv_blocks) if len(conv_blocks) > 1 else conv_blocks[0]\n",
        "z = Dropout(drop)(z)\n",
        "model_output = Dense(len(label_idx), activation='softmax')(z)\n",
        "\n",
        "model = Model(model_input, model_output)\n",
        "\n",
        "#모델 컴파일\n",
        "model =Model(model_input, model_output)\n",
        "\n",
        "model.compile(loss='categorical_crossentropy', optimizer='adam', metrics=['acc'])\n",
        "\n",
        "model.summary()"
      ],
      "execution_count": 52,
      "outputs": [
        {
          "output_type": "stream",
          "text": [
            "Model: \"functional_3\"\n",
            "__________________________________________________________________________________________________\n",
            "Layer (type)                    Output Shape         Param #     Connected to                     \n",
            "==================================================================================================\n",
            "input_1 (InputLayer)            [(None, 35)]         0                                            \n",
            "__________________________________________________________________________________________________\n",
            "embedding (Embedding)           (None, 35, 100)      987000      input_1[0][0]                    \n",
            "__________________________________________________________________________________________________\n",
            "conv1d (Conv1D)                 (None, 34, 512)      102912      embedding[0][0]                  \n",
            "__________________________________________________________________________________________________\n",
            "conv1d_1 (Conv1D)               (None, 33, 512)      154112      embedding[0][0]                  \n",
            "__________________________________________________________________________________________________\n",
            "conv1d_2 (Conv1D)               (None, 31, 512)      256512      embedding[0][0]                  \n",
            "__________________________________________________________________________________________________\n",
            "global_max_pooling1d (GlobalMax (None, 512)          0           conv1d[0][0]                     \n",
            "__________________________________________________________________________________________________\n",
            "global_max_pooling1d_1 (GlobalM (None, 512)          0           conv1d_1[0][0]                   \n",
            "__________________________________________________________________________________________________\n",
            "global_max_pooling1d_2 (GlobalM (None, 512)          0           conv1d_2[0][0]                   \n",
            "__________________________________________________________________________________________________\n",
            "flatten (Flatten)               (None, 512)          0           global_max_pooling1d[0][0]       \n",
            "__________________________________________________________________________________________________\n",
            "flatten_1 (Flatten)             (None, 512)          0           global_max_pooling1d_1[0][0]     \n",
            "__________________________________________________________________________________________________\n",
            "flatten_2 (Flatten)             (None, 512)          0           global_max_pooling1d_2[0][0]     \n",
            "__________________________________________________________________________________________________\n",
            "concatenate (Concatenate)       (None, 1536)         0           flatten[0][0]                    \n",
            "                                                                 flatten_1[0][0]                  \n",
            "                                                                 flatten_2[0][0]                  \n",
            "__________________________________________________________________________________________________\n",
            "dropout (Dropout)               (None, 1536)         0           concatenate[0][0]                \n",
            "__________________________________________________________________________________________________\n",
            "dense (Dense)                   (None, 6)            9222        dropout[0][0]                    \n",
            "==================================================================================================\n",
            "Total params: 1,509,758\n",
            "Trainable params: 522,758\n",
            "Non-trainable params: 987,000\n",
            "__________________________________________________________________________________________________\n"
          ],
          "name": "stdout"
        }
      ]
    },
    {
      "cell_type": "code",
      "metadata": {
        "colab": {
          "base_uri": "https://localhost:8080/"
        },
        "id": "d3YG99MAa8H9",
        "outputId": "34eec62c-ce8a-4c14-ae69-67aa98f206a3"
      },
      "source": [
        "#배치사이즈:64,에포크:10으로 모델 학습 진행 , history에 학습 내용 저장\n",
        "history = model.fit(X_train, y_train,\n",
        "          batch_size=64,\n",
        "          epochs=10,\n",
        "          validation_data = (X_val, y_val))"
      ],
      "execution_count": 53,
      "outputs": [
        {
          "output_type": "stream",
          "text": [
            "Epoch 1/10\n",
            "166/166 [==============================] - 23s 140ms/step - loss: 0.2037 - acc: 0.9373 - val_loss: 0.0392 - val_acc: 0.9908\n",
            "Epoch 2/10\n",
            "166/166 [==============================] - 23s 140ms/step - loss: 0.0473 - acc: 0.9865 - val_loss: 0.0243 - val_acc: 0.9946\n",
            "Epoch 3/10\n",
            "166/166 [==============================] - 23s 138ms/step - loss: 0.0282 - acc: 0.9931 - val_loss: 0.0118 - val_acc: 0.9970\n",
            "Epoch 4/10\n",
            "166/166 [==============================] - 23s 139ms/step - loss: 0.0177 - acc: 0.9960 - val_loss: 0.0074 - val_acc: 0.9987\n",
            "Epoch 5/10\n",
            "166/166 [==============================] - 23s 138ms/step - loss: 0.0122 - acc: 0.9971 - val_loss: 0.0051 - val_acc: 0.9992\n",
            "Epoch 6/10\n",
            "166/166 [==============================] - 23s 138ms/step - loss: 0.0092 - acc: 0.9978 - val_loss: 0.0078 - val_acc: 0.9986\n",
            "Epoch 7/10\n",
            "166/166 [==============================] - 23s 138ms/step - loss: 0.0095 - acc: 0.9970 - val_loss: 0.0059 - val_acc: 0.9979\n",
            "Epoch 8/10\n",
            "166/166 [==============================] - 23s 138ms/step - loss: 0.0081 - acc: 0.9975 - val_loss: 0.0026 - val_acc: 0.9995\n",
            "Epoch 9/10\n",
            "166/166 [==============================] - 23s 138ms/step - loss: 0.0060 - acc: 0.9982 - val_loss: 0.0024 - val_acc: 0.9992\n",
            "Epoch 10/10\n",
            "166/166 [==============================] - 23s 138ms/step - loss: 0.0040 - acc: 0.9992 - val_loss: 0.0025 - val_acc: 0.9993\n"
          ],
          "name": "stdout"
        }
      ]
    },
    {
      "cell_type": "code",
      "metadata": {
        "colab": {
          "base_uri": "https://localhost:8080/",
          "height": 573
        },
        "id": "2fBiwbw7a-zD",
        "outputId": "8edc6ebb-cc83-47fa-99f4-3cf2eefaf9b7"
      },
      "source": [
        "epochs = range(1, len(history.history['acc']) + 1)\n",
        "plt.plot(epochs, history.history['acc'])\n",
        "plt.plot(epochs, history.history['val_acc'])\n",
        "plt.title('model accuracy')\n",
        "plt.ylabel('accuracy')\n",
        "plt.xlabel('epochs')\n",
        "plt.legend(['train', 'test'], loc='lower right')\n",
        "plt.show()\n",
        "\n",
        "epochs = range(1, len(history.history['loss']) + 1)\n",
        "plt.plot(epochs, history.history['loss'])\n",
        "plt.plot(epochs, history.history['val_loss'])\n",
        "plt.title('model loss')\n",
        "plt.ylabel('loss')\n",
        "plt.xlabel('epochs')\n",
        "plt.legend(['train', 'test'], loc='upper right')\n",
        "plt.show()"
      ],
      "execution_count": 54,
      "outputs": [
        {
          "output_type": "display_data",
          "data": {
            "image/png": "[encoded data removed]",
            "text/plain": [
              "<Figure size 432x288 with 1 Axes>"
            ]
          },
          "metadata": {
            "tags": [],
            "needs_background": "light"
          }
        },
        {
          "output_type": "display_data",
          "data": {
            "image/png": "[encoded data removed]",
            "text/plain": [
              "<Figure size 432x288 with 1 Axes>"
            ]
          },
          "metadata": {
            "tags": [],
            "needs_background": "light"
          }
        }
      ]
    },
    {
      "cell_type": "markdown",
      "metadata": {
        "id": "REyFqX8JbCQF"
      },
      "source": [
        "## 평가"
      ]
    },
    {
      "cell_type": "code",
      "metadata": {
        "id": "biOjqiG9bDAl"
      },
      "source": [
        "#테스트 데이터 자연어 -> 정수 인코딩\n",
        "X_test =tokenizer.texts_to_sequences(X_test)\n",
        "#테스트 데이터 패딩 진행\n",
        "X_test =pad_sequences(X_test, maxlen=max_len)"
      ],
      "execution_count": 55,
      "outputs": []
    },
    {
      "cell_type": "code",
      "metadata": {
        "id": "zy-3OFQ0bAkH"
      },
      "source": [
        "y_predicted = model.predict(X_test)\n",
        "y_predicted = y_predicted.argmax(axis=-1) "
      ],
      "execution_count": 56,
      "outputs": []
    },
    {
      "cell_type": "code",
      "metadata": {
        "id": "Xvr5WV8LbFuO"
      },
      "source": [
        "# 정수 시퀀스를 레이블에 해당하는 텍스트 시퀀스로 변환\n",
        "y_predicted =idx_encode.inverse_transform(y_predicted)\n",
        "# 정수 시퀀스를 레이블에 해당하는 텍스트 시퀀스로 변환\n",
        "y_test =idx_encode.inverse_transform(y_test)"
      ],
      "execution_count": 57,
      "outputs": []
    },
    {
      "cell_type": "code",
      "metadata": {
        "colab": {
          "base_uri": "https://localhost:8080/"
        },
        "id": "riy8pneJbIoT",
        "outputId": "3e149ebd-c1ec-4d76-f2c1-e645af51a1f8"
      },
      "source": [
        "print('accuracy: ', sum(y_predicted == y_test) / len(y_test))\n",
        "print(\"Precision, Recall and F1-Score:\\n\\n\", classification_report(y_test, y_predicted))"
      ],
      "execution_count": 58,
      "outputs": [
        {
          "output_type": "stream",
          "text": [
            "accuracy:  0.9883333333333333\n",
            "Precision, Recall and F1-Score:\n",
            "\n",
            "                       precision    recall  f1-score   support\n",
            "\n",
            "       AddToPlaylist       1.00      1.00      1.00       100\n",
            "      BookRestaurant       1.00      1.00      1.00       100\n",
            "          GetWeather       1.00      1.00      1.00       100\n",
            "            RateBook       1.00      1.00      1.00       100\n",
            "  SearchCreativeWork       0.93      1.00      0.97       100\n",
            "SearchScreeningEvent       1.00      0.93      0.96       100\n",
            "\n",
            "            accuracy                           0.99       600\n",
            "           macro avg       0.99      0.99      0.99       600\n",
            "        weighted avg       0.99      0.99      0.99       600\n",
            "\n"
          ],
          "name": "stdout"
        }
      ]
    },
    {
      "cell_type": "code",
      "metadata": {
        "id": "V6blqIy2bKNH"
      },
      "source": [
        ""
      ],
      "execution_count": null,
      "outputs": []
    }
  ]
}