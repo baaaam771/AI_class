{
  "nbformat": 4,
  "nbformat_minor": 0,
  "metadata": {
    "colab": {
      "name": "recipe-rnn.ipynb",
      "provenance": []
    },
    "kernelspec": {
      "name": "python3",
      "display_name": "Python 3"
    }
  },
  "cells": [
    {
      "cell_type": "code",
      "metadata": {
        "id": "t_As5K6jAmo1"
      },
      "source": [
        "import tensorflow as tf\n",
        "import matplotlib.pyplot as plt\n",
        "import numpy as np\n",
        "import platform\n",
        "import time\n",
        "import pathlib\n",
        "import os\n",
        "import json\n",
        "import zipfile"
      ],
      "execution_count": 1,
      "outputs": []
    },
    {
      "cell_type": "code",
      "metadata": {
        "id": "WOUwFQz1BEaC"
      },
      "source": [
        "cache_dir = './tmp'\n",
        "pathlib.Path(cache_dir).mkdir(exist_ok=True)"
      ],
      "execution_count": 3,
      "outputs": []
    },
    {
      "cell_type": "code",
      "metadata": {
        "id": "R1CZjBYYBSjm"
      },
      "source": [
        "dataset_file_name = 'recipes_raw.zip'\n",
        "dataset_file_origin = 'https://storage.googleapis.com/recipe-box/recipes_raw.zip'"
      ],
      "execution_count": 8,
      "outputs": []
    },
    {
      "cell_type": "code",
      "metadata": {
        "colab": {
          "base_uri": "https://localhost:8080/"
        },
        "id": "uzAgTt0JBfUH",
        "outputId": "ab050b1d-ba8c-4819-c1c5-8dfdc9385d5d"
      },
      "source": [
        "dataset_file_path = tf.keras.utils.get_file(\n",
        "    fname=dataset_file_name,\n",
        "    origin=dataset_file_origin,\n",
        "    cache_dir=cache_dir,\n",
        "    extract=True,\n",
        "    archive_format='zip'\n",
        ")"
      ],
      "execution_count": 9,
      "outputs": [
        {
          "output_type": "stream",
          "text": [
            "Downloading data from https://storage.googleapis.com/recipe-box/recipes_raw.zip\n",
            "53362688/53355492 [==============================] - 0s 0us/step\n"
          ],
          "name": "stdout"
        }
      ]
    },
    {
      "cell_type": "code",
      "metadata": {
        "colab": {
          "base_uri": "https://localhost:8080/"
        },
        "id": "iP8xEfzgBrNm",
        "outputId": "2c725a8f-280c-4f8b-aa88-6e1257e4bfbb"
      },
      "source": [
        "!ls -la ./tmp/datasets/"
      ],
      "execution_count": 10,
      "outputs": [
        {
          "output_type": "stream",
          "text": [
            "total 251968\n",
            "drwxr-xr-x 2 root root     4096 Nov 26 10:09 .\n",
            "drwxr-xr-x 3 root root     4096 Nov 26 10:08 ..\n",
            "-rw-r--r-- 1 root root    20437 Nov 26 10:09 LICENSE\n",
            "-rw-r--r-- 1 root root 49784325 Nov 26 10:08 recipes_raw_nosource_ar.json\n",
            "-rw-r--r-- 1 root root 61133971 Nov 26 10:08 recipes_raw_nosource_epi.json\n",
            "-rw-r--r-- 1 root root 93702755 Nov 26 10:09 recipes_raw_nosource_fn.json\n",
            "-rw-r--r-- 1 root root 53355492 Nov 26 10:08 recipes_raw.zip\n"
          ],
          "name": "stdout"
        }
      ]
    },
    {
      "cell_type": "code",
      "metadata": {
        "id": "Vui9J0FiCXgc"
      },
      "source": [
        "def load_dataset(silent=False):\n",
        "  dataset_file_names = [\n",
        "      'recipes_raw_nosource_ar.json',\n",
        "      'recipes_raw_nosource_epi.json',\n",
        "      'recipes_raw_nosource_fn.json'\n",
        "  ]\n",
        "\n",
        "  dataset = []\n",
        "\n",
        "  for file_name in dataset_file_names:\n",
        "    file_path = f'{cache_dir}/datasets/{file_name}'\n",
        "\n",
        "    with open(file_path) as dataset_file:\n",
        "      json_data_dict = json.load(dataset_file)\n",
        "      json_data_list = list(json_data_dict.values())   \n",
        "      dict_keys = [key for key in json_data_list[0]]\n",
        "      dict_keys.sort()\n",
        "\n",
        "      dataset += json_data_list\n",
        "\n",
        "  return dataset   \n"
      ],
      "execution_count": 12,
      "outputs": []
    },
    {
      "cell_type": "code",
      "metadata": {
        "id": "mmKAU6ksDDwr"
      },
      "source": [
        "dataset_raw = load_dataset()"
      ],
      "execution_count": 13,
      "outputs": []
    },
    {
      "cell_type": "code",
      "metadata": {
        "colab": {
          "base_uri": "https://localhost:8080/"
        },
        "id": "tdrX3GiODh_X",
        "outputId": "13b7cf33-66ae-472b-d3b0-85d8ed8cbb59"
      },
      "source": [
        "dataset_raw[0]"
      ],
      "execution_count": 14,
      "outputs": [
        {
          "output_type": "execute_result",
          "data": {
            "text/plain": [
              "{'ingredients': ['4 skinless, boneless chicken breast halves ADVERTISEMENT',\n",
              "  '2 tablespoons butter ADVERTISEMENT',\n",
              "  '2 (10.75 ounce) cans condensed cream of chicken soup ADVERTISEMENT',\n",
              "  '1 onion, finely diced ADVERTISEMENT',\n",
              "  '2 (10 ounce) packages refrigerated biscuit dough, torn into pieces ADVERTISEMENT',\n",
              "  'ADVERTISEMENT'],\n",
              " 'instructions': 'Place the chicken, butter, soup, and onion in a slow cooker, and fill with enough water to cover.\\nCover, and cook for 5 to 6 hours on High. About 30 minutes before serving, place the torn biscuit dough in the slow cooker. Cook until the dough is no longer raw in the center.\\n',\n",
              " 'picture_link': '55lznCYBbs2mT8BTx6BTkLhynGHzM.S',\n",
              " 'title': 'Slow Cooker Chicken and Dumplings'}"
            ]
          },
          "metadata": {
            "tags": []
          },
          "execution_count": 14
        }
      ]
    },
    {
      "cell_type": "code",
      "metadata": {
        "colab": {
          "base_uri": "https://localhost:8080/"
        },
        "id": "d_VhD3nODmaJ",
        "outputId": "9bf2183e-104d-4baf-9f3b-0597929ec173"
      },
      "source": [
        "len(dataset_raw)"
      ],
      "execution_count": 15,
      "outputs": [
        {
          "output_type": "execute_result",
          "data": {
            "text/plain": [
              "125164"
            ]
          },
          "metadata": {
            "tags": []
          },
          "execution_count": 15
        }
      ]
    },
    {
      "cell_type": "code",
      "metadata": {
        "id": "DFjURf6nDtRW"
      },
      "source": [
        "def recipe_validate_required_fields(recipe):\n",
        "  required_keys = ['title', 'ingredients', 'instructions']\n",
        "\n",
        "  if not recipe:\n",
        "    return False\n",
        "\n",
        "  for required_key in required_keys:\n",
        "    if not recipe[required_key]:\n",
        "      return False\n",
        "\n",
        "    if type(recipe[required_key]) == list and len(recipe[required_key]) == 0:\n",
        "      return False\n",
        "      \n",
        "  return True"
      ],
      "execution_count": 24,
      "outputs": []
    },
    {
      "cell_type": "code",
      "metadata": {
        "id": "i2PhMq0gEdOF"
      },
      "source": [
        "valid_datasets = [recipe for recipe in dataset_raw if recipe_validate_required_fields(recipe)]"
      ],
      "execution_count": 29,
      "outputs": []
    },
    {
      "cell_type": "code",
      "metadata": {
        "colab": {
          "base_uri": "https://localhost:8080/"
        },
        "id": "Bewfy9IxEl4g",
        "outputId": "4525ce60-f136-4a74-a3a8-37cc17a36f72"
      },
      "source": [
        "len(valid_datasets)"
      ],
      "execution_count": 31,
      "outputs": [
        {
          "output_type": "execute_result",
          "data": {
            "text/plain": [
              "122938"
            ]
          },
          "metadata": {
            "tags": []
          },
          "execution_count": 31
        }
      ]
    },
    {
      "cell_type": "code",
      "metadata": {
        "id": "tXbOgKMqEzbz"
      },
      "source": [
        "STOP_WORD_TITLE = '📗 '\n",
        "STOP_WORD_INGREDIENTS = '\\n🥕\\n\\n'\n",
        "STOP_WORD_INSTRUCTIONS = '\\n📝\\n\\n'"
      ],
      "execution_count": 32,
      "outputs": []
    },
    {
      "cell_type": "code",
      "metadata": {
        "id": "W8cgrW9kFda0"
      },
      "source": [
        "def recipe_to_str(recipe):\n",
        "  noize_string = 'ADVERTISEMENT'\n",
        "\n",
        "  title = recipe['title']\n",
        "  ingredients = recipe['ingredients']\n",
        "  instructions = recipe['instructions'].split('\\n')\n",
        "\n",
        "  ingredients_str = ''\n",
        "\n",
        "  for ing in ingredients:\n",
        "    ing = ing.replace(noize_string, '')\n",
        "    if ing:\n",
        "      ingredients_str += f'* {ing}\\n'\n",
        "\n",
        "  instructions_str = ''\n",
        "\n",
        "  for inst in instructions:\n",
        "    inst = inst.replace(noize_string, '')\n",
        "    if inst:\n",
        "      instructions_str += f'*{inst}\\n'\n",
        "\n",
        "\n",
        "  return f'{STOP_WORD_TITLE}{title}\\n{STOP_WORD_INGREDIENTS}{ingredients_str}{STOP_WORD_INSTRUCTIONS}{instructions_str}'\n",
        "\n"
      ],
      "execution_count": 36,
      "outputs": []
    },
    {
      "cell_type": "code",
      "metadata": {
        "id": "SghSep4GGflY"
      },
      "source": [
        "dataset_stringified = [recipe_to_str(recipe) for recipe in valid_datasets]"
      ],
      "execution_count": 37,
      "outputs": []
    },
    {
      "cell_type": "code",
      "metadata": {
        "colab": {
          "base_uri": "https://localhost:8080/"
        },
        "id": "Itjr7m5-G0Ct",
        "outputId": "af11a562-545e-42bb-8887-0086b368397f"
      },
      "source": [
        "for recipe_idx, recipe_str in enumerate(dataset_stringified[:10]):\n",
        "  print('Recipe #{}\\n--------'.format(recipe_idx + 1))\n",
        "  print(recipe_str)\n",
        "  print('\\n')"
      ],
      "execution_count": 39,
      "outputs": [
        {
          "output_type": "stream",
          "text": [
            "Recipe #1\n",
            "--------\n",
            "📗 Slow Cooker Chicken and Dumplings\n",
            "\n",
            "🥕\n",
            "\n",
            "* 4 skinless, boneless chicken breast halves \n",
            "* 2 tablespoons butter \n",
            "* 2 (10.75 ounce) cans condensed cream of chicken soup \n",
            "* 1 onion, finely diced \n",
            "* 2 (10 ounce) packages refrigerated biscuit dough, torn into pieces \n",
            "\n",
            "📝\n",
            "\n",
            "*Place the chicken, butter, soup, and onion in a slow cooker, and fill with enough water to cover.\n",
            "*Cover, and cook for 5 to 6 hours on High. About 30 minutes before serving, place the torn biscuit dough in the slow cooker. Cook until the dough is no longer raw in the center.\n",
            "\n",
            "\n",
            "\n",
            "Recipe #2\n",
            "--------\n",
            "📗 Awesome Slow Cooker Pot Roast\n",
            "\n",
            "🥕\n",
            "\n",
            "* 2 (10.75 ounce) cans condensed cream of mushroom soup \n",
            "* 1 (1 ounce) package dry onion soup mix \n",
            "* 1 1/4 cups water \n",
            "* 5 1/2 pounds pot roast \n",
            "\n",
            "📝\n",
            "\n",
            "*In a slow cooker, mix cream of mushroom soup, dry onion soup mix and water. Place pot roast in slow cooker and coat with soup mixture.\n",
            "*Cook on High setting for 3 to 4 hours, or on Low setting for 8 to 9 hours.\n",
            "\n",
            "\n",
            "\n",
            "Recipe #3\n",
            "--------\n",
            "📗 Brown Sugar Meatloaf\n",
            "\n",
            "🥕\n",
            "\n",
            "* 1/2 cup packed brown sugar \n",
            "* 1/2 cup ketchup \n",
            "* 1 1/2 pounds lean ground beef \n",
            "* 3/4 cup milk \n",
            "* 2 eggs \n",
            "* 1 1/2 teaspoons salt \n",
            "* 1/4 teaspoon ground black pepper \n",
            "* 1 small onion, chopped \n",
            "* 1/4 teaspoon ground ginger \n",
            "* 3/4 cup finely crushed saltine cracker crumbs \n",
            "\n",
            "📝\n",
            "\n",
            "*Preheat oven to 350 degrees F (175 degrees C). Lightly grease a 5x9 inch loaf pan.\n",
            "*Press the brown sugar in the bottom of the prepared loaf pan and spread the ketchup over the sugar.\n",
            "*In a mixing bowl, mix thoroughly all remaining ingredients and shape into a loaf. Place on top of the ketchup.\n",
            "*Bake in preheated oven for 1 hour or until juices are clear.\n",
            "\n",
            "\n",
            "\n",
            "Recipe #4\n",
            "--------\n",
            "📗 Best Chocolate Chip Cookies\n",
            "\n",
            "🥕\n",
            "\n",
            "* 1 cup butter, softened \n",
            "* 1 cup white sugar \n",
            "* 1 cup packed brown sugar \n",
            "* 2 eggs \n",
            "* 2 teaspoons vanilla extract \n",
            "* 3 cups all-purpose flour \n",
            "* 1 teaspoon baking soda \n",
            "* 2 teaspoons hot water \n",
            "* 1/2 teaspoon salt \n",
            "* 2 cups semisweet chocolate chips \n",
            "* 1 cup chopped walnuts \n",
            "\n",
            "📝\n",
            "\n",
            "*Preheat oven to 350 degrees F (175 degrees C).\n",
            "*Cream together the butter, white sugar, and brown sugar until smooth. Beat in the eggs one at a time, then stir in the vanilla. Dissolve baking soda in hot water. Add to batter along with salt. Stir in flour, chocolate chips, and nuts. Drop by large spoonfuls onto ungreased pans.\n",
            "*Bake for about 10 minutes in the preheated oven, or until edges are nicely browned.\n",
            "\n",
            "\n",
            "\n",
            "Recipe #5\n",
            "--------\n",
            "📗 Homemade Mac and Cheese Casserole\n",
            "\n",
            "🥕\n",
            "\n",
            "* 8 ounces whole wheat rotini pasta \n",
            "* 3 cups fresh broccoli florets \n",
            "* 1 medium onion, chopped \n",
            "* 3 cloves garlic, minced \n",
            "* 4 tablespoons butter, divided \n",
            "* 2 tablespoons all-purpose flour \n",
            "* 1/4 teaspoon salt \n",
            "* 1/8 teaspoon ground black pepper \n",
            "* 2 1/2 cups milk \n",
            "* 8 ounces Cheddar cheese, shredded \n",
            "* 4 ounces reduced-fat cream cheese, cubed and softened \n",
            "* 1/2 cup fine dry Italian-seasoned bread crumbs \n",
            "* Reynolds Wrap® Non Stick Aluminum Foil \n",
            "\n",
            "📝\n",
            "\n",
            "*Preheat oven to 350 degrees F. Line a 2-quart casserole dish with Reynolds Wrap(R) Pan Lining Paper, parchment side up. No need to grease dish.\n",
            "*Cook the pasta in a large saucepan according to the package directions, adding the broccoli for the last 3 minutes of cooking. Drain. Return to the saucepan and set aside.\n",
            "*Cook the onion and garlic in 2 tablespoons hot butter in a large skillet 5 to 7 minutes or until tender. Stir in flour, salt, and black pepper. Add the milk all at once. Cook and stir over medium heat until slightly thickened and bubbly. Add cheddar cheese and cream cheese, stirring until melted. Pour cheese sauce over the pasta and broccoli and stir until well combined.\n",
            "*Melt the remaining 2 tablespoons butter and mix with the bread crumbs in a small bowl. Transfer the pasta mixture to the prepared casserole dish. Top with the buttery bread crumbs.\n",
            "*Bake, uncovered, about 25 minutes or until bubbly and internal temperature is 165 degrees F. Let stand for 10 minutes before serving.\n",
            "\n",
            "\n",
            "\n",
            "Recipe #6\n",
            "--------\n",
            "📗 Banana Banana Bread\n",
            "\n",
            "🥕\n",
            "\n",
            "* 2 cups all-purpose flour \n",
            "* 1 teaspoon baking soda \n",
            "* 1/4 teaspoon salt \n",
            "* 1/2 cup butter \n",
            "* 3/4 cup brown sugar \n",
            "* 2 eggs, beaten \n",
            "* 2 1/3 cups mashed overripe bananas \n",
            "\n",
            "📝\n",
            "\n",
            "*Preheat oven to 350 degrees F (175 degrees C). Lightly grease a 9x5 inch loaf pan.\n",
            "*In a large bowl, combine flour, baking soda and salt. In a separate bowl, cream together butter and brown sugar. Stir in eggs and mashed bananas until well blended. Stir banana mixture into flour mixture; stir just to moisten. Pour batter into prepared loaf pan.\n",
            "*Bake in preheated oven for 60 to 65 minutes, until a toothpick inserted into center of the loaf comes out clean. Let bread cool in pan for 10 minutes, then turn out onto a wire rack.\n",
            "\n",
            "\n",
            "\n",
            "Recipe #7\n",
            "--------\n",
            "📗 Chef John's Fisherman's Pie\n",
            "\n",
            "🥕\n",
            "\n",
            "* For potato crust: \n",
            "* 3 russet potatoes, peeled and cut into chunks \n",
            "* 3 tablespoons butter \n",
            "* 1 pinch freshly grated nutmeg \n",
            "* salt and ground black pepper to taste \n",
            "* 1 pinch cayenne pepper, or to taste \n",
            "* 1/2 cup milk \n",
            "* For the spinach: \n",
            "* 2 teaspoons olive oil \n",
            "* 12 ounces baby spinach leaves \n",
            "* For the sauce: \n",
            "* 3 tablespoons butter \n",
            "* 3 tablespoons all-purpose flour \n",
            "* 2 cloves garlic, minced \n",
            "* 2 cups cold milk, divided \n",
            "* 2 teaspoons lemon zest \n",
            "* For the rest: \n",
            "* 1 tablespoon butter \n",
            "* salt and ground black pepper to taste \n",
            "* 1 pinch cayenne pepper, or to taste \n",
            "* 2 pounds boneless cod fillets \n",
            "* 1/2 lemon, juiced \n",
            "* 1 tablespoon chopped fresh chives for garnish \n",
            "\n",
            "📝\n",
            "\n",
            "*Bring a large saucepan of salted water and to a boil; add russet potatoes to boiling water and cook until very tender, about 20 minutes. Drain well. Mash in 3 tablespoons butter until thoroughly combined. Season with nutmeg, salt, black pepper, and cayenne pepper to taste. Mash 1/2 cup milk into potato mixture until smooth.\n",
            "*Drizzle olive oil in a large Dutch oven over medium-high heat, add spinach, and season with a big pinch of salt. Cook, stirring occasionally, until spinach has wilted, about 1 minute. Transfer to a bowl lined with paper towels to wick away excess moisture.\n",
            "*Heat 3 tablespoons butter and flour in a saucepan over medium heat; whisk mixture to a smooth paste. Cook, stirring constantly, until mixture has a nutty smell and is slightly browned, about 2 minutes. Add chopped garlic; whisk until fragrant, 10 to 20 seconds.\n",
            "*Whisk 1 cup cold milk into flour mixture; cook until thickened. Whisk in remaining 1 cup milk and lemon zest. Bring white sauce to a gentle simmer, whisking constantly; season with salt. Turn heat to very low and keep sauce warm.\n",
            "*Preheat oven to 375 degrees F (190 degrees C). Grease an 8x12-inch casserole dish with 1 tablespoon butter.\n",
            "*Season buttered pan with salt, black pepper, and cayenne pepper. Lay boneless cod fillets into the pan in a single layer. Season tops of fillets with more salt, black pepper, and cayenne pepper. Spread spinach evenly over fish and drizzle with lemon juice. Spoon white sauce over spinach; give casserole dish several taps and shakes to eliminate bubbles.\n",
            "*Drop mashed potatoes by heaping spoonfuls over the casserole and spread smoothly to cover. Place dish onto a rimmed baking sheet to catch spills.\n",
            "*Bake in the preheated oven until bubbling, about 40 minutes. Turn on oven's broiler and broil until potato crust has a golden brown top, about 2 minutes. Fish should flake easily. Let stand 10 minutes before serving. Garnish with a sprinkle of chives.\n",
            "\n",
            "\n",
            "\n",
            "Recipe #8\n",
            "--------\n",
            "📗 Mom's Zucchini Bread\n",
            "\n",
            "🥕\n",
            "\n",
            "* 3 cups all-purpose flour \n",
            "* 1 teaspoon salt \n",
            "* 1 teaspoon baking soda \n",
            "* 1 teaspoon baking powder \n",
            "* 1 tablespoon ground cinnamon \n",
            "* 3 eggs \n",
            "* 1 cup vegetable oil \n",
            "* 2 1/4 cups white sugar \n",
            "* 3 teaspoons vanilla extract \n",
            "* 2 cups grated zucchini \n",
            "* 1 cup chopped walnuts \n",
            "\n",
            "📝\n",
            "\n",
            "*Grease and flour two 8 x 4 inch pans. Preheat oven to 325 degrees F (165 degrees C).\n",
            "*Sift flour, salt, baking powder, soda, and cinnamon together in a bowl.\n",
            "*Beat eggs, oil, vanilla, and sugar together in a large bowl. Add sifted ingredients to the creamed mixture, and beat well. Stir in zucchini and nuts until well combined. Pour batter into prepared pans.\n",
            "*Bake for 40 to 60 minutes, or until tester inserted in the center comes out clean. Cool in pan on rack for 20 minutes. Remove bread from pan, and completely cool.\n",
            "\n",
            "\n",
            "\n",
            "Recipe #9\n",
            "--------\n",
            "📗 The Best Rolled Sugar Cookies\n",
            "\n",
            "🥕\n",
            "\n",
            "* 1 1/2 cups butter, softened \n",
            "* 2 cups white sugar \n",
            "* 4 eggs \n",
            "* 1 teaspoon vanilla extract \n",
            "* 5 cups all-purpose flour \n",
            "* 2 teaspoons baking powder \n",
            "* 1 teaspoon salt \n",
            "\n",
            "📝\n",
            "\n",
            "*In a large bowl, cream together butter and sugar until smooth. Beat in eggs and vanilla. Stir in the flour, baking powder, and salt. Cover, and chill dough for at least one hour (or overnight).\n",
            "*Preheat oven to 400 degrees F (200 degrees C). Roll out dough on floured surface 1/4 to 1/2 inch thick. Cut into shapes with any cookie cutter. Place cookies 1 inch apart on ungreased cookie sheets.\n",
            "*Bake 6 to 8 minutes in preheated oven. Cool completely.\n",
            "\n",
            "\n",
            "\n",
            "Recipe #10\n",
            "--------\n",
            "📗 Singapore Chili Crabs\n",
            "\n",
            "🥕\n",
            "\n",
            "* Sauce: \n",
            "* 1/2 cup ketchup \n",
            "* 1/2 cup chicken broth \n",
            "* 1 large egg \n",
            "* 2 tablespoons soy sauce \n",
            "* 2 tablespoons chile-garlic sauce (such as sambal oelek) \n",
            "* 1 tablespoon oyster sauce \n",
            "* 1 tablespoon tamarind paste \n",
            "* 2 teaspoons fish sauce \n",
            "* 2 teaspoons palm sugar \n",
            "* 1/4 cup minced shallot \n",
            "* 6 cloves garlic, minced \n",
            "* 2 tablespoons vegetable oil, or more as needed \n",
            "* 2 tablespoons minced fresh ginger root \n",
            "* 1 tablespoon minced serrano pepper \n",
            "* 2 cooked Dungeness crabs, cleaned and cracked \n",
            "* 2 tablespoons chopped fresh cilantro \n",
            "* 2 tablespoons sliced green onion (green part only) \n",
            "\n",
            "📝\n",
            "\n",
            "*Whisk ketchup, chicken broth, egg, soy sauce, chile-garlic sauce, oyster sauce, tamarind paste, fish sauce, and palm sugar together in a bowl.\n",
            "*Stir shallots, garlic, oil, ginger, and serrano pepper together in a pot over medium-high heat. Saute until sizzling, about 2 minutes. Add crab to pot, cover the pot with a lid, and shake until crab is completely coated in shallot mixture. Remove lid and cook and stir until heated through, about 3 minutes.\n",
            "*Pour ketchup mixture into pot, reduce heat to medium, and cook and stir until sauce thickens and crab is hot about 5 minutes. Remove from heat; stir in cilantro and green onions.\n",
            "\n",
            "\n",
            "\n"
          ],
          "name": "stdout"
        }
      ]
    },
    {
      "cell_type": "code",
      "metadata": {
        "id": "yghf8SceHWkj"
      },
      "source": [
        "recipes_len = []\n",
        "\n",
        "for recipe_str in dataset_stringified:\n",
        "  recipes_len.append(len(recipe_str))"
      ],
      "execution_count": 40,
      "outputs": []
    },
    {
      "cell_type": "code",
      "metadata": {
        "colab": {
          "base_uri": "https://localhost:8080/",
          "height": 505
        },
        "id": "Yo8LSHa9Hsme",
        "outputId": "273cf139-2295-4367-ee30-8e7ae6d8d998"
      },
      "source": [
        "plt.hist(recipes_len, range=(0,8000), bins=50)"
      ],
      "execution_count": 44,
      "outputs": [
        {
          "output_type": "execute_result",
          "data": {
            "text/plain": [
              "(array([  112.,  2728.,  7642., 11217., 13456., 13383., 12101., 10308.,\n",
              "         8896.,  7581.,  6128.,  4774.,  4070.,  3373.,  2718.,  2252.,\n",
              "         1781.,  1558.,  1349.,  1091.,   890.,   724.,   647.,   597.,\n",
              "          458.,   431.,   355.,   289.,   263.,   222.,   204.,   181.,\n",
              "          147.,   117.,   104.,    87.,    86.,    76.,    48.,    52.,\n",
              "           49.,    56.,    35.,    33.,    21.,    18.,    20.,    17.,\n",
              "           20.,    15.]),\n",
              " array([   0.,  160.,  320.,  480.,  640.,  800.,  960., 1120., 1280.,\n",
              "        1440., 1600., 1760., 1920., 2080., 2240., 2400., 2560., 2720.,\n",
              "        2880., 3040., 3200., 3360., 3520., 3680., 3840., 4000., 4160.,\n",
              "        4320., 4480., 4640., 4800., 4960., 5120., 5280., 5440., 5600.,\n",
              "        5760., 5920., 6080., 6240., 6400., 6560., 6720., 6880., 7040.,\n",
              "        7200., 7360., 7520., 7680., 7840., 8000.]),\n",
              " <a list of 50 Patch objects>)"
            ]
          },
          "metadata": {
            "tags": []
          },
          "execution_count": 44
        },
        {
          "output_type": "display_data",
          "data": {
            "image/png": "[encoded data removed]",
            "text/plain": [
              "<Figure size 432x288 with 1 Axes>"
            ]
          },
          "metadata": {
            "tags": [],
            "needs_background": "light"
          }
        }
      ]
    },
    {
      "cell_type": "code",
      "metadata": {
        "id": "vCREcKPkHvs5"
      },
      "source": [
        "MAX_RECIPE_LENGTH = 3000"
      ],
      "execution_count": 45,
      "outputs": []
    },
    {
      "cell_type": "code",
      "metadata": {
        "id": "xntgC6S1IEg4"
      },
      "source": [
        "dataset = list(filter(lambda x: len(x) <= MAX_RECIPE_LENGTH, dataset_stringified))"
      ],
      "execution_count": 46,
      "outputs": []
    },
    {
      "cell_type": "code",
      "metadata": {
        "colab": {
          "base_uri": "https://localhost:8080/"
        },
        "id": "Pr6_J4z5IZ8D",
        "outputId": "3cedb8fc-a917-4384-9382-35a32ac24eee"
      },
      "source": [
        "print(len(dataset))"
      ],
      "execution_count": 47,
      "outputs": [
        {
          "output_type": "stream",
          "text": [
            "115128\n"
          ],
          "name": "stdout"
        }
      ]
    },
    {
      "cell_type": "code",
      "metadata": {
        "id": "et9HwjgiIbd3"
      },
      "source": [
        "STOP_SIGN = '␣'"
      ],
      "execution_count": 48,
      "outputs": []
    },
    {
      "cell_type": "code",
      "metadata": {
        "id": "z88aQe1nIwtm"
      },
      "source": [
        "tokenizer = tf.keras.preprocessing.text.Tokenizer(\n",
        "    char_level=True,\n",
        "    filters='',\n",
        "    lower=False,\n",
        "    split=''\n",
        ")"
      ],
      "execution_count": 50,
      "outputs": []
    },
    {
      "cell_type": "code",
      "metadata": {
        "id": "LY3mnuuPI9Aw"
      },
      "source": [
        "tokenizer.fit_on_texts([STOP_SIGN])"
      ],
      "execution_count": 51,
      "outputs": []
    },
    {
      "cell_type": "code",
      "metadata": {
        "id": "mD6pT4vAJQNt"
      },
      "source": [
        "tokenizer.fit_on_texts(dataset)"
      ],
      "execution_count": 52,
      "outputs": []
    },
    {
      "cell_type": "code",
      "metadata": {
        "colab": {
          "base_uri": "https://localhost:8080/"
        },
        "id": "--hh-My7JSyi",
        "outputId": "125edef3-732d-4a0f-e026-db21bcb1b6c9"
      },
      "source": [
        "tokenizer.get_config()"
      ],
      "execution_count": 53,
      "outputs": [
        {
          "output_type": "execute_result",
          "data": {
            "text/plain": [
              "{'char_level': True,\n",
              " 'document_count': 115129,\n",
              " 'filters': '',\n",
              " 'index_docs': '{\"1\": 115128, \"180\": 1, \"59\": 43923, \"7\": 115123, \"26\": 114232, \"31\": 103724, \"41\": 80558, \"40\": 80541, \"19\": 114618, \"5\": 115121, \"22\": 113247, \"4\": 115121, \"34\": 93520, \"51\": 115128, \"23\": 115079, \"10\": 115122, \"17\": 115128, \"50\": 115128, \"37\": 93259, \"62\": 39062, \"18\": 114891, \"35\": 97307, \"27\": 112763, \"64\": 29059, \"3\": 115118, \"8\": 115123, \"12\": 115077, \"38\": 78650, \"9\": 115120, \"21\": 113440, \"56\": 50305, \"15\": 114962, \"28\": 111298, \"6\": 115114, \"39\": 74635, \"13\": 115106, \"11\": 115110, \"49\": 115128, \"42\": 74024, \"20\": 115128, \"2\": 115128, \"32\": 96978, \"14\": 115077, \"24\": 114143, \"29\": 111638, \"16\": 114904, \"25\": 112230, \"70\": 16872, \"30\": 103730, \"48\": 66045, \"36\": 85202, \"58\": 45811, \"61\": 40266, \"52\": 55447, \"43\": 76071, \"45\": 57654, \"53\": 57948, \"47\": 69971, \"33\": 89144, \"76\": 5968, \"57\": 48847, \"46\": 66506, \"55\": 46078, \"71\": 12556, \"54\": 40514, \"60\": 42587, \"66\": 22266, \"63\": 26046, \"74\": 9912, \"44\": 52106, \"81\": 2677, \"68\": 15022, \"67\": 19003, \"89\": 409, \"77\": 3882, \"65\": 25275, \"78\": 7096, \"88\": 451, \"79\": 3775, \"80\": 3026, \"69\": 14870, \"72\": 11998, \"85\": 848, \"109\": 40, \"102\": 61, \"86\": 831, \"108\": 95, \"118\": 40, \"116\": 41, \"75\": 4070, \"101\": 54, \"104\": 44, \"96\": 105, \"94\": 191, \"83\": 679, \"92\": 269, \"93\": 124, \"73\": 6316, \"131\": 10, \"143\": 7, \"105\": 71, \"129\": 13, \"128\": 14, \"82\": 997, \"84\": 544, \"147\": 7, \"114\": 34, \"98\": 74, \"106\": 70, \"107\": 66, \"110\": 61, \"90\": 208, \"126\": 16, \"87\": 213, \"111\": 38, \"115\": 16, \"95\": 155, \"113\": 25, \"112\": 35, \"120\": 20, \"145\": 2, \"100\": 79, \"165\": 1, \"124\": 13, \"99\": 64, \"133\": 10, \"103\": 19, \"97\": 19, \"134\": 8, \"139\": 4, \"150\": 5, \"152\": 2, \"132\": 10, \"125\": 14, \"130\": 13, \"151\": 2, \"153\": 1, \"159\": 1, \"144\": 5, \"123\": 25, \"148\": 4, \"135\": 3, \"117\": 9, \"127\": 12, \"122\": 24, \"138\": 7, \"181\": 1, \"121\": 9, \"166\": 2, \"160\": 3, \"167\": 1, \"154\": 4, \"161\": 2, \"136\": 7, \"155\": 3, \"168\": 1, \"169\": 1, \"156\": 2, \"140\": 8, \"91\": 292, \"170\": 1, \"157\": 2, \"171\": 2, \"162\": 1, \"163\": 2, \"182\": 1, \"119\": 16, \"183\": 1, \"185\": 1, \"186\": 1, \"184\": 1, \"172\": 1, \"141\": 1, \"146\": 3, \"149\": 1, \"173\": 1, \"187\": 1, \"188\": 1, \"142\": 4, \"174\": 1, \"175\": 1, \"164\": 2, \"158\": 1, \"176\": 1, \"177\": 1, \"137\": 5, \"189\": 1, \"178\": 2, \"179\": 1}',\n",
              " 'index_word': '{\"1\": \" \", \"2\": \"e\", \"3\": \"t\", \"4\": \"a\", \"5\": \"o\", \"6\": \"n\", \"7\": \"i\", \"8\": \"r\", \"9\": \"s\", \"10\": \"l\", \"11\": \"d\", \"12\": \"h\", \"13\": \"c\", \"14\": \"u\", \"15\": \"p\", \"16\": \"m\", \"17\": \"\\\\n\", \"18\": \"g\", \"19\": \"b\", \"20\": \"*\", \"21\": \",\", \"22\": \"f\", \"23\": \".\", \"24\": \"w\", \"25\": \"k\", \"26\": \"1\", \"27\": \"v\", \"28\": \"y\", \"29\": \"2\", \"30\": \"/\", \"31\": \"S\", \"32\": \"4\", \"33\": \"-\", \"34\": \"3\", \"35\": \"C\", \"36\": \"x\", \"37\": \"P\", \"38\": \"5\", \"39\": \"0\", \"40\": \")\", \"41\": \"(\", \"42\": \"A\", \"43\": \"B\", \"44\": \"z\", \"45\": \"j\", \"46\": \"T\", \"47\": \"F\", \"48\": \"R\", \"49\": \"\\\\ud83d\\\\udcd7\", \"50\": \"\\\\ud83e\\\\udd55\", \"51\": \"\\\\ud83d\\\\udcdd\", \"52\": \"I\", \"53\": \"M\", \"54\": \";\", \"55\": \"q\", \"56\": \"D\", \"57\": \"W\", \"58\": \"8\", \"59\": \"6\", \"60\": \"G\", \"61\": \"L\", \"62\": \"H\", \"63\": \":\", \"64\": \"7\", \"65\": \"O\", \"66\": \"\\'\", \"67\": \"K\", \"68\": \"E\", \"69\": \"U\", \"70\": \"9\", \"71\": \"N\", \"72\": \"V\", \"73\": \"\\\\u00b0\", \"74\": \"J\", \"75\": \"\\\\u00e9\", \"76\": \"\\\\u00ae\", \"77\": \"\\\\\"\", \"78\": \"Y\", \"79\": \"Q\", \"80\": \"!\", \"81\": \"Z\", \"82\": \"\\\\u2013\", \"83\": \"\\\\u00f1\", \"84\": \"\\\\u00e8\", \"85\": \"&\", \"86\": \"%\", \"87\": \"\\\\u00ee\", \"88\": \"\\\\u2122\", \"89\": \"X\", \"90\": \"\\\\u2014\", \"91\": \"\\\\u00bf\", \"92\": \"?\", \"93\": \"\\\\u2019\", \"94\": \"#\", \"95\": \"\\\\u00e7\", \"96\": \"\\\\u00bd\", \"97\": \"\\\\u00ea\", \"98\": \"\\\\u00e2\", \"99\": \"\\\\u00ed\", \"100\": \"\\\\u00f3\", \"101\": \">\", \"102\": \"=\", \"103\": \"\\\\u2022\", \"104\": \"<\", \"105\": \"$\", \"106\": \"\\\\u00bc\", \"107\": \"\\\\u00e1\", \"108\": \"\\\\u00a9\", \"109\": \"+\", \"110\": \"\\\\u00fb\", \"111\": \"\\\\u00ef\", \"112\": \"\\\\u00fa\", \"113\": \"\\\\u00ba\", \"114\": \"\\\\u00e0\", \"115\": \"_\", \"116\": \"]\", \"117\": \"\\\\u00f6\", \"118\": \"[\", \"119\": \"\\\\u00c9\", \"120\": \"\\\\u201a\", \"121\": \"\\\\ufffd\", \"122\": \"\\\\u00be\", \"123\": \"\\\\u00fc\", \"124\": \"\\\\u00e4\", \"125\": \"\\\\u00f9\", \"126\": \"\\\\u2044\", \"127\": \"\\\\u00ad\", \"128\": \"}\", \"129\": \"{\", \"130\": \"\\\\u00d7\", \"131\": \"\\\\u201d\", \"132\": \"\\\\u02da\", \"133\": \"\\\\u00f4\", \"134\": \"\\\\u201c\", \"135\": \"\\\\u00bb\", \"136\": \"\\\\u00a7\", \"137\": \"\\\\u00da\", \"138\": \"\\\\u0301\", \"139\": \"\\\\u2011\", \"140\": \"\\\\\\\\\", \"141\": \"\\\\u00b7\", \"142\": \"\\\\u0081\", \"143\": \"@\", \"144\": \"\\\\u00ec\", \"145\": \"\\\\u200b\", \"146\": \"\\\\u00b4\", \"147\": \"\\\\u0096\", \"148\": \"\\\\u2031\", \"149\": \"\\\\u00ac\", \"150\": \"`\", \"151\": \"\\\\ufb02\", \"152\": \"\\\\u25ca\", \"153\": \"\\\\ufb01\", \"154\": \"\\\\u0092\", \"155\": \"\\\\u2027\", \"156\": \"\\\\u00f8\", \"157\": \"\\\\u2153\", \"158\": \"\\\\u202d\", \"159\": \"\\\\u00dc\", \"160\": \"\\\\u00eb\", \"161\": \"\\\\u215b\", \"162\": \"\\\\u00e5\", \"163\": \"\\\\u00a4\", \"164\": \"\\\\u0095\", \"165\": \"\\\\u00ff\", \"166\": \"\\\\u00c1\", \"167\": \"\\\\u0097\", \"168\": \"\\\\u001a\", \"169\": \"\\\\u202a\", \"170\": \"\\\\u00d1\", \"171\": \"|\", \"172\": \"\\\\u01b0\", \"173\": \"\\\\u00a1\", \"174\": \"\\\\u1ff0\", \"175\": \"\\\\u2212\", \"176\": \"\\\\u2012\", \"177\": \"\\\\u00db\", \"178\": \"~\", \"179\": \"\\\\u00c2\", \"180\": \"\\\\u2423\", \"181\": \"\\\\u202e\", \"182\": \"\\\\u201f\", \"183\": \"\\\\u00a0\", \"184\": \"\\\\u01a1\", \"185\": \"\\\\u0103\", \"186\": \"\\\\u0300\", \"187\": \"\\\\u00c0\", \"188\": \"\\\\u215e\", \"189\": \"\\\\u20ac\"}',\n",
              " 'lower': False,\n",
              " 'num_words': None,\n",
              " 'oov_token': None,\n",
              " 'split': '',\n",
              " 'word_counts': '{\"\\\\u2423\": 1, \"\\\\ud83d\\\\udcd7\": 115128, \" \": 23203415, \"S\": 348068, \"l\": 5188446, \"o\": 8101698, \"w\": 1320112, \"C\": 283094, \"k\": 1209633, \"e\": 12511151, \"r\": 6432737, \"h\": 4018747, \"i\": 6677878, \"c\": 3818812, \"n\": 7181015, \"a\": 8213958, \"d\": 4187158, \"D\": 86507, \"u\": 3664569, \"m\": 2448773, \"p\": 3550674, \"g\": 2295271, \"s\": 6358657, \"\\\\n\": 2370808, \"\\\\ud83e\\\\udd55\": 115128, \"*\": 1570330, \"4\": 306779, \",\": 1530454, \"b\": 1888753, \"t\": 8259983, \"v\": 1012901, \"2\": 646866, \"(\": 189151, \"1\": 1097326, \"0\": 193890, \".\": 1439958, \"7\": 38614, \"5\": 201987, \")\": 189152, \"f\": 1460650, \"y\": 923216, \"\\\\ud83d\\\\udcdd\": 115128, \"P\": 261018, \"6\": 68423, \"H\": 57469, \"A\": 186431, \"3\": 285343, \"R\": 138648, \"x\": 263434, \"/\": 448020, \"I\": 104559, \"L\": 62383, \"8\": 73213, \"9\": 22013, \"B\": 158255, \"M\": 101124, \"F\": 141658, \"j\": 143354, \"-\": 305960, \"W\": 84249, \"\\\\u00ae\": 10461, \"N\": 16443, \"q\": 96396, \"T\": 143339, \";\": 97818, \"J\": 12643, \"\\'\": 35070, \":\": 50504, \"z\": 155361, \"G\": 66064, \"Z\": 3047, \"E\": 23469, \"K\": 24627, \"X\": 525, \"\\\\\"\": 10129, \"O\": 38080, \"Y\": 8669, \"\\\\u2122\": 545, \"Q\": 4879, \"!\": 3897, \"U\": 22024, \"V\": 15342, \"&\": 1178, \"+\": 95, \"=\": 138, \"%\": 1161, \"\\\\u00a9\": 103, \"[\": 50, \"]\": 51, \"\\\\u00e9\": 11863, \"<\": 123, \">\": 144, \"\\\\u00bd\": 214, \"#\": 255, \"\\\\u00f1\": 1530, \"?\": 427, \"\\\\u2019\": 264, \"\\\\u00b0\": 15170, \"\\\\u201d\": 20, \"$\": 123, \"@\": 9, \"{\": 24, \"}\": 25, \"\\\\u2013\": 2939, \"\\\\u00e8\": 1422, \"\\\\u0096\": 7, \"\\\\u00e0\": 54, \"\\\\u00e2\": 183, \"\\\\u00bc\": 117, \"\\\\u00e1\": 117, \"\\\\u00fb\": 81, \"\\\\u2014\": 494, \"\\\\u2044\": 28, \"\\\\u00ee\": 728, \"\\\\u00ef\": 79, \"\\\\u00e7\": 215, \"_\": 53, \"\\\\u00ba\": 55, \"\\\\u00fa\": 70, \"\\\\u201a\": 40, \"\\\\u200b\": 8, \"\\\\u00f3\": 163, \"\\\\u00ff\": 2, \"\\\\u00e4\": 33, \"\\\\u00ed\": 168, \"\\\\u2022\": 132, \"\\\\u00f4\": 16, \"\\\\u00ea\": 194, \"\\\\u201c\": 16, \"\\\\u2011\": 10, \"`\": 5, \"\\\\u25ca\": 4, \"\\\\u02da\": 20, \"\\\\u00f9\": 32, \"\\\\u00d7\": 24, \"\\\\ufb01\": 4, \"\\\\ufb02\": 5, \"\\\\u00dc\": 3, \"\\\\u00ec\": 9, \"\\\\u00fc\": 37, \"\\\\u2031\": 7, \"\\\\u00bb\": 16, \"\\\\u00f6\": 51, \"\\\\u00ad\": 27, \"\\\\u00be\": 38, \"\\\\u0301\": 12, \"\\\\u202e\": 1, \"\\\\ufffd\": 40, \"\\\\u00c1\": 2, \"\\\\u00eb\": 3, \"\\\\u0097\": 2, \"\\\\u0092\": 4, \"\\\\u215b\": 3, \"\\\\u00a7\": 15, \"\\\\u2027\": 4, \"\\\\u001a\": 2, \"\\\\u202a\": 2, \"\\\\u00f8\": 4, \"\\\\\\\\\": 10, \"\\\\u00bf\": 429, \"\\\\u00d1\": 2, \"\\\\u2153\": 4, \"|\": 2, \"\\\\u00e5\": 3, \"\\\\u00a4\": 3, \"\\\\u201f\": 1, \"\\\\u00c9\": 41, \"\\\\u00a0\": 1, \"\\\\u01b0\": 2, \"\\\\u01a1\": 1, \"\\\\u0103\": 1, \"\\\\u0300\": 1, \"\\\\u00b7\": 10, \"\\\\u00b4\": 8, \"\\\\u00ac\": 6, \"\\\\u00a1\": 2, \"\\\\u00c0\": 1, \"\\\\u215e\": 1, \"\\\\u0081\": 10, \"\\\\u1ff0\": 2, \"\\\\u2212\": 2, \"\\\\u0095\": 3, \"\\\\u202d\": 4, \"\\\\u2012\": 2, \"\\\\u00db\": 2, \"\\\\u00da\": 14, \"\\\\u20ac\": 1, \"~\": 2, \"\\\\u00c2\": 2}',\n",
              " 'word_docs': '{\"\\\\u2423\": 1, \"6\": 43923, \"i\": 115123, \"1\": 114232, \"S\": 103724, \"(\": 80558, \")\": 80541, \"b\": 114618, \"o\": 115121, \"f\": 113247, \"a\": 115121, \"3\": 93520, \"\\\\ud83d\\\\udcdd\": 115128, \".\": 115079, \"l\": 115122, \"\\\\n\": 115128, \"\\\\ud83e\\\\udd55\": 115128, \"P\": 93259, \"H\": 39062, \"g\": 114891, \"C\": 97307, \"v\": 112763, \"7\": 29059, \"t\": 115118, \"r\": 115123, \"h\": 115077, \"5\": 78650, \"s\": 115120, \",\": 113440, \"D\": 50305, \" \": 115128, \"p\": 114962, \"y\": 111298, \"n\": 115114, \"0\": 74635, \"c\": 115106, \"d\": 115110, \"\\\\ud83d\\\\udcd7\": 115128, \"A\": 74024, \"*\": 115128, \"e\": 115128, \"4\": 96978, \"u\": 115077, \"w\": 114143, \"2\": 111638, \"m\": 114904, \"k\": 112230, \"9\": 16872, \"/\": 103730, \"R\": 66045, \"x\": 85202, \"8\": 45811, \"L\": 40266, \"I\": 55447, \"B\": 76071, \"j\": 57654, \"M\": 57948, \"F\": 69971, \"-\": 89144, \"\\\\u00ae\": 5968, \"W\": 48847, \"T\": 66506, \"q\": 46078, \"N\": 12556, \";\": 40514, \"G\": 42587, \"\\'\": 22266, \":\": 26046, \"J\": 9912, \"z\": 52106, \"Z\": 2677, \"E\": 15022, \"K\": 19003, \"X\": 409, \"\\\\\"\": 3882, \"O\": 25275, \"Y\": 7096, \"\\\\u2122\": 451, \"Q\": 3775, \"!\": 3026, \"U\": 14870, \"V\": 11998, \"&\": 848, \"+\": 40, \"=\": 61, \"%\": 831, \"\\\\u00a9\": 95, \"[\": 40, \"]\": 41, \"\\\\u00e9\": 4070, \">\": 54, \"<\": 44, \"\\\\u00bd\": 105, \"#\": 191, \"\\\\u00f1\": 679, \"?\": 269, \"\\\\u2019\": 124, \"\\\\u00b0\": 6316, \"\\\\u201d\": 10, \"@\": 7, \"$\": 71, \"{\": 13, \"}\": 14, \"\\\\u2013\": 997, \"\\\\u00e8\": 544, \"\\\\u0096\": 7, \"\\\\u00e0\": 34, \"\\\\u00e2\": 74, \"\\\\u00bc\": 70, \"\\\\u00e1\": 66, \"\\\\u00fb\": 61, \"\\\\u2014\": 208, \"\\\\u2044\": 16, \"\\\\u00ee\": 213, \"\\\\u00ef\": 38, \"_\": 16, \"\\\\u00e7\": 155, \"\\\\u00ba\": 25, \"\\\\u00fa\": 35, \"\\\\u201a\": 20, \"\\\\u200b\": 2, \"\\\\u00f3\": 79, \"\\\\u00ff\": 1, \"\\\\u00e4\": 13, \"\\\\u00ed\": 64, \"\\\\u00f4\": 10, \"\\\\u2022\": 19, \"\\\\u00ea\": 19, \"\\\\u201c\": 8, \"\\\\u2011\": 4, \"`\": 5, \"\\\\u25ca\": 2, \"\\\\u02da\": 10, \"\\\\u00f9\": 14, \"\\\\u00d7\": 13, \"\\\\ufb02\": 2, \"\\\\ufb01\": 1, \"\\\\u00dc\": 1, \"\\\\u00ec\": 5, \"\\\\u00fc\": 25, \"\\\\u2031\": 4, \"\\\\u00bb\": 3, \"\\\\u00f6\": 9, \"\\\\u00ad\": 12, \"\\\\u00be\": 24, \"\\\\u0301\": 7, \"\\\\u202e\": 1, \"\\\\ufffd\": 9, \"\\\\u00c1\": 2, \"\\\\u00eb\": 3, \"\\\\u0097\": 1, \"\\\\u0092\": 4, \"\\\\u215b\": 2, \"\\\\u00a7\": 7, \"\\\\u2027\": 3, \"\\\\u001a\": 1, \"\\\\u202a\": 1, \"\\\\u00f8\": 2, \"\\\\\\\\\": 8, \"\\\\u00bf\": 292, \"\\\\u00d1\": 1, \"\\\\u2153\": 2, \"|\": 2, \"\\\\u00e5\": 1, \"\\\\u00a4\": 2, \"\\\\u201f\": 1, \"\\\\u00c9\": 16, \"\\\\u00a0\": 1, \"\\\\u0103\": 1, \"\\\\u0300\": 1, \"\\\\u01a1\": 1, \"\\\\u01b0\": 1, \"\\\\u00b7\": 1, \"\\\\u00b4\": 3, \"\\\\u00ac\": 1, \"\\\\u00a1\": 1, \"\\\\u00c0\": 1, \"\\\\u215e\": 1, \"\\\\u0081\": 4, \"\\\\u1ff0\": 1, \"\\\\u2212\": 1, \"\\\\u0095\": 2, \"\\\\u202d\": 1, \"\\\\u2012\": 1, \"\\\\u00db\": 1, \"\\\\u00da\": 5, \"\\\\u20ac\": 1, \"~\": 2, \"\\\\u00c2\": 1}',\n",
              " 'word_index': '{\" \": 1, \"e\": 2, \"t\": 3, \"a\": 4, \"o\": 5, \"n\": 6, \"i\": 7, \"r\": 8, \"s\": 9, \"l\": 10, \"d\": 11, \"h\": 12, \"c\": 13, \"u\": 14, \"p\": 15, \"m\": 16, \"\\\\n\": 17, \"g\": 18, \"b\": 19, \"*\": 20, \",\": 21, \"f\": 22, \".\": 23, \"w\": 24, \"k\": 25, \"1\": 26, \"v\": 27, \"y\": 28, \"2\": 29, \"/\": 30, \"S\": 31, \"4\": 32, \"-\": 33, \"3\": 34, \"C\": 35, \"x\": 36, \"P\": 37, \"5\": 38, \"0\": 39, \")\": 40, \"(\": 41, \"A\": 42, \"B\": 43, \"z\": 44, \"j\": 45, \"T\": 46, \"F\": 47, \"R\": 48, \"\\\\ud83d\\\\udcd7\": 49, \"\\\\ud83e\\\\udd55\": 50, \"\\\\ud83d\\\\udcdd\": 51, \"I\": 52, \"M\": 53, \";\": 54, \"q\": 55, \"D\": 56, \"W\": 57, \"8\": 58, \"6\": 59, \"G\": 60, \"L\": 61, \"H\": 62, \":\": 63, \"7\": 64, \"O\": 65, \"\\'\": 66, \"K\": 67, \"E\": 68, \"U\": 69, \"9\": 70, \"N\": 71, \"V\": 72, \"\\\\u00b0\": 73, \"J\": 74, \"\\\\u00e9\": 75, \"\\\\u00ae\": 76, \"\\\\\"\": 77, \"Y\": 78, \"Q\": 79, \"!\": 80, \"Z\": 81, \"\\\\u2013\": 82, \"\\\\u00f1\": 83, \"\\\\u00e8\": 84, \"&\": 85, \"%\": 86, \"\\\\u00ee\": 87, \"\\\\u2122\": 88, \"X\": 89, \"\\\\u2014\": 90, \"\\\\u00bf\": 91, \"?\": 92, \"\\\\u2019\": 93, \"#\": 94, \"\\\\u00e7\": 95, \"\\\\u00bd\": 96, \"\\\\u00ea\": 97, \"\\\\u00e2\": 98, \"\\\\u00ed\": 99, \"\\\\u00f3\": 100, \">\": 101, \"=\": 102, \"\\\\u2022\": 103, \"<\": 104, \"$\": 105, \"\\\\u00bc\": 106, \"\\\\u00e1\": 107, \"\\\\u00a9\": 108, \"+\": 109, \"\\\\u00fb\": 110, \"\\\\u00ef\": 111, \"\\\\u00fa\": 112, \"\\\\u00ba\": 113, \"\\\\u00e0\": 114, \"_\": 115, \"]\": 116, \"\\\\u00f6\": 117, \"[\": 118, \"\\\\u00c9\": 119, \"\\\\u201a\": 120, \"\\\\ufffd\": 121, \"\\\\u00be\": 122, \"\\\\u00fc\": 123, \"\\\\u00e4\": 124, \"\\\\u00f9\": 125, \"\\\\u2044\": 126, \"\\\\u00ad\": 127, \"}\": 128, \"{\": 129, \"\\\\u00d7\": 130, \"\\\\u201d\": 131, \"\\\\u02da\": 132, \"\\\\u00f4\": 133, \"\\\\u201c\": 134, \"\\\\u00bb\": 135, \"\\\\u00a7\": 136, \"\\\\u00da\": 137, \"\\\\u0301\": 138, \"\\\\u2011\": 139, \"\\\\\\\\\": 140, \"\\\\u00b7\": 141, \"\\\\u0081\": 142, \"@\": 143, \"\\\\u00ec\": 144, \"\\\\u200b\": 145, \"\\\\u00b4\": 146, \"\\\\u0096\": 147, \"\\\\u2031\": 148, \"\\\\u00ac\": 149, \"`\": 150, \"\\\\ufb02\": 151, \"\\\\u25ca\": 152, \"\\\\ufb01\": 153, \"\\\\u0092\": 154, \"\\\\u2027\": 155, \"\\\\u00f8\": 156, \"\\\\u2153\": 157, \"\\\\u202d\": 158, \"\\\\u00dc\": 159, \"\\\\u00eb\": 160, \"\\\\u215b\": 161, \"\\\\u00e5\": 162, \"\\\\u00a4\": 163, \"\\\\u0095\": 164, \"\\\\u00ff\": 165, \"\\\\u00c1\": 166, \"\\\\u0097\": 167, \"\\\\u001a\": 168, \"\\\\u202a\": 169, \"\\\\u00d1\": 170, \"|\": 171, \"\\\\u01b0\": 172, \"\\\\u00a1\": 173, \"\\\\u1ff0\": 174, \"\\\\u2212\": 175, \"\\\\u2012\": 176, \"\\\\u00db\": 177, \"~\": 178, \"\\\\u00c2\": 179, \"\\\\u2423\": 180, \"\\\\u202e\": 181, \"\\\\u201f\": 182, \"\\\\u00a0\": 183, \"\\\\u01a1\": 184, \"\\\\u0103\": 185, \"\\\\u0300\": 186, \"\\\\u00c0\": 187, \"\\\\u215e\": 188, \"\\\\u20ac\": 189}'}"
            ]
          },
          "metadata": {
            "tags": []
          },
          "execution_count": 53
        }
      ]
    },
    {
      "cell_type": "code",
      "metadata": {
        "id": "GNKzcYIbJlhS"
      },
      "source": [
        "VOCAB_SIZE = len(tokenizer.word_counts) + 1 "
      ],
      "execution_count": 54,
      "outputs": []
    },
    {
      "cell_type": "code",
      "metadata": {
        "colab": {
          "base_uri": "https://localhost:8080/"
        },
        "id": "vv9gD0WEJ1xq",
        "outputId": "4dc583d7-983d-49ad-ed7d-8e8f299a70ac"
      },
      "source": [
        "VOCAB_SIZE"
      ],
      "execution_count": 55,
      "outputs": [
        {
          "output_type": "execute_result",
          "data": {
            "text/plain": [
              "190"
            ]
          },
          "metadata": {
            "tags": []
          },
          "execution_count": 55
        }
      ]
    },
    {
      "cell_type": "code",
      "metadata": {
        "id": "81Qj5uP5J2-2"
      },
      "source": [
        "vocab = tokenizer.sequences_to_texts([[word_index] for word_index in range(VOCAB_SIZE)])"
      ],
      "execution_count": 56,
      "outputs": []
    },
    {
      "cell_type": "code",
      "metadata": {
        "colab": {
          "base_uri": "https://localhost:8080/"
        },
        "id": "_mzFWb-YKJ8p",
        "outputId": "5773d012-41db-4907-94f6-9d9fc4d4dd8b"
      },
      "source": [
        "tokenizer.texts_to_sequences('📗 ')"
      ],
      "execution_count": 57,
      "outputs": [
        {
          "output_type": "execute_result",
          "data": {
            "text/plain": [
              "[[49], [1]]"
            ]
          },
          "metadata": {
            "tags": []
          },
          "execution_count": 57
        }
      ]
    },
    {
      "cell_type": "code",
      "metadata": {
        "id": "27m1IbN2KS2F"
      },
      "source": [
        "dataset_vectorized = tokenizer.texts_to_sequences(dataset)"
      ],
      "execution_count": 58,
      "outputs": []
    },
    {
      "cell_type": "code",
      "metadata": {
        "colab": {
          "base_uri": "https://localhost:8080/"
        },
        "id": "x76TyU8YKpaS",
        "outputId": "6b2f662e-af41-49fc-9b5c-e4f174d37178"
      },
      "source": [
        "print(len(dataset_vectorized))"
      ],
      "execution_count": 59,
      "outputs": [
        {
          "output_type": "stream",
          "text": [
            "115128\n"
          ],
          "name": "stdout"
        }
      ]
    },
    {
      "cell_type": "code",
      "metadata": {
        "colab": {
          "base_uri": "https://localhost:8080/"
        },
        "id": "fc-QB2rXK4X5",
        "outputId": "d2f0f519-bf20-47c1-8637-db927970faf5"
      },
      "source": [
        "print(dataset_vectorized[0])"
      ],
      "execution_count": 60,
      "outputs": [
        {
          "output_type": "stream",
          "text": [
            "[49, 1, 31, 10, 5, 24, 1, 35, 5, 5, 25, 2, 8, 1, 35, 12, 7, 13, 25, 2, 6, 1, 4, 6, 11, 1, 56, 14, 16, 15, 10, 7, 6, 18, 9, 17, 17, 50, 17, 17, 20, 1, 32, 1, 9, 25, 7, 6, 10, 2, 9, 9, 21, 1, 19, 5, 6, 2, 10, 2, 9, 9, 1, 13, 12, 7, 13, 25, 2, 6, 1, 19, 8, 2, 4, 9, 3, 1, 12, 4, 10, 27, 2, 9, 1, 17, 20, 1, 29, 1, 3, 4, 19, 10, 2, 9, 15, 5, 5, 6, 9, 1, 19, 14, 3, 3, 2, 8, 1, 17, 20, 1, 29, 1, 41, 26, 39, 23, 64, 38, 1, 5, 14, 6, 13, 2, 40, 1, 13, 4, 6, 9, 1, 13, 5, 6, 11, 2, 6, 9, 2, 11, 1, 13, 8, 2, 4, 16, 1, 5, 22, 1, 13, 12, 7, 13, 25, 2, 6, 1, 9, 5, 14, 15, 1, 17, 20, 1, 26, 1, 5, 6, 7, 5, 6, 21, 1, 22, 7, 6, 2, 10, 28, 1, 11, 7, 13, 2, 11, 1, 17, 20, 1, 29, 1, 41, 26, 39, 1, 5, 14, 6, 13, 2, 40, 1, 15, 4, 13, 25, 4, 18, 2, 9, 1, 8, 2, 22, 8, 7, 18, 2, 8, 4, 3, 2, 11, 1, 19, 7, 9, 13, 14, 7, 3, 1, 11, 5, 14, 18, 12, 21, 1, 3, 5, 8, 6, 1, 7, 6, 3, 5, 1, 15, 7, 2, 13, 2, 9, 1, 17, 17, 51, 17, 17, 20, 37, 10, 4, 13, 2, 1, 3, 12, 2, 1, 13, 12, 7, 13, 25, 2, 6, 21, 1, 19, 14, 3, 3, 2, 8, 21, 1, 9, 5, 14, 15, 21, 1, 4, 6, 11, 1, 5, 6, 7, 5, 6, 1, 7, 6, 1, 4, 1, 9, 10, 5, 24, 1, 13, 5, 5, 25, 2, 8, 21, 1, 4, 6, 11, 1, 22, 7, 10, 10, 1, 24, 7, 3, 12, 1, 2, 6, 5, 14, 18, 12, 1, 24, 4, 3, 2, 8, 1, 3, 5, 1, 13, 5, 27, 2, 8, 23, 17, 20, 35, 5, 27, 2, 8, 21, 1, 4, 6, 11, 1, 13, 5, 5, 25, 1, 22, 5, 8, 1, 38, 1, 3, 5, 1, 59, 1, 12, 5, 14, 8, 9, 1, 5, 6, 1, 62, 7, 18, 12, 23, 1, 42, 19, 5, 14, 3, 1, 34, 39, 1, 16, 7, 6, 14, 3, 2, 9, 1, 19, 2, 22, 5, 8, 2, 1, 9, 2, 8, 27, 7, 6, 18, 21, 1, 15, 10, 4, 13, 2, 1, 3, 12, 2, 1, 3, 5, 8, 6, 1, 19, 7, 9, 13, 14, 7, 3, 1, 11, 5, 14, 18, 12, 1, 7, 6, 1, 3, 12, 2, 1, 9, 10, 5, 24, 1, 13, 5, 5, 25, 2, 8, 23, 1, 35, 5, 5, 25, 1, 14, 6, 3, 7, 10, 1, 3, 12, 2, 1, 11, 5, 14, 18, 12, 1, 7, 9, 1, 6, 5, 1, 10, 5, 6, 18, 2, 8, 1, 8, 4, 24, 1, 7, 6, 1, 3, 12, 2, 1, 13, 2, 6, 3, 2, 8, 23, 17]\n"
          ],
          "name": "stdout"
        }
      ]
    },
    {
      "cell_type": "code",
      "metadata": {
        "id": "AdPGoJnaK8K1"
      },
      "source": [
        "def recipe_sequence_to_str(recipe_seq):\n",
        "  recipe_str = tokenizer.sequences_to_texts([recipe_seq])[0]\n",
        "  recipe_str = recipe_str.replace('  ', '_').replace(' ', '').replace('_', ' ')\n",
        "  print(recipe_str)"
      ],
      "execution_count": 63,
      "outputs": []
    },
    {
      "cell_type": "code",
      "metadata": {
        "colab": {
          "base_uri": "https://localhost:8080/"
        },
        "id": "8xBwFJbSLSlc",
        "outputId": "20739d1b-f2be-4a6b-a7d8-3cf0e32ca3f8"
      },
      "source": [
        "recipe_sequence_to_str(dataset_vectorized[0])"
      ],
      "execution_count": 64,
      "outputs": [
        {
          "output_type": "stream",
          "text": [
            "📗 Slow Cooker Chicken and Dumplings\n",
            "\n",
            "🥕\n",
            "\n",
            "* 4 skinless, boneless chicken breast halves \n",
            "* 2 tablespoons butter \n",
            "* 2 (10.75 ounce) cans condensed cream of chicken soup \n",
            "* 1 onion, finely diced \n",
            "* 2 (10 ounce) packages refrigerated biscuit dough, torn into pieces \n",
            "\n",
            "📝\n",
            "\n",
            "*Place the chicken, butter, soup, and onion in a slow cooker, and fill with enough water to cover.\n",
            "*Cover, and cook for 5 to 6 hours on High. About 30 minutes before serving, place the torn biscuit dough in the slow cooker. Cook until the dough is no longer raw in the center.\n",
            "\n"
          ],
          "name": "stdout"
        }
      ]
    },
    {
      "cell_type": "code",
      "metadata": {
        "colab": {
          "base_uri": "https://localhost:8080/"
        },
        "id": "8UayOz5sLoI3",
        "outputId": "6fcf705a-b4e6-40aa-80fa-79bb4ec5fce8"
      },
      "source": [
        "for recipe_idx, recipe in enumerate(dataset_vectorized[:10]):\n",
        "  print('Recipe #{} length: {}'.format(recipe_idx + 1, len(recipe)))"
      ],
      "execution_count": 65,
      "outputs": [
        {
          "output_type": "stream",
          "text": [
            "Recipe #1 length: 542\n",
            "Recipe #2 length: 397\n",
            "Recipe #3 length: 663\n",
            "Recipe #4 length: 730\n",
            "Recipe #5 length: 1508\n",
            "Recipe #6 length: 734\n",
            "Recipe #7 length: 2665\n",
            "Recipe #8 length: 831\n",
            "Recipe #9 length: 661\n",
            "Recipe #10 length: 1258\n"
          ],
          "name": "stdout"
        }
      ]
    },
    {
      "cell_type": "code",
      "metadata": {
        "id": "dmMykKQEMC7_"
      },
      "source": [
        "dataset_vectorized_padding_without_stops = tf.keras.preprocessing.sequence.pad_sequences(\n",
        "    dataset_vectorized,\n",
        "    padding='post',\n",
        "    truncating='post',\n",
        "    maxlen = MAX_RECIPE_LENGTH - 1,\n",
        "    value = tokenizer.texts_to_sequences([STOP_SIGN])[0]\n",
        ")"
      ],
      "execution_count": 66,
      "outputs": []
    },
    {
      "cell_type": "code",
      "metadata": {
        "id": "gR4npM_7Miro"
      },
      "source": [
        "dataset_vectorized_padded = tf.keras.preprocessing.sequence.pad_sequences(\n",
        "    dataset_vectorized_padding_without_stops,\n",
        "    padding='post',\n",
        "    truncating='post',\n",
        "    maxlen = MAX_RECIPE_LENGTH + 1,\n",
        "    value = tokenizer.texts_to_sequences([STOP_SIGN])[0]\n",
        ")"
      ],
      "execution_count": 67,
      "outputs": []
    },
    {
      "cell_type": "code",
      "metadata": {
        "colab": {
          "base_uri": "https://localhost:8080/"
        },
        "id": "Hmji-CQEMr7g",
        "outputId": "0d72db6f-6330-4bf1-d11e-536685aaaa14"
      },
      "source": [
        "for recipe_idx, recipe in enumerate(dataset_vectorized_padded[:10]):\n",
        "  print('Recipe #{} length: {}'.format(recipe_idx + 1, len(recipe)))"
      ],
      "execution_count": 69,
      "outputs": [
        {
          "output_type": "stream",
          "text": [
            "Recipe #1 length: 3001\n",
            "Recipe #2 length: 3001\n",
            "Recipe #3 length: 3001\n",
            "Recipe #4 length: 3001\n",
            "Recipe #5 length: 3001\n",
            "Recipe #6 length: 3001\n",
            "Recipe #7 length: 3001\n",
            "Recipe #8 length: 3001\n",
            "Recipe #9 length: 3001\n",
            "Recipe #10 length: 3001\n"
          ],
          "name": "stdout"
        }
      ]
    },
    {
      "cell_type": "code",
      "metadata": {
        "colab": {
          "base_uri": "https://localhost:8080/"
        },
        "id": "adveFzXfMw6W",
        "outputId": "dc2d3af1-2167-4ca7-e568-d265a1cdeea3"
      },
      "source": [
        "recipe_sequence_to_str(dataset_vectorized_padded[0])"
      ],
      "execution_count": 70,
      "outputs": [
        {
          "output_type": "stream",
          "text": [
            "📗 Slow Cooker Chicken and Dumplings\n",
            "\n",
            "🥕\n",
            "\n",
            "* 4 skinless, boneless chicken breast halves \n",
            "* 2 tablespoons butter \n",
            "* 2 (10.75 ounce) cans condensed cream of chicken soup \n",
            "* 1 onion, finely diced \n",
            "* 2 (10 ounce) packages refrigerated biscuit dough, torn into pieces \n",
            "\n",
            "📝\n",
            "\n",
            "*Place the chicken, butter, soup, and onion in a slow cooker, and fill with enough water to cover.\n",
            "*Cover, and cook for 5 to 6 hours on High. About 30 minutes before serving, place the torn biscuit dough in the slow cooker. Cook until the dough is no longer raw in the center.\n",
            "␣␣␣␣␣␣␣␣␣␣␣␣␣␣␣␣␣␣␣␣␣␣␣␣␣␣␣␣␣␣␣␣␣␣␣␣␣␣␣␣␣␣␣␣␣␣␣␣␣␣␣␣␣␣␣␣␣␣␣␣␣␣␣␣␣␣␣␣␣␣␣␣␣␣␣␣␣␣␣␣␣␣␣␣␣␣␣␣␣␣␣␣␣␣␣␣␣␣␣␣␣␣␣␣␣␣␣␣␣␣␣␣␣␣␣␣␣␣␣␣␣␣␣␣␣␣␣␣␣␣␣␣␣␣␣␣␣␣␣␣␣␣␣␣␣␣␣␣␣␣␣␣␣␣␣␣␣␣␣␣␣␣␣␣␣␣␣␣␣␣␣␣␣␣␣␣␣␣␣␣␣␣␣␣␣␣␣␣␣␣␣␣␣␣␣␣␣␣␣␣␣␣␣␣␣␣␣␣␣␣␣␣␣␣␣␣␣␣␣␣␣␣␣␣␣␣␣␣␣␣␣␣␣␣␣␣␣␣␣␣␣␣␣␣␣␣␣␣␣␣␣␣␣␣␣␣␣␣␣␣␣␣␣␣␣␣␣␣␣␣␣␣␣␣␣␣␣␣␣␣␣␣␣␣␣␣␣␣␣␣␣␣␣␣␣␣␣␣␣␣␣␣␣␣␣␣␣␣␣␣␣␣␣␣␣␣␣␣␣␣␣␣␣␣␣␣␣␣␣␣␣␣␣␣␣␣␣␣␣␣␣␣␣␣␣␣␣␣␣␣␣␣␣␣␣␣␣␣␣␣␣␣␣␣␣␣␣␣␣␣␣␣␣␣␣␣␣␣␣␣␣␣␣␣␣␣␣␣␣␣␣␣␣␣␣␣␣␣␣␣␣␣␣␣␣␣␣␣␣␣␣␣␣␣␣␣␣␣␣␣␣␣␣␣␣␣␣␣␣␣␣␣␣␣␣␣␣␣␣␣␣␣␣␣␣␣␣␣␣␣␣␣␣␣␣␣␣␣␣␣␣␣␣␣␣␣␣␣␣␣␣␣␣␣␣␣␣␣␣␣␣␣␣␣␣␣␣␣␣␣␣␣␣␣␣␣␣␣␣␣␣␣␣␣␣␣␣␣␣␣␣␣␣␣␣␣␣␣␣␣␣␣␣␣␣␣␣␣␣␣␣␣␣␣␣␣␣␣␣␣␣␣␣␣␣␣␣␣␣␣␣␣␣␣␣␣␣␣␣␣␣␣␣␣␣␣␣␣␣␣␣␣␣␣␣␣␣␣␣␣␣␣␣␣␣␣␣␣␣␣␣␣␣␣␣␣␣␣␣␣␣␣␣␣␣␣␣␣␣␣␣␣␣␣␣␣␣␣␣␣␣␣␣␣␣␣␣␣␣␣␣␣␣␣␣␣␣␣␣␣␣␣␣␣␣␣␣␣␣␣␣␣␣␣␣␣␣␣␣␣␣␣␣␣␣␣␣␣␣␣␣␣␣␣␣␣␣␣␣␣␣␣␣␣␣␣␣␣␣␣␣␣␣␣␣␣␣␣␣␣␣␣␣␣␣␣␣␣␣␣␣␣␣␣␣␣␣␣␣␣␣␣␣␣␣␣␣␣␣␣␣␣␣␣␣␣␣␣␣␣␣␣␣␣␣␣␣␣␣␣␣␣␣␣␣␣␣␣␣␣␣␣␣␣␣␣␣␣␣␣␣␣␣␣␣␣␣␣␣␣␣␣␣␣␣␣␣␣␣␣␣␣␣␣␣␣␣␣␣␣␣␣␣␣␣␣␣␣␣␣␣␣␣␣␣␣␣␣␣␣␣␣␣␣␣␣␣␣␣␣␣␣␣␣␣␣␣␣␣␣␣␣␣␣␣␣␣␣␣␣␣␣␣␣␣␣␣␣␣␣␣␣␣␣␣␣␣␣␣␣␣␣␣␣␣␣␣␣␣␣␣␣␣␣␣␣␣␣␣␣␣␣␣␣␣␣␣␣␣␣␣␣␣␣␣␣␣␣␣␣␣␣␣␣␣␣␣␣␣␣␣␣␣␣␣␣␣␣␣␣␣␣␣␣␣␣␣␣␣␣␣␣␣␣␣␣␣␣␣␣␣␣␣␣␣␣␣␣␣␣␣␣␣␣␣␣␣␣␣␣␣␣␣␣␣␣␣␣␣␣␣␣␣␣␣␣␣␣␣␣␣␣␣␣␣␣␣␣␣␣␣␣␣␣␣␣␣␣␣␣␣␣␣␣␣␣␣␣␣␣␣␣␣␣␣␣␣␣␣␣␣␣␣␣␣␣␣␣␣␣␣␣␣␣␣␣␣␣␣␣␣␣␣␣␣␣␣␣␣␣␣␣␣␣␣␣␣␣␣␣␣␣␣␣␣␣␣␣␣␣␣␣␣␣␣␣␣␣␣␣␣␣␣␣␣␣␣␣␣␣␣␣␣␣␣␣␣␣␣␣␣␣␣␣␣␣␣␣␣␣␣␣␣␣␣␣␣␣␣␣␣␣␣␣␣␣␣␣␣␣␣␣␣␣␣␣␣␣␣␣␣␣␣␣␣␣␣␣␣␣␣␣␣␣␣␣␣␣␣␣␣␣␣␣␣␣␣␣␣␣␣␣␣␣␣␣␣␣␣␣␣␣␣␣␣␣␣␣␣␣␣␣␣␣␣␣␣␣␣␣␣␣␣␣␣␣␣␣␣␣␣␣␣␣␣␣␣␣␣␣␣␣␣␣␣␣␣␣␣␣␣␣␣␣␣␣␣␣␣␣␣␣␣␣␣␣␣␣␣␣␣␣␣␣␣␣␣␣␣␣␣␣␣␣␣␣␣␣␣␣␣␣␣␣␣␣␣␣␣␣␣␣␣␣␣␣␣␣␣␣␣␣␣␣␣␣␣␣␣␣␣␣␣␣␣␣␣␣␣␣␣␣␣␣␣␣␣␣␣␣␣␣␣␣␣␣␣␣␣␣␣␣␣␣␣␣␣␣␣␣␣␣␣␣␣␣␣␣␣␣␣␣␣␣␣␣␣␣␣␣␣␣␣␣␣␣␣␣␣␣␣␣␣␣␣␣␣␣␣␣␣␣␣␣␣␣␣␣␣␣␣␣␣␣␣␣␣␣␣␣␣␣␣␣␣␣␣␣␣␣␣␣␣␣␣␣␣␣␣␣␣␣␣␣␣␣␣␣␣␣␣␣␣␣␣␣␣␣␣␣␣␣␣␣␣␣␣␣␣␣␣␣␣␣␣␣␣␣␣␣␣␣␣␣␣␣␣␣␣␣␣␣␣␣␣␣␣␣␣␣␣␣␣␣␣␣␣␣␣␣␣␣␣␣␣␣␣␣␣␣␣␣␣␣␣␣␣␣␣␣␣␣␣␣␣␣␣␣␣␣␣␣␣␣␣␣␣␣␣␣␣␣␣␣␣␣␣␣␣␣␣␣␣␣␣␣␣␣␣␣␣␣␣␣␣␣␣␣␣␣␣␣␣␣␣␣␣␣␣␣␣␣␣␣␣␣␣␣␣␣␣␣␣␣␣␣␣␣␣␣␣␣␣␣␣␣␣␣␣␣␣␣␣␣␣␣␣␣␣␣␣␣␣␣␣␣␣␣␣␣␣␣␣␣␣␣␣␣␣␣␣␣␣␣␣␣␣␣␣␣␣␣␣␣␣␣␣␣␣␣␣␣␣␣␣␣␣␣␣␣␣␣␣␣␣␣␣␣␣␣␣␣␣␣␣␣␣␣␣␣␣␣␣␣␣␣␣␣␣␣␣␣␣␣␣␣␣␣␣␣␣␣␣␣␣␣␣␣␣␣␣␣␣␣␣␣␣␣␣␣␣␣␣␣␣␣␣␣␣␣␣␣␣␣␣␣␣␣␣␣␣␣␣␣␣␣␣␣␣␣␣␣␣␣␣␣␣␣␣␣␣␣␣␣␣␣␣␣␣␣␣␣␣␣␣␣␣␣␣␣␣␣␣␣␣␣␣␣␣␣␣␣␣␣␣␣␣␣␣␣␣␣␣␣␣␣␣␣␣␣␣␣␣␣␣␣␣␣␣␣␣␣␣␣␣␣␣␣␣␣␣␣␣␣␣␣␣␣␣␣␣␣␣␣␣␣␣␣␣␣␣␣␣␣␣␣␣␣␣␣␣␣␣␣␣␣␣␣␣␣␣␣␣␣␣␣␣␣␣␣␣␣␣␣␣␣␣␣␣␣␣␣␣␣␣␣␣␣␣␣␣␣␣␣␣␣␣␣␣␣␣␣␣␣␣␣␣␣␣␣␣␣␣␣␣␣␣␣␣␣␣␣␣␣␣␣␣␣␣␣␣␣␣␣␣␣␣␣␣␣␣␣␣␣␣␣␣␣␣␣␣␣␣␣␣␣␣␣␣␣␣␣␣␣␣␣␣␣␣␣␣␣␣␣␣␣␣␣␣␣␣␣␣␣␣␣␣␣␣␣␣␣␣␣␣␣␣␣␣␣␣␣␣␣␣␣␣␣␣␣␣␣␣␣␣␣␣␣␣␣␣␣␣␣␣␣␣␣␣␣␣␣␣␣␣␣␣␣␣␣␣␣␣␣␣␣␣␣␣␣␣␣␣␣␣␣␣␣␣␣␣␣␣␣␣␣␣␣␣␣␣␣␣␣␣␣␣␣␣␣␣␣␣␣␣␣␣␣␣␣␣␣␣␣␣␣␣␣␣␣␣␣␣␣␣␣␣␣␣␣␣␣␣␣␣␣␣␣␣␣␣␣␣␣␣␣␣␣␣␣␣␣␣␣␣␣␣␣␣␣␣␣␣␣␣␣␣␣␣␣␣␣␣␣␣␣␣␣␣␣␣␣␣␣␣␣␣␣␣␣␣␣␣␣␣␣␣␣␣␣␣␣␣␣␣␣␣␣␣␣␣␣␣␣␣␣␣␣␣␣␣␣␣␣␣␣␣␣␣␣␣␣␣␣␣␣␣␣␣␣␣␣␣␣␣␣␣␣␣␣␣␣␣␣␣␣␣␣␣␣␣␣␣␣␣␣␣␣␣␣␣␣␣␣␣␣␣␣␣␣␣␣␣␣␣␣␣␣␣␣␣␣␣␣␣␣␣␣␣␣␣␣␣␣␣␣␣␣␣␣␣␣␣␣␣␣␣␣␣␣␣␣␣␣␣␣␣␣␣␣␣␣␣␣␣␣␣␣␣␣␣␣␣␣␣␣␣␣␣␣␣␣␣␣␣␣␣␣␣␣␣␣␣␣␣␣␣␣␣␣␣␣␣␣␣␣␣␣␣␣␣␣␣␣␣␣␣␣␣␣␣␣␣␣␣␣␣␣␣␣␣␣␣␣␣␣␣␣␣␣␣␣␣␣␣␣␣␣␣␣␣␣␣␣␣␣␣␣␣␣␣␣␣␣␣␣␣␣␣␣␣␣␣␣␣␣␣␣␣␣␣␣␣␣␣␣␣␣␣\n"
          ],
          "name": "stdout"
        }
      ]
    },
    {
      "cell_type": "code",
      "metadata": {
        "id": "M1Mg1l_KM4x3"
      },
      "source": [
        "dataset = tf.data.Dataset.from_tensor_slices(dataset_vectorized_padded)"
      ],
      "execution_count": 71,
      "outputs": []
    },
    {
      "cell_type": "code",
      "metadata": {
        "colab": {
          "base_uri": "https://localhost:8080/"
        },
        "id": "O7byjwtPQT2M",
        "outputId": "2c24bc95-1b1a-4cff-bf65-955fbc12aff6"
      },
      "source": [
        "dataset"
      ],
      "execution_count": 72,
      "outputs": [
        {
          "output_type": "execute_result",
          "data": {
            "text/plain": [
              "<TensorSliceDataset shapes: (3001,), types: tf.int32>"
            ]
          },
          "metadata": {
            "tags": []
          },
          "execution_count": 72
        }
      ]
    },
    {
      "cell_type": "code",
      "metadata": {
        "id": "4SkTt93gQUsQ"
      },
      "source": [
        "# Hello\n",
        "# input Hell\n",
        "# target ello\n",
        "\n",
        "def split_input_target(recipe):\n",
        "  input_text = recipe[:-1]\n",
        "  target_text = recipe[1:]\n",
        "\n",
        "  return input_text, target_text\n",
        "\n",
        "  "
      ],
      "execution_count": 73,
      "outputs": []
    },
    {
      "cell_type": "code",
      "metadata": {
        "id": "CgUclbAJQ0FP"
      },
      "source": [
        "dataset_targeted = dataset.map(split_input_target)"
      ],
      "execution_count": 74,
      "outputs": []
    },
    {
      "cell_type": "code",
      "metadata": {
        "colab": {
          "base_uri": "https://localhost:8080/"
        },
        "id": "H63_FZvxQ5ME",
        "outputId": "46b7bea3-85b5-4a59-c4f0-04fd9c62e8ac"
      },
      "source": [
        "dataset_targeted"
      ],
      "execution_count": 75,
      "outputs": [
        {
          "output_type": "execute_result",
          "data": {
            "text/plain": [
              "<MapDataset shapes: ((3000,), (3000,)), types: (tf.int32, tf.int32)>"
            ]
          },
          "metadata": {
            "tags": []
          },
          "execution_count": 75
        }
      ]
    },
    {
      "cell_type": "code",
      "metadata": {
        "colab": {
          "base_uri": "https://localhost:8080/"
        },
        "id": "q7dC936ZQ6JD",
        "outputId": "66ce804d-2cb7-426b-b415-65e6f6cdfe56"
      },
      "source": [
        "for input_example, target_example in dataset_targeted.take(1):\n",
        "  print('input seq size', repr(len(input_example.numpy())))\n",
        "  print('target seq size', repr(len(target_example.numpy())))\n",
        "  print()\n",
        "\n",
        "  input_str = tokenizer.sequences_to_texts([input_example.numpy()[:50]])[0]\n",
        "  target_str = tokenizer.sequences_to_texts([target_example.numpy()[:50]])[0]\n",
        "\n",
        "  print('input: ', repr(''.join(input_str)))\n",
        "  print('target:', repr(''.join(target_str)))"
      ],
      "execution_count": 79,
      "outputs": [
        {
          "output_type": "stream",
          "text": [
            "input seq size 3000\n",
            "target seq size 3000\n",
            "\n",
            "input:  '📗   S l o w   C o o k e r   C h i c k e n   a n d   D u m p l i n g s \\n \\n 🥕 \\n \\n *   4   s k i n l e'\n",
            "target: '  S l o w   C o o k e r   C h i c k e n   a n d   D u m p l i n g s \\n \\n 🥕 \\n \\n *   4   s k i n l e s'\n"
          ],
          "name": "stdout"
        }
      ]
    },
    {
      "cell_type": "code",
      "metadata": {
        "colab": {
          "base_uri": "https://localhost:8080/"
        },
        "id": "jVqmNvjLRgYb",
        "outputId": "e8a65ced-27dc-4de5-913b-b4adba5eeb80"
      },
      "source": [
        "for i, (input_idx, target_idx) in enumerate(zip(input_example[:10], target_example[:10])):\n",
        "  print('step {:2d}'.format(i+1))\n",
        "  print('input: {} ({:s})'.format(input_idx, repr(tokenizer.sequences_to_texts([[input_idx.numpy()]])[0])))\n",
        "  print('expected output: {} ({:s})'.format(target_idx, repr(tokenizer.sequences_to_texts([[target_idx.numpy()]])[0])))\n"
      ],
      "execution_count": 81,
      "outputs": [
        {
          "output_type": "stream",
          "text": [
            "step  1\n",
            "input: 49 ('📗')\n",
            "expected output: 1 (' ')\n",
            "step  2\n",
            "input: 1 (' ')\n",
            "expected output: 31 ('S')\n",
            "step  3\n",
            "input: 31 ('S')\n",
            "expected output: 10 ('l')\n",
            "step  4\n",
            "input: 10 ('l')\n",
            "expected output: 5 ('o')\n",
            "step  5\n",
            "input: 5 ('o')\n",
            "expected output: 24 ('w')\n",
            "step  6\n",
            "input: 24 ('w')\n",
            "expected output: 1 (' ')\n",
            "step  7\n",
            "input: 1 (' ')\n",
            "expected output: 35 ('C')\n",
            "step  8\n",
            "input: 35 ('C')\n",
            "expected output: 5 ('o')\n",
            "step  9\n",
            "input: 5 ('o')\n",
            "expected output: 5 ('o')\n",
            "step 10\n",
            "input: 5 ('o')\n",
            "expected output: 25 ('k')\n"
          ],
          "name": "stdout"
        }
      ]
    },
    {
      "cell_type": "code",
      "metadata": {
        "id": "bi1pKLOIRgbG"
      },
      "source": [
        "BATCH_SIZE = 64"
      ],
      "execution_count": 82,
      "outputs": []
    },
    {
      "cell_type": "code",
      "metadata": {
        "id": "FaRkwRFLRZgL"
      },
      "source": [
        "dataset_train = dataset_targeted \\\n",
        "  .shuffle(1000) \\\n",
        "  .batch(BATCH_SIZE, drop_remainder=True) \\\n",
        "  .repeat()"
      ],
      "execution_count": 83,
      "outputs": []
    },
    {
      "cell_type": "code",
      "metadata": {
        "colab": {
          "base_uri": "https://localhost:8080/"
        },
        "id": "_tQjaF74TQgj",
        "outputId": "d66ac0b6-f1be-498a-847b-476a8d6b1997"
      },
      "source": [
        "dataset_train"
      ],
      "execution_count": 84,
      "outputs": [
        {
          "output_type": "execute_result",
          "data": {
            "text/plain": [
              "<RepeatDataset shapes: ((64, 3000), (64, 3000)), types: (tf.int32, tf.int32)>"
            ]
          },
          "metadata": {
            "tags": []
          },
          "execution_count": 84
        }
      ]
    },
    {
      "cell_type": "code",
      "metadata": {
        "id": "5oGJfOjbTSQC"
      },
      "source": [
        "# 임베딩, LSTM\n",
        "model = tf.keras.models.Sequential([\n",
        "  tf.keras.layers.Embedding(input_dim=VOCAB_SIZE, output_dim=256, batch_input_shape=[BATCH_SIZE, None]),\n",
        "  tf.keras.layers.LSTM(units=1024, return_sequences=True, stateful=True),\n",
        "  tf.keras.layers.Dense(VOCAB_SIZE)\n",
        "])"
      ],
      "execution_count": 85,
      "outputs": []
    },
    {
      "cell_type": "code",
      "metadata": {
        "colab": {
          "base_uri": "https://localhost:8080/"
        },
        "id": "TWESSU7yWmly",
        "outputId": "fdf07a5e-bed1-4b01-b47e-5d07a19a9f5f"
      },
      "source": [
        "model.summary()"
      ],
      "execution_count": 86,
      "outputs": [
        {
          "output_type": "stream",
          "text": [
            "Model: \"sequential\"\n",
            "_________________________________________________________________\n",
            "Layer (type)                 Output Shape              Param #   \n",
            "=================================================================\n",
            "embedding (Embedding)        (64, None, 256)           48640     \n",
            "_________________________________________________________________\n",
            "lstm (LSTM)                  (64, None, 1024)          5246976   \n",
            "_________________________________________________________________\n",
            "dense (Dense)                (64, None, 190)           194750    \n",
            "=================================================================\n",
            "Total params: 5,490,366\n",
            "Trainable params: 5,490,366\n",
            "Non-trainable params: 0\n",
            "_________________________________________________________________\n"
          ],
          "name": "stdout"
        }
      ]
    },
    {
      "cell_type": "code",
      "metadata": {
        "id": "-fZo2cSOWs8A"
      },
      "source": [
        "model.compile(optimizer='adam', loss='sparse_categorical_entropy')"
      ],
      "execution_count": 88,
      "outputs": []
    },
    {
      "cell_type": "code",
      "metadata": {
        "id": "VxCVqv62XEjv"
      },
      "source": [
        "def download_latest_checkpoint(zip_only=True):\n",
        "    latest_checkpoint_path = tf.train.latest_checkpoint(checkpoint_dir)\n",
        "    latest_checkpoint_name = os.path.split(latest_checkpoint_path)[-1]\n",
        "    latest_checkpoint_zip_name = latest_checkpoint_name + '.zip'\n",
        "    \n",
        "    print('latest_checkpoint_path: ', latest_checkpoint_path)\n",
        "    print('latest_checkpoint_name: ', latest_checkpoint_name)\n",
        "    print('---\\n')\n",
        "\n",
        "    print('Checkpoint files:')\n",
        "    with zipfile.ZipFile(latest_checkpoint_zip_name, mode='w') as zip_obj:\n",
        "        for folder_name, subfolders, filenames in os.walk(checkpoint_dir):\n",
        "            for filename in filenames:\n",
        "                if filename.startswith(latest_checkpoint_name):\n",
        "                        print('  - ' + filename)\n",
        "                        file_path = os.path.join(folder_name, filename)\n",
        "                        zip_obj.write(file_path, os.path.basename(file_path))\n",
        "    print('---\\n')\n",
        "    print('Zipped to: ', latest_checkpoint_zip_name)\n",
        "\n",
        "    if not zip_only:\n",
        "        files.download(latest_checkpoint_zip_name)"
      ],
      "execution_count": 89,
      "outputs": []
    },
    {
      "cell_type": "code",
      "metadata": {
        "id": "geG42xetXckr"
      },
      "source": [
        "def model_weights_from_latest_checkpoint(model):\n",
        "    latest_checkpoint_path = tf.train.latest_checkpoint(checkpoint_dir)\n",
        "\n",
        "    if not latest_checkpoint_path:\n",
        "        print('Latest checkpoint was not found. Using model as is.')\n",
        "        return model\n",
        "\n",
        "    print('latest_checkpoint_path: ', latest_checkpoint_path)\n",
        "\n",
        "    model.load_weights(latest_checkpoint_path)\n",
        "\n",
        "    return model"
      ],
      "execution_count": 90,
      "outputs": []
    },
    {
      "cell_type": "code",
      "metadata": {
        "id": "93AK71MOXc0X"
      },
      "source": [
        "def initial_epoch_from_latest_checkpoint():\n",
        "    latest_checkpoint_path = tf.train.latest_checkpoint(checkpoint_dir)\n",
        "\n",
        "    if not latest_checkpoint_path:\n",
        "        print('Latest checkpoint was not found. Starting from epoch #0')\n",
        "        return 0\n",
        "\n",
        "    print('latest_checkpoint_path: ', latest_checkpoint_path)\n",
        "\n",
        "    latest_checkpoint_name = os.path.split(latest_checkpoint_path)[-1]\n",
        "    print('latest_checkpoint_name: ', latest_checkpoint_name)\n",
        "\n",
        "    latest_checkpoint_num = latest_checkpoint_name.split('_')[-1]\n",
        "    print('latest_checkpoint_num: ', latest_checkpoint_num)\n",
        "\n",
        "    return int(latest_checkpoint_num)"
      ],
      "execution_count": 91,
      "outputs": []
    },
    {
      "cell_type": "code",
      "metadata": {
        "id": "egS-uhF-XfVy"
      },
      "source": [
        "def unzip_checkpoint(checkpoint_zip_path):\n",
        "    if not os.path.exists(checkpoint_zip_path):\n",
        "        print('Cannot find a specified file')\n",
        "        return\n",
        "\n",
        "    os.makedirs(checkpoint_dir, exist_ok=True)\n",
        "    with zipfile.ZipFile(checkpoint_zip_path, 'r') as zip_obj:\n",
        "        zip_obj.extractall(checkpoint_dir)\n",
        "\n",
        "    %ls -la ./tmp/checkpoints"
      ],
      "execution_count": 92,
      "outputs": []
    },
    {
      "cell_type": "code",
      "metadata": {
        "id": "H0x9uDbPXh5x"
      },
      "source": [
        ""
      ],
      "execution_count": null,
      "outputs": []
    }
  ]
}