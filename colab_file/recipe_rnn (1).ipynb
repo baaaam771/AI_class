{
  "nbformat": 4,
  "nbformat_minor": 0,
  "metadata": {
    "colab": {
      "name": "recipe-rnn.ipynb",
      "provenance": []
    },
    "kernelspec": {
      "name": "python3",
      "display_name": "Python 3"
    }
  },
  "cells": [
    {
      "cell_type": "code",
      "metadata": {
        "id": "t_As5K6jAmo1"
      },
      "source": [
        "import tensorflow as tf\n",
        "import matplotlib.pyplot as plt\n",
        "import numpy as np\n",
        "import platform\n",
        "import time\n",
        "import pathlib\n",
        "import os\n",
        "import json\n",
        "import zipfile"
      ],
      "execution_count": 1,
      "outputs": []
    },
    {
      "cell_type": "code",
      "metadata": {
        "id": "WOUwFQz1BEaC"
      },
      "source": [
        "cache_dir = './tmp'\n",
        "pathlib.Path(cache_dir).mkdir(exist_ok=True)"
      ],
      "execution_count": 3,
      "outputs": []
    },
    {
      "cell_type": "code",
      "metadata": {
        "id": "R1CZjBYYBSjm"
      },
      "source": [
        "dataset_file_name = 'recipes_raw.zip'\n",
        "dataset_file_origin = 'https://storage.googleapis.com/recipe-box/recipes_raw.zip'"
      ],
      "execution_count": 8,
      "outputs": []
    },
    {
      "cell_type": "code",
      "metadata": {
        "colab": {
          "base_uri": "https://localhost:8080/"
        },
        "id": "uzAgTt0JBfUH",
        "outputId": "ab050b1d-ba8c-4819-c1c5-8dfdc9385d5d"
      },
      "source": [
        "dataset_file_path = tf.keras.utils.get_file(\n",
        "    fname=dataset_file_name,\n",
        "    origin=dataset_file_origin,\n",
        "    cache_dir=cache_dir,\n",
        "    extract=True,\n",
        "    archive_format='zip'\n",
        ")"
      ],
      "execution_count": 9,
      "outputs": [
        {
          "output_type": "stream",
          "text": [
            "Downloading data from https://storage.googleapis.com/recipe-box/recipes_raw.zip\n",
            "53362688/53355492 [==============================] - 0s 0us/step\n"
          ],
          "name": "stdout"
        }
      ]
    },
    {
      "cell_type": "code",
      "metadata": {
        "colab": {
          "base_uri": "https://localhost:8080/"
        },
        "id": "iP8xEfzgBrNm",
        "outputId": "2c725a8f-280c-4f8b-aa88-6e1257e4bfbb"
      },
      "source": [
        "!ls -la ./tmp/datasets/"
      ],
      "execution_count": 10,
      "outputs": [
        {
          "output_type": "stream",
          "text": [
            "total 251968\n",
            "drwxr-xr-x 2 root root     4096 Nov 26 10:09 .\n",
            "drwxr-xr-x 3 root root     4096 Nov 26 10:08 ..\n",
            "-rw-r--r-- 1 root root    20437 Nov 26 10:09 LICENSE\n",
            "-rw-r--r-- 1 root root 49784325 Nov 26 10:08 recipes_raw_nosource_ar.json\n",
            "-rw-r--r-- 1 root root 61133971 Nov 26 10:08 recipes_raw_nosource_epi.json\n",
            "-rw-r--r-- 1 root root 93702755 Nov 26 10:09 recipes_raw_nosource_fn.json\n",
            "-rw-r--r-- 1 root root 53355492 Nov 26 10:08 recipes_raw.zip\n"
          ],
          "name": "stdout"
        }
      ]
    },
    {
      "cell_type": "code",
      "metadata": {
        "id": "Vui9J0FiCXgc"
      },
      "source": [
        "def load_dataset(silent=False):\n",
        "  dataset_file_names = [\n",
        "      'recipes_raw_nosource_ar.json',\n",
        "      'recipes_raw_nosource_epi.json',\n",
        "      'recipes_raw_nosource_fn.json'\n",
        "  ]\n",
        "\n",
        "  dataset = []\n",
        "\n",
        "  for file_name in dataset_file_names:\n",
        "    file_path = f'{cache_dir}/datasets/{file_name}'\n",
        "\n",
        "    with open(file_path) as dataset_file:\n",
        "      json_data_dict = json.load(dataset_file)\n",
        "      json_data_list = list(json_data_dict.values())   \n",
        "      dict_keys = [key for key in json_data_list[0]]\n",
        "      dict_keys.sort()\n",
        "\n",
        "      dataset += json_data_list\n",
        "\n",
        "  return dataset   \n"
      ],
      "execution_count": 12,
      "outputs": []
    },
    {
      "cell_type": "code",
      "metadata": {
        "id": "mmKAU6ksDDwr"
      },
      "source": [
        "dataset_raw = load_dataset()"
      ],
      "execution_count": 13,
      "outputs": []
    },
    {
      "cell_type": "code",
      "metadata": {
        "colab": {
          "base_uri": "https://localhost:8080/"
        },
        "id": "tdrX3GiODh_X",
        "outputId": "13b7cf33-66ae-472b-d3b0-85d8ed8cbb59"
      },
      "source": [
        "dataset_raw[0]"
      ],
      "execution_count": 14,
      "outputs": [
        {
          "output_type": "execute_result",
          "data": {
            "text/plain": [
              "{'ingredients': ['4 skinless, boneless chicken breast halves ADVERTISEMENT',\n",
              "  '2 tablespoons butter ADVERTISEMENT',\n",
              "  '2 (10.75 ounce) cans condensed cream of chicken soup ADVERTISEMENT',\n",
              "  '1 onion, finely diced ADVERTISEMENT',\n",
              "  '2 (10 ounce) packages refrigerated biscuit dough, torn into pieces ADVERTISEMENT',\n",
              "  'ADVERTISEMENT'],\n",
              " 'instructions': 'Place the chicken, butter, soup, and onion in a slow cooker, and fill with enough water to cover.\\nCover, and cook for 5 to 6 hours on High. About 30 minutes before serving, place the torn biscuit dough in the slow cooker. Cook until the dough is no longer raw in the center.\\n',\n",
              " 'picture_link': '55lznCYBbs2mT8BTx6BTkLhynGHzM.S',\n",
              " 'title': 'Slow Cooker Chicken and Dumplings'}"
            ]
          },
          "metadata": {
            "tags": []
          },
          "execution_count": 14
        }
      ]
    },
    {
      "cell_type": "code",
      "metadata": {
        "colab": {
          "base_uri": "https://localhost:8080/"
        },
        "id": "d_VhD3nODmaJ",
        "outputId": "9bf2183e-104d-4baf-9f3b-0597929ec173"
      },
      "source": [
        "len(dataset_raw)"
      ],
      "execution_count": 15,
      "outputs": [
        {
          "output_type": "execute_result",
          "data": {
            "text/plain": [
              "125164"
            ]
          },
          "metadata": {
            "tags": []
          },
          "execution_count": 15
        }
      ]
    },
    {
      "cell_type": "code",
      "metadata": {
        "id": "DFjURf6nDtRW"
      },
      "source": [
        "def recipe_validate_required_fields(recipe):\n",
        "  required_keys = ['title', 'ingredients', 'instructions']\n",
        "\n",
        "  if not recipe:\n",
        "    return False\n",
        "\n",
        "  for required_key in required_keys:\n",
        "    if not recipe[required_key]:\n",
        "      return False\n",
        "\n",
        "    if type(recipe[required_key]) == list and len(recipe[required_key]) == 0:\n",
        "      return False\n",
        "      \n",
        "  return True"
      ],
      "execution_count": 24,
      "outputs": []
    },
    {
      "cell_type": "code",
      "metadata": {
        "id": "i2PhMq0gEdOF"
      },
      "source": [
        "valid_datasets = [recipe for recipe in dataset_raw if recipe_validate_required_fields(recipe)]"
      ],
      "execution_count": 29,
      "outputs": []
    },
    {
      "cell_type": "code",
      "metadata": {
        "colab": {
          "base_uri": "https://localhost:8080/"
        },
        "id": "Bewfy9IxEl4g",
        "outputId": "4525ce60-f136-4a74-a3a8-37cc17a36f72"
      },
      "source": [
        "len(valid_datasets)"
      ],
      "execution_count": 31,
      "outputs": [
        {
          "output_type": "execute_result",
          "data": {
            "text/plain": [
              "122938"
            ]
          },
          "metadata": {
            "tags": []
          },
          "execution_count": 31
        }
      ]
    },
    {
      "cell_type": "code",
      "metadata": {
        "id": "tXbOgKMqEzbz"
      },
      "source": [
        "STOP_WORD_TITLE = '📗 '\n",
        "STOP_WORD_INGREDIENTS = '\\n🥕\\n\\n'\n",
        "STOP_WORD_INSTRUCTIONS = '\\n📝\\n\\n'"
      ],
      "execution_count": 32,
      "outputs": []
    },
    {
      "cell_type": "code",
      "metadata": {
        "id": "W8cgrW9kFda0"
      },
      "source": [
        "def recipe_to_str(recipe):\n",
        "  noize_string = 'ADVERTISEMENT'\n",
        "\n",
        "  title = recipe['title']\n",
        "  ingredients = recipe['ingredients']\n",
        "  instructions = recipe['instructions'].split('\\n')\n",
        "\n",
        "  ingredients_str = ''\n",
        "\n",
        "  for ing in ingredients:\n",
        "    ing = ing.replace(noize_string, '')\n",
        "    if ing:\n",
        "      ingredients_str += f'* {ing}\\n'\n",
        "\n",
        "  instructions_str = ''\n",
        "\n",
        "  for inst in instructions:\n",
        "    inst = inst.replace(noize_string, '')\n",
        "    if inst:\n",
        "      instructions_str += f'*{instrcution}\\n'\n",
        "\n",
        "\n",
        "  return f'{STOP_WORD_TITLE}{title}\\n{STOP_WORD_INGREDIENTS}{ingredients_str}{STOP_WORD_INSTRUCTIONS}{instructions_str}'\n",
        "\n"
      ],
      "execution_count": 33,
      "outputs": []
    },
    {
      "cell_type": "code",
      "metadata": {
        "id": "SghSep4GGflY"
      },
      "source": [
        ""
      ],
      "execution_count": null,
      "outputs": []
    }
  ]
}