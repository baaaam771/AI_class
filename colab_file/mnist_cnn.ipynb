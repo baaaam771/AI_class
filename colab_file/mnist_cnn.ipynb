{
  "nbformat": 4,
  "nbformat_minor": 0,
  "metadata": {
    "colab": {
      "name": "mnist-cnn.ipynb",
      "provenance": []
    },
    "kernelspec": {
      "name": "python3",
      "display_name": "Python 3"
    },
    "accelerator": "GPU"
  },
  "cells": [
    {
      "cell_type": "code",
      "metadata": {
        "id": "Yg5_vwwM73I3"
      },
      "source": [
        "from tensorflow.keras.datasets import mnist"
      ],
      "execution_count": null,
      "outputs": []
    },
    {
      "cell_type": "code",
      "metadata": {
        "id": "7XxABHfX8IQ7"
      },
      "source": [
        "(train_image, train_label), (test_image, test_label) = mnist.load_data()"
      ],
      "execution_count": null,
      "outputs": []
    },
    {
      "cell_type": "code",
      "metadata": {
        "id": "aS-wJFi38Vnq"
      },
      "source": [
        "train_label[0]"
      ],
      "execution_count": null,
      "outputs": []
    },
    {
      "cell_type": "code",
      "metadata": {
        "id": "8fNDv3Xi8nJR"
      },
      "source": [
        "import matplotlib.pyplot as plt"
      ],
      "execution_count": null,
      "outputs": []
    },
    {
      "cell_type": "code",
      "metadata": {
        "id": "l_rci2Wm8qDz"
      },
      "source": [
        "plt.figure()\n",
        "plt.imshow(train_image[0])\n",
        "plt.colorbar()\n",
        "plt.grid(False)"
      ],
      "execution_count": null,
      "outputs": []
    },
    {
      "cell_type": "code",
      "metadata": {
        "id": "32Mcy9tp8xpw"
      },
      "source": [
        "train_image.shape, test_image.shape"
      ],
      "execution_count": null,
      "outputs": []
    },
    {
      "cell_type": "code",
      "metadata": {
        "id": "zgGGVF-i849z"
      },
      "source": [
        "train_image = train_image.reshape((60000, 28, 28, 1))\n",
        "train_image = train_image.astype('float32') / 255"
      ],
      "execution_count": null,
      "outputs": []
    },
    {
      "cell_type": "code",
      "metadata": {
        "id": "2MGnu_T49PvH"
      },
      "source": [
        "test_image = test_image.reshape((10000, 28, 28, 1))\n",
        "test_image = test_image.astype('float32') / 255"
      ],
      "execution_count": null,
      "outputs": []
    },
    {
      "cell_type": "code",
      "metadata": {
        "id": "1X0xu7fw9XG3"
      },
      "source": [
        "from tensorflow.keras.utils import to_categorical"
      ],
      "execution_count": null,
      "outputs": []
    },
    {
      "cell_type": "code",
      "metadata": {
        "id": "a929P2H59qgo"
      },
      "source": [
        "test_label = to_categorical(test_label)\n",
        "train_label = to_categorical(train_label)"
      ],
      "execution_count": null,
      "outputs": []
    },
    {
      "cell_type": "code",
      "metadata": {
        "id": "s4Wg33wA93gJ"
      },
      "source": [
        "train_label[0]"
      ],
      "execution_count": null,
      "outputs": []
    },
    {
      "cell_type": "code",
      "metadata": {
        "id": "NhK0V2Cl95HD"
      },
      "source": [
        "from tensorflow.keras import layers, models, regularizers"
      ],
      "execution_count": null,
      "outputs": []
    },
    {
      "cell_type": "code",
      "metadata": {
        "id": "ye8CyHjP-H-h"
      },
      "source": [
        "cnn = models.Sequential([\n",
        "  # feature extraction layer\n",
        "  layers.Conv2D(filters=32, kernel_size=(3, 3), input_shape=(28, 28, 1), activation='relu'),\n",
        "  layers.Conv2D(filters=32, kernel_size=(3, 3), activation='relu'),\n",
        "  layers.MaxPool2D(pool_size=2),\n",
        "  layers.Conv2D(filters=64, kernel_size=(3, 3), activation='relu'),\n",
        "  layers.Conv2D(filters=64, kernel_size=(3, 3), activation='relu'),\n",
        "  layers.MaxPool2D(pool_size=2),\n",
        "  layers.Flatten(),\n",
        "  # classifer layer\n",
        "  layers.Dense(512, activation='relu', kernel_regularizer=regularizers.l2(0.001)),\n",
        "  layers.Dropout(0.4),\n",
        "  layers.Dense(10, activation='softmax')\n",
        "])"
      ],
      "execution_count": 35,
      "outputs": []
    },
    {
      "cell_type": "code",
      "metadata": {
        "id": "JPN2Wuxy_DXG",
        "outputId": "0ebddb5f-71b8-4eae-ef3b-3933c93f8359",
        "colab": {
          "base_uri": "https://localhost:8080/"
        }
      },
      "source": [
        "cnn.summary()"
      ],
      "execution_count": 36,
      "outputs": [
        {
          "output_type": "stream",
          "text": [
            "Model: \"sequential_1\"\n",
            "_________________________________________________________________\n",
            "Layer (type)                 Output Shape              Param #   \n",
            "=================================================================\n",
            "conv2d_8 (Conv2D)            (None, 26, 26, 32)        320       \n",
            "_________________________________________________________________\n",
            "conv2d_9 (Conv2D)            (None, 24, 24, 32)        9248      \n",
            "_________________________________________________________________\n",
            "max_pooling2d_4 (MaxPooling2 (None, 12, 12, 32)        0         \n",
            "_________________________________________________________________\n",
            "conv2d_10 (Conv2D)           (None, 10, 10, 64)        18496     \n",
            "_________________________________________________________________\n",
            "conv2d_11 (Conv2D)           (None, 8, 8, 64)          36928     \n",
            "_________________________________________________________________\n",
            "max_pooling2d_5 (MaxPooling2 (None, 4, 4, 64)          0         \n",
            "_________________________________________________________________\n",
            "flatten_2 (Flatten)          (None, 1024)              0         \n",
            "_________________________________________________________________\n",
            "dense_2 (Dense)              (None, 512)               524800    \n",
            "_________________________________________________________________\n",
            "dropout (Dropout)            (None, 512)               0         \n",
            "_________________________________________________________________\n",
            "dense_3 (Dense)              (None, 10)                5130      \n",
            "=================================================================\n",
            "Total params: 594,922\n",
            "Trainable params: 594,922\n",
            "Non-trainable params: 0\n",
            "_________________________________________________________________\n"
          ],
          "name": "stdout"
        }
      ]
    },
    {
      "cell_type": "code",
      "metadata": {
        "id": "EWGW_x3I_KE-"
      },
      "source": [
        "cnn.compile(optimizer='rmsprop', loss='categorical_crossentropy', metrics=['accuracy'])"
      ],
      "execution_count": 37,
      "outputs": []
    },
    {
      "cell_type": "code",
      "metadata": {
        "id": "kHhsBXPV_jx4",
        "outputId": "0db7ec68-90ed-4e51-f802-f9f194462566",
        "colab": {
          "base_uri": "https://localhost:8080/"
        }
      },
      "source": [
        "history = cnn.fit(train_image, train_label, epochs=10, batch_size=64, validation_split=0.2)"
      ],
      "execution_count": 38,
      "outputs": [
        {
          "output_type": "stream",
          "text": [
            "Epoch 1/10\n",
            "750/750 [==============================] - 6s 8ms/step - loss: 0.3195 - accuracy: 0.9473 - val_loss: 0.1045 - val_accuracy: 0.9837\n",
            "Epoch 2/10\n",
            "750/750 [==============================] - 6s 8ms/step - loss: 0.1060 - accuracy: 0.9808 - val_loss: 0.1064 - val_accuracy: 0.9798\n",
            "Epoch 3/10\n",
            "750/750 [==============================] - 6s 8ms/step - loss: 0.0837 - accuracy: 0.9836 - val_loss: 0.0772 - val_accuracy: 0.9864\n",
            "Epoch 4/10\n",
            "750/750 [==============================] - 6s 8ms/step - loss: 0.0728 - accuracy: 0.9861 - val_loss: 0.0686 - val_accuracy: 0.9872\n",
            "Epoch 5/10\n",
            "750/750 [==============================] - 6s 8ms/step - loss: 0.0643 - accuracy: 0.9878 - val_loss: 0.0654 - val_accuracy: 0.9862\n",
            "Epoch 6/10\n",
            "750/750 [==============================] - 6s 8ms/step - loss: 0.0602 - accuracy: 0.9885 - val_loss: 0.0664 - val_accuracy: 0.9869\n",
            "Epoch 7/10\n",
            "750/750 [==============================] - 6s 8ms/step - loss: 0.0573 - accuracy: 0.9886 - val_loss: 0.0567 - val_accuracy: 0.9897\n",
            "Epoch 8/10\n",
            "750/750 [==============================] - 6s 8ms/step - loss: 0.0529 - accuracy: 0.9895 - val_loss: 0.0561 - val_accuracy: 0.9898\n",
            "Epoch 9/10\n",
            "750/750 [==============================] - 6s 8ms/step - loss: 0.0515 - accuracy: 0.9902 - val_loss: 0.0556 - val_accuracy: 0.9899\n",
            "Epoch 10/10\n",
            "750/750 [==============================] - 6s 8ms/step - loss: 0.0478 - accuracy: 0.9911 - val_loss: 0.0631 - val_accuracy: 0.9887\n"
          ],
          "name": "stdout"
        }
      ]
    },
    {
      "cell_type": "code",
      "metadata": {
        "id": "4q_hGuh__9fg"
      },
      "source": [
        "acc = history.history['accuracy']\n",
        "val_acc = history.history['val_accuracy']\n",
        "\n",
        "loss = history.history['loss']\n",
        "val_loss = history.history['val_loss']\n",
        "\n",
        "epochs = range(len(acc))"
      ],
      "execution_count": 39,
      "outputs": []
    },
    {
      "cell_type": "code",
      "metadata": {
        "id": "k-KzZkBuAuqM",
        "outputId": "320514ab-d0e9-420f-f0c1-aaeca6e7391c",
        "colab": {
          "base_uri": "https://localhost:8080/",
          "height": 281
        }
      },
      "source": [
        "plt.plot(epochs, acc, 'b')\n",
        "plt.plot(epochs, val_acc, 'r')\n"
      ],
      "execution_count": 40,
      "outputs": [
        {
          "output_type": "execute_result",
          "data": {
            "text/plain": [
              "[<matplotlib.lines.Line2D at 0x7fe88189f9b0>]"
            ]
          },
          "metadata": {
            "tags": []
          },
          "execution_count": 40
        },
        {
          "output_type": "display_data",
          "data": {
            "image/png": "[encoded data removed]",
            "text/plain": [
              "<Figure size 432x288 with 1 Axes>"
            ]
          },
          "metadata": {
            "tags": [],
            "needs_background": "light"
          }
        }
      ]
    },
    {
      "cell_type": "code",
      "metadata": {
        "id": "k9qr4TV5A3VC",
        "outputId": "d3d30d01-88ee-40c2-e84d-b6d7c0973129",
        "colab": {
          "base_uri": "https://localhost:8080/",
          "height": 281
        }
      },
      "source": [
        "plt.plot(epochs, loss, 'b')\n",
        "plt.plot(epochs, val_loss, 'r')"
      ],
      "execution_count": 41,
      "outputs": [
        {
          "output_type": "execute_result",
          "data": {
            "text/plain": [
              "[<matplotlib.lines.Line2D at 0x7fe88001ff28>]"
            ]
          },
          "metadata": {
            "tags": []
          },
          "execution_count": 41
        },
        {
          "output_type": "display_data",
          "data": {
            "image/png": "[encoded data removed]",
            "text/plain": [
              "<Figure size 432x288 with 1 Axes>"
            ]
          },
          "metadata": {
            "tags": [],
            "needs_background": "light"
          }
        }
      ]
    },
    {
      "cell_type": "code",
      "metadata": {
        "id": "bFOzAKtaA_K0",
        "outputId": "081955f7-46c5-44a0-ad85-c42e35eaf7f6",
        "colab": {
          "base_uri": "https://localhost:8080/"
        }
      },
      "source": [
        "cnn.evaluate(test_image, test_label)"
      ],
      "execution_count": 42,
      "outputs": [
        {
          "output_type": "stream",
          "text": [
            "313/313 [==============================] - 1s 4ms/step - loss: 0.0531 - accuracy: 0.9900\n"
          ],
          "name": "stdout"
        },
        {
          "output_type": "execute_result",
          "data": {
            "text/plain": [
              "[0.05314939096570015, 0.9900000095367432]"
            ]
          },
          "metadata": {
            "tags": []
          },
          "execution_count": 42
        }
      ]
    },
    {
      "cell_type": "code",
      "metadata": {
        "id": "U755s88YET5q"
      },
      "source": [
        ""
      ],
      "execution_count": null,
      "outputs": []
    }
  ]
}