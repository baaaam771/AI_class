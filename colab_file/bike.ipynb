{
  "nbformat": 4,
  "nbformat_minor": 0,
  "metadata": {
    "colab": {
      "name": "bike.ipynb",
      "provenance": []
    },
    "kernelspec": {
      "name": "python3",
      "display_name": "Python 3"
    }
  },
  "cells": [
    {
      "cell_type": "code",
      "metadata": {
        "id": "rWcuYDaDIm3T"
      },
      "source": [
        "import matplotlib.pyplot as plt\n",
        "import pandas as pd\n",
        "import tensorflow as tf\n",
        "from tensorflow.keras import layers, models"
      ],
      "execution_count": 1,
      "outputs": []
    },
    {
      "cell_type": "code",
      "metadata": {
        "id": "G_tSBEI5I2jm",
        "outputId": "4dd553cc-bdd8-4e25-d782-72b655e00b67",
        "colab": {
          "base_uri": "https://localhost:8080/"
        }
      },
      "source": [
        "auto_mpg_dataset_url = \"https://drive.google.com/uc?export=download&id=1WhSZll5tDUUl3sFLJMIO01a0d2tQtfc7\"\n",
        "dataset_path = tf.keras.utils.get_file(\"/content/bike-demand.csv\", auto_mpg_dataset_url)"
      ],
      "execution_count": 2,
      "outputs": [
        {
          "output_type": "stream",
          "text": [
            "Downloading data from https://drive.google.com/uc?export=download&id=1WhSZll5tDUUl3sFLJMIO01a0d2tQtfc7\n",
            "655360/648353 [==============================] - 0s 0us/step\n"
          ],
          "name": "stdout"
        }
      ]
    },
    {
      "cell_type": "code",
      "metadata": {
        "id": "K0iz_ZpEI6gY"
      },
      "source": [
        "raw_dataset = pd.read_csv('/content/bike-demand.csv')"
      ],
      "execution_count": 3,
      "outputs": []
    },
    {
      "cell_type": "code",
      "metadata": {
        "id": "Sv-MlR-CJWJu"
      },
      "source": [
        "dataset = raw_dataset.copy()"
      ],
      "execution_count": 4,
      "outputs": []
    },
    {
      "cell_type": "code",
      "metadata": {
        "id": "M63rw6qdJYmS",
        "outputId": "eba7b6f6-13db-4735-db4d-d6506fcc585d",
        "colab": {
          "base_uri": "https://localhost:8080/"
        }
      },
      "source": [
        "dataset.info()"
      ],
      "execution_count": 5,
      "outputs": [
        {
          "output_type": "stream",
          "text": [
            "<class 'pandas.core.frame.DataFrame'>\n",
            "RangeIndex: 10886 entries, 0 to 10885\n",
            "Data columns (total 12 columns):\n",
            " #   Column      Non-Null Count  Dtype  \n",
            "---  ------      --------------  -----  \n",
            " 0   datetime    10886 non-null  object \n",
            " 1   season      10886 non-null  int64  \n",
            " 2   holiday     10886 non-null  int64  \n",
            " 3   workingday  10886 non-null  int64  \n",
            " 4   weather     10886 non-null  int64  \n",
            " 5   temp        10886 non-null  float64\n",
            " 6   atemp       10886 non-null  float64\n",
            " 7   humidity    10886 non-null  int64  \n",
            " 8   windspeed   10886 non-null  float64\n",
            " 9   casual      10886 non-null  int64  \n",
            " 10  registered  10886 non-null  int64  \n",
            " 11  count       10886 non-null  int64  \n",
            "dtypes: float64(3), int64(8), object(1)\n",
            "memory usage: 1020.7+ KB\n"
          ],
          "name": "stdout"
        }
      ]
    },
    {
      "cell_type": "code",
      "metadata": {
        "id": "zmt7ui_MJb-i"
      },
      "source": [
        "drop_columns = ['datetime', 'casual', 'registered']\n",
        "dataset.drop(drop_columns, axis=1, inplace=True)"
      ],
      "execution_count": 6,
      "outputs": []
    },
    {
      "cell_type": "code",
      "metadata": {
        "id": "oKfl91l2KOhq",
        "outputId": "15f3ed73-40cd-47c6-f42c-6eef8a76ef69",
        "colab": {
          "base_uri": "https://localhost:8080/"
        }
      },
      "source": [
        "dataset.info()"
      ],
      "execution_count": 7,
      "outputs": [
        {
          "output_type": "stream",
          "text": [
            "<class 'pandas.core.frame.DataFrame'>\n",
            "RangeIndex: 10886 entries, 0 to 10885\n",
            "Data columns (total 9 columns):\n",
            " #   Column      Non-Null Count  Dtype  \n",
            "---  ------      --------------  -----  \n",
            " 0   season      10886 non-null  int64  \n",
            " 1   holiday     10886 non-null  int64  \n",
            " 2   workingday  10886 non-null  int64  \n",
            " 3   weather     10886 non-null  int64  \n",
            " 4   temp        10886 non-null  float64\n",
            " 5   atemp       10886 non-null  float64\n",
            " 6   humidity    10886 non-null  int64  \n",
            " 7   windspeed   10886 non-null  float64\n",
            " 8   count       10886 non-null  int64  \n",
            "dtypes: float64(3), int64(6)\n",
            "memory usage: 765.5 KB\n"
          ],
          "name": "stdout"
        }
      ]
    },
    {
      "cell_type": "code",
      "metadata": {
        "id": "M96Y67-QKQGM"
      },
      "source": [
        "train_data = dataset.sample(frac=0.8, random_state=0)\n",
        "test_data = dataset.drop(train_data.index)"
      ],
      "execution_count": 9,
      "outputs": []
    },
    {
      "cell_type": "code",
      "metadata": {
        "id": "DZH_Wk-sKn7G",
        "outputId": "9771d055-3aaa-4c1f-dde3-9c4fe16138f0",
        "colab": {
          "base_uri": "https://localhost:8080/"
        }
      },
      "source": [
        "len(train_data), len(test_data)"
      ],
      "execution_count": 11,
      "outputs": [
        {
          "output_type": "execute_result",
          "data": {
            "text/plain": [
              "(8709, 2177)"
            ]
          },
          "metadata": {
            "tags": []
          },
          "execution_count": 11
        }
      ]
    },
    {
      "cell_type": "code",
      "metadata": {
        "id": "H4RVCubxKsX8",
        "outputId": "85f1191d-ead8-43ce-e6f0-f63bbba10006",
        "colab": {
          "base_uri": "https://localhost:8080/",
          "height": 197
        }
      },
      "source": [
        "train_data.head()"
      ],
      "execution_count": 12,
      "outputs": [
        {
          "output_type": "execute_result",
          "data": {
            "text/html": [
              "<div>\n",
              "<style scoped>\n",
              "    .dataframe tbody tr th:only-of-type {\n",
              "        vertical-align: middle;\n",
              "    }\n",
              "\n",
              "    .dataframe tbody tr th {\n",
              "        vertical-align: top;\n",
              "    }\n",
              "\n",
              "    .dataframe thead th {\n",
              "        text-align: right;\n",
              "    }\n",
              "</style>\n",
              "<table border=\"1\" class=\"dataframe\">\n",
              "  <thead>\n",
              "    <tr style=\"text-align: right;\">\n",
              "      <th></th>\n",
              "      <th>season</th>\n",
              "      <th>holiday</th>\n",
              "      <th>workingday</th>\n",
              "      <th>weather</th>\n",
              "      <th>temp</th>\n",
              "      <th>atemp</th>\n",
              "      <th>humidity</th>\n",
              "      <th>windspeed</th>\n",
              "      <th>count</th>\n",
              "    </tr>\n",
              "  </thead>\n",
              "  <tbody>\n",
              "    <tr>\n",
              "      <th>6638</th>\n",
              "      <td>1</td>\n",
              "      <td>0</td>\n",
              "      <td>1</td>\n",
              "      <td>1</td>\n",
              "      <td>23.78</td>\n",
              "      <td>27.275</td>\n",
              "      <td>56</td>\n",
              "      <td>7.0015</td>\n",
              "      <td>244</td>\n",
              "    </tr>\n",
              "    <tr>\n",
              "      <th>7975</th>\n",
              "      <td>2</td>\n",
              "      <td>0</td>\n",
              "      <td>1</td>\n",
              "      <td>2</td>\n",
              "      <td>27.06</td>\n",
              "      <td>29.545</td>\n",
              "      <td>89</td>\n",
              "      <td>19.0012</td>\n",
              "      <td>239</td>\n",
              "    </tr>\n",
              "    <tr>\n",
              "      <th>5915</th>\n",
              "      <td>1</td>\n",
              "      <td>0</td>\n",
              "      <td>1</td>\n",
              "      <td>1</td>\n",
              "      <td>18.86</td>\n",
              "      <td>22.725</td>\n",
              "      <td>55</td>\n",
              "      <td>19.0012</td>\n",
              "      <td>229</td>\n",
              "    </tr>\n",
              "    <tr>\n",
              "      <th>8050</th>\n",
              "      <td>2</td>\n",
              "      <td>0</td>\n",
              "      <td>1</td>\n",
              "      <td>1</td>\n",
              "      <td>28.70</td>\n",
              "      <td>31.820</td>\n",
              "      <td>42</td>\n",
              "      <td>11.0014</td>\n",
              "      <td>467</td>\n",
              "    </tr>\n",
              "    <tr>\n",
              "      <th>5894</th>\n",
              "      <td>1</td>\n",
              "      <td>0</td>\n",
              "      <td>1</td>\n",
              "      <td>1</td>\n",
              "      <td>22.14</td>\n",
              "      <td>25.760</td>\n",
              "      <td>52</td>\n",
              "      <td>19.0012</td>\n",
              "      <td>335</td>\n",
              "    </tr>\n",
              "  </tbody>\n",
              "</table>\n",
              "</div>"
            ],
            "text/plain": [
              "      season  holiday  workingday  weather  ...   atemp  humidity  windspeed  count\n",
              "6638       1        0           1        1  ...  27.275        56     7.0015    244\n",
              "7975       2        0           1        2  ...  29.545        89    19.0012    239\n",
              "5915       1        0           1        1  ...  22.725        55    19.0012    229\n",
              "8050       2        0           1        1  ...  31.820        42    11.0014    467\n",
              "5894       1        0           1        1  ...  25.760        52    19.0012    335\n",
              "\n",
              "[5 rows x 9 columns]"
            ]
          },
          "metadata": {
            "tags": []
          },
          "execution_count": 12
        }
      ]
    },
    {
      "cell_type": "code",
      "metadata": {
        "id": "7vTgPkfEK0Dq"
      },
      "source": [
        "norm_column = ['temp', 'atemp', 'humidity', 'windspeed']\n",
        "train_stats = train_data[norm_column].describe()"
      ],
      "execution_count": 13,
      "outputs": []
    },
    {
      "cell_type": "code",
      "metadata": {
        "id": "Q6QHfzbbLPOq",
        "outputId": "1275dc08-b25c-4c78-f2cf-278e22df20c6",
        "colab": {
          "base_uri": "https://localhost:8080/",
          "height": 287
        }
      },
      "source": [
        "train_stats"
      ],
      "execution_count": 14,
      "outputs": [
        {
          "output_type": "execute_result",
          "data": {
            "text/html": [
              "<div>\n",
              "<style scoped>\n",
              "    .dataframe tbody tr th:only-of-type {\n",
              "        vertical-align: middle;\n",
              "    }\n",
              "\n",
              "    .dataframe tbody tr th {\n",
              "        vertical-align: top;\n",
              "    }\n",
              "\n",
              "    .dataframe thead th {\n",
              "        text-align: right;\n",
              "    }\n",
              "</style>\n",
              "<table border=\"1\" class=\"dataframe\">\n",
              "  <thead>\n",
              "    <tr style=\"text-align: right;\">\n",
              "      <th></th>\n",
              "      <th>temp</th>\n",
              "      <th>atemp</th>\n",
              "      <th>humidity</th>\n",
              "      <th>windspeed</th>\n",
              "    </tr>\n",
              "  </thead>\n",
              "  <tbody>\n",
              "    <tr>\n",
              "      <th>count</th>\n",
              "      <td>8709.000000</td>\n",
              "      <td>8709.000000</td>\n",
              "      <td>8709.000000</td>\n",
              "      <td>8709.000000</td>\n",
              "    </tr>\n",
              "    <tr>\n",
              "      <th>mean</th>\n",
              "      <td>20.269978</td>\n",
              "      <td>23.698172</td>\n",
              "      <td>62.016535</td>\n",
              "      <td>12.839881</td>\n",
              "    </tr>\n",
              "    <tr>\n",
              "      <th>std</th>\n",
              "      <td>7.801503</td>\n",
              "      <td>8.493468</td>\n",
              "      <td>19.266975</td>\n",
              "      <td>8.139981</td>\n",
              "    </tr>\n",
              "    <tr>\n",
              "      <th>min</th>\n",
              "      <td>0.820000</td>\n",
              "      <td>0.760000</td>\n",
              "      <td>0.000000</td>\n",
              "      <td>0.000000</td>\n",
              "    </tr>\n",
              "    <tr>\n",
              "      <th>25%</th>\n",
              "      <td>13.940000</td>\n",
              "      <td>16.665000</td>\n",
              "      <td>47.000000</td>\n",
              "      <td>7.001500</td>\n",
              "    </tr>\n",
              "    <tr>\n",
              "      <th>50%</th>\n",
              "      <td>20.500000</td>\n",
              "      <td>24.240000</td>\n",
              "      <td>62.000000</td>\n",
              "      <td>12.998000</td>\n",
              "    </tr>\n",
              "    <tr>\n",
              "      <th>75%</th>\n",
              "      <td>26.240000</td>\n",
              "      <td>31.060000</td>\n",
              "      <td>78.000000</td>\n",
              "      <td>16.997900</td>\n",
              "    </tr>\n",
              "    <tr>\n",
              "      <th>max</th>\n",
              "      <td>41.000000</td>\n",
              "      <td>45.455000</td>\n",
              "      <td>100.000000</td>\n",
              "      <td>56.996900</td>\n",
              "    </tr>\n",
              "  </tbody>\n",
              "</table>\n",
              "</div>"
            ],
            "text/plain": [
              "              temp        atemp     humidity    windspeed\n",
              "count  8709.000000  8709.000000  8709.000000  8709.000000\n",
              "mean     20.269978    23.698172    62.016535    12.839881\n",
              "std       7.801503     8.493468    19.266975     8.139981\n",
              "min       0.820000     0.760000     0.000000     0.000000\n",
              "25%      13.940000    16.665000    47.000000     7.001500\n",
              "50%      20.500000    24.240000    62.000000    12.998000\n",
              "75%      26.240000    31.060000    78.000000    16.997900\n",
              "max      41.000000    45.455000   100.000000    56.996900"
            ]
          },
          "metadata": {
            "tags": []
          },
          "execution_count": 14
        }
      ]
    },
    {
      "cell_type": "code",
      "metadata": {
        "id": "o6jw3kOnLQkW",
        "outputId": "52876011-cc3b-4d9e-cc17-02d96beca080",
        "colab": {
          "base_uri": "https://localhost:8080/",
          "height": 167
        }
      },
      "source": [
        "train_stats = train_stats.transpose()\n",
        "train_stats"
      ],
      "execution_count": 15,
      "outputs": [
        {
          "output_type": "execute_result",
          "data": {
            "text/html": [
              "<div>\n",
              "<style scoped>\n",
              "    .dataframe tbody tr th:only-of-type {\n",
              "        vertical-align: middle;\n",
              "    }\n",
              "\n",
              "    .dataframe tbody tr th {\n",
              "        vertical-align: top;\n",
              "    }\n",
              "\n",
              "    .dataframe thead th {\n",
              "        text-align: right;\n",
              "    }\n",
              "</style>\n",
              "<table border=\"1\" class=\"dataframe\">\n",
              "  <thead>\n",
              "    <tr style=\"text-align: right;\">\n",
              "      <th></th>\n",
              "      <th>count</th>\n",
              "      <th>mean</th>\n",
              "      <th>std</th>\n",
              "      <th>min</th>\n",
              "      <th>25%</th>\n",
              "      <th>50%</th>\n",
              "      <th>75%</th>\n",
              "      <th>max</th>\n",
              "    </tr>\n",
              "  </thead>\n",
              "  <tbody>\n",
              "    <tr>\n",
              "      <th>temp</th>\n",
              "      <td>8709.0</td>\n",
              "      <td>20.269978</td>\n",
              "      <td>7.801503</td>\n",
              "      <td>0.82</td>\n",
              "      <td>13.9400</td>\n",
              "      <td>20.500</td>\n",
              "      <td>26.2400</td>\n",
              "      <td>41.0000</td>\n",
              "    </tr>\n",
              "    <tr>\n",
              "      <th>atemp</th>\n",
              "      <td>8709.0</td>\n",
              "      <td>23.698172</td>\n",
              "      <td>8.493468</td>\n",
              "      <td>0.76</td>\n",
              "      <td>16.6650</td>\n",
              "      <td>24.240</td>\n",
              "      <td>31.0600</td>\n",
              "      <td>45.4550</td>\n",
              "    </tr>\n",
              "    <tr>\n",
              "      <th>humidity</th>\n",
              "      <td>8709.0</td>\n",
              "      <td>62.016535</td>\n",
              "      <td>19.266975</td>\n",
              "      <td>0.00</td>\n",
              "      <td>47.0000</td>\n",
              "      <td>62.000</td>\n",
              "      <td>78.0000</td>\n",
              "      <td>100.0000</td>\n",
              "    </tr>\n",
              "    <tr>\n",
              "      <th>windspeed</th>\n",
              "      <td>8709.0</td>\n",
              "      <td>12.839881</td>\n",
              "      <td>8.139981</td>\n",
              "      <td>0.00</td>\n",
              "      <td>7.0015</td>\n",
              "      <td>12.998</td>\n",
              "      <td>16.9979</td>\n",
              "      <td>56.9969</td>\n",
              "    </tr>\n",
              "  </tbody>\n",
              "</table>\n",
              "</div>"
            ],
            "text/plain": [
              "            count       mean        std  ...     50%      75%       max\n",
              "temp       8709.0  20.269978   7.801503  ...  20.500  26.2400   41.0000\n",
              "atemp      8709.0  23.698172   8.493468  ...  24.240  31.0600   45.4550\n",
              "humidity   8709.0  62.016535  19.266975  ...  62.000  78.0000  100.0000\n",
              "windspeed  8709.0  12.839881   8.139981  ...  12.998  16.9979   56.9969\n",
              "\n",
              "[4 rows x 8 columns]"
            ]
          },
          "metadata": {
            "tags": []
          },
          "execution_count": 15
        }
      ]
    },
    {
      "cell_type": "code",
      "metadata": {
        "id": "UCa302wFLYt1"
      },
      "source": [
        "train_label = train_data.pop('count')\n",
        "test_label = test_data.pop('count')"
      ],
      "execution_count": 16,
      "outputs": []
    },
    {
      "cell_type": "code",
      "metadata": {
        "id": "Z1RqlIMXLtcp"
      },
      "source": [
        "def normal(x):\n",
        "  return ( x - train_stats['mean'] ) / train_stats['std']"
      ],
      "execution_count": 17,
      "outputs": []
    },
    {
      "cell_type": "code",
      "metadata": {
        "id": "xRRr7GpIL8cg"
      },
      "source": [
        "train_data[norm_column] = normal(train_data[norm_column])\n",
        "test_data[norm_column] = normal(test_data[norm_column])"
      ],
      "execution_count": 18,
      "outputs": []
    },
    {
      "cell_type": "code",
      "metadata": {
        "id": "B9cAqcG4MIh7",
        "outputId": "ca630cfc-f06d-4c03-f675-41ca7551a0a4",
        "colab": {
          "base_uri": "https://localhost:8080/",
          "height": 197
        }
      },
      "source": [
        "train_data.head()"
      ],
      "execution_count": 19,
      "outputs": [
        {
          "output_type": "execute_result",
          "data": {
            "text/html": [
              "<div>\n",
              "<style scoped>\n",
              "    .dataframe tbody tr th:only-of-type {\n",
              "        vertical-align: middle;\n",
              "    }\n",
              "\n",
              "    .dataframe tbody tr th {\n",
              "        vertical-align: top;\n",
              "    }\n",
              "\n",
              "    .dataframe thead th {\n",
              "        text-align: right;\n",
              "    }\n",
              "</style>\n",
              "<table border=\"1\" class=\"dataframe\">\n",
              "  <thead>\n",
              "    <tr style=\"text-align: right;\">\n",
              "      <th></th>\n",
              "      <th>season</th>\n",
              "      <th>holiday</th>\n",
              "      <th>workingday</th>\n",
              "      <th>weather</th>\n",
              "      <th>temp</th>\n",
              "      <th>atemp</th>\n",
              "      <th>humidity</th>\n",
              "      <th>windspeed</th>\n",
              "    </tr>\n",
              "  </thead>\n",
              "  <tbody>\n",
              "    <tr>\n",
              "      <th>6638</th>\n",
              "      <td>1</td>\n",
              "      <td>0</td>\n",
              "      <td>1</td>\n",
              "      <td>1</td>\n",
              "      <td>0.449916</td>\n",
              "      <td>0.421127</td>\n",
              "      <td>-0.312272</td>\n",
              "      <td>-0.717247</td>\n",
              "    </tr>\n",
              "    <tr>\n",
              "      <th>7975</th>\n",
              "      <td>2</td>\n",
              "      <td>0</td>\n",
              "      <td>1</td>\n",
              "      <td>2</td>\n",
              "      <td>0.870348</td>\n",
              "      <td>0.688391</td>\n",
              "      <td>1.400504</td>\n",
              "      <td>0.756921</td>\n",
              "    </tr>\n",
              "    <tr>\n",
              "      <th>5915</th>\n",
              "      <td>1</td>\n",
              "      <td>0</td>\n",
              "      <td>1</td>\n",
              "      <td>1</td>\n",
              "      <td>-0.180732</td>\n",
              "      <td>-0.114579</td>\n",
              "      <td>-0.364174</td>\n",
              "      <td>0.756921</td>\n",
              "    </tr>\n",
              "    <tr>\n",
              "      <th>8050</th>\n",
              "      <td>2</td>\n",
              "      <td>0</td>\n",
              "      <td>1</td>\n",
              "      <td>1</td>\n",
              "      <td>1.080564</td>\n",
              "      <td>0.956244</td>\n",
              "      <td>-1.038904</td>\n",
              "      <td>-0.225858</td>\n",
              "    </tr>\n",
              "    <tr>\n",
              "      <th>5894</th>\n",
              "      <td>1</td>\n",
              "      <td>0</td>\n",
              "      <td>1</td>\n",
              "      <td>1</td>\n",
              "      <td>0.239700</td>\n",
              "      <td>0.242755</td>\n",
              "      <td>-0.519881</td>\n",
              "      <td>0.756921</td>\n",
              "    </tr>\n",
              "  </tbody>\n",
              "</table>\n",
              "</div>"
            ],
            "text/plain": [
              "      season  holiday  workingday  ...     atemp  humidity  windspeed\n",
              "6638       1        0           1  ...  0.421127 -0.312272  -0.717247\n",
              "7975       2        0           1  ...  0.688391  1.400504   0.756921\n",
              "5915       1        0           1  ... -0.114579 -0.364174   0.756921\n",
              "8050       2        0           1  ...  0.956244 -1.038904  -0.225858\n",
              "5894       1        0           1  ...  0.242755 -0.519881   0.756921\n",
              "\n",
              "[5 rows x 8 columns]"
            ]
          },
          "metadata": {
            "tags": []
          },
          "execution_count": 19
        }
      ]
    },
    {
      "cell_type": "code",
      "metadata": {
        "id": "DjaJhT1VMK3-"
      },
      "source": [
        "from tensorflow.keras import models, layers"
      ],
      "execution_count": 20,
      "outputs": []
    },
    {
      "cell_type": "code",
      "metadata": {
        "id": "bG4lg8eXMXrs"
      },
      "source": [
        "model = models.Sequential([\n",
        "  layers.Dense(64, activation='relu', input_shape=(len(train_data.keys()), )),\n",
        "  layers.Dense(32, activation='relu'),\n",
        "  layers.Dense(1)\n",
        "])"
      ],
      "execution_count": 22,
      "outputs": []
    },
    {
      "cell_type": "code",
      "metadata": {
        "id": "toWfwu0tMzmh",
        "outputId": "1f665c1d-bf01-487f-ee09-e1be65759e20",
        "colab": {
          "base_uri": "https://localhost:8080/"
        }
      },
      "source": [
        "model.summary()"
      ],
      "execution_count": 23,
      "outputs": [
        {
          "output_type": "stream",
          "text": [
            "Model: \"sequential\"\n",
            "_________________________________________________________________\n",
            "Layer (type)                 Output Shape              Param #   \n",
            "=================================================================\n",
            "dense (Dense)                (None, 64)                576       \n",
            "_________________________________________________________________\n",
            "dense_1 (Dense)              (None, 32)                2080      \n",
            "_________________________________________________________________\n",
            "dense_2 (Dense)              (None, 1)                 33        \n",
            "=================================================================\n",
            "Total params: 2,689\n",
            "Trainable params: 2,689\n",
            "Non-trainable params: 0\n",
            "_________________________________________________________________\n"
          ],
          "name": "stdout"
        }
      ]
    },
    {
      "cell_type": "code",
      "metadata": {
        "id": "5Mxs4n4HM2yx"
      },
      "source": [
        "model.compile(loss='mse', optimizer='rmsprop', metrics=['mae'])"
      ],
      "execution_count": 24,
      "outputs": []
    },
    {
      "cell_type": "code",
      "metadata": {
        "id": "9lze6ZsKNO-7",
        "outputId": "14ab5f34-15a6-49c0-c146-6b6bba18701f",
        "colab": {
          "base_uri": "https://localhost:8080/"
        }
      },
      "source": [
        "history = model.fit(train_data, train_label, batch_size=16, epochs=100, validation_split=0.2)"
      ],
      "execution_count": 25,
      "outputs": [
        {
          "output_type": "stream",
          "text": [
            "Epoch 1/100\n",
            "436/436 [==============================] - 1s 2ms/step - loss: 40793.9336 - mae: 143.3221 - val_loss: 27464.8652 - val_mae: 122.8932\n",
            "Epoch 2/100\n",
            "436/436 [==============================] - 1s 1ms/step - loss: 24285.2793 - mae: 116.9887 - val_loss: 26784.1777 - val_mae: 117.7511\n",
            "Epoch 3/100\n",
            "436/436 [==============================] - 1s 1ms/step - loss: 23879.4746 - mae: 114.8718 - val_loss: 26557.6641 - val_mae: 119.8023\n",
            "Epoch 4/100\n",
            "436/436 [==============================] - 1s 1ms/step - loss: 23769.4082 - mae: 114.6934 - val_loss: 26616.6660 - val_mae: 121.1304\n",
            "Epoch 5/100\n",
            "436/436 [==============================] - 0s 1ms/step - loss: 23700.3613 - mae: 114.6962 - val_loss: 26450.9004 - val_mae: 117.9759\n",
            "Epoch 6/100\n",
            "436/436 [==============================] - 1s 1ms/step - loss: 23618.0898 - mae: 114.0753 - val_loss: 26313.4629 - val_mae: 118.0629\n",
            "Epoch 7/100\n",
            "436/436 [==============================] - 1s 1ms/step - loss: 23611.7031 - mae: 114.5374 - val_loss: 26267.8574 - val_mae: 117.9175\n",
            "Epoch 8/100\n",
            "436/436 [==============================] - 1s 1ms/step - loss: 23551.4277 - mae: 114.2627 - val_loss: 26222.9492 - val_mae: 117.9178\n",
            "Epoch 9/100\n",
            "436/436 [==============================] - 1s 1ms/step - loss: 23506.6348 - mae: 114.1553 - val_loss: 26190.7715 - val_mae: 117.6384\n",
            "Epoch 10/100\n",
            "436/436 [==============================] - 1s 1ms/step - loss: 23478.2598 - mae: 114.0568 - val_loss: 26172.1016 - val_mae: 116.7578\n",
            "Epoch 11/100\n",
            "436/436 [==============================] - 1s 1ms/step - loss: 23451.3359 - mae: 114.0353 - val_loss: 26059.6289 - val_mae: 117.0222\n",
            "Epoch 12/100\n",
            "436/436 [==============================] - 1s 1ms/step - loss: 23410.6074 - mae: 113.8953 - val_loss: 26155.1582 - val_mae: 120.4771\n",
            "Epoch 13/100\n",
            "436/436 [==============================] - 1s 1ms/step - loss: 23370.1211 - mae: 114.0526 - val_loss: 25954.1016 - val_mae: 117.4265\n",
            "Epoch 14/100\n",
            "436/436 [==============================] - 1s 1ms/step - loss: 23329.1504 - mae: 113.5571 - val_loss: 25858.9062 - val_mae: 117.9409\n",
            "Epoch 15/100\n",
            "436/436 [==============================] - 1s 1ms/step - loss: 23268.4375 - mae: 113.7837 - val_loss: 25854.3945 - val_mae: 115.5647\n",
            "Epoch 16/100\n",
            "436/436 [==============================] - 1s 1ms/step - loss: 23234.0684 - mae: 113.3538 - val_loss: 25731.9082 - val_mae: 116.5353\n",
            "Epoch 17/100\n",
            "436/436 [==============================] - 1s 1ms/step - loss: 23195.2949 - mae: 113.3548 - val_loss: 25685.3594 - val_mae: 117.1487\n",
            "Epoch 18/100\n",
            "436/436 [==============================] - 1s 1ms/step - loss: 23089.5508 - mae: 113.0938 - val_loss: 25759.1816 - val_mae: 118.3760\n",
            "Epoch 19/100\n",
            "436/436 [==============================] - 1s 1ms/step - loss: 23110.4648 - mae: 113.3793 - val_loss: 25627.3613 - val_mae: 115.0336\n",
            "Epoch 20/100\n",
            "436/436 [==============================] - 1s 1ms/step - loss: 23059.2246 - mae: 112.9712 - val_loss: 25500.4414 - val_mae: 116.4964\n",
            "Epoch 21/100\n",
            "436/436 [==============================] - 1s 1ms/step - loss: 23032.0840 - mae: 113.0612 - val_loss: 25429.6074 - val_mae: 116.4556\n",
            "Epoch 22/100\n",
            "436/436 [==============================] - 1s 1ms/step - loss: 22974.6543 - mae: 113.0205 - val_loss: 25402.6699 - val_mae: 115.0433\n",
            "Epoch 23/100\n",
            "436/436 [==============================] - 1s 1ms/step - loss: 22924.6855 - mae: 112.6665 - val_loss: 25324.9590 - val_mae: 116.6565\n",
            "Epoch 24/100\n",
            "436/436 [==============================] - 0s 1ms/step - loss: 22830.1660 - mae: 112.7180 - val_loss: 25260.8652 - val_mae: 116.2013\n",
            "Epoch 25/100\n",
            "436/436 [==============================] - 0s 1ms/step - loss: 22866.1758 - mae: 112.6611 - val_loss: 25256.8125 - val_mae: 114.5167\n",
            "Epoch 26/100\n",
            "436/436 [==============================] - 1s 1ms/step - loss: 22832.7402 - mae: 112.4976 - val_loss: 25213.1777 - val_mae: 114.4813\n",
            "Epoch 27/100\n",
            "436/436 [==============================] - 1s 1ms/step - loss: 22774.6465 - mae: 112.4376 - val_loss: 25204.7891 - val_mae: 113.8635\n",
            "Epoch 28/100\n",
            "436/436 [==============================] - 0s 1ms/step - loss: 22747.9023 - mae: 112.2719 - val_loss: 25107.2676 - val_mae: 115.7968\n",
            "Epoch 29/100\n",
            "436/436 [==============================] - 1s 1ms/step - loss: 22729.8574 - mae: 112.1459 - val_loss: 25210.4043 - val_mae: 117.9214\n",
            "Epoch 30/100\n",
            "436/436 [==============================] - 0s 1ms/step - loss: 22689.0918 - mae: 112.1669 - val_loss: 25011.2285 - val_mae: 116.0206\n",
            "Epoch 31/100\n",
            "436/436 [==============================] - 1s 1ms/step - loss: 22685.3926 - mae: 112.1269 - val_loss: 25015.3750 - val_mae: 114.4066\n",
            "Epoch 32/100\n",
            "436/436 [==============================] - 1s 1ms/step - loss: 22644.8281 - mae: 112.0146 - val_loss: 25167.4062 - val_mae: 117.7821\n",
            "Epoch 33/100\n",
            "436/436 [==============================] - 1s 1ms/step - loss: 22614.3984 - mae: 112.0125 - val_loss: 24939.7988 - val_mae: 113.7202\n",
            "Epoch 34/100\n",
            "436/436 [==============================] - 1s 1ms/step - loss: 22610.8867 - mae: 111.7237 - val_loss: 24968.4551 - val_mae: 113.2923\n",
            "Epoch 35/100\n",
            "436/436 [==============================] - 1s 1ms/step - loss: 22580.9648 - mae: 111.6508 - val_loss: 24978.1172 - val_mae: 117.3586\n",
            "Epoch 36/100\n",
            "436/436 [==============================] - 0s 1ms/step - loss: 22559.6055 - mae: 111.8238 - val_loss: 24935.6973 - val_mae: 113.2576\n",
            "Epoch 37/100\n",
            "436/436 [==============================] - 1s 1ms/step - loss: 22565.9512 - mae: 111.6324 - val_loss: 24834.3262 - val_mae: 114.9585\n",
            "Epoch 38/100\n",
            "436/436 [==============================] - 1s 1ms/step - loss: 22549.9707 - mae: 111.6373 - val_loss: 24925.6367 - val_mae: 112.9414\n",
            "Epoch 39/100\n",
            "436/436 [==============================] - 1s 1ms/step - loss: 22521.4141 - mae: 111.4576 - val_loss: 24827.3633 - val_mae: 112.7159\n",
            "Epoch 40/100\n",
            "436/436 [==============================] - 0s 1ms/step - loss: 22505.7988 - mae: 111.4728 - val_loss: 24773.2539 - val_mae: 114.4255\n",
            "Epoch 41/100\n",
            "436/436 [==============================] - 1s 1ms/step - loss: 22488.8379 - mae: 111.5210 - val_loss: 24798.6953 - val_mae: 113.2183\n",
            "Epoch 42/100\n",
            "436/436 [==============================] - 1s 1ms/step - loss: 22481.3105 - mae: 111.2601 - val_loss: 24851.2461 - val_mae: 117.0199\n",
            "Epoch 43/100\n",
            "436/436 [==============================] - 1s 1ms/step - loss: 22490.7832 - mae: 111.4684 - val_loss: 24737.7500 - val_mae: 113.3302\n",
            "Epoch 44/100\n",
            "436/436 [==============================] - 1s 1ms/step - loss: 22458.4375 - mae: 111.5024 - val_loss: 24750.6895 - val_mae: 115.5518\n",
            "Epoch 45/100\n",
            "436/436 [==============================] - 1s 1ms/step - loss: 22454.3555 - mae: 111.2822 - val_loss: 24698.2266 - val_mae: 112.5763\n",
            "Epoch 46/100\n",
            "436/436 [==============================] - 1s 1ms/step - loss: 22450.7578 - mae: 111.3205 - val_loss: 24707.1895 - val_mae: 115.4887\n",
            "Epoch 47/100\n",
            "436/436 [==============================] - 1s 1ms/step - loss: 22390.7695 - mae: 111.2278 - val_loss: 24707.0352 - val_mae: 115.2532\n",
            "Epoch 48/100\n",
            "436/436 [==============================] - 1s 1ms/step - loss: 22410.6348 - mae: 111.5396 - val_loss: 24705.3418 - val_mae: 113.4306\n",
            "Epoch 49/100\n",
            "436/436 [==============================] - 0s 1ms/step - loss: 22418.5312 - mae: 111.3346 - val_loss: 24657.9082 - val_mae: 114.2460\n",
            "Epoch 50/100\n",
            "436/436 [==============================] - 1s 1ms/step - loss: 22398.2422 - mae: 111.1578 - val_loss: 24710.1426 - val_mae: 116.0173\n",
            "Epoch 51/100\n",
            "436/436 [==============================] - 0s 1ms/step - loss: 22396.7617 - mae: 111.4200 - val_loss: 24691.9258 - val_mae: 112.2842\n",
            "Epoch 52/100\n",
            "436/436 [==============================] - 1s 1ms/step - loss: 22397.7129 - mae: 111.3598 - val_loss: 24624.2461 - val_mae: 112.6724\n",
            "Epoch 53/100\n",
            "436/436 [==============================] - 1s 1ms/step - loss: 22335.9688 - mae: 111.1029 - val_loss: 24897.6426 - val_mae: 111.1559\n",
            "Epoch 54/100\n",
            "436/436 [==============================] - 1s 1ms/step - loss: 22359.4863 - mae: 111.0569 - val_loss: 24596.8398 - val_mae: 115.4325\n",
            "Epoch 55/100\n",
            "436/436 [==============================] - 1s 1ms/step - loss: 22343.5312 - mae: 111.1307 - val_loss: 24551.7383 - val_mae: 113.0356\n",
            "Epoch 56/100\n",
            "436/436 [==============================] - 1s 1ms/step - loss: 22347.4297 - mae: 110.9941 - val_loss: 24596.6133 - val_mae: 113.3299\n",
            "Epoch 57/100\n",
            "436/436 [==============================] - 1s 1ms/step - loss: 22332.2852 - mae: 111.0862 - val_loss: 24619.3359 - val_mae: 112.5252\n",
            "Epoch 58/100\n",
            "436/436 [==============================] - 1s 1ms/step - loss: 22331.8457 - mae: 111.0958 - val_loss: 24536.1406 - val_mae: 113.7142\n",
            "Epoch 59/100\n",
            "436/436 [==============================] - 1s 1ms/step - loss: 22305.5410 - mae: 110.9629 - val_loss: 24526.6719 - val_mae: 114.4102\n",
            "Epoch 60/100\n",
            "436/436 [==============================] - 1s 1ms/step - loss: 22288.4648 - mae: 111.0240 - val_loss: 24676.4980 - val_mae: 115.9683\n",
            "Epoch 61/100\n",
            "436/436 [==============================] - 0s 1ms/step - loss: 22284.5508 - mae: 111.0495 - val_loss: 24709.0293 - val_mae: 111.5553\n",
            "Epoch 62/100\n",
            "436/436 [==============================] - 1s 1ms/step - loss: 22289.2852 - mae: 110.7936 - val_loss: 24613.1621 - val_mae: 112.2831\n",
            "Epoch 63/100\n",
            "436/436 [==============================] - 1s 1ms/step - loss: 22280.0195 - mae: 110.8232 - val_loss: 24541.5840 - val_mae: 113.2153\n",
            "Epoch 64/100\n",
            "436/436 [==============================] - 1s 1ms/step - loss: 22257.1855 - mae: 111.0238 - val_loss: 24490.2070 - val_mae: 114.1299\n",
            "Epoch 65/100\n",
            "436/436 [==============================] - 1s 1ms/step - loss: 22211.8164 - mae: 110.7162 - val_loss: 24561.8516 - val_mae: 114.3754\n",
            "Epoch 66/100\n",
            "436/436 [==============================] - 1s 1ms/step - loss: 22236.1172 - mae: 110.8530 - val_loss: 24523.8184 - val_mae: 111.8008\n",
            "Epoch 67/100\n",
            "436/436 [==============================] - 0s 1ms/step - loss: 22231.2305 - mae: 110.5686 - val_loss: 24696.9434 - val_mae: 117.9381\n",
            "Epoch 68/100\n",
            "436/436 [==============================] - 1s 1ms/step - loss: 22223.7617 - mae: 110.8319 - val_loss: 24455.4023 - val_mae: 112.5525\n",
            "Epoch 69/100\n",
            "436/436 [==============================] - 1s 1ms/step - loss: 22224.2969 - mae: 110.7501 - val_loss: 24451.5957 - val_mae: 112.2677\n",
            "Epoch 70/100\n",
            "436/436 [==============================] - 1s 1ms/step - loss: 22189.8418 - mae: 110.6589 - val_loss: 24512.0488 - val_mae: 112.4304\n",
            "Epoch 71/100\n",
            "436/436 [==============================] - 1s 1ms/step - loss: 22204.2988 - mae: 110.7126 - val_loss: 24554.3086 - val_mae: 111.3713\n",
            "Epoch 72/100\n",
            "436/436 [==============================] - 1s 1ms/step - loss: 22155.0898 - mae: 110.6868 - val_loss: 24788.4844 - val_mae: 110.5721\n",
            "Epoch 73/100\n",
            "436/436 [==============================] - 1s 1ms/step - loss: 22161.8555 - mae: 110.3920 - val_loss: 24454.7988 - val_mae: 114.8422\n",
            "Epoch 74/100\n",
            "436/436 [==============================] - 1s 1ms/step - loss: 22179.4316 - mae: 110.6539 - val_loss: 24563.7402 - val_mae: 111.7919\n",
            "Epoch 75/100\n",
            "436/436 [==============================] - 1s 1ms/step - loss: 22160.1445 - mae: 110.6286 - val_loss: 24449.2500 - val_mae: 114.1134\n",
            "Epoch 76/100\n",
            "436/436 [==============================] - 1s 1ms/step - loss: 22161.4902 - mae: 110.3744 - val_loss: 24383.0703 - val_mae: 114.1171\n",
            "Epoch 77/100\n",
            "436/436 [==============================] - 1s 1ms/step - loss: 22160.9316 - mae: 110.6884 - val_loss: 24401.5000 - val_mae: 113.8378\n",
            "Epoch 78/100\n",
            "436/436 [==============================] - 1s 1ms/step - loss: 22127.6582 - mae: 110.3979 - val_loss: 24299.1230 - val_mae: 112.9865\n",
            "Epoch 79/100\n",
            "436/436 [==============================] - 0s 1ms/step - loss: 22096.4531 - mae: 110.4722 - val_loss: 24312.5098 - val_mae: 112.8250\n",
            "Epoch 80/100\n",
            "436/436 [==============================] - 1s 1ms/step - loss: 22110.0547 - mae: 110.5746 - val_loss: 24482.0742 - val_mae: 111.1756\n",
            "Epoch 81/100\n",
            "436/436 [==============================] - 0s 1ms/step - loss: 22111.0117 - mae: 110.4043 - val_loss: 24409.1074 - val_mae: 112.0628\n",
            "Epoch 82/100\n",
            "436/436 [==============================] - 1s 1ms/step - loss: 22033.3887 - mae: 110.1411 - val_loss: 24331.1621 - val_mae: 113.5649\n",
            "Epoch 83/100\n",
            "436/436 [==============================] - 1s 1ms/step - loss: 22080.4219 - mae: 110.4224 - val_loss: 24475.0625 - val_mae: 114.9779\n",
            "Epoch 84/100\n",
            "436/436 [==============================] - 1s 1ms/step - loss: 22066.7090 - mae: 110.1095 - val_loss: 24419.8691 - val_mae: 114.6655\n",
            "Epoch 85/100\n",
            "436/436 [==============================] - 1s 1ms/step - loss: 22074.0605 - mae: 110.4124 - val_loss: 24359.4551 - val_mae: 113.2302\n",
            "Epoch 86/100\n",
            "436/436 [==============================] - 1s 1ms/step - loss: 22015.2637 - mae: 110.0833 - val_loss: 24709.6504 - val_mae: 111.4228\n",
            "Epoch 87/100\n",
            "436/436 [==============================] - 1s 1ms/step - loss: 22059.1504 - mae: 110.2681 - val_loss: 24234.8086 - val_mae: 113.0665\n",
            "Epoch 88/100\n",
            "436/436 [==============================] - 1s 1ms/step - loss: 22038.4668 - mae: 110.2874 - val_loss: 24281.7012 - val_mae: 112.7368\n",
            "Epoch 89/100\n",
            "436/436 [==============================] - 1s 1ms/step - loss: 21992.2051 - mae: 110.0817 - val_loss: 24356.0312 - val_mae: 113.2611\n",
            "Epoch 90/100\n",
            "436/436 [==============================] - 1s 1ms/step - loss: 22044.1562 - mae: 110.3873 - val_loss: 24404.9238 - val_mae: 110.9319\n",
            "Epoch 91/100\n",
            "436/436 [==============================] - 1s 1ms/step - loss: 22014.0586 - mae: 110.0903 - val_loss: 24334.3438 - val_mae: 111.7174\n",
            "Epoch 92/100\n",
            "436/436 [==============================] - 1s 1ms/step - loss: 21988.5625 - mae: 110.0300 - val_loss: 24323.8672 - val_mae: 112.4946\n",
            "Epoch 93/100\n",
            "436/436 [==============================] - 1s 1ms/step - loss: 21978.0176 - mae: 109.8718 - val_loss: 24261.7266 - val_mae: 113.0995\n",
            "Epoch 94/100\n",
            "436/436 [==============================] - 1s 1ms/step - loss: 21981.6484 - mae: 109.9001 - val_loss: 24367.5410 - val_mae: 114.7956\n",
            "Epoch 95/100\n",
            "436/436 [==============================] - 1s 1ms/step - loss: 21948.7109 - mae: 109.9316 - val_loss: 24270.0664 - val_mae: 111.6749\n",
            "Epoch 96/100\n",
            "436/436 [==============================] - 1s 1ms/step - loss: 21916.9746 - mae: 110.0081 - val_loss: 24396.6836 - val_mae: 111.8413\n",
            "Epoch 97/100\n",
            "436/436 [==============================] - 1s 1ms/step - loss: 21912.8926 - mae: 109.7030 - val_loss: 24261.4727 - val_mae: 111.7002\n",
            "Epoch 98/100\n",
            "436/436 [==============================] - 1s 1ms/step - loss: 21912.9023 - mae: 109.9537 - val_loss: 24290.3652 - val_mae: 111.4189\n",
            "Epoch 99/100\n",
            "436/436 [==============================] - 1s 1ms/step - loss: 21925.9609 - mae: 109.7915 - val_loss: 24330.5254 - val_mae: 112.2009\n",
            "Epoch 100/100\n",
            "436/436 [==============================] - 1s 1ms/step - loss: 21886.2676 - mae: 109.7323 - val_loss: 24422.7832 - val_mae: 111.7223\n"
          ],
          "name": "stdout"
        }
      ]
    },
    {
      "cell_type": "code",
      "metadata": {
        "id": "8ZNaVi4zNWv-"
      },
      "source": [
        "loss = history.history['loss']\n",
        "val_loss = history.history['val_loss']\n",
        "\n",
        "mae = history.history['mae']\n",
        "val_mae = history.history['val_mae']\n",
        "\n",
        "epochs = range(1, len(loss) + 1)"
      ],
      "execution_count": 26,
      "outputs": []
    },
    {
      "cell_type": "code",
      "metadata": {
        "id": "-44pytOkNznP",
        "outputId": "a0e292c1-6372-4072-ca2e-5c88b46d0d7d",
        "colab": {
          "base_uri": "https://localhost:8080/",
          "height": 281
        }
      },
      "source": [
        "import matplotlib.pyplot as plt\n",
        "\n",
        "plt.plot(epochs, loss, 'r', label='training loss')\n",
        "plt.plot(epochs, val_loss, 'bo', label='validation loss')\n",
        "plt.legend()"
      ],
      "execution_count": 28,
      "outputs": [
        {
          "output_type": "execute_result",
          "data": {
            "text/plain": [
              "<matplotlib.legend.Legend at 0x7f9aff729588>"
            ]
          },
          "metadata": {
            "tags": []
          },
          "execution_count": 28
        },
        {
          "output_type": "display_data",
          "data": {
            "image/png": "[encoded data removed]",
            "text/plain": [
              "<Figure size 432x288 with 1 Axes>"
            ]
          },
          "metadata": {
            "tags": [],
            "needs_background": "light"
          }
        }
      ]
    },
    {
      "cell_type": "code",
      "metadata": {
        "id": "-lWIgEA7N-mF",
        "outputId": "b946d956-b787-4d17-a63d-abb2275aa231",
        "colab": {
          "base_uri": "https://localhost:8080/",
          "height": 285
        }
      },
      "source": [
        "plt.plot(epochs, mae, 'r', label='training ,ae')\n",
        "plt.plot(epochs, val_mae, 'bo', label='validation mae')\n",
        "plt.legend()"
      ],
      "execution_count": 29,
      "outputs": [
        {
          "output_type": "execute_result",
          "data": {
            "text/plain": [
              "<matplotlib.legend.Legend at 0x7f9aff69dda0>"
            ]
          },
          "metadata": {
            "tags": []
          },
          "execution_count": 29
        },
        {
          "output_type": "display_data",
          "data": {
            "image/png": "[encoded data removed]",
            "text/plain": [
              "<Figure size 432x288 with 1 Axes>"
            ]
          },
          "metadata": {
            "tags": [],
            "needs_background": "light"
          }
        }
      ]
    },
    {
      "cell_type": "code",
      "metadata": {
        "id": "Sa5DjrqHOI9E",
        "outputId": "c05b5b99-744c-4c1d-c372-2b227b21fde0",
        "colab": {
          "base_uri": "https://localhost:8080/"
        }
      },
      "source": [
        "model.evaluate(x=test_data, y=test_label)"
      ],
      "execution_count": 30,
      "outputs": [
        {
          "output_type": "stream",
          "text": [
            "69/69 [==============================] - 0s 985us/step - loss: 22092.7734 - mae: 107.8078\n"
          ],
          "name": "stdout"
        },
        {
          "output_type": "execute_result",
          "data": {
            "text/plain": [
              "[22092.7734375, 107.80780029296875]"
            ]
          },
          "metadata": {
            "tags": []
          },
          "execution_count": 30
        }
      ]
    },
    {
      "cell_type": "code",
      "metadata": {
        "id": "RiKhasLbOTEy"
      },
      "source": [
        ""
      ],
      "execution_count": null,
      "outputs": []
    }
  ]
}