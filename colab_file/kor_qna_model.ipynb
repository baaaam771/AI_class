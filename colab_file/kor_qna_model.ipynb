{
  "nbformat": 4,
  "nbformat_minor": 0,
  "metadata": {
    "colab": {
      "name": "kor-qna-model.ipynb",
      "provenance": []
    },
    "kernelspec": {
      "name": "python3",
      "display_name": "Python 3"
    }
  },
  "cells": [
    {
      "cell_type": "markdown",
      "metadata": {
        "id": "zFkeSIr8NOt7"
      },
      "source": [
        "![memn.png](data:image/png;base64,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)"
      ]
    },
    {
      "cell_type": "code",
      "metadata": {
        "id": "mS_kRk-gNUX9"
      },
      "source": [
        "from tensorflow.keras.utils import get_file\n",
        "from tensorflow.keras.preprocessing.sequence import pad_sequences\n",
        "from tensorflow.keras.utils import to_categorical\n",
        "import numpy as np\n",
        "import tarfile\n",
        "from nltk import FreqDist\n",
        "from functools import reduce\n",
        "import os\n",
        "import re\n",
        "import matplotlib.pyplot as plt"
      ],
      "execution_count": 12,
      "outputs": []
    },
    {
      "cell_type": "code",
      "metadata": {
        "id": "JAtacFUnOZJS"
      },
      "source": [
        "TRAIN_FILE = os.path.join(\"/content/drive/MyDrive/Colab Notebooks/qa1_single-supporting-fact_train_kor.txt\")\n",
        "TEST_FILE = os.path.join(\"/content/drive/MyDrive/Colab Notebooks/qa1_single-supporting-fact_test_kor.txt\")"
      ],
      "execution_count": 13,
      "outputs": []
    },
    {
      "cell_type": "code",
      "metadata": {
        "colab": {
          "base_uri": "https://localhost:8080/"
        },
        "id": "C9mLq930OLx0",
        "outputId": "f41c7141-845e-468b-c334-bcf0ed0b8411"
      },
      "source": [
        "i = 0\n",
        "lines = open(TRAIN_FILE, \"rb\")\n",
        "for l in lines: \n",
        "  l = l.decode('utf-8').strip()\n",
        "  i += 1\n",
        "  print(l)\n",
        "  if i == 20:\n",
        "    break\n",
        "  "
      ],
      "execution_count": 14,
      "outputs": [
        {
          "output_type": "stream",
          "text": [
            "1 필웅이는 화장실로 갔습니다.\n",
            "2 은경이는 복도로 이동했습니다.\n",
            "3 필웅이는 어디야? \t화장실\t1\n",
            "4 수종이는 복도로 복귀했습니다.\n",
            "5 경임이는 정원으로 갔습니다.\n",
            "6 수종이는 어디야? \t복도\t4\n",
            "7 은경이는 사무실로 갔습니다.\n",
            "8 경임이는 화장실로 뛰어갔습니다.\n",
            "9 수종이는 어디야? \t복도\t4\n",
            "10 필웅이는 복도로 갔습니다.\n",
            "11 수종이는 사무실로 가버렸습니다.\n",
            "12 수종이는 어디야? \t사무실\t11\n",
            "13 은경이는 정원으로 복귀했습니다.\n",
            "14 은경이는 침실로 갔습니다.\n",
            "15 경임이는 어디야? \t화장실\t8\n",
            "1 경임이는 사무실로 가버렸습니다.\n",
            "2 경임이는 화장실로 이동했습니다.\n",
            "3 경임이는 어디야? \t화장실\t2\n",
            "4 필웅이는 침실로 이동했습니다.\n",
            "5 수종이는 복도로 갔습니다.\n"
          ],
          "name": "stdout"
        }
      ]
    },
    {
      "cell_type": "code",
      "metadata": {
        "colab": {
          "base_uri": "https://localhost:8080/"
        },
        "id": "q2dP728Qf-Ov",
        "outputId": "755b9295-60a8-41e4-f9c5-9efa56ab9bfb"
      },
      "source": [
        "!pip install customized_konlpy"
      ],
      "execution_count": 15,
      "outputs": [
        {
          "output_type": "stream",
          "text": [
            "Requirement already satisfied: customized_konlpy in /usr/local/lib/python3.6/dist-packages (0.0.64)\n",
            "Requirement already satisfied: Jpype1>=0.6.1 in /usr/local/lib/python3.6/dist-packages (from customized_konlpy) (1.2.0)\n",
            "Requirement already satisfied: konlpy>=0.4.4 in /usr/local/lib/python3.6/dist-packages (from customized_konlpy) (0.5.2)\n",
            "Requirement already satisfied: typing-extensions; python_version < \"3.8\" in /usr/local/lib/python3.6/dist-packages (from Jpype1>=0.6.1->customized_konlpy) (3.7.4.3)\n",
            "Requirement already satisfied: colorama in /usr/local/lib/python3.6/dist-packages (from konlpy>=0.4.4->customized_konlpy) (0.4.4)\n",
            "Requirement already satisfied: tweepy>=3.7.0 in /usr/local/lib/python3.6/dist-packages (from konlpy>=0.4.4->customized_konlpy) (3.9.0)\n",
            "Requirement already satisfied: beautifulsoup4==4.6.0 in /usr/local/lib/python3.6/dist-packages (from konlpy>=0.4.4->customized_konlpy) (4.6.0)\n",
            "Requirement already satisfied: lxml>=4.1.0 in /usr/local/lib/python3.6/dist-packages (from konlpy>=0.4.4->customized_konlpy) (4.2.6)\n",
            "Requirement already satisfied: numpy>=1.6 in /usr/local/lib/python3.6/dist-packages (from konlpy>=0.4.4->customized_konlpy) (1.18.5)\n",
            "Requirement already satisfied: requests[socks]>=2.11.1 in /usr/local/lib/python3.6/dist-packages (from tweepy>=3.7.0->konlpy>=0.4.4->customized_konlpy) (2.23.0)\n",
            "Requirement already satisfied: six>=1.10.0 in /usr/local/lib/python3.6/dist-packages (from tweepy>=3.7.0->konlpy>=0.4.4->customized_konlpy) (1.15.0)\n",
            "Requirement already satisfied: requests-oauthlib>=0.7.0 in /usr/local/lib/python3.6/dist-packages (from tweepy>=3.7.0->konlpy>=0.4.4->customized_konlpy) (1.3.0)\n",
            "Requirement already satisfied: urllib3!=1.25.0,!=1.25.1,<1.26,>=1.21.1 in /usr/local/lib/python3.6/dist-packages (from requests[socks]>=2.11.1->tweepy>=3.7.0->konlpy>=0.4.4->customized_konlpy) (1.24.3)\n",
            "Requirement already satisfied: certifi>=2017.4.17 in /usr/local/lib/python3.6/dist-packages (from requests[socks]>=2.11.1->tweepy>=3.7.0->konlpy>=0.4.4->customized_konlpy) (2020.11.8)\n",
            "Requirement already satisfied: chardet<4,>=3.0.2 in /usr/local/lib/python3.6/dist-packages (from requests[socks]>=2.11.1->tweepy>=3.7.0->konlpy>=0.4.4->customized_konlpy) (3.0.4)\n",
            "Requirement already satisfied: idna<3,>=2.5 in /usr/local/lib/python3.6/dist-packages (from requests[socks]>=2.11.1->tweepy>=3.7.0->konlpy>=0.4.4->customized_konlpy) (2.10)\n",
            "Requirement already satisfied: PySocks!=1.5.7,>=1.5.6; extra == \"socks\" in /usr/local/lib/python3.6/dist-packages (from requests[socks]>=2.11.1->tweepy>=3.7.0->konlpy>=0.4.4->customized_konlpy) (1.7.1)\n",
            "Requirement already satisfied: oauthlib>=3.0.0 in /usr/local/lib/python3.6/dist-packages (from requests-oauthlib>=0.7.0->tweepy>=3.7.0->konlpy>=0.4.4->customized_konlpy) (3.1.0)\n"
          ],
          "name": "stdout"
        }
      ]
    },
    {
      "cell_type": "code",
      "metadata": {
        "colab": {
          "base_uri": "https://localhost:8080/"
        },
        "id": "VYlAk__HgC4H",
        "outputId": "63eba417-3139-45c8-81cb-0255aaa83b3b"
      },
      "source": [
        "from ckonlpy.tag import Twitter\n",
        "twitter = Twitter()\n",
        "twitter.morphs('은경이는 복도로 이동했습니다.')"
      ],
      "execution_count": 16,
      "outputs": [
        {
          "output_type": "stream",
          "text": [
            "/usr/local/lib/python3.6/dist-packages/konlpy/tag/_okt.py:16: UserWarning: \"Twitter\" has changed to \"Okt\" since KoNLPy v0.4.5.\n",
            "  warn('\"Twitter\" has changed to \"Okt\" since KoNLPy v0.4.5.')\n"
          ],
          "name": "stderr"
        },
        {
          "output_type": "execute_result",
          "data": {
            "text/plain": [
              "['은', '경이', '는', '복도', '로', '이동', '했습니다', '.']"
            ]
          },
          "metadata": {
            "tags": []
          },
          "execution_count": 16
        }
      ]
    },
    {
      "cell_type": "code",
      "metadata": {
        "id": "IjJs9LPugCnC"
      },
      "source": [
        "twitter.add_dictionary('은경이', 'Noun')\n",
        "twitter.add_dictionary('경임이', 'Noun')\n",
        "twitter.add_dictionary('수종이', 'Noun')"
      ],
      "execution_count": 17,
      "outputs": []
    },
    {
      "cell_type": "code",
      "metadata": {
        "colab": {
          "base_uri": "https://localhost:8080/"
        },
        "id": "gYWjI5-4g2ym",
        "outputId": "d1b11660-76f1-480b-894c-da7ef3de8ade"
      },
      "source": [
        "twitter.morphs('은경이는 복도로 이동했습니다.')"
      ],
      "execution_count": 18,
      "outputs": [
        {
          "output_type": "execute_result",
          "data": {
            "text/plain": [
              "['은경이', '는', '복도', '로', '이동', '했습니다', '.']"
            ]
          },
          "metadata": {
            "tags": []
          },
          "execution_count": 18
        }
      ]
    },
    {
      "cell_type": "code",
      "metadata": {
        "id": "7kDkNxhVPQLV"
      },
      "source": [
        "def read_data(dir):\n",
        "  stories, questions, answers = [], [], []\n",
        "\n",
        "  story_tmp = []\n",
        "  lines = open(dir, \"rb\")\n",
        "  \n",
        "  for l in lines:\n",
        "    l = l.decode('utf-8')\n",
        "    l = l.strip()\n",
        "    idx, text = l.split(\" \", 1)\n",
        "\n",
        "    if int(idx) == 1:\n",
        "      story_tmp = []\n",
        "\n",
        "    if '\\t' in text:\n",
        "      question, answer, _ = text.split('\\t')\n",
        "      stories.append([x for x in story_tmp if x]) # 지금까지 누적 스토리로 스토리를 저장\n",
        "      questions.append(question)\n",
        "      answers.append(answer)\n",
        "\n",
        "    else:\n",
        "      story_tmp.append(text)\n",
        "\n",
        "  lines.close()\n",
        "  return stories, questions, answers"
      ],
      "execution_count": 19,
      "outputs": []
    },
    {
      "cell_type": "code",
      "metadata": {
        "id": "qnAnqZDdQ0Ij"
      },
      "source": [
        "train_data = read_data(TRAIN_FILE)\n",
        "test_data = read_data(TEST_FILE)\n",
        "\n",
        "train_stories, train_questions, train_answers = read_data(TRAIN_FILE)\n",
        "test_stories, test_questions, test_answers = read_data(TEST_FILE)"
      ],
      "execution_count": 20,
      "outputs": []
    },
    {
      "cell_type": "code",
      "metadata": {
        "colab": {
          "base_uri": "https://localhost:8080/"
        },
        "id": "qmxOymDTRHCJ",
        "outputId": "a7a52805-300e-4328-d30f-d3f7336273dc"
      },
      "source": [
        "print('훈련용 스토리의 개수 :', len(train_stories))\n",
        "print('훈련용 질문의 개수 :',len(train_questions))\n",
        "print('훈련용 답변의 개수 :',len(train_answers))\n",
        "print('테스트용 스토리의 개수 :',len(test_stories))\n",
        "print('테스트용 질문의 개수 :',len(test_questions))\n",
        "print('테스트용 답변의 개수 :',len(test_answers))"
      ],
      "execution_count": 21,
      "outputs": [
        {
          "output_type": "stream",
          "text": [
            "훈련용 스토리의 개수 : 10000\n",
            "훈련용 질문의 개수 : 10000\n",
            "훈련용 답변의 개수 : 10000\n",
            "테스트용 스토리의 개수 : 1000\n",
            "테스트용 질문의 개수 : 1000\n",
            "테스트용 답변의 개수 : 1000\n"
          ],
          "name": "stdout"
        }
      ]
    },
    {
      "cell_type": "code",
      "metadata": {
        "colab": {
          "base_uri": "https://localhost:8080/"
        },
        "id": "9ADR5I1dRm44",
        "outputId": "09d75262-c146-4444-81ba-6af787a58d70"
      },
      "source": [
        "train_stories[0], train_questions[0], train_answers[0]"
      ],
      "execution_count": 22,
      "outputs": [
        {
          "output_type": "execute_result",
          "data": {
            "text/plain": [
              "(['필웅이는 화장실로 갔습니다.', '은경이는 복도로 이동했습니다.'], '필웅이는 어디야? ', '화장실')"
            ]
          },
          "metadata": {
            "tags": []
          },
          "execution_count": 22
        }
      ]
    },
    {
      "cell_type": "code",
      "metadata": {
        "colab": {
          "base_uri": "https://localhost:8080/"
        },
        "id": "meBFlZG7SP2g",
        "outputId": "fb944d9f-d64c-4e1e-ee11-e2e799565f4a"
      },
      "source": [
        "train_stories[2], train_questions[2], train_answers[2]"
      ],
      "execution_count": 23,
      "outputs": [
        {
          "output_type": "execute_result",
          "data": {
            "text/plain": [
              "(['필웅이는 화장실로 갔습니다.',\n",
              "  '은경이는 복도로 이동했습니다.',\n",
              "  '수종이는 복도로 복귀했습니다.',\n",
              "  '경임이는 정원으로 갔습니다.',\n",
              "  '은경이는 사무실로 갔습니다.',\n",
              "  '경임이는 화장실로 뛰어갔습니다.'],\n",
              " '수종이는 어디야? ',\n",
              " '복도')"
            ]
          },
          "metadata": {
            "tags": []
          },
          "execution_count": 23
        }
      ]
    },
    {
      "cell_type": "code",
      "metadata": {
        "id": "hJkLpRXJTDdn"
      },
      "source": [
        "def tokenize(sent):\n",
        "  return twitter.morphs(sent)"
      ],
      "execution_count": 24,
      "outputs": []
    },
    {
      "cell_type": "code",
      "metadata": {
        "id": "RwLG5_BmTnLW"
      },
      "source": [
        "def preprocess_data(train_data, test_data):\n",
        "  counter = FreqDist()\n",
        "\n",
        "  # 하나의 문장으로 통합\n",
        "  flatten = lambda data: reduce(lambda x,y : x + y, data)\n",
        "\n",
        "  story_len = []\n",
        "  question_len = []\n",
        "\n",
        "  for stories, questions, answers in [train_data, test_data]:\n",
        "    for story in stories:\n",
        "      stories = tokenize(flatten(story))\n",
        "      story_len.append(len(stories))\n",
        "\n",
        "      for word in stories:\n",
        "        counter[word] += 1\n",
        "\n",
        "    for question in questions:\n",
        "      question = tokenize(question)\n",
        "      question_len.append(len(question))\n",
        "      for word in question:\n",
        "        counter[word] += 1\n",
        "    \n",
        "    for answer in answers:\n",
        "      answer = tokenize(answer)\n",
        "      for word in answer:\n",
        "        counter[word] += 1\n",
        "\n",
        "  # vocab\n",
        "  word2idx = { word : (idx + 1) for idx, (word, _) in enumerate(counter.most_common())}\n",
        "  idx2word = { idx : word for word, idx in word2idx.items() }\n",
        "\n",
        "  return word2idx, idx2word, np.max(story_len), np.max(question_len)\n"
      ],
      "execution_count": 25,
      "outputs": []
    },
    {
      "cell_type": "code",
      "metadata": {
        "id": "PBwyPK40VuKu"
      },
      "source": [
        "word2idx, idx2word, story_max_len, question_max_len = \\\n",
        "preprocess_data(train_data, test_data)"
      ],
      "execution_count": 26,
      "outputs": []
    },
    {
      "cell_type": "code",
      "metadata": {
        "colab": {
          "base_uri": "https://localhost:8080/"
        },
        "id": "gI_NIJxoV5Bs",
        "outputId": "bf5a9c70-7f8a-460e-c494-21f4b92400c5"
      },
      "source": [
        "word2idx"
      ],
      "execution_count": 27,
      "outputs": [
        {
          "output_type": "execute_result",
          "data": {
            "text/plain": [
              "{'.': 2,\n",
              " '?': 23,\n",
              " '가버렸습니다': 11,\n",
              " '갔습니다': 17,\n",
              " '경임이': 6,\n",
              " '는': 1,\n",
              " '뛰어갔습니다': 12,\n",
              " '로': 3,\n",
              " '복귀': 13,\n",
              " '복도': 16,\n",
              " '부엌': 19,\n",
              " '사무실': 18,\n",
              " '수종이': 8,\n",
              " '야': 22,\n",
              " '어디': 21,\n",
              " '으로': 5,\n",
              " '은경이': 7,\n",
              " '이동': 10,\n",
              " '정원': 15,\n",
              " '침실': 20,\n",
              " '필웅이': 9,\n",
              " '했습니다': 4,\n",
              " '화장실': 14}"
            ]
          },
          "metadata": {
            "tags": []
          },
          "execution_count": 27
        }
      ]
    },
    {
      "cell_type": "code",
      "metadata": {
        "id": "vkRyyRuvWIwE"
      },
      "source": [
        "vocab_size = len(word2idx) + 1"
      ],
      "execution_count": 28,
      "outputs": []
    },
    {
      "cell_type": "code",
      "metadata": {
        "id": "vdtpA5vmWVxU"
      },
      "source": [
        "def vectorize(data, word2_idx, story_max_len, question_max_len):\n",
        "  Xs, Xq, Y = [], [], []\n",
        "\n",
        "  flatten = lambda data: reduce(lambda x,y : x + y, data)\n",
        "\n",
        "  stories, questions, answers = data\n",
        "  for story, question, answer in zip(stories, questions, answers):\n",
        "    xs = [word2idx[w] for w in tokenize(flatten(story))]\n",
        "    xq = [word2idx[w] for w in tokenize(question)]\n",
        "    Xs.append(xs)\n",
        "    Xq.append(xq)\n",
        "    Y.append(word2idx[answer])\n",
        "\n",
        "  return pad_sequences(Xs, maxlen=story_max_len), \\\n",
        "         pad_sequences(Xq, maxlen=question_max_len), \\\n",
        "         to_categorical(Y, num_classes=len(word2idx) + 1)\n",
        "\n"
      ],
      "execution_count": 29,
      "outputs": []
    },
    {
      "cell_type": "code",
      "metadata": {
        "id": "gzLRnV9yXMz1"
      },
      "source": [
        "Xstrain, Xqtrain, Ytrain = vectorize(train_data, word2idx,\n",
        "                                     story_max_len, question_max_len)"
      ],
      "execution_count": 30,
      "outputs": []
    },
    {
      "cell_type": "code",
      "metadata": {
        "id": "ODr2qEJ3XkfD"
      },
      "source": [
        "Xstest, Xqtest, Ytest = vectorize(test_data, word2idx,\n",
        "                                  story_max_len, question_max_len)"
      ],
      "execution_count": 31,
      "outputs": []
    },
    {
      "cell_type": "code",
      "metadata": {
        "colab": {
          "base_uri": "https://localhost:8080/"
        },
        "id": "CJiWPYiqXyDL",
        "outputId": "7b75e152-e9a3-4b0e-f59b-3cf73108424f"
      },
      "source": [
        "print(Xstrain.shape, Xqtrain.shape, Ytrain.shape, Xstest.shape, Xqtest.shape, Ytest.shape)"
      ],
      "execution_count": 32,
      "outputs": [
        {
          "output_type": "stream",
          "text": [
            "(10000, 70) (10000, 5) (10000, 24) (1000, 70) (1000, 5) (1000, 24)\n"
          ],
          "name": "stdout"
        }
      ]
    },
    {
      "cell_type": "code",
      "metadata": {
        "id": "3J7H0qSxX7Ia"
      },
      "source": [
        "from tensorflow.keras.models import Sequential, Model\n",
        "from tensorflow.keras.layers import Embedding\n",
        "from tensorflow.keras.layers import Permute, dot, add, concatenate\n",
        "from tensorflow.keras.layers import LSTM, Dense, Dropout, Input, Activation"
      ],
      "execution_count": 33,
      "outputs": []
    },
    {
      "cell_type": "code",
      "metadata": {
        "id": "a2Sxg5riakUZ"
      },
      "source": [
        "train_epochs = 120\n",
        "batch_size = 32\n",
        "embed_size = 50\n",
        "lstm_size = 64\n",
        "dropout_rate = 0.3"
      ],
      "execution_count": 34,
      "outputs": []
    },
    {
      "cell_type": "code",
      "metadata": {
        "id": "JHRIiV0JayMY"
      },
      "source": [
        "input_sequence = Input((story_max_len, ))\n",
        "question = Input((question_max_len, ))"
      ],
      "execution_count": 35,
      "outputs": []
    },
    {
      "cell_type": "code",
      "metadata": {
        "id": "kRZQq6SibALH"
      },
      "source": [
        "input_encoder_m = Sequential()\n",
        "input_encoder_m.add(Embedding(input_dim=vocab_size, output_dim=embed_size))\n",
        "input_encoder_m.add(Dropout(dropout_rate))"
      ],
      "execution_count": 36,
      "outputs": []
    },
    {
      "cell_type": "code",
      "metadata": {
        "id": "PH2Al0BTbcyf"
      },
      "source": [
        "input_encoder_c = Sequential()\n",
        "input_encoder_c.add(Embedding(input_dim=vocab_size, output_dim=question_max_len))\n",
        "input_encoder_c.add(Dropout(dropout_rate))"
      ],
      "execution_count": 37,
      "outputs": []
    },
    {
      "cell_type": "code",
      "metadata": {
        "id": "tLHJMW3-b8aG"
      },
      "source": [
        "question_encoder = Sequential()\n",
        "question_encoder.add(Embedding(input_dim=vocab_size, output_dim=embed_size,\n",
        "                               input_length=question_max_len))\n",
        "question_encoder.add(Dropout(dropout_rate))"
      ],
      "execution_count": 38,
      "outputs": []
    },
    {
      "cell_type": "code",
      "metadata": {
        "id": "2LmngI3YcMv2"
      },
      "source": [
        "input_encoded_m = input_encoder_m(input_sequence)\n",
        "input_encoded_c = input_encoder_c(input_sequence)\n",
        "question_encoded = question_encoder(question)"
      ],
      "execution_count": 39,
      "outputs": []
    },
    {
      "cell_type": "code",
      "metadata": {
        "colab": {
          "base_uri": "https://localhost:8080/"
        },
        "id": "CTHzqW_9ckFX",
        "outputId": "e08c0b84-0550-4edf-9c4e-8129c0cbdc27"
      },
      "source": [
        "match = dot([input_encoded_m, question_encoded], axes=-1, normalize=False)\n",
        "match = Activation('softmax')(match)\n",
        "match"
      ],
      "execution_count": 40,
      "outputs": [
        {
          "output_type": "execute_result",
          "data": {
            "text/plain": [
              "<tf.Tensor 'activation/truediv:0' shape=(None, 70, 5) dtype=float32>"
            ]
          },
          "metadata": {
            "tags": []
          },
          "execution_count": 40
        }
      ]
    },
    {
      "cell_type": "code",
      "metadata": {
        "colab": {
          "base_uri": "https://localhost:8080/"
        },
        "id": "gkYS_s2Lc2B1",
        "outputId": "e312b5d0-a5ab-4476-ebd5-a9c83e7ff46e"
      },
      "source": [
        "resp = add([match, input_encoded_c])\n",
        "resp = Permute((2, 1))(resp)\n",
        "resp"
      ],
      "execution_count": 41,
      "outputs": [
        {
          "output_type": "execute_result",
          "data": {
            "text/plain": [
              "<tf.Tensor 'permute/transpose:0' shape=(None, 5, 70) dtype=float32>"
            ]
          },
          "metadata": {
            "tags": []
          },
          "execution_count": 41
        }
      ]
    },
    {
      "cell_type": "code",
      "metadata": {
        "colab": {
          "base_uri": "https://localhost:8080/"
        },
        "id": "klkrAZSRdE1d",
        "outputId": "55b1a1d4-c98f-431b-db52-47e831022c27"
      },
      "source": [
        "answer = concatenate([resp, question_encoded])\n",
        "answer"
      ],
      "execution_count": 42,
      "outputs": [
        {
          "output_type": "execute_result",
          "data": {
            "text/plain": [
              "<tf.Tensor 'concatenate/concat:0' shape=(None, 5, 120) dtype=float32>"
            ]
          },
          "metadata": {
            "tags": []
          },
          "execution_count": 42
        }
      ]
    },
    {
      "cell_type": "code",
      "metadata": {
        "id": "JXhEhUWudUGX"
      },
      "source": [
        "answer = LSTM(lstm_size)(answer)\n",
        "answer = Dropout(dropout_rate)(answer)\n",
        "\n",
        "answer = Dense(vocab_size)(answer)\n",
        "answer = Activation('softmax')(answer)"
      ],
      "execution_count": 43,
      "outputs": []
    },
    {
      "cell_type": "code",
      "metadata": {
        "id": "NQsDS2TYdspl"
      },
      "source": [
        "model = Model([input_sequence, question], answer)\n",
        "model.compile(optimizer='rmsprop', loss='categorical_crossentropy', metrics=['acc'])"
      ],
      "execution_count": 44,
      "outputs": []
    },
    {
      "cell_type": "code",
      "metadata": {
        "colab": {
          "base_uri": "https://localhost:8080/"
        },
        "id": "Lu3Qxubvd-c8",
        "outputId": "bfd74737-8666-41de-98ec-b18947ecf643"
      },
      "source": [
        "history = model.fit(x=[Xstrain, Xqtrain], y=Ytrain,\n",
        "                    batch_size= batch_size, epochs=train_epochs,\n",
        "                    validation_data=([Xstest, Xqtest], Ytest))"
      ],
      "execution_count": 45,
      "outputs": [
        {
          "output_type": "stream",
          "text": [
            "Epoch 1/120\n",
            "313/313 [==============================] - 4s 12ms/step - loss: 1.8902 - acc: 0.1782 - val_loss: 1.7637 - val_acc: 0.2860\n",
            "Epoch 2/120\n",
            "313/313 [==============================] - 3s 9ms/step - loss: 1.6917 - acc: 0.2750 - val_loss: 1.6253 - val_acc: 0.3350\n",
            "Epoch 3/120\n",
            "313/313 [==============================] - 3s 9ms/step - loss: 1.6101 - acc: 0.3380 - val_loss: 1.4922 - val_acc: 0.4560\n",
            "Epoch 4/120\n",
            "313/313 [==============================] - 3s 9ms/step - loss: 1.4908 - acc: 0.4287 - val_loss: 1.4172 - val_acc: 0.4780\n",
            "Epoch 5/120\n",
            "313/313 [==============================] - 3s 9ms/step - loss: 1.4469 - acc: 0.4466 - val_loss: 1.4080 - val_acc: 0.4790\n",
            "Epoch 6/120\n",
            "313/313 [==============================] - 3s 9ms/step - loss: 1.4145 - acc: 0.4601 - val_loss: 1.3737 - val_acc: 0.4910\n",
            "Epoch 7/120\n",
            "313/313 [==============================] - 3s 9ms/step - loss: 1.3674 - acc: 0.4851 - val_loss: 1.3135 - val_acc: 0.5090\n",
            "Epoch 8/120\n",
            "313/313 [==============================] - 3s 9ms/step - loss: 1.3324 - acc: 0.4934 - val_loss: 1.2875 - val_acc: 0.5180\n",
            "Epoch 9/120\n",
            "313/313 [==============================] - 3s 9ms/step - loss: 1.3054 - acc: 0.5041 - val_loss: 1.2821 - val_acc: 0.5220\n",
            "Epoch 10/120\n",
            "313/313 [==============================] - 3s 9ms/step - loss: 1.2804 - acc: 0.5103 - val_loss: 1.2582 - val_acc: 0.5300\n",
            "Epoch 11/120\n",
            "313/313 [==============================] - 3s 9ms/step - loss: 1.2446 - acc: 0.5234 - val_loss: 1.2323 - val_acc: 0.5230\n",
            "Epoch 12/120\n",
            "313/313 [==============================] - 3s 9ms/step - loss: 1.2319 - acc: 0.5213 - val_loss: 1.2254 - val_acc: 0.5110\n",
            "Epoch 13/120\n",
            "313/313 [==============================] - 3s 9ms/step - loss: 1.2053 - acc: 0.5290 - val_loss: 1.2034 - val_acc: 0.5230\n",
            "Epoch 14/120\n",
            "313/313 [==============================] - 3s 9ms/step - loss: 1.1866 - acc: 0.5290 - val_loss: 1.1986 - val_acc: 0.5200\n",
            "Epoch 15/120\n",
            "313/313 [==============================] - 3s 9ms/step - loss: 1.1812 - acc: 0.5203 - val_loss: 1.2033 - val_acc: 0.5300\n",
            "Epoch 16/120\n",
            "313/313 [==============================] - 3s 9ms/step - loss: 1.1561 - acc: 0.5328 - val_loss: 1.1859 - val_acc: 0.5090\n",
            "Epoch 17/120\n",
            "313/313 [==============================] - 3s 10ms/step - loss: 1.1402 - acc: 0.5376 - val_loss: 1.1833 - val_acc: 0.5270\n",
            "Epoch 18/120\n",
            "313/313 [==============================] - 3s 9ms/step - loss: 1.1310 - acc: 0.5332 - val_loss: 1.1726 - val_acc: 0.5130\n",
            "Epoch 19/120\n",
            "313/313 [==============================] - 3s 10ms/step - loss: 1.1340 - acc: 0.5327 - val_loss: 1.1704 - val_acc: 0.5300\n",
            "Epoch 20/120\n",
            "313/313 [==============================] - 3s 9ms/step - loss: 1.1170 - acc: 0.5334 - val_loss: 1.1909 - val_acc: 0.5190\n",
            "Epoch 21/120\n",
            "313/313 [==============================] - 3s 9ms/step - loss: 1.1129 - acc: 0.5357 - val_loss: 1.1699 - val_acc: 0.5270\n",
            "Epoch 22/120\n",
            "313/313 [==============================] - 3s 9ms/step - loss: 1.0941 - acc: 0.5435 - val_loss: 1.1770 - val_acc: 0.5120\n",
            "Epoch 23/120\n",
            "313/313 [==============================] - 3s 10ms/step - loss: 1.0880 - acc: 0.5473 - val_loss: 1.1780 - val_acc: 0.5230\n",
            "Epoch 24/120\n",
            "313/313 [==============================] - 3s 9ms/step - loss: 1.0829 - acc: 0.5441 - val_loss: 1.1767 - val_acc: 0.5190\n",
            "Epoch 25/120\n",
            "313/313 [==============================] - 3s 9ms/step - loss: 1.0724 - acc: 0.5527 - val_loss: 1.1656 - val_acc: 0.5070\n",
            "Epoch 26/120\n",
            "313/313 [==============================] - 3s 9ms/step - loss: 1.0646 - acc: 0.5559 - val_loss: 1.1802 - val_acc: 0.5100\n",
            "Epoch 27/120\n",
            "313/313 [==============================] - 3s 9ms/step - loss: 1.0672 - acc: 0.5548 - val_loss: 1.1651 - val_acc: 0.5160\n",
            "Epoch 28/120\n",
            "313/313 [==============================] - 3s 9ms/step - loss: 1.0498 - acc: 0.5525 - val_loss: 1.1828 - val_acc: 0.5120\n",
            "Epoch 29/120\n",
            "313/313 [==============================] - 3s 9ms/step - loss: 1.0387 - acc: 0.5603 - val_loss: 1.1788 - val_acc: 0.5240\n",
            "Epoch 30/120\n",
            "313/313 [==============================] - 3s 9ms/step - loss: 1.0304 - acc: 0.5631 - val_loss: 1.1748 - val_acc: 0.5060\n",
            "Epoch 31/120\n",
            "313/313 [==============================] - 3s 9ms/step - loss: 1.0064 - acc: 0.5789 - val_loss: 1.1394 - val_acc: 0.5320\n",
            "Epoch 32/120\n",
            "313/313 [==============================] - 3s 9ms/step - loss: 0.9286 - acc: 0.6172 - val_loss: 0.9246 - val_acc: 0.6520\n",
            "Epoch 33/120\n",
            "313/313 [==============================] - 3s 9ms/step - loss: 0.6918 - acc: 0.7417 - val_loss: 0.7314 - val_acc: 0.7250\n",
            "Epoch 34/120\n",
            "313/313 [==============================] - 3s 9ms/step - loss: 0.5891 - acc: 0.7854 - val_loss: 0.6895 - val_acc: 0.7310\n",
            "Epoch 35/120\n",
            "313/313 [==============================] - 3s 9ms/step - loss: 0.5508 - acc: 0.7940 - val_loss: 0.6653 - val_acc: 0.7400\n",
            "Epoch 36/120\n",
            "313/313 [==============================] - 3s 9ms/step - loss: 0.5137 - acc: 0.8066 - val_loss: 0.6073 - val_acc: 0.7760\n",
            "Epoch 37/120\n",
            "313/313 [==============================] - 3s 10ms/step - loss: 0.4638 - acc: 0.8266 - val_loss: 0.5166 - val_acc: 0.8010\n",
            "Epoch 38/120\n",
            "313/313 [==============================] - 3s 10ms/step - loss: 0.4088 - acc: 0.8478 - val_loss: 0.4894 - val_acc: 0.8170\n",
            "Epoch 39/120\n",
            "313/313 [==============================] - 3s 10ms/step - loss: 0.3643 - acc: 0.8649 - val_loss: 0.4585 - val_acc: 0.8230\n",
            "Epoch 40/120\n",
            "313/313 [==============================] - 3s 10ms/step - loss: 0.3412 - acc: 0.8769 - val_loss: 0.4129 - val_acc: 0.8430\n",
            "Epoch 41/120\n",
            "313/313 [==============================] - 3s 10ms/step - loss: 0.3116 - acc: 0.8862 - val_loss: 0.4246 - val_acc: 0.8370\n",
            "Epoch 42/120\n",
            "313/313 [==============================] - 3s 9ms/step - loss: 0.2957 - acc: 0.8904 - val_loss: 0.3812 - val_acc: 0.8500\n",
            "Epoch 43/120\n",
            "313/313 [==============================] - 3s 9ms/step - loss: 0.2868 - acc: 0.8932 - val_loss: 0.4042 - val_acc: 0.8500\n",
            "Epoch 44/120\n",
            "313/313 [==============================] - 3s 9ms/step - loss: 0.2663 - acc: 0.8992 - val_loss: 0.3833 - val_acc: 0.8580\n",
            "Epoch 45/120\n",
            "313/313 [==============================] - 3s 10ms/step - loss: 0.2523 - acc: 0.9037 - val_loss: 0.3825 - val_acc: 0.8640\n",
            "Epoch 46/120\n",
            "313/313 [==============================] - 3s 9ms/step - loss: 0.2386 - acc: 0.9082 - val_loss: 0.3533 - val_acc: 0.8600\n",
            "Epoch 47/120\n",
            "313/313 [==============================] - 3s 9ms/step - loss: 0.2290 - acc: 0.9132 - val_loss: 0.3733 - val_acc: 0.8650\n",
            "Epoch 48/120\n",
            "313/313 [==============================] - 3s 9ms/step - loss: 0.2233 - acc: 0.9165 - val_loss: 0.3456 - val_acc: 0.8720\n",
            "Epoch 49/120\n",
            "313/313 [==============================] - 3s 10ms/step - loss: 0.2059 - acc: 0.9236 - val_loss: 0.3114 - val_acc: 0.8830\n",
            "Epoch 50/120\n",
            "313/313 [==============================] - 3s 10ms/step - loss: 0.1957 - acc: 0.9278 - val_loss: 0.2865 - val_acc: 0.8940\n",
            "Epoch 51/120\n",
            "313/313 [==============================] - 3s 9ms/step - loss: 0.1750 - acc: 0.9388 - val_loss: 0.2839 - val_acc: 0.8970\n",
            "Epoch 52/120\n",
            "313/313 [==============================] - 3s 9ms/step - loss: 0.1674 - acc: 0.9399 - val_loss: 0.2821 - val_acc: 0.8970\n",
            "Epoch 53/120\n",
            "313/313 [==============================] - 3s 9ms/step - loss: 0.1497 - acc: 0.9435 - val_loss: 0.2676 - val_acc: 0.9060\n",
            "Epoch 54/120\n",
            "313/313 [==============================] - 3s 9ms/step - loss: 0.1429 - acc: 0.9489 - val_loss: 0.2710 - val_acc: 0.9070\n",
            "Epoch 55/120\n",
            "313/313 [==============================] - 3s 9ms/step - loss: 0.1373 - acc: 0.9526 - val_loss: 0.2815 - val_acc: 0.8990\n",
            "Epoch 56/120\n",
            "313/313 [==============================] - 3s 9ms/step - loss: 0.1311 - acc: 0.9524 - val_loss: 0.2416 - val_acc: 0.9180\n",
            "Epoch 57/120\n",
            "313/313 [==============================] - 3s 9ms/step - loss: 0.1178 - acc: 0.9577 - val_loss: 0.2351 - val_acc: 0.9260\n",
            "Epoch 58/120\n",
            "313/313 [==============================] - 3s 9ms/step - loss: 0.1064 - acc: 0.9637 - val_loss: 0.2258 - val_acc: 0.9260\n",
            "Epoch 59/120\n",
            "313/313 [==============================] - 3s 10ms/step - loss: 0.1018 - acc: 0.9638 - val_loss: 0.2353 - val_acc: 0.9290\n",
            "Epoch 60/120\n",
            "313/313 [==============================] - 3s 9ms/step - loss: 0.1005 - acc: 0.9654 - val_loss: 0.2408 - val_acc: 0.9260\n",
            "Epoch 61/120\n",
            "313/313 [==============================] - 3s 10ms/step - loss: 0.0931 - acc: 0.9666 - val_loss: 0.2272 - val_acc: 0.9300\n",
            "Epoch 62/120\n",
            "313/313 [==============================] - 3s 9ms/step - loss: 0.0932 - acc: 0.9685 - val_loss: 0.2161 - val_acc: 0.9290\n",
            "Epoch 63/120\n",
            "313/313 [==============================] - 3s 9ms/step - loss: 0.0876 - acc: 0.9703 - val_loss: 0.2440 - val_acc: 0.9290\n",
            "Epoch 64/120\n",
            "313/313 [==============================] - 3s 10ms/step - loss: 0.0781 - acc: 0.9734 - val_loss: 0.2390 - val_acc: 0.9330\n",
            "Epoch 65/120\n",
            "313/313 [==============================] - 3s 10ms/step - loss: 0.0713 - acc: 0.9751 - val_loss: 0.2342 - val_acc: 0.9410\n",
            "Epoch 66/120\n",
            "313/313 [==============================] - 3s 10ms/step - loss: 0.0718 - acc: 0.9764 - val_loss: 0.2104 - val_acc: 0.9370\n",
            "Epoch 67/120\n",
            "313/313 [==============================] - 3s 9ms/step - loss: 0.0690 - acc: 0.9773 - val_loss: 0.2441 - val_acc: 0.9380\n",
            "Epoch 68/120\n",
            "313/313 [==============================] - 3s 9ms/step - loss: 0.0612 - acc: 0.9789 - val_loss: 0.2374 - val_acc: 0.9390\n",
            "Epoch 69/120\n",
            "313/313 [==============================] - 3s 9ms/step - loss: 0.0625 - acc: 0.9790 - val_loss: 0.2191 - val_acc: 0.9390\n",
            "Epoch 70/120\n",
            "313/313 [==============================] - 3s 9ms/step - loss: 0.0615 - acc: 0.9785 - val_loss: 0.2341 - val_acc: 0.9380\n",
            "Epoch 71/120\n",
            "313/313 [==============================] - 3s 9ms/step - loss: 0.0514 - acc: 0.9840 - val_loss: 0.2727 - val_acc: 0.9400\n",
            "Epoch 72/120\n",
            "313/313 [==============================] - 3s 9ms/step - loss: 0.0558 - acc: 0.9801 - val_loss: 0.2548 - val_acc: 0.9330\n",
            "Epoch 73/120\n",
            "313/313 [==============================] - 3s 9ms/step - loss: 0.0509 - acc: 0.9832 - val_loss: 0.3029 - val_acc: 0.9320\n",
            "Epoch 74/120\n",
            "313/313 [==============================] - 3s 10ms/step - loss: 0.0510 - acc: 0.9830 - val_loss: 0.2148 - val_acc: 0.9410\n",
            "Epoch 75/120\n",
            "313/313 [==============================] - 3s 9ms/step - loss: 0.0451 - acc: 0.9843 - val_loss: 0.2616 - val_acc: 0.9340\n",
            "Epoch 76/120\n",
            "313/313 [==============================] - 3s 10ms/step - loss: 0.0432 - acc: 0.9850 - val_loss: 0.2668 - val_acc: 0.9310\n",
            "Epoch 77/120\n",
            "313/313 [==============================] - 3s 10ms/step - loss: 0.0455 - acc: 0.9852 - val_loss: 0.2583 - val_acc: 0.9420\n",
            "Epoch 78/120\n",
            "313/313 [==============================] - 3s 10ms/step - loss: 0.0424 - acc: 0.9854 - val_loss: 0.2824 - val_acc: 0.9290\n",
            "Epoch 79/120\n",
            "313/313 [==============================] - 3s 10ms/step - loss: 0.0461 - acc: 0.9859 - val_loss: 0.2471 - val_acc: 0.9440\n",
            "Epoch 80/120\n",
            "313/313 [==============================] - 3s 10ms/step - loss: 0.0348 - acc: 0.9882 - val_loss: 0.2711 - val_acc: 0.9350\n",
            "Epoch 81/120\n",
            "313/313 [==============================] - 3s 9ms/step - loss: 0.0380 - acc: 0.9875 - val_loss: 0.2465 - val_acc: 0.9470\n",
            "Epoch 82/120\n",
            "313/313 [==============================] - 3s 9ms/step - loss: 0.0399 - acc: 0.9881 - val_loss: 0.2725 - val_acc: 0.9330\n",
            "Epoch 83/120\n",
            "313/313 [==============================] - 3s 10ms/step - loss: 0.0340 - acc: 0.9886 - val_loss: 0.2901 - val_acc: 0.9390\n",
            "Epoch 84/120\n",
            "313/313 [==============================] - 3s 10ms/step - loss: 0.0333 - acc: 0.9884 - val_loss: 0.2992 - val_acc: 0.9460\n",
            "Epoch 85/120\n",
            "313/313 [==============================] - 3s 10ms/step - loss: 0.0352 - acc: 0.9883 - val_loss: 0.2550 - val_acc: 0.9490\n",
            "Epoch 86/120\n",
            "313/313 [==============================] - 3s 9ms/step - loss: 0.0317 - acc: 0.9900 - val_loss: 0.2680 - val_acc: 0.9420\n",
            "Epoch 87/120\n",
            "313/313 [==============================] - 3s 9ms/step - loss: 0.0341 - acc: 0.9897 - val_loss: 0.2808 - val_acc: 0.9430\n",
            "Epoch 88/120\n",
            "313/313 [==============================] - 3s 10ms/step - loss: 0.0325 - acc: 0.9903 - val_loss: 0.2563 - val_acc: 0.9440\n",
            "Epoch 89/120\n",
            "313/313 [==============================] - 3s 10ms/step - loss: 0.0277 - acc: 0.9916 - val_loss: 0.2490 - val_acc: 0.9410\n",
            "Epoch 90/120\n",
            "313/313 [==============================] - 3s 9ms/step - loss: 0.0316 - acc: 0.9896 - val_loss: 0.2283 - val_acc: 0.9480\n",
            "Epoch 91/120\n",
            "313/313 [==============================] - 3s 9ms/step - loss: 0.0309 - acc: 0.9904 - val_loss: 0.2344 - val_acc: 0.9500\n",
            "Epoch 92/120\n",
            "313/313 [==============================] - 3s 9ms/step - loss: 0.0260 - acc: 0.9912 - val_loss: 0.2503 - val_acc: 0.9460\n",
            "Epoch 93/120\n",
            "313/313 [==============================] - 3s 9ms/step - loss: 0.0279 - acc: 0.9909 - val_loss: 0.2724 - val_acc: 0.9450\n",
            "Epoch 94/120\n",
            "313/313 [==============================] - 3s 9ms/step - loss: 0.0238 - acc: 0.9928 - val_loss: 0.3180 - val_acc: 0.9400\n",
            "Epoch 95/120\n",
            "313/313 [==============================] - 3s 9ms/step - loss: 0.0238 - acc: 0.9928 - val_loss: 0.2753 - val_acc: 0.9440\n",
            "Epoch 96/120\n",
            "313/313 [==============================] - 3s 9ms/step - loss: 0.0292 - acc: 0.9914 - val_loss: 0.2862 - val_acc: 0.9410\n",
            "Epoch 97/120\n",
            "313/313 [==============================] - 3s 9ms/step - loss: 0.0211 - acc: 0.9935 - val_loss: 0.2821 - val_acc: 0.9450\n",
            "Epoch 98/120\n",
            "313/313 [==============================] - 3s 9ms/step - loss: 0.0225 - acc: 0.9935 - val_loss: 0.2667 - val_acc: 0.9440\n",
            "Epoch 99/120\n",
            "313/313 [==============================] - 3s 10ms/step - loss: 0.0237 - acc: 0.9922 - val_loss: 0.2917 - val_acc: 0.9440\n",
            "Epoch 100/120\n",
            "313/313 [==============================] - 3s 9ms/step - loss: 0.0221 - acc: 0.9932 - val_loss: 0.2614 - val_acc: 0.9500\n",
            "Epoch 101/120\n",
            "313/313 [==============================] - 3s 9ms/step - loss: 0.0207 - acc: 0.9932 - val_loss: 0.2558 - val_acc: 0.9540\n",
            "Epoch 102/120\n",
            "313/313 [==============================] - 3s 9ms/step - loss: 0.0217 - acc: 0.9922 - val_loss: 0.2522 - val_acc: 0.9440\n",
            "Epoch 103/120\n",
            "313/313 [==============================] - 3s 9ms/step - loss: 0.0194 - acc: 0.9945 - val_loss: 0.2686 - val_acc: 0.9540\n",
            "Epoch 104/120\n",
            "313/313 [==============================] - 3s 10ms/step - loss: 0.0197 - acc: 0.9937 - val_loss: 0.2728 - val_acc: 0.9490\n",
            "Epoch 105/120\n",
            "313/313 [==============================] - 3s 9ms/step - loss: 0.0202 - acc: 0.9935 - val_loss: 0.2659 - val_acc: 0.9510\n",
            "Epoch 106/120\n",
            "313/313 [==============================] - 3s 10ms/step - loss: 0.0212 - acc: 0.9938 - val_loss: 0.2846 - val_acc: 0.9450\n",
            "Epoch 107/120\n",
            "313/313 [==============================] - 3s 10ms/step - loss: 0.0207 - acc: 0.9942 - val_loss: 0.2614 - val_acc: 0.9500\n",
            "Epoch 108/120\n",
            "313/313 [==============================] - 3s 10ms/step - loss: 0.0209 - acc: 0.9945 - val_loss: 0.2521 - val_acc: 0.9560\n",
            "Epoch 109/120\n",
            "313/313 [==============================] - 3s 10ms/step - loss: 0.0198 - acc: 0.9939 - val_loss: 0.2638 - val_acc: 0.9520\n",
            "Epoch 110/120\n",
            "313/313 [==============================] - 3s 10ms/step - loss: 0.0156 - acc: 0.9949 - val_loss: 0.2718 - val_acc: 0.9510\n",
            "Epoch 111/120\n",
            "313/313 [==============================] - 3s 9ms/step - loss: 0.0223 - acc: 0.9932 - val_loss: 0.2589 - val_acc: 0.9530\n",
            "Epoch 112/120\n",
            "313/313 [==============================] - 3s 9ms/step - loss: 0.0136 - acc: 0.9956 - val_loss: 0.2601 - val_acc: 0.9570\n",
            "Epoch 113/120\n",
            "313/313 [==============================] - 3s 9ms/step - loss: 0.0162 - acc: 0.9949 - val_loss: 0.2408 - val_acc: 0.9590\n",
            "Epoch 114/120\n",
            "313/313 [==============================] - 3s 10ms/step - loss: 0.0160 - acc: 0.9953 - val_loss: 0.2946 - val_acc: 0.9470\n",
            "Epoch 115/120\n",
            "313/313 [==============================] - 3s 10ms/step - loss: 0.0184 - acc: 0.9948 - val_loss: 0.2908 - val_acc: 0.9550\n",
            "Epoch 116/120\n",
            "313/313 [==============================] - 3s 10ms/step - loss: 0.0234 - acc: 0.9927 - val_loss: 0.2604 - val_acc: 0.9520\n",
            "Epoch 117/120\n",
            "313/313 [==============================] - 3s 10ms/step - loss: 0.0154 - acc: 0.9960 - val_loss: 0.3017 - val_acc: 0.9540\n",
            "Epoch 118/120\n",
            "313/313 [==============================] - 3s 10ms/step - loss: 0.0176 - acc: 0.9949 - val_loss: 0.2787 - val_acc: 0.9530\n",
            "Epoch 119/120\n",
            "313/313 [==============================] - 3s 10ms/step - loss: 0.0201 - acc: 0.9949 - val_loss: 0.3039 - val_acc: 0.9560\n",
            "Epoch 120/120\n",
            "313/313 [==============================] - 3s 10ms/step - loss: 0.0204 - acc: 0.9941 - val_loss: 0.2625 - val_acc: 0.9590\n"
          ],
          "name": "stdout"
        }
      ]
    },
    {
      "cell_type": "code",
      "metadata": {
        "id": "Pm7K_jUAeXf6",
        "colab": {
          "base_uri": "https://localhost:8080/"
        },
        "outputId": "ef21949b-0b84-4154-de84-5d4f1e0c0655"
      },
      "source": [
        "print(\"\\n 테스트 정확도: %.4f\" % (model.evaluate([Xstest, Xqtest], Ytest)[1]))"
      ],
      "execution_count": 46,
      "outputs": [
        {
          "output_type": "stream",
          "text": [
            "32/32 [==============================] - 0s 2ms/step - loss: 0.2625 - acc: 0.9590\n",
            "\n",
            " 테스트 정확도: 0.9590\n"
          ],
          "name": "stdout"
        }
      ]
    },
    {
      "cell_type": "code",
      "metadata": {
        "id": "yPKO6o1EegYx",
        "colab": {
          "base_uri": "https://localhost:8080/",
          "height": 297
        },
        "outputId": "8fe380b9-af27-4d26-dc10-00552974c083"
      },
      "source": [
        "# plot accuracy and loss plot\n",
        "plt.subplot(211)\n",
        "plt.title(\"Accuracy\")\n",
        "plt.plot(history.history[\"acc\"], color=\"g\", label=\"train\")\n",
        "plt.plot(history.history[\"val_acc\"], color=\"b\", label=\"validation\")\n",
        "plt.legend(loc=\"best\")\n",
        "\n",
        "plt.subplot(212)\n",
        "plt.title(\"Loss\")\n",
        "plt.plot(history.history[\"loss\"], color=\"g\", label=\"train\")\n",
        "plt.plot(history.history[\"val_loss\"], color=\"b\", label=\"validation\")\n",
        "plt.legend(loc=\"best\")\n",
        "\n",
        "plt.tight_layout()\n",
        "plt.show()\n",
        "\n",
        "# labels\n",
        "ytest = np.argmax(Ytest, axis=1)\n",
        "\n",
        "# get predictions\n",
        "Ytest_ = model.predict([Xstest, Xqtest])\n",
        "ytest_ = np.argmax(Ytest_, axis=1)"
      ],
      "execution_count": 47,
      "outputs": [
        {
          "output_type": "display_data",
          "data": {
            "image/png": "[encoded data removed]",
            "text/plain": [
              "<Figure size 432x288 with 2 Axes>"
            ]
          },
          "metadata": {
            "tags": [],
            "needs_background": "light"
          }
        }
      ]
    },
    {
      "cell_type": "code",
      "metadata": {
        "id": "VJ1kofjLe66Q"
      },
      "source": [
        ""
      ],
      "execution_count": 47,
      "outputs": []
    }
  ]
}