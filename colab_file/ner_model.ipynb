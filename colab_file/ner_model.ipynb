{
  "nbformat": 4,
  "nbformat_minor": 0,
  "metadata": {
    "colab": {
      "name": "ner-model.ipynb",
      "provenance": [],
      "collapsed_sections": []
    },
    "kernelspec": {
      "name": "python3",
      "display_name": "Python 3"
    }
  },
  "cells": [
    {
      "cell_type": "code",
      "metadata": {
        "id": "waIZ9fqIGogY"
      },
      "source": [
        "data_path = '/content/drive/MyDrive/Colab Notebooks/train_data'"
      ],
      "execution_count": 1,
      "outputs": []
    },
    {
      "cell_type": "code",
      "metadata": {
        "id": "ZIGgwgbiHKEb"
      },
      "source": [
        "with open(data_path, 'r', encoding='utf-8') as f:\n",
        "  lines = f.read().split('\\n')"
      ],
      "execution_count": 3,
      "outputs": []
    },
    {
      "cell_type": "code",
      "metadata": {
        "id": "_3ZBenSBIcz_"
      },
      "source": [
        "import re\n",
        "from collections import Counter\n",
        "\n",
        "vocab = Counter()\n",
        "sentences = []\n",
        "sentence = []\n",
        "ner_set = set()\n",
        "\n",
        "for line in lines:\n",
        "  if len(line) == 0 or line[0] == '\\n':\n",
        "    if len(sentence) > 0:\n",
        "      sentences.append(sentence)\n",
        "      sentence = []\n",
        "    continue\n",
        "\n",
        "  splits = line.split('\\t')\n",
        "  splits[-1] = re.sub(r'\\n', '', splits[-1])\n",
        "  word = splits[1]\n",
        "  vocab[word] += 1\n",
        "\n",
        "  sentence.append([word, splits[-1]])\n",
        "\n",
        "  ner_set.add(splits[-1])"
      ],
      "execution_count": 4,
      "outputs": []
    },
    {
      "cell_type": "code",
      "metadata": {
        "colab": {
          "base_uri": "https://localhost:8080/"
        },
        "id": "GuFNt3Z_JwVX",
        "outputId": "3abc07d1-0633-4e49-8ee5-43107a37b00c"
      },
      "source": [
        "vocab"
      ],
      "execution_count": 5,
      "outputs": [
        {
          "output_type": "execute_result",
          "data": {
            "text/plain": [
              "Counter({'두개': 11,\n",
              "         '두판': 11,\n",
              "         '라지': 11,\n",
              "         '레귤러': 55,\n",
              "         '먹고싶어': 11,\n",
              "         '사이다': 33,\n",
              "         '주문': 33,\n",
              "         '주문할게요': 11,\n",
              "         '주문할래': 33,\n",
              "         '주세요': 22,\n",
              "         '추가': 22,\n",
              "         '콜라': 33,\n",
              "         '피자': 88,\n",
              "         '한개': 11,\n",
              "         '한판': 11})"
            ]
          },
          "metadata": {
            "tags": []
          },
          "execution_count": 5
        }
      ]
    },
    {
      "cell_type": "code",
      "metadata": {
        "colab": {
          "base_uri": "https://localhost:8080/"
        },
        "id": "SDSMhNEGJzcs",
        "outputId": "4b688a11-851b-49ee-893e-1c8e7a1d9bd1"
      },
      "source": [
        "ner_set"
      ],
      "execution_count": 6,
      "outputs": [
        {
          "output_type": "execute_result",
          "data": {
            "text/plain": [
              "{'-', 'menu', 'quantity', 'side-menu', 'size'}"
            ]
          },
          "metadata": {
            "tags": []
          },
          "execution_count": 6
        }
      ]
    },
    {
      "cell_type": "code",
      "metadata": {
        "colab": {
          "base_uri": "https://localhost:8080/"
        },
        "id": "Z_OHLVfuJ8B3",
        "outputId": "2dd6d3f6-8150-4443-b3e4-a6ee79b25e5a"
      },
      "source": [
        "print('number of sampes: ', len(sentences))\n",
        "print('number of unique input tokens:', len(vocab))\n",
        "print('number of unique output labels:' , len(ner_set))\n",
        "print('max seq length for inputs: ', max([len(sentence) for sentence in sentences]))"
      ],
      "execution_count": 7,
      "outputs": [
        {
          "output_type": "stream",
          "text": [
            "number of sampes:  152\n",
            "number of unique input tokens: 15\n",
            "number of unique output labels: 5\n",
            "max seq length for inputs:  5\n"
          ],
          "name": "stdout"
        }
      ]
    },
    {
      "cell_type": "code",
      "metadata": {
        "id": "1lQF8YDrKfCm"
      },
      "source": [
        "vocab_sorted = sorted(vocab.items(), key=lambda x:x[1], reverse=True)"
      ],
      "execution_count": 8,
      "outputs": []
    },
    {
      "cell_type": "code",
      "metadata": {
        "colab": {
          "base_uri": "https://localhost:8080/"
        },
        "id": "WM8lMSUxK5n1",
        "outputId": "2ad77d4e-769a-48a7-fdca-88f842c2c3a2"
      },
      "source": [
        "vocab_sorted"
      ],
      "execution_count": 9,
      "outputs": [
        {
          "output_type": "execute_result",
          "data": {
            "text/plain": [
              "[('피자', 88),\n",
              " ('레귤러', 55),\n",
              " ('주문', 33),\n",
              " ('주문할래', 33),\n",
              " ('콜라', 33),\n",
              " ('사이다', 33),\n",
              " ('주세요', 22),\n",
              " ('추가', 22),\n",
              " ('한개', 11),\n",
              " ('두개', 11),\n",
              " ('라지', 11),\n",
              " ('주문할게요', 11),\n",
              " ('한판', 11),\n",
              " ('두판', 11),\n",
              " ('먹고싶어', 11)]"
            ]
          },
          "metadata": {
            "tags": []
          },
          "execution_count": 9
        }
      ]
    },
    {
      "cell_type": "code",
      "metadata": {
        "id": "i9tSeuFXK6dF"
      },
      "source": [
        "word_to_index = { w : i + 2 for i, (w, n) in enumerate(vocab_sorted) }\n",
        "word_to_index['PAD'] = 0\n",
        "word_to_index['OOV'] = 1"
      ],
      "execution_count": 10,
      "outputs": []
    },
    {
      "cell_type": "code",
      "metadata": {
        "id": "usC481ntLOZA"
      },
      "source": [
        "ner_to_index = {}\n",
        "ner_to_index['PAD'] = 0\n",
        "\n",
        "i = 1\n",
        "for ner in ner_set:\n",
        "  ner_to_index[ner] = i\n",
        "  i += 1"
      ],
      "execution_count": 11,
      "outputs": []
    },
    {
      "cell_type": "code",
      "metadata": {
        "colab": {
          "base_uri": "https://localhost:8080/"
        },
        "id": "Bof-vT1cLwE0",
        "outputId": "849c8223-f816-495c-a867-589a9932f0ac"
      },
      "source": [
        "ner_to_index"
      ],
      "execution_count": 12,
      "outputs": [
        {
          "output_type": "execute_result",
          "data": {
            "text/plain": [
              "{'-': 5, 'PAD': 0, 'menu': 1, 'quantity': 2, 'side-menu': 4, 'size': 3}"
            ]
          },
          "metadata": {
            "tags": []
          },
          "execution_count": 12
        }
      ]
    },
    {
      "cell_type": "code",
      "metadata": {
        "id": "jZRpLjHdLw_r"
      },
      "source": [
        "# word_to_index.get => 1\n",
        "# sentences 순회\n",
        "# data_x \n",
        "data_x = []\n",
        "\n",
        "for s in sentences:\n",
        "  tmp_x = []\n",
        "  for word, label in s:\n",
        "    tmp_x.append(word_to_index.get(word, 1))\n",
        "  data_x.append(tmp_x)\n",
        "\n"
      ],
      "execution_count": 16,
      "outputs": []
    },
    {
      "cell_type": "code",
      "metadata": {
        "id": "6EhlXxu_NTON"
      },
      "source": [
        "data_y = []\n",
        "\n",
        "for s in sentences:\n",
        "  tmp_y = []\n",
        "  for word, label in s:\n",
        "    tmp_y.append(ner_to_index.get(label))\n",
        "\n",
        "  data_y.append(tmp_y)"
      ],
      "execution_count": 18,
      "outputs": []
    },
    {
      "cell_type": "code",
      "metadata": {
        "id": "nTMTvszsOt0E"
      },
      "source": [
        "from tensorflow.keras.preprocessing.sequence import pad_sequences\n",
        "from tensorflow.keras.utils import to_categorical\n",
        "\n",
        "num_sequence=8\n",
        "\n",
        "pad_x = pad_sequences(data_x, padding='post', maxlen=num_sequence)\n",
        "pad_y = pad_sequences(data_y, padding='post', maxlen=num_sequence)\n",
        "pad_y = to_categorical(pad_y)"
      ],
      "execution_count": 21,
      "outputs": []
    },
    {
      "cell_type": "code",
      "metadata": {
        "id": "9JoqqH6ePTKn"
      },
      "source": [
        "from sklearn.model_selection import train_test_split\n",
        "\n",
        "train_data, test_data, train_labels, test_labels = train_test_split(pad_x, pad_y,\n",
        "                                                                    test_size=.2)"
      ],
      "execution_count": 23,
      "outputs": []
    },
    {
      "cell_type": "code",
      "metadata": {
        "id": "GvNhTc4-QDNM"
      },
      "source": [
        "import json\n",
        "with open('./assets/input_token_index.json', 'w') as fp:\n",
        "  json.dump(word_to_index, fp)\n",
        "with open('./assets/output_label_index.json', 'w') as fp:\n",
        "  json.dump(ner_to_index, fp)\n",
        "with open('./assets/model_parameter.json', 'w') as fp:\n",
        "  json.dump({\n",
        "      'num_input_tokens' : len(word_to_index),\n",
        "      'num_output_labels' : len(ner_to_index),\n",
        "      'embedding_dim' : 16,\n",
        "      'hidden_units' : 32,\n",
        "      'num_sequences' : 8\n",
        "  }, fp)"
      ],
      "execution_count": 25,
      "outputs": []
    },
    {
      "cell_type": "code",
      "metadata": {
        "id": "TA6dEYy1Rh9c"
      },
      "source": [
        "from tensorflow.keras.models import Sequential\n",
        "from tensorflow.keras.layers import Dense, Embedding, LSTM, Bidirectional, TimeDistributed\n",
        "\n",
        "def create_model(num_input_tokens, embedding_dim, num_sequence, num_labels, num_units):\n",
        "  model = Sequential([\n",
        "    Embedding(input_dim=num_input_tokens,\n",
        "              output_dim=embedding_dim,\n",
        "              input_length=num_sequence),\n",
        "    Bidirectional(LSTM(num_units, return_sequences=True)),\n",
        "    TimeDistributed(Dense(num_labels, activation='softmax'))\n",
        "  ])\n",
        "\n",
        "  return model"
      ],
      "execution_count": 28,
      "outputs": []
    },
    {
      "cell_type": "code",
      "metadata": {
        "id": "Pk9BatF5Tqcp"
      },
      "source": [
        "ner_model = create_model(len(word_to_index), 16, num_sequence, len(ner_to_index), 32)"
      ],
      "execution_count": 29,
      "outputs": []
    },
    {
      "cell_type": "code",
      "metadata": {
        "colab": {
          "base_uri": "https://localhost:8080/"
        },
        "id": "kQikJnSsWpwm",
        "outputId": "4c98dfdd-3615-46d9-a887-df69ec2e9606"
      },
      "source": [
        "ner_model.summary()"
      ],
      "execution_count": 31,
      "outputs": [
        {
          "output_type": "stream",
          "text": [
            "Model: \"sequential\"\n",
            "_________________________________________________________________\n",
            "Layer (type)                 Output Shape              Param #   \n",
            "=================================================================\n",
            "embedding (Embedding)        (None, 8, 16)             272       \n",
            "_________________________________________________________________\n",
            "bidirectional (Bidirectional (None, 8, 64)             12544     \n",
            "_________________________________________________________________\n",
            "time_distributed (TimeDistri (None, 8, 6)              390       \n",
            "=================================================================\n",
            "Total params: 13,206\n",
            "Trainable params: 13,206\n",
            "Non-trainable params: 0\n",
            "_________________________________________________________________\n"
          ],
          "name": "stdout"
        }
      ]
    },
    {
      "cell_type": "code",
      "metadata": {
        "id": "jGsHsNZhWs2c"
      },
      "source": [
        "ner_model.compile(loss='categorical_crossentropy',\n",
        "                  optimizer='adam',\n",
        "                  metrics=['accuracy'])"
      ],
      "execution_count": 32,
      "outputs": []
    },
    {
      "cell_type": "code",
      "metadata": {
        "colab": {
          "base_uri": "https://localhost:8080/"
        },
        "id": "CCIPb8mfW5Nu",
        "outputId": "1f02a341-020d-4afd-c4f9-57057235c62a"
      },
      "source": [
        "history = ner_model.fit(train_data, train_labels,\n",
        "              epochs=50, \n",
        "              batch_size=64,\n",
        "              validation_split=.2)"
      ],
      "execution_count": 35,
      "outputs": [
        {
          "output_type": "stream",
          "text": [
            "Epoch 1/50\n",
            "2/2 [==============================] - 0s 27ms/step - loss: 0.5654 - accuracy: 0.8112 - val_loss: 0.4979 - val_accuracy: 0.8700\n",
            "Epoch 2/50\n",
            "2/2 [==============================] - 0s 14ms/step - loss: 0.5572 - accuracy: 0.8281 - val_loss: 0.4891 - val_accuracy: 0.8700\n",
            "Epoch 3/50\n",
            "2/2 [==============================] - 0s 15ms/step - loss: 0.5484 - accuracy: 0.8281 - val_loss: 0.4803 - val_accuracy: 0.8700\n",
            "Epoch 4/50\n",
            "2/2 [==============================] - 0s 14ms/step - loss: 0.5397 - accuracy: 0.8281 - val_loss: 0.4713 - val_accuracy: 0.8700\n",
            "Epoch 5/50\n",
            "2/2 [==============================] - 0s 14ms/step - loss: 0.5309 - accuracy: 0.8281 - val_loss: 0.4620 - val_accuracy: 0.8700\n",
            "Epoch 6/50\n",
            "2/2 [==============================] - 0s 13ms/step - loss: 0.5217 - accuracy: 0.8281 - val_loss: 0.4526 - val_accuracy: 0.8700\n",
            "Epoch 7/50\n",
            "2/2 [==============================] - 0s 13ms/step - loss: 0.5125 - accuracy: 0.8294 - val_loss: 0.4429 - val_accuracy: 0.8750\n",
            "Epoch 8/50\n",
            "2/2 [==============================] - 0s 13ms/step - loss: 0.5032 - accuracy: 0.8398 - val_loss: 0.4333 - val_accuracy: 0.8800\n",
            "Epoch 9/50\n",
            "2/2 [==============================] - 0s 13ms/step - loss: 0.4938 - accuracy: 0.8503 - val_loss: 0.4237 - val_accuracy: 0.8800\n",
            "Epoch 10/50\n",
            "2/2 [==============================] - 0s 14ms/step - loss: 0.4843 - accuracy: 0.8503 - val_loss: 0.4141 - val_accuracy: 0.8800\n",
            "Epoch 11/50\n",
            "2/2 [==============================] - 0s 16ms/step - loss: 0.4746 - accuracy: 0.8516 - val_loss: 0.4046 - val_accuracy: 0.8850\n",
            "Epoch 12/50\n",
            "2/2 [==============================] - 0s 16ms/step - loss: 0.4653 - accuracy: 0.8646 - val_loss: 0.3951 - val_accuracy: 0.8950\n",
            "Epoch 13/50\n",
            "2/2 [==============================] - 0s 14ms/step - loss: 0.4552 - accuracy: 0.8724 - val_loss: 0.3856 - val_accuracy: 0.9100\n",
            "Epoch 14/50\n",
            "2/2 [==============================] - 0s 14ms/step - loss: 0.4456 - accuracy: 0.8854 - val_loss: 0.3762 - val_accuracy: 0.9250\n",
            "Epoch 15/50\n",
            "2/2 [==============================] - 0s 14ms/step - loss: 0.4358 - accuracy: 0.8997 - val_loss: 0.3670 - val_accuracy: 0.9250\n",
            "Epoch 16/50\n",
            "2/2 [==============================] - 0s 16ms/step - loss: 0.4259 - accuracy: 0.8997 - val_loss: 0.3580 - val_accuracy: 0.9350\n",
            "Epoch 17/50\n",
            "2/2 [==============================] - 0s 14ms/step - loss: 0.4166 - accuracy: 0.9049 - val_loss: 0.3491 - val_accuracy: 0.9350\n",
            "Epoch 18/50\n",
            "2/2 [==============================] - 0s 15ms/step - loss: 0.4068 - accuracy: 0.9049 - val_loss: 0.3402 - val_accuracy: 0.9350\n",
            "Epoch 19/50\n",
            "2/2 [==============================] - 0s 14ms/step - loss: 0.3977 - accuracy: 0.9049 - val_loss: 0.3315 - val_accuracy: 0.9350\n",
            "Epoch 20/50\n",
            "2/2 [==============================] - 0s 14ms/step - loss: 0.3881 - accuracy: 0.9049 - val_loss: 0.3230 - val_accuracy: 0.9350\n",
            "Epoch 21/50\n",
            "2/2 [==============================] - 0s 14ms/step - loss: 0.3790 - accuracy: 0.9049 - val_loss: 0.3148 - val_accuracy: 0.9350\n",
            "Epoch 22/50\n",
            "2/2 [==============================] - 0s 14ms/step - loss: 0.3702 - accuracy: 0.9049 - val_loss: 0.3069 - val_accuracy: 0.9350\n",
            "Epoch 23/50\n",
            "2/2 [==============================] - 0s 14ms/step - loss: 0.3614 - accuracy: 0.9049 - val_loss: 0.2989 - val_accuracy: 0.9350\n",
            "Epoch 24/50\n",
            "2/2 [==============================] - 0s 15ms/step - loss: 0.3522 - accuracy: 0.9023 - val_loss: 0.2914 - val_accuracy: 0.9100\n",
            "Epoch 25/50\n",
            "2/2 [==============================] - 0s 14ms/step - loss: 0.3441 - accuracy: 0.8867 - val_loss: 0.2833 - val_accuracy: 0.9100\n",
            "Epoch 26/50\n",
            "2/2 [==============================] - 0s 13ms/step - loss: 0.3351 - accuracy: 0.8867 - val_loss: 0.2759 - val_accuracy: 0.9100\n",
            "Epoch 27/50\n",
            "2/2 [==============================] - 0s 13ms/step - loss: 0.3270 - accuracy: 0.8906 - val_loss: 0.2686 - val_accuracy: 0.9200\n",
            "Epoch 28/50\n",
            "2/2 [==============================] - 0s 13ms/step - loss: 0.3186 - accuracy: 0.9010 - val_loss: 0.2618 - val_accuracy: 0.9300\n",
            "Epoch 29/50\n",
            "2/2 [==============================] - 0s 13ms/step - loss: 0.3104 - accuracy: 0.9102 - val_loss: 0.2550 - val_accuracy: 0.9450\n",
            "Epoch 30/50\n",
            "2/2 [==============================] - 0s 18ms/step - loss: 0.3027 - accuracy: 0.9167 - val_loss: 0.2487 - val_accuracy: 0.9550\n",
            "Epoch 31/50\n",
            "2/2 [==============================] - 0s 14ms/step - loss: 0.2945 - accuracy: 0.9375 - val_loss: 0.2430 - val_accuracy: 0.9550\n",
            "Epoch 32/50\n",
            "2/2 [==============================] - 0s 16ms/step - loss: 0.2875 - accuracy: 0.9375 - val_loss: 0.2364 - val_accuracy: 0.9550\n",
            "Epoch 33/50\n",
            "2/2 [==============================] - 0s 17ms/step - loss: 0.2806 - accuracy: 0.9375 - val_loss: 0.2307 - val_accuracy: 0.9550\n",
            "Epoch 34/50\n",
            "2/2 [==============================] - 0s 14ms/step - loss: 0.2732 - accuracy: 0.9375 - val_loss: 0.2244 - val_accuracy: 0.9550\n",
            "Epoch 35/50\n",
            "2/2 [==============================] - 0s 17ms/step - loss: 0.2662 - accuracy: 0.9375 - val_loss: 0.2181 - val_accuracy: 0.9550\n",
            "Epoch 36/50\n",
            "2/2 [==============================] - 0s 14ms/step - loss: 0.2596 - accuracy: 0.9375 - val_loss: 0.2118 - val_accuracy: 0.9550\n",
            "Epoch 37/50\n",
            "2/2 [==============================] - 0s 13ms/step - loss: 0.2530 - accuracy: 0.9375 - val_loss: 0.2062 - val_accuracy: 0.9550\n",
            "Epoch 38/50\n",
            "2/2 [==============================] - 0s 14ms/step - loss: 0.2467 - accuracy: 0.9375 - val_loss: 0.2011 - val_accuracy: 0.9550\n",
            "Epoch 39/50\n",
            "2/2 [==============================] - 0s 18ms/step - loss: 0.2408 - accuracy: 0.9375 - val_loss: 0.1962 - val_accuracy: 0.9550\n",
            "Epoch 40/50\n",
            "2/2 [==============================] - 0s 15ms/step - loss: 0.2350 - accuracy: 0.9466 - val_loss: 0.1917 - val_accuracy: 0.9650\n",
            "Epoch 41/50\n",
            "2/2 [==============================] - 0s 12ms/step - loss: 0.2295 - accuracy: 0.9609 - val_loss: 0.1873 - val_accuracy: 0.9650\n",
            "Epoch 42/50\n",
            "2/2 [==============================] - 0s 13ms/step - loss: 0.2243 - accuracy: 0.9609 - val_loss: 0.1827 - val_accuracy: 0.9650\n",
            "Epoch 43/50\n",
            "2/2 [==============================] - 0s 13ms/step - loss: 0.2189 - accuracy: 0.9609 - val_loss: 0.1781 - val_accuracy: 0.9650\n",
            "Epoch 44/50\n",
            "2/2 [==============================] - 0s 13ms/step - loss: 0.2141 - accuracy: 0.9609 - val_loss: 0.1738 - val_accuracy: 0.9650\n",
            "Epoch 45/50\n",
            "2/2 [==============================] - 0s 15ms/step - loss: 0.2092 - accuracy: 0.9609 - val_loss: 0.1695 - val_accuracy: 0.9650\n",
            "Epoch 46/50\n",
            "2/2 [==============================] - 0s 13ms/step - loss: 0.2044 - accuracy: 0.9609 - val_loss: 0.1656 - val_accuracy: 0.9650\n",
            "Epoch 47/50\n",
            "2/2 [==============================] - 0s 13ms/step - loss: 0.2003 - accuracy: 0.9609 - val_loss: 0.1621 - val_accuracy: 0.9650\n",
            "Epoch 48/50\n",
            "2/2 [==============================] - 0s 14ms/step - loss: 0.1956 - accuracy: 0.9609 - val_loss: 0.1582 - val_accuracy: 0.9650\n",
            "Epoch 49/50\n",
            "2/2 [==============================] - 0s 14ms/step - loss: 0.1913 - accuracy: 0.9609 - val_loss: 0.1550 - val_accuracy: 0.9650\n",
            "Epoch 50/50\n",
            "2/2 [==============================] - 0s 15ms/step - loss: 0.1873 - accuracy: 0.9609 - val_loss: 0.1525 - val_accuracy: 0.9650\n"
          ],
          "name": "stdout"
        }
      ]
    },
    {
      "cell_type": "code",
      "metadata": {
        "colab": {
          "base_uri": "https://localhost:8080/"
        },
        "id": "-Nsqw4yEXHz1",
        "outputId": "5193c148-d42b-49d5-c2f1-2769f66a7f4a"
      },
      "source": [
        "ner_model.evaluate(test_data, test_labels)"
      ],
      "execution_count": 36,
      "outputs": [
        {
          "output_type": "stream",
          "text": [
            "1/1 [==============================] - 0s 1ms/step - loss: 0.1743 - accuracy: 0.9556\n"
          ],
          "name": "stdout"
        },
        {
          "output_type": "execute_result",
          "data": {
            "text/plain": [
              "[0.17434559762477875, 0.9556451439857483]"
            ]
          },
          "metadata": {
            "tags": []
          },
          "execution_count": 36
        }
      ]
    },
    {
      "cell_type": "code",
      "metadata": {
        "colab": {
          "base_uri": "https://localhost:8080/",
          "height": 312
        },
        "id": "i3Gr6ZS0XWVo",
        "outputId": "f6f741dd-8f4c-4821-da97-a4f6666be938"
      },
      "source": [
        "import matplotlib.pyplot as plt\n",
        "\n",
        "epochs = range(1, len(history.history['val_loss']) + 1)\n",
        "plt.plot(epochs, history.history['loss'])\n",
        "plt.plot(epochs, history.history['val_loss'])\n",
        "plt.title('model loss')\n",
        "plt.ylabel('loss')\n",
        "plt.xlabel('epoch')\n",
        "plt.legend(['train', 'va'], loc='upper left')"
      ],
      "execution_count": 38,
      "outputs": [
        {
          "output_type": "execute_result",
          "data": {
            "text/plain": [
              "<matplotlib.legend.Legend at 0x7fae7b081240>"
            ]
          },
          "metadata": {
            "tags": []
          },
          "execution_count": 38
        },
        {
          "output_type": "display_data",
          "data": {
            "image/png": "[encoded data removed]",
            "text/plain": [
              "<Figure size 432x288 with 1 Axes>"
            ]
          },
          "metadata": {
            "tags": [],
            "needs_background": "light"
          }
        }
      ]
    },
    {
      "cell_type": "code",
      "metadata": {
        "colab": {
          "base_uri": "https://localhost:8080/",
          "height": 312
        },
        "id": "zU554XwgYC4S",
        "outputId": "1c3782c7-c7bc-43b3-b1d8-886ee8ff86fa"
      },
      "source": [
        "\n",
        "epochs = range(1, len(history.history['val_accuracy']) + 1)\n",
        "plt.plot(epochs, history.history['accuracy'])\n",
        "plt.plot(epochs, history.history['val_accuracy'])\n",
        "plt.title('model accuracy')\n",
        "plt.ylabel('accuracy')\n",
        "plt.xlabel('epoch')\n",
        "plt.legend(['train', 'va'], loc='upper left')"
      ],
      "execution_count": 39,
      "outputs": [
        {
          "output_type": "execute_result",
          "data": {
            "text/plain": [
              "<matplotlib.legend.Legend at 0x7fae7abe9ac8>"
            ]
          },
          "metadata": {
            "tags": []
          },
          "execution_count": 39
        },
        {
          "output_type": "display_data",
          "data": {
            "image/png": "[encoded data removed]",
            "text/plain": [
              "<Figure size 432x288 with 1 Axes>"
            ]
          },
          "metadata": {
            "tags": [],
            "needs_background": "light"
          }
        }
      ]
    },
    {
      "cell_type": "code",
      "metadata": {
        "id": "S6UYgXRVYSHX"
      },
      "source": [
        "import numpy as np\n",
        "\n",
        "index_to_word = {}\n",
        "for k,v in word_to_index.items():\n",
        "  index_to_word[v] = k\n",
        "\n",
        "index_to_ner = {}\n",
        "for k,v in ner_to_index.items():\n",
        "  index_to_ner[v] = k"
      ],
      "execution_count": 40,
      "outputs": []
    },
    {
      "cell_type": "code",
      "metadata": {
        "colab": {
          "base_uri": "https://localhost:8080/"
        },
        "id": "qN8_6kzAYwfO",
        "outputId": "71a8b95a-5293-4785-9264-751f0651f6ad"
      },
      "source": [
        "for i in range(0, 30):\n",
        "\n",
        "  y_predict = ner_model.predict(np.array([test_data[i]]))\n",
        "  y_predict = np.argmax(y_predict, axis=-1)\n",
        "  sol = np.argmax(test_labels[i], -1)\n",
        "\n",
        "  print ('{:15}|{:5}|{}'.format('단어','실제값','예측값'))\n",
        "  print(35 * '-')\n",
        "\n",
        "  for w, t, pred in zip(test_data[i], sol, y_predict[0]):\n",
        "    if w != 0:\n",
        "      print('{:17}: {:7} {}'.format(index_to_word[w], index_to_ner[t], index_to_ner[pred]))"
      ],
      "execution_count": 45,
      "outputs": [
        {
          "output_type": "stream",
          "text": [
            "단어             |실제값  |예측값\n",
            "-----------------------------------\n",
            "콜라               : side-menu side-menu\n",
            "주문할래             : -       -\n",
            "단어             |실제값  |예측값\n",
            "-----------------------------------\n",
            "피자               : menu    menu\n",
            "레귤러              : size    size\n",
            "주문할게요            : -       -\n",
            "단어             |실제값  |예측값\n",
            "-----------------------------------\n",
            "피자               : menu    menu\n",
            "레귤러              : size    size\n",
            "한개               : quantity -\n",
            "단어             |실제값  |예측값\n",
            "-----------------------------------\n",
            "피자               : menu    menu\n",
            "레귤러              : size    size\n",
            "두개               : quantity -\n",
            "단어             |실제값  |예측값\n",
            "-----------------------------------\n",
            "피자               : menu    side-menu\n",
            "주문할래             : -       -\n",
            "단어             |실제값  |예측값\n",
            "-----------------------------------\n",
            "피자               : menu    menu\n",
            "레귤러              : size    size\n",
            "주문할게요            : -       -\n",
            "단어             |실제값  |예측값\n",
            "-----------------------------------\n",
            "사이다              : side-menu side-menu\n",
            "추가               : -       -\n",
            "단어             |실제값  |예측값\n",
            "-----------------------------------\n",
            "콜라               : side-menu side-menu\n",
            "주문할래             : -       -\n",
            "단어             |실제값  |예측값\n",
            "-----------------------------------\n",
            "사이다              : side-menu side-menu\n",
            "추가               : -       -\n",
            "단어             |실제값  |예측값\n",
            "-----------------------------------\n",
            "피자               : menu    menu\n",
            "레귤러              : size    size\n",
            "주문할게요            : -       -\n",
            "단어             |실제값  |예측값\n",
            "-----------------------------------\n",
            "사이다              : side-menu side-menu\n",
            "추가               : -       -\n",
            "단어             |실제값  |예측값\n",
            "-----------------------------------\n",
            "콜라               : side-menu side-menu\n",
            "주세요              : -       -\n",
            "단어             |실제값  |예측값\n",
            "-----------------------------------\n",
            "피자               : menu    menu\n",
            "레귤러              : size    size\n",
            "한판               : quantity quantity\n",
            "주문               : -       -\n",
            "단어             |실제값  |예측값\n",
            "-----------------------------------\n",
            "콜라               : side-menu side-menu\n",
            "추가               : -       -\n",
            "단어             |실제값  |예측값\n",
            "-----------------------------------\n",
            "피자               : menu    menu\n",
            "레귤러              : size    size\n",
            "두개               : quantity -\n",
            "단어             |실제값  |예측값\n",
            "-----------------------------------\n",
            "사이다              : side-menu side-menu\n",
            "주문할래             : -       -\n",
            "단어             |실제값  |예측값\n",
            "-----------------------------------\n",
            "콜라               : side-menu side-menu\n",
            "추가               : -       -\n",
            "단어             |실제값  |예측값\n",
            "-----------------------------------\n",
            "피자               : menu    menu\n",
            "레귤러              : size    size\n",
            "한개               : quantity -\n",
            "단어             |실제값  |예측값\n",
            "-----------------------------------\n",
            "피자               : menu    side-menu\n",
            "주문할래             : -       -\n",
            "단어             |실제값  |예측값\n",
            "-----------------------------------\n",
            "콜라               : side-menu side-menu\n",
            "주문할래             : -       -\n",
            "단어             |실제값  |예측값\n",
            "-----------------------------------\n",
            "피자               : menu    menu\n",
            "레귤러              : size    size\n",
            "두개               : quantity -\n",
            "단어             |실제값  |예측값\n",
            "-----------------------------------\n",
            "피자               : menu    menu\n",
            "레귤러              : size    size\n",
            "두개               : quantity -\n",
            "단어             |실제값  |예측값\n",
            "-----------------------------------\n",
            "피자               : menu    menu\n",
            "레귤러              : size    size\n",
            "한개               : quantity -\n",
            "단어             |실제값  |예측값\n",
            "-----------------------------------\n",
            "피자               : menu    side-menu\n",
            "먹고싶어             : -       -\n",
            "단어             |실제값  |예측값\n",
            "-----------------------------------\n",
            "피자               : menu    menu\n",
            "라지               : size    size\n",
            "주문               : -       -\n",
            "단어             |실제값  |예측값\n",
            "-----------------------------------\n",
            "피자               : menu    menu\n",
            "레귤러              : size    size\n",
            "두판               : quantity quantity\n",
            "주문               : -       -\n",
            "단어             |실제값  |예측값\n",
            "-----------------------------------\n",
            "피자               : menu    menu\n",
            "라지               : size    size\n",
            "주문               : -       -\n",
            "단어             |실제값  |예측값\n",
            "-----------------------------------\n",
            "피자               : menu    menu\n",
            "레귤러              : size    size\n",
            "두개               : quantity -\n",
            "단어             |실제값  |예측값\n",
            "-----------------------------------\n",
            "피자               : menu    menu\n",
            "레귤러              : size    size\n",
            "주문할게요            : -       -\n",
            "단어             |실제값  |예측값\n",
            "-----------------------------------\n",
            "피자               : menu    menu\n",
            "라지               : size    size\n",
            "주문               : -       -\n"
          ],
          "name": "stdout"
        }
      ]
    },
    {
      "cell_type": "code",
      "metadata": {
        "id": "9_xoWjSDZnbk"
      },
      "source": [
        "ner_model.save('./assets/ner_model.h5')"
      ],
      "execution_count": 46,
      "outputs": []
    },
    {
      "cell_type": "code",
      "metadata": {
        "id": "rM71NYDbbE-L"
      },
      "source": [
        ""
      ],
      "execution_count": null,
      "outputs": []
    }
  ]
}